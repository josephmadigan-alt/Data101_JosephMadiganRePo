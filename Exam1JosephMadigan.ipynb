{
 "cells": [
  {
   "cell_type": "markdown",
   "id": "203974cd-9502-4681-a2f0-096f4a8f788b",
   "metadata": {},
   "source": [
    "Exam 1\n",
    "\n",
    "\n",
    "Author: Joseph Madigan\n",
    "\n",
    "\n",
    "Special Thanks: Garrett, Ethan, Ashley, Zoel"
   ]
  },
  {
   "cell_type": "code",
   "execution_count": 81,
   "id": "8a0f15b0-fbe7-4a59-9f17-454dfdcae9bb",
   "metadata": {},
   "outputs": [],
   "source": [
    "import numpy as np\n",
    "import pandas as pd\n",
    "\n",
    "import matplotlib.pyplot as plt\n",
    "import plotly.express as px\n",
    "from plotly.subplots import make_subplots\n",
    "import plotly.io as pio\n",
    "pio.renderers.defaule = 'colab'\n",
    "\n",
    "from itables import show"
   ]
  },
  {
   "cell_type": "code",
   "execution_count": 82,
   "id": "a631ce8e-6f86-4f9a-85d0-f9f2c62d57e6",
   "metadata": {},
   "outputs": [],
   "source": [
    "file_location = 'https://joannabieri.com/introdatascience/data/lego_sample.csv'\n",
    "DF = pd.read_csv(file_location)"
   ]
  },
  {
   "cell_type": "code",
   "execution_count": 83,
   "id": "cac64a29-721b-4be7-be02-32af0fcbc51e",
   "metadata": {},
   "outputs": [
    {
     "data": {
      "text/html": [
       "<!--| quarto-html-table-processing: none -->\n",
       "<table id=\"itables_bf70f87f_33b5_4a49_9164_bbf4874fd62f\"><tbody><tr>\n",
       "    <td style=\"vertical-align:middle; text-align:left\">\n",
       "    <a href=https://mwouts.github.io/itables/><svg class=\"main-svg\" xmlns=\"http://www.w3.org/2000/svg\" xmlns:xlink=\"http://www.w3.org/1999/xlink\"\n",
       "width=\"64\" viewBox=\"0 0 500 400\" style=\"font-family: 'Droid Sans', sans-serif;\">\n",
       "    <g style=\"fill:#d9d7fc\">\n",
       "        <path d=\"M100,400H500V357H100Z\" />\n",
       "        <path d=\"M100,300H400V257H100Z\" />\n",
       "        <path d=\"M0,200H400V157H0Z\" />\n",
       "        <path d=\"M100,100H500V57H100Z\" />\n",
       "        <path d=\"M100,350H500V307H100Z\" />\n",
       "        <path d=\"M100,250H400V207H100Z\" />\n",
       "        <path d=\"M0,150H400V107H0Z\" />\n",
       "        <path d=\"M100,50H500V7H100Z\" />\n",
       "    </g>\n",
       "    <g style=\"fill:#1a1366;stroke:#1a1366;\">\n",
       "   <rect x=\"100\" y=\"7\" width=\"400\" height=\"43\">\n",
       "    <animate\n",
       "      attributeName=\"width\"\n",
       "      values=\"0;400;0\"\n",
       "      dur=\"5s\"\n",
       "      repeatCount=\"indefinite\" />\n",
       "      <animate\n",
       "      attributeName=\"x\"\n",
       "      values=\"100;100;500\"\n",
       "      dur=\"5s\"\n",
       "      repeatCount=\"indefinite\" />\n",
       "  </rect>\n",
       "        <rect x=\"0\" y=\"107\" width=\"400\" height=\"43\">\n",
       "    <animate\n",
       "      attributeName=\"width\"\n",
       "      values=\"0;400;0\"\n",
       "      dur=\"3.5s\"\n",
       "      repeatCount=\"indefinite\" />\n",
       "    <animate\n",
       "      attributeName=\"x\"\n",
       "      values=\"0;0;400\"\n",
       "      dur=\"3.5s\"\n",
       "      repeatCount=\"indefinite\" />\n",
       "  </rect>\n",
       "        <rect x=\"100\" y=\"207\" width=\"300\" height=\"43\">\n",
       "    <animate\n",
       "      attributeName=\"width\"\n",
       "      values=\"0;300;0\"\n",
       "      dur=\"3s\"\n",
       "      repeatCount=\"indefinite\" />\n",
       "    <animate\n",
       "      attributeName=\"x\"\n",
       "      values=\"100;100;400\"\n",
       "      dur=\"3s\"\n",
       "      repeatCount=\"indefinite\" />\n",
       "  </rect>\n",
       "        <rect x=\"100\" y=\"307\" width=\"400\" height=\"43\">\n",
       "    <animate\n",
       "      attributeName=\"width\"\n",
       "      values=\"0;400;0\"\n",
       "      dur=\"4s\"\n",
       "      repeatCount=\"indefinite\" />\n",
       "      <animate\n",
       "      attributeName=\"x\"\n",
       "      values=\"100;100;500\"\n",
       "      dur=\"4s\"\n",
       "      repeatCount=\"indefinite\" />\n",
       "  </rect>\n",
       "        <g style=\"fill:transparent;stroke-width:8; stroke-linejoin:round\" rx=\"5\">\n",
       "            <g transform=\"translate(45 50) rotate(-45)\">\n",
       "                <circle r=\"33\" cx=\"0\" cy=\"0\" />\n",
       "                <rect x=\"-8\" y=\"32\" width=\"16\" height=\"30\" />\n",
       "            </g>\n",
       "\n",
       "            <g transform=\"translate(450 152)\">\n",
       "                <polyline points=\"-15,-20 -35,-20 -35,40 25,40 25,20\" />\n",
       "                <rect x=\"-15\" y=\"-40\" width=\"60\" height=\"60\" />\n",
       "            </g>\n",
       "\n",
       "            <g transform=\"translate(50 352)\">\n",
       "                <polygon points=\"-35,-5 0,-40 35,-5\" />\n",
       "                <polygon points=\"-35,10 0,45 35,10\" />\n",
       "            </g>\n",
       "\n",
       "            <g transform=\"translate(75 250)\">\n",
       "                <polyline points=\"-30,30 -60,0 -30,-30\" />\n",
       "                <polyline points=\"0,30 -30,0 0,-30\" />\n",
       "            </g>\n",
       "\n",
       "            <g transform=\"translate(425 250) rotate(180)\">\n",
       "                <polyline points=\"-30,30 -60,0 -30,-30\" />\n",
       "                <polyline points=\"0,30 -30,0 0,-30\" />\n",
       "            </g>\n",
       "        </g>\n",
       "    </g>\n",
       "</svg>\n",
       "</a>\n",
       "    Loading ITables v2.5.2 from the internet...\n",
       "    (need <a href=https://mwouts.github.io/itables/troubleshooting.html>help</a>?)</td>\n",
       "    </tr></tbody></table>\n",
       "<link href=\"https://www.unpkg.com/dt_for_itables@2.4.0/dt_bundle.css\" rel=\"stylesheet\">\n",
       "<script type=\"module\">\n",
       "    import { ITable, jQuery as $ } from 'https://www.unpkg.com/dt_for_itables@2.4.0/dt_bundle.js';\n",
       "\n",
       "    document.querySelectorAll(\"#itables_bf70f87f_33b5_4a49_9164_bbf4874fd62f:not(.dataTable)\").forEach(table => {\n",
       "        if (!(table instanceof HTMLTableElement))\n",
       "            return;\n",
       "\n",
       "        let dt_args = {\"layout\": {\"topStart\": \"pageLength\", \"topEnd\": \"search\", \"bottomStart\": \"info\", \"bottomEnd\": \"paging\"}, \"style\": {\"table-layout\": \"auto\", \"width\": \"auto\", \"margin\": \"auto\", \"caption-side\": \"bottom\"}, \"order\": [], \"classes\": [\"display\", \"nowrap\"], \"text_in_header_can_be_selected\": true, \"table_html\": \"<table><thead>\\n    <tr style=\\\"text-align: right;\\\">\\n      \\n      <th>item_number</th>\\n      <th>set_name</th>\\n      <th>theme</th>\\n      <th>pieces</th>\\n      <th>price</th>\\n      <th>amazon_price</th>\\n      <th>year</th>\\n      <th>ages</th>\\n      <th>pages</th>\\n      <th>minifigures</th>\\n      <th>packaging</th>\\n      <th>weight</th>\\n      <th>unique_pieces</th>\\n      <th>size</th>\\n    </tr>\\n  </thead></table>\", \"data_json\": \"[[10859, \\\"My First Ladybird\\\", \\\"DUPLO\\\\u00ae\\\", 6, 4.99, 16.0, 2018, \\\"Ages_1\\\\u00bd-3\\\", 9, \\\"___NaN___\\\", \\\"Box\\\", \\\"NaN\\\", 5, \\\"Large\\\"], [10860, \\\"My First Race Car\\\", \\\"DUPLO\\\\u00ae\\\", 6, 4.99, 9.45, 2018, \\\"Ages_1\\\\u00bd-3\\\", 9, \\\"___NaN___\\\", \\\"Box\\\", \\\"0.13Kg (0.29 lb)\\\", 6, \\\"Large\\\"], [10862, \\\"My First Celebration\\\", \\\"DUPLO\\\\u00ae\\\", 41, 14.99, 39.89, 2018, \\\"Ages_1\\\\u00bd-3\\\", 9, \\\"___NaN___\\\", \\\"Box\\\", \\\"NaN\\\", 18, \\\"Large\\\"], [10864, \\\"Large Playground Brick Box\\\", \\\"DUPLO\\\\u00ae\\\", 71, 49.99, 56.69, 2018, \\\"Ages_2-5\\\", 32, 2.0, \\\"Plastic box\\\", \\\"1.41Kg (3.11 lb)\\\", 49, \\\"Large\\\"], [10867, \\\"Farmers' Market\\\", \\\"DUPLO\\\\u00ae\\\", 26, 19.99, 36.99, 2018, \\\"Ages_2-5\\\", 9, 3.0, \\\"Box\\\", \\\"NaN\\\", 18, \\\"Large\\\"], [10870, \\\"Farm Animals\\\", \\\"DUPLO\\\\u00ae\\\", 16, 9.99, 9.99, 2018, \\\"Ages_2-5\\\", 8, \\\"___NaN___\\\", \\\"Box\\\", \\\"NaN\\\", 13, \\\"Large\\\"], [10872, \\\"Train Bridge and Tracks\\\", \\\"DUPLO\\\\u00ae\\\", 26, 24.99, 21.99, 2018, \\\"Ages_2-5\\\", 16, 1.0, \\\"Box\\\", \\\"0.88Kg (1.95 lb)\\\", 10, \\\"Large\\\"], [10875, \\\"Cargo Train\\\", \\\"DUPLO\\\\u00ae\\\", 105, 119.99, 128.95, 2018, \\\"Ages_2-5\\\", 64, 3.0, \\\"Box\\\", \\\"2.86Kg (6.31 lb)\\\", 68, \\\"Large\\\"], [10876, \\\"Spider-Man &amp; Hulk Adventures\\\", \\\"DUPLO\\\\u00ae\\\", 38, 29.99, 74.5, 2018, \\\"Ages_2-5\\\", 20, 3.0, \\\"Box\\\", \\\"0.54Kg (1.19 lb)\\\", 29, \\\"Large\\\"], [10878, \\\"Rapunzel's Tower\\\", \\\"DUPLO\\\\u00ae\\\", 37, 29.99, 98.99, 2018, \\\"Ages_2-5\\\", 24, 1.0, \\\"Box\\\", \\\"NaN\\\", 26, \\\"Large\\\"], [10882, \\\"Train Tracks\\\", \\\"DUPLO\\\\u00ae\\\", 23, 19.99, 17.99, 2018, \\\"Ages_2-5\\\", 16, \\\"___NaN___\\\", \\\"Box\\\", \\\"0.66Kg (1.45 lb)\\\", 9, \\\"Large\\\"], [10885, \\\"My First Fun Puzzle\\\", \\\"DUPLO\\\\u00ae\\\", 15, 19.99, 19.55, 2019, \\\"Ages_1\\\\u00bd+\\\", 9, \\\"___NaN___\\\", \\\"NaN\\\", \\\"NaN\\\", 15, \\\"Large\\\"], [10886, \\\"My First Car Creations\\\", \\\"DUPLO\\\\u00ae\\\", 34, 19.99, 16.0, 2019, \\\"Ages_1\\\\u00bd+\\\", 10, \\\"___NaN___\\\", \\\"NaN\\\", \\\"0.64Kg (1.41 lb)\\\", 31, \\\"Large\\\"], [10901, \\\"Fire Truck\\\", \\\"DUPLO\\\\u00ae\\\", 21, 19.99, 17.99, 2019, \\\"Ages_2+\\\", 10, 2.0, \\\"Box\\\", \\\"0.45Kg (0.99 lb)\\\", 16, \\\"Large\\\"], [10904, \\\"Baby Animals\\\", \\\"DUPLO\\\\u00ae\\\", 9, 9.99, 21.11, 2019, \\\"Ages_2+\\\", 8, \\\"___NaN___\\\", \\\"Box\\\", \\\"NaN\\\", 9, \\\"Large\\\"], [10906, \\\"Tropical Island\\\", \\\"DUPLO\\\\u00ae\\\", 73, 59.99, 59.99, 2019, \\\"Ages_2+\\\", 40, 3.0, \\\"Box\\\", \\\"NaN\\\", 44, \\\"Large\\\"], [10908, \\\"Plane\\\", \\\"DUPLO\\\\u00ae\\\", 12, 9.99, 23.27, 2019, \\\"Ages_2+\\\", 10, 1.0, \\\"Box\\\", \\\"NaN\\\", 11, \\\"Large\\\"], [10910, \\\"Submarine Adventure\\\", \\\"DUPLO\\\\u00ae\\\", 24, 19.99, 17.99, 2019, \\\"Ages_2+\\\", 8, 2.0, \\\"Box\\\", \\\"NaN\\\", 22, \\\"Large\\\"], [10915, \\\"Alphabet Truck\\\", \\\"DUPLO\\\\u00ae\\\", 36, 24.99, 21.99, 2020, \\\"Ages_1\\\\u00bd+\\\", 1, 2.0, \\\"Box\\\", \\\"NaN\\\", 35, \\\"Large\\\"], [10918, \\\"Tow Truck\\\", \\\"DUPLO\\\\u00ae\\\", 7, 6.99, 6.29, 2020, \\\"Ages_1\\\\u00bd+\\\", 3, \\\"___NaN___\\\", \\\"Box with backing card\\\", \\\"NaN\\\", 7, \\\"Large\\\"], [10921, \\\"Super Heroes Lab\\\", \\\"DUPLO\\\\u00ae\\\", 30, 29.99, 26.99, 2020, \\\"Ages_2+\\\", 16, 3.0, \\\"Box\\\", \\\"NaN\\\", 23, \\\"Large\\\"], [10926, \\\"Bedroom\\\", \\\"DUPLO\\\\u00ae\\\", 16, 14.99, 14.99, 2020, \\\"Ages_2+\\\", 2, 2.0, \\\"Box\\\", \\\"NaN\\\", 16, \\\"Large\\\"], [10927, \\\"Pizza Stand\\\", \\\"DUPLO\\\\u00ae\\\", 18, 9.99, 8.99, 2020, \\\"Ages_2+\\\", 12, 1.0, \\\"Box\\\", \\\"NaN\\\", 15, \\\"Large\\\"], [10928, \\\"Bakery\\\", \\\"DUPLO\\\\u00ae\\\", 46, 34.99, 29.99, 2020, \\\"Ages_2+\\\", 20, 2.0, \\\"Box\\\", \\\"NaN\\\", 33, \\\"Large\\\"], [10929, \\\"Modular Playhouse\\\", \\\"DUPLO\\\\u00ae\\\", 129, 59.99, 59.99, 2020, \\\"Ages_2+\\\", 84, 3.0, \\\"Box\\\", \\\"NaN\\\", 56, \\\"Large\\\"], [41330, \\\"Stephanie's Soccer Practice\\\", \\\"Friends\\\", 119, 14.99, 40.4, 2018, \\\"Ages_6-12\\\", 48, 1.0, \\\"Box\\\", \\\"NaN\\\", 78, \\\"Small\\\"], [41333, \\\"Olivia's Mission Vehicle\\\", \\\"Friends\\\", 223, 19.99, 45.95, 2018, \\\"Ages_6-12\\\", 84, 1.0, \\\"Box\\\", \\\"0.32Kg (0.7 lb)\\\", 106, \\\"Small\\\"], [41335, \\\"Mia's Tree House\\\", \\\"Friends\\\", 351, 29.99, 53.88, 2018, \\\"Ages_6-12\\\", 120, 2.0, \\\"Box\\\", \\\"0.61Kg (1.34 lb)\\\", 151, \\\"Small\\\"], [41340, \\\"Friendship House\\\", \\\"Friends\\\", 722, 69.99, 184.99, 2018, \\\"Ages_6-12\\\", 164, 3.0, \\\"Box\\\", \\\"1.14Kg (2.51 lb)\\\", 309, \\\"Small\\\"], [41353, \\\"Friends Advent Calendar\\\", \\\"Friends\\\", 500, 29.99, 34.0, 2018, \\\"Ages_6-12\\\", 4, \\\"___NaN___\\\", \\\"Box\\\", \\\"NaN\\\", 202, \\\"Small\\\"], [41356, \\\"Stephanie's Heart Box\\\", \\\"Friends\\\", 85, 7.99, 14.99, 2019, \\\"Ages_6+\\\", 32, 1.0, \\\"NaN\\\", \\\"0.13Kg (0.29 lb)\\\", 36, \\\"Small\\\"], [41358, \\\"Mia's Heart Box\\\", \\\"Friends\\\", 83, 7.99, 18.64, 2019, \\\"Ages_6+\\\", 32, 1.0, \\\"NaN\\\", \\\"0.14Kg (0.31 lb)\\\", 38, \\\"Small\\\"], [41363, \\\"Mia's Forest Adventures\\\", \\\"Friends\\\", 134, 14.99, 18.95, 2019, \\\"Ages_6+\\\", 44, 1.0, \\\"NaN\\\", \\\"0.15Kg (0.33 lb)\\\", 77, \\\"Small\\\"], [41367, \\\"Stephanie's Obstacle Course\\\", \\\"Friends\\\", 337, 39.99, 35.99, 2019, \\\"Ages_6+\\\", 100, 2.0, \\\"NaN\\\", \\\"0.59Kg (1.3 lb)\\\", 168, \\\"Small\\\"], [41369, \\\"Mia's House\\\", \\\"Friends\\\", 715, 69.99, 62.99, 2019, \\\"Ages_6+\\\", 192, 3.0, \\\"NaN\\\", \\\"1.12Kg (2.47 lb)\\\", 274, \\\"Small\\\"], [41374, \\\"Andrea's Pool Party\\\", \\\"Friends\\\", 468, 49.99, 40.0, 2019, \\\"Ages_6+\\\", 112, 2.0, \\\"Box\\\", \\\"NaN\\\", 221, \\\"Small\\\"], [41376, \\\"Turtles Rescue Mission\\\", \\\"Friends\\\", 225, 19.99, 31.27, 2019, \\\"Ages_6+\\\", 72, 2.0, \\\"Box\\\", \\\"NaN\\\", 125, \\\"Small\\\"], [41378, \\\"Dolphins Rescue Mission\\\", \\\"Friends\\\", 363, 39.99, 31.67, 2019, \\\"Ages_6+\\\", 116, 2.0, \\\"Box\\\", \\\"NaN\\\", 192, \\\"Small\\\"], [41384, \\\"Andrea's Summer Heart Box\\\", \\\"Friends\\\", 83, 7.99, 14.99, 2019, \\\"Ages_6+\\\", 36, 1.0, \\\"Other\\\", \\\"NaN\\\", 46, \\\"Small\\\"], [41387, \\\"Olivia's Summer Heart Box\\\", \\\"Friends\\\", 93, 7.99, 7.99, 2019, \\\"Ages_6+\\\", 40, 2.0, \\\"Other\\\", \\\"NaN\\\", 48, \\\"Small\\\"], [41394, \\\"Heartlake City Hospital\\\", \\\"Friends\\\", 379, 49.99, 48.53, 2020, \\\"Ages_6+\\\", 132, 3.0, \\\"Box\\\", \\\"NaN\\\", 154, \\\"Small\\\"], [41396, \\\"Puppy Playground\\\", \\\"Friends\\\", 57, 9.99, 8.99, 2020, \\\"Ages_4+\\\", 40, 1.0, \\\"Box\\\", \\\"NaN\\\", 41, \\\"Small\\\"], [41400, \\\"Andrea's Play Cube - Singer\\\", \\\"Friends\\\", 49, 9.99, 18.93, 2020, \\\"Ages_6+\\\", 5, 1.0, \\\"Box\\\", \\\"NaN\\\", 32, \\\"Small\\\"], [41403, \\\"Mia's Play Cube - Veterinarian\\\", \\\"Friends\\\", 40, 9.99, 17.97, 2020, \\\"Ages_6+\\\", 5, 1.0, \\\"Box\\\", \\\"NaN\\\", 32, \\\"Small\\\"], [41408, \\\"Mia's Play Cube - Cinema\\\", \\\"Friends\\\", 37, 9.99, 15.32, 2020, \\\"Ages_6+\\\", 5, 1.0, \\\"Box\\\", \\\"NaN\\\", 31, \\\"Small\\\"], [41421, \\\"Baby Elephant Jungle Rescue\\\", \\\"Friends\\\", 203, 19.99, 19.99, 2020, \\\"Ages_6+\\\", 68, 2.0, \\\"Box\\\", \\\"NaN\\\", 111, \\\"Small\\\"], [41423, \\\"Tiger Hot Air Balloon Jungle Rescue\\\", \\\"Friends\\\", 302, 39.99, 39.95, 2020, \\\"Ages_7+\\\", 116, 2.0, \\\"Box\\\", \\\"NaN\\\", 145, \\\"Small\\\"], [41424, \\\"Jungle Rescue Base\\\", \\\"Friends\\\", 648, 79.99, 79.95, 2020, \\\"Ages_8+\\\", 176, 3.0, \\\"Box\\\", \\\"NaN\\\", 251, \\\"Small\\\"], [41427, \\\"Emma's Fashion Shop\\\", \\\"Friends\\\", 343, 29.99, 29.95, 2020, \\\"Ages_6+\\\", 112, 2.0, \\\"Box\\\", \\\"NaN\\\", 152, \\\"Small\\\"], [41428, \\\"Beach House\\\", \\\"Friends\\\", 444, 49.99, 49.95, 2020, \\\"Ages_6+\\\", 160, 2.0, \\\"Box\\\", \\\"NaN\\\", 216, \\\"Small\\\"], [60170, \\\"Off-Road Chase\\\", \\\"City\\\", 37, 6.99, 30.89, 2018, \\\"Ages_5-12\\\", 20, 2.0, \\\"Box\\\", \\\"NaN\\\", 28, \\\"Small\\\"], [60171, \\\"Mountain Fugitives\\\", \\\"City\\\", 88, 9.99, 16.49, 2018, \\\"Ages_5-12\\\", 36, 4.0, \\\"Box\\\", \\\"NaN\\\", 61, \\\"Small\\\"], [60172, \\\"Dirt Road Pursuit\\\", \\\"City\\\", 297, 39.99, 64.75, 2018, \\\"Ages_5-12\\\", 116, 3.0, \\\"Box\\\", \\\"0.6Kg (1.32 lb)\\\", 140, \\\"Small\\\"], [60182, \\\"Pickup &amp; Caravan\\\", \\\"City\\\", 344, 29.99, 65.99, 2018, \\\"Ages_5-12\\\", 140, 3.0, \\\"Box\\\", \\\"0.65Kg (1.43 lb)\\\", 188, \\\"Small\\\"], [60183, \\\"Heavy Cargo Transport\\\", \\\"City\\\", 310, 29.99, 69.95, 2018, \\\"Ages_5-12\\\", 128, 2.0, \\\"Box\\\", \\\"0.59Kg (1.3 lb)\\\", 161, \\\"Small\\\"], [60184, \\\"Mining Team\\\", \\\"City\\\", 82, 9.99, 21.99, 2018, \\\"Ages_5-12\\\", 32, 4.0, \\\"Box\\\", \\\"0.13Kg (0.29 lb)\\\", 64, \\\"Small\\\"], [60202, \\\"People Pack - Outdoor Adventures\\\", \\\"City\\\", 164, 39.99, 69.99, 2018, \\\"Ages_5-12\\\", 64, 15.0, \\\"Box\\\", \\\"0.29Kg (0.64 lb)\\\", 128, \\\"Small\\\"], [60208, \\\"Parachute Arrest\\\", \\\"City\\\", 218, 39.99, 31.46, 2019, \\\"Ages_5+\\\", 120, 4.0, \\\"Box\\\", \\\"0.48Kg (1.05 lb)\\\", 139, \\\"Small\\\"], [60213, \\\"Dock Side Fire\\\", \\\"City\\\", 97, 19.99, 23.83, 2019, \\\"Ages_5+\\\", 48, 2.0, \\\"Box\\\", \\\"0.25Kg (0.54 lb)\\\", 63, \\\"Small\\\"], [60215, \\\"Fire Station\\\", \\\"City\\\", 509, 69.99, 56.0, 2019, \\\"Ages_5+\\\", 184, 4.0, \\\"Box\\\", \\\"1.17Kg (2.57 lb)\\\", 210, \\\"Small\\\"], [60217, \\\"Fire Plane\\\", \\\"City\\\", 363, 59.99, 53.99, 2019, \\\"Ages_6+\\\", 156, 3.0, \\\"Box\\\", \\\"0.76Kg (1.68 lb)\\\", 151, \\\"Small\\\"], [60219, \\\"Construction Loader\\\", \\\"City\\\", 88, 9.99, 8.99, 2019, \\\"Ages_5+\\\", 36, 1.0, \\\"Box\\\", \\\"0.16Kg (0.34 lb)\\\", 50, \\\"Small\\\"], [60221, \\\"Diving Yacht\\\", \\\"City\\\", 148, 19.99, 16.0, 2019, \\\"Ages_5+\\\", 64, 2.0, \\\"Box\\\", \\\"0.34Kg (0.74 lb)\\\", 81, \\\"Small\\\"], [60223, \\\"Harvester Transport\\\", \\\"City\\\", 358, 29.99, 54.8, 2019, \\\"Ages_5+\\\", 148, 3.0, \\\"Box\\\", \\\"0.65Kg (1.43 lb)\\\", 166, \\\"Small\\\"], [60226, \\\"Mars Research Shuttle\\\", \\\"City\\\", 273, 39.99, 31.99, 2019, \\\"Ages_5+\\\", 160, 2.0, \\\"Box\\\", \\\"0.61Kg (1.34 lb)\\\", 135, \\\"Small\\\"], [60243, \\\"Police Helicopter Chase\\\", \\\"City\\\", 212, 39.99, 35.98, 2020, \\\"Ages_5+\\\", 128, 4.0, \\\"Box\\\", \\\"0.52Kg (1.16 lb)\\\", 127, \\\"Small\\\"], [60245, \\\"Police Monster Truck Heist\\\", \\\"City\\\", 362, 59.99, 52.74, 2020, \\\"Ages_5+\\\", 200, 5.0, \\\"Box\\\", \\\"0.85Kg (1.87 lb)\\\", 198, \\\"Small\\\"], [60246, \\\"Police Station\\\", \\\"City\\\", 743, 99.99, 99.99, 2020, \\\"Ages_6+\\\", 345, 7.0, \\\"Box\\\", \\\"1.85Kg (4.06 lb)\\\", 298, \\\"Small\\\"], [60248, \\\"Fire Helicopter Response\\\", \\\"City\\\", 93, 29.99, 23.98, 2020, \\\"Ages_5+\\\", 44, 3.0, \\\"Box\\\", \\\"0.25Kg (0.55 lb)\\\", 61, \\\"Small\\\"], [60249, \\\"Street Sweeper\\\", \\\"City\\\", 89, 9.99, 8.99, 2020, \\\"Ages_5+\\\", 48, 1.0, \\\"Box\\\", \\\"0.14Kg (0.31 lb)\\\", 55, \\\"Small\\\"], [60251, \\\"Monster Truck\\\", \\\"City\\\", 55, 9.99, 8.99, 2020, \\\"Ages_5+\\\", 32, 1.0, \\\"Box\\\", \\\"0.14Kg (0.31 lb)\\\", 34, \\\"Small\\\"], [60252, \\\"Construction Bulldozer\\\", \\\"City\\\", 126, 19.99, 15.99, 2020, \\\"Ages_4+\\\", 84, 2.0, \\\"Box\\\", \\\"0.35Kg (0.78 lb)\\\", 81, \\\"Small\\\"], [60258, \\\"Tuning Workshop\\\", \\\"City\\\", 897, 99.99, 99.99, 2020, \\\"Ages_6+\\\", 389, 7.0, \\\"Box\\\", \\\"1.63Kg (3.58 lb)\\\", 411, \\\"Small\\\"], [60266, \\\"Ocean Exploration Ship\\\", \\\"City\\\", 745, 149.99, 149.99, 2020, \\\"Ages_7+\\\", 229, 8.0, \\\"Box\\\", \\\"2.28Kg (5.03 lb)\\\", 314, \\\"Small\\\"], [60267, \\\"Safari Off-Roader\\\", \\\"City\\\", 168, 19.99, 17.99, 2020, \\\"Ages_5+\\\", 76, 2.0, \\\"Box\\\", \\\"0.34Kg (0.76 lb)\\\", 86, \\\"Small\\\"]]\"};\n",
       "        new ITable(table, dt_args);\n",
       "    });\n",
       "</script>\n"
      ],
      "text/plain": [
       "<IPython.core.display.HTML object>"
      ]
     },
     "metadata": {},
     "output_type": "display_data"
    }
   ],
   "source": [
    "show(DF)"
   ]
  },
  {
   "cell_type": "markdown",
   "id": "3961c7ed-5566-44db-8054-73124660e276",
   "metadata": {},
   "source": [
    "***Problem 1***\n",
    "\n",
    "(a) How many variables and observations are in the data set? ***75 rows by 14 collumns***\n",
    "\n",
    "(b) What are the names of all the variables? ***'item_number', 'set_name', 'theme', 'pieces', 'price', 'amazon_price',\n",
    "       'year', 'ages', 'pages', 'minifigures', \n",
    "       'packaging', 'weight','unique_pieces', 'size'***\n",
    "\n",
    "(c) For each variable talk about whether you think that variable is Numerical or Categorical and what type of data it is. \n",
    "\n",
    "\n",
    "***'item_number', - Numerical***\n",
    "\n",
    "***'set_name', - catagorical***\n",
    "\n",
    "***'theme', - catagorical***\n",
    "\n",
    "***'pieces', - numerical***\n",
    "\n",
    "***'price', - numerical***\n",
    "\n",
    "***'amazon_price', - numerical***\n",
    "\n",
    "***'year', - numerical***\n",
    "\n",
    "***'ages', - catagorical***\n",
    "\n",
    "***'pages', - numerical***\n",
    " \n",
    "***'minifigures', - numerical***\n",
    "\n",
    "***'packaging', - numerical***\n",
    "\n",
    "***'weight', - numerical***\n",
    "\n",
    "***'unique_pieces', - numerical***\n",
    "\n",
    "***'size' - catagorical***\n",
    "\n",
    "(d) Use describe to get some basic statistics about the numerical data. Comment on at least four things that you learned by looking at these statistics.\n",
    "\n",
    "***I learned that all sets come with unique pieces (min of 5)***\n",
    "\n",
    "***I learned that this is only covering lego sets from the years 2018-2020***\n",
    "\n",
    "***I learned that there are a couple sets that sqew the number of pages in the books, jumps from 50% with 44 to a mean of 73***\n",
    "\n",
    "***I learned that not all sets come with minifigures (10 do not)***"
   ]
  },
  {
   "cell_type": "code",
   "execution_count": 84,
   "id": "813207cd-1783-4060-8f39-4ae318a8397d",
   "metadata": {},
   "outputs": [
    {
     "data": {
      "text/html": [
       "<div>\n",
       "<style scoped>\n",
       "    .dataframe tbody tr th:only-of-type {\n",
       "        vertical-align: middle;\n",
       "    }\n",
       "\n",
       "    .dataframe tbody tr th {\n",
       "        vertical-align: top;\n",
       "    }\n",
       "\n",
       "    .dataframe thead th {\n",
       "        text-align: right;\n",
       "    }\n",
       "</style>\n",
       "<table border=\"1\" class=\"dataframe\">\n",
       "  <thead>\n",
       "    <tr style=\"text-align: right;\">\n",
       "      <th></th>\n",
       "      <th>item_number</th>\n",
       "      <th>pieces</th>\n",
       "      <th>price</th>\n",
       "      <th>amazon_price</th>\n",
       "      <th>year</th>\n",
       "      <th>pages</th>\n",
       "      <th>minifigures</th>\n",
       "      <th>unique_pieces</th>\n",
       "    </tr>\n",
       "  </thead>\n",
       "  <tbody>\n",
       "    <tr>\n",
       "      <th>count</th>\n",
       "      <td>75.000000</td>\n",
       "      <td>75.000000</td>\n",
       "      <td>75.000000</td>\n",
       "      <td>75.000000</td>\n",
       "      <td>75.000000</td>\n",
       "      <td>75.000000</td>\n",
       "      <td>65.000000</td>\n",
       "      <td>75.000000</td>\n",
       "    </tr>\n",
       "    <tr>\n",
       "      <th>mean</th>\n",
       "      <td>37498.493333</td>\n",
       "      <td>196.453333</td>\n",
       "      <td>32.136667</td>\n",
       "      <td>39.393733</td>\n",
       "      <td>2019.053333</td>\n",
       "      <td>73.213333</td>\n",
       "      <td>2.615385</td>\n",
       "      <td>96.666667</td>\n",
       "    </tr>\n",
       "    <tr>\n",
       "      <th>std</th>\n",
       "      <td>20461.267542</td>\n",
       "      <td>213.914121</td>\n",
       "      <td>27.747263</td>\n",
       "      <td>33.301259</td>\n",
       "      <td>0.820239</td>\n",
       "      <td>76.949842</td>\n",
       "      <td>2.133749</td>\n",
       "      <td>89.471018</td>\n",
       "    </tr>\n",
       "    <tr>\n",
       "      <th>min</th>\n",
       "      <td>10859.000000</td>\n",
       "      <td>6.000000</td>\n",
       "      <td>4.990000</td>\n",
       "      <td>6.290000</td>\n",
       "      <td>2018.000000</td>\n",
       "      <td>1.000000</td>\n",
       "      <td>1.000000</td>\n",
       "      <td>5.000000</td>\n",
       "    </tr>\n",
       "    <tr>\n",
       "      <th>25%</th>\n",
       "      <td>10916.500000</td>\n",
       "      <td>37.000000</td>\n",
       "      <td>9.990000</td>\n",
       "      <td>17.980000</td>\n",
       "      <td>2018.000000</td>\n",
       "      <td>14.000000</td>\n",
       "      <td>1.000000</td>\n",
       "      <td>30.000000</td>\n",
       "    </tr>\n",
       "    <tr>\n",
       "      <th>50%</th>\n",
       "      <td>41378.000000</td>\n",
       "      <td>93.000000</td>\n",
       "      <td>19.990000</td>\n",
       "      <td>29.990000</td>\n",
       "      <td>2019.000000</td>\n",
       "      <td>44.000000</td>\n",
       "      <td>2.000000</td>\n",
       "      <td>61.000000</td>\n",
       "    </tr>\n",
       "    <tr>\n",
       "      <th>75%</th>\n",
       "      <td>60193.000000</td>\n",
       "      <td>323.500000</td>\n",
       "      <td>39.990000</td>\n",
       "      <td>53.935000</td>\n",
       "      <td>2020.000000</td>\n",
       "      <td>116.000000</td>\n",
       "      <td>3.000000</td>\n",
       "      <td>151.000000</td>\n",
       "    </tr>\n",
       "    <tr>\n",
       "      <th>max</th>\n",
       "      <td>60267.000000</td>\n",
       "      <td>897.000000</td>\n",
       "      <td>149.990000</td>\n",
       "      <td>184.990000</td>\n",
       "      <td>2020.000000</td>\n",
       "      <td>389.000000</td>\n",
       "      <td>15.000000</td>\n",
       "      <td>411.000000</td>\n",
       "    </tr>\n",
       "  </tbody>\n",
       "</table>\n",
       "</div>"
      ],
      "text/plain": [
       "        item_number      pieces       price  amazon_price         year  \\\n",
       "count     75.000000   75.000000   75.000000     75.000000    75.000000   \n",
       "mean   37498.493333  196.453333   32.136667     39.393733  2019.053333   \n",
       "std    20461.267542  213.914121   27.747263     33.301259     0.820239   \n",
       "min    10859.000000    6.000000    4.990000      6.290000  2018.000000   \n",
       "25%    10916.500000   37.000000    9.990000     17.980000  2018.000000   \n",
       "50%    41378.000000   93.000000   19.990000     29.990000  2019.000000   \n",
       "75%    60193.000000  323.500000   39.990000     53.935000  2020.000000   \n",
       "max    60267.000000  897.000000  149.990000    184.990000  2020.000000   \n",
       "\n",
       "            pages  minifigures  unique_pieces  \n",
       "count   75.000000    65.000000      75.000000  \n",
       "mean    73.213333     2.615385      96.666667  \n",
       "std     76.949842     2.133749      89.471018  \n",
       "min      1.000000     1.000000       5.000000  \n",
       "25%     14.000000     1.000000      30.000000  \n",
       "50%     44.000000     2.000000      61.000000  \n",
       "75%    116.000000     3.000000     151.000000  \n",
       "max    389.000000    15.000000     411.000000  "
      ]
     },
     "execution_count": 84,
     "metadata": {},
     "output_type": "execute_result"
    }
   ],
   "source": [
    "#A\n",
    "DF.describe()"
   ]
  },
  {
   "cell_type": "code",
   "execution_count": 85,
   "id": "841f5d53-a187-4b19-86e8-a91ecf718545",
   "metadata": {},
   "outputs": [
    {
     "data": {
      "text/plain": [
       "Index(['item_number', 'set_name', 'theme', 'pieces', 'price', 'amazon_price',\n",
       "       'year', 'ages', 'pages', 'minifigures', 'packaging', 'weight',\n",
       "       'unique_pieces', 'size'],\n",
       "      dtype='object')"
      ]
     },
     "execution_count": 85,
     "metadata": {},
     "output_type": "execute_result"
    }
   ],
   "source": [
    "DF.keys()"
   ]
  },
  {
   "cell_type": "code",
   "execution_count": 86,
   "id": "02380d72-304f-43d0-ba9c-39c7760e295e",
   "metadata": {},
   "outputs": [
    {
     "name": "stdout",
     "output_type": "stream",
     "text": [
      "item_number        int64\n",
      "set_name          object\n",
      "theme             object\n",
      "pieces             int64\n",
      "price            float64\n",
      "amazon_price     float64\n",
      "year               int64\n",
      "ages              object\n",
      "pages              int64\n",
      "minifigures      float64\n",
      "packaging         object\n",
      "weight            object\n",
      "unique_pieces      int64\n",
      "size              object\n",
      "dtype: object\n"
     ]
    }
   ],
   "source": [
    "dtypes = DF.dtypes\n",
    "print(dtypes)"
   ]
  },
  {
   "cell_type": "markdown",
   "id": "84353be3-e28b-4bae-a87d-457094806bb4",
   "metadata": {},
   "source": [
    "***Problem 2***\n",
    "\n",
    "(a) Display (or show) the data frame with only the columns that contain useful categorical information. If you left any columns out say why.\n",
    "\n",
    "***I wanted a base understanding of the sets and what they contained, I didnt want item numbers because it wont help me understand more, same with the rest that I left off***\n",
    "\n",
    "    \n",
    "(b) For each categorical column that you chose above, find the frequencies of the categories. Talk about what you learn from the results of each calculation (1-2 sentences is fine)\n",
    "\n",
    "***Theme*** Even split 25, 25, 25\n",
    "\n",
    "***year*** 2020 (27) 2019 (25) 2018 (23)\n",
    "\n",
    "First it told me that lego makes an even number of themes every year, but looking at the year data it told me that lego doesnt make a set number of sets a year. I now think that its because it was convenient for the data set to have 3 equal catagories.\n",
    "\n",
    "\n",
    "*Hint - value_counts() on each column independently*"
   ]
  },
  {
   "cell_type": "code",
   "execution_count": 87,
   "id": "6f02d636-7b47-4b66-9173-6fff96f56937",
   "metadata": {},
   "outputs": [
    {
     "data": {
      "text/html": [
       "<div>\n",
       "<style scoped>\n",
       "    .dataframe tbody tr th:only-of-type {\n",
       "        vertical-align: middle;\n",
       "    }\n",
       "\n",
       "    .dataframe tbody tr th {\n",
       "        vertical-align: top;\n",
       "    }\n",
       "\n",
       "    .dataframe thead th {\n",
       "        text-align: right;\n",
       "    }\n",
       "</style>\n",
       "<table border=\"1\" class=\"dataframe\">\n",
       "  <thead>\n",
       "    <tr style=\"text-align: right;\">\n",
       "      <th></th>\n",
       "      <th>set_name</th>\n",
       "      <th>theme</th>\n",
       "      <th>pieces</th>\n",
       "      <th>price</th>\n",
       "      <th>year</th>\n",
       "      <th>minifigures</th>\n",
       "    </tr>\n",
       "  </thead>\n",
       "  <tbody>\n",
       "    <tr>\n",
       "      <th>0</th>\n",
       "      <td>My First Ladybird</td>\n",
       "      <td>DUPLO®</td>\n",
       "      <td>6</td>\n",
       "      <td>4.99</td>\n",
       "      <td>2018</td>\n",
       "      <td>NaN</td>\n",
       "    </tr>\n",
       "    <tr>\n",
       "      <th>1</th>\n",
       "      <td>My First Race Car</td>\n",
       "      <td>DUPLO®</td>\n",
       "      <td>6</td>\n",
       "      <td>4.99</td>\n",
       "      <td>2018</td>\n",
       "      <td>NaN</td>\n",
       "    </tr>\n",
       "    <tr>\n",
       "      <th>2</th>\n",
       "      <td>My First Celebration</td>\n",
       "      <td>DUPLO®</td>\n",
       "      <td>41</td>\n",
       "      <td>14.99</td>\n",
       "      <td>2018</td>\n",
       "      <td>NaN</td>\n",
       "    </tr>\n",
       "    <tr>\n",
       "      <th>3</th>\n",
       "      <td>Large Playground Brick Box</td>\n",
       "      <td>DUPLO®</td>\n",
       "      <td>71</td>\n",
       "      <td>49.99</td>\n",
       "      <td>2018</td>\n",
       "      <td>2.0</td>\n",
       "    </tr>\n",
       "    <tr>\n",
       "      <th>4</th>\n",
       "      <td>Farmers' Market</td>\n",
       "      <td>DUPLO®</td>\n",
       "      <td>26</td>\n",
       "      <td>19.99</td>\n",
       "      <td>2018</td>\n",
       "      <td>3.0</td>\n",
       "    </tr>\n",
       "    <tr>\n",
       "      <th>5</th>\n",
       "      <td>Farm Animals</td>\n",
       "      <td>DUPLO®</td>\n",
       "      <td>16</td>\n",
       "      <td>9.99</td>\n",
       "      <td>2018</td>\n",
       "      <td>NaN</td>\n",
       "    </tr>\n",
       "    <tr>\n",
       "      <th>6</th>\n",
       "      <td>Train Bridge and Tracks</td>\n",
       "      <td>DUPLO®</td>\n",
       "      <td>26</td>\n",
       "      <td>24.99</td>\n",
       "      <td>2018</td>\n",
       "      <td>1.0</td>\n",
       "    </tr>\n",
       "    <tr>\n",
       "      <th>7</th>\n",
       "      <td>Cargo Train</td>\n",
       "      <td>DUPLO®</td>\n",
       "      <td>105</td>\n",
       "      <td>119.99</td>\n",
       "      <td>2018</td>\n",
       "      <td>3.0</td>\n",
       "    </tr>\n",
       "    <tr>\n",
       "      <th>8</th>\n",
       "      <td>Spider-Man &amp; Hulk Adventures</td>\n",
       "      <td>DUPLO®</td>\n",
       "      <td>38</td>\n",
       "      <td>29.99</td>\n",
       "      <td>2018</td>\n",
       "      <td>3.0</td>\n",
       "    </tr>\n",
       "    <tr>\n",
       "      <th>9</th>\n",
       "      <td>Rapunzel's Tower</td>\n",
       "      <td>DUPLO®</td>\n",
       "      <td>37</td>\n",
       "      <td>29.99</td>\n",
       "      <td>2018</td>\n",
       "      <td>1.0</td>\n",
       "    </tr>\n",
       "  </tbody>\n",
       "</table>\n",
       "</div>"
      ],
      "text/plain": [
       "                       set_name   theme  pieces   price  year  minifigures\n",
       "0             My First Ladybird  DUPLO®       6    4.99  2018          NaN\n",
       "1             My First Race Car  DUPLO®       6    4.99  2018          NaN\n",
       "2          My First Celebration  DUPLO®      41   14.99  2018          NaN\n",
       "3    Large Playground Brick Box  DUPLO®      71   49.99  2018          2.0\n",
       "4               Farmers' Market  DUPLO®      26   19.99  2018          3.0\n",
       "5                  Farm Animals  DUPLO®      16    9.99  2018          NaN\n",
       "6       Train Bridge and Tracks  DUPLO®      26   24.99  2018          1.0\n",
       "7                   Cargo Train  DUPLO®     105  119.99  2018          3.0\n",
       "8  Spider-Man & Hulk Adventures  DUPLO®      38   29.99  2018          3.0\n",
       "9              Rapunzel's Tower  DUPLO®      37   29.99  2018          1.0"
      ]
     },
     "execution_count": 87,
     "metadata": {},
     "output_type": "execute_result"
    }
   ],
   "source": [
    "#A\n",
    "my_var = ['set_name', 'theme', 'pieces', 'price' , 'year', 'minifigures']\n",
    "\n",
    "DF[my_var].head(10)"
   ]
  },
  {
   "cell_type": "code",
   "execution_count": 88,
   "id": "9d17e09b-fc22-4789-967b-3fba76c45243",
   "metadata": {},
   "outputs": [
    {
     "name": "stdout",
     "output_type": "stream",
     "text": [
      "year\n",
      "2020    27\n",
      "2019    25\n",
      "2018    23\n",
      "Name: count, dtype: int64\n"
     ]
    }
   ],
   "source": [
    "#B\n",
    "freq = DF['year'].value_counts()\n",
    "print(freq)"
   ]
  },
  {
   "cell_type": "markdown",
   "id": "fd2b2d13-6d15-4a86-98be-f380e19c1b77",
   "metadata": {},
   "source": [
    "***Problem 3***\n",
    "\n",
    "Our goal is to answer the questions:\n",
    "\n",
    "Do the more expensive sets have more pieces?\n",
    "What is the most expensive set?\n",
    "Are there any differences between the themes?\n",
    "\n",
    "\n",
    "(a) Make a scatter plot of the number of pieces vs the price. Color the data by the lego theme and add the set name as your hover_data.\n",
    "For help with this one - look at Day3.\n",
    "\n",
    "\n",
    "Your plot should include labels for the axis and a descriptive title.\n",
    "\n",
    "\n",
    "(b) Answer the three questions by describing what you see in the graph. Comment on any points that look like outliers.\n",
    "\n",
    "***B \\/***\n",
    "\n",
    "***Yes, in all catagories the more expensive sets tend to have more pieces, although there are some like the advent calender which had more pieces that usual for a set at that price point.***\n",
    "\n",
    "***The most expensive set is the Ocean Exploration ship at 149.99 and 745 pieces.***\n",
    "\n",
    "***DUPLO to me doesnt count because the pieces are so much bigger and therefore have more material in them to allow them to have a larger price. Friends has similar pieces but the minifigures are different, maybe they cost less to produce?***"
   ]
  },
  {
   "cell_type": "code",
   "execution_count": 89,
   "id": "24b0481c-5252-4f46-baf9-a3381859c80f",
   "metadata": {},
   "outputs": [
    {
     "data": {
      "application/vnd.plotly.v1+json": {
       "config": {
        "plotlyServerURL": "https://plot.ly"
       },
       "data": [
        {
         "hovertemplate": "<b>%{hovertext}</b><br><br>theme=DUPLO®<br>pieces=%{x}<br>price=%{y}<extra></extra>",
         "hovertext": [
          "My First Ladybird",
          "My First Race Car",
          "My First Celebration",
          "Large Playground Brick Box",
          "Farmers' Market",
          "Farm Animals",
          "Train Bridge and Tracks",
          "Cargo Train",
          "Spider-Man & Hulk Adventures",
          "Rapunzel's Tower",
          "Train Tracks",
          "My First Fun Puzzle",
          "My First Car Creations",
          "Fire Truck",
          "Baby Animals",
          "Tropical Island",
          "Plane",
          "Submarine Adventure",
          "Alphabet Truck",
          "Tow Truck",
          "Super Heroes Lab",
          "Bedroom",
          "Pizza Stand",
          "Bakery",
          "Modular Playhouse"
         ],
         "legendgroup": "DUPLO®",
         "marker": {
          "color": "#636efa",
          "symbol": "circle"
         },
         "mode": "markers",
         "name": "DUPLO®",
         "orientation": "v",
         "showlegend": true,
         "type": "scatter",
         "x": {
          "bdata": "BgAGACkARwAaABAAGgBpACYAJQAXAA8AIgAVAAkASQAMABgAJAAHAB4AEAASAC4AgQA=",
          "dtype": "i2"
         },
         "xaxis": "x",
         "y": {
          "bdata": "9ihcj8L1E0D2KFyPwvUTQHsUrkfh+i1AH4XrUbj+SEA9CtejcP0zQHsUrkfh+iNAPQrXo3D9OECPwvUoXP9dQD0K16Nw/T1APQrXo3D9PUA9CtejcP0zQD0K16Nw/TNAPQrXo3D9M0A9CtejcP0zQHsUrkfh+iNAH4XrUbj+TUB7FK5H4fojQD0K16Nw/TNAPQrXo3D9OED2KFyPwvUbQD0K16Nw/T1AexSuR+H6LUB7FK5H4fojQB+F61G4fkFAH4XrUbj+TUA=",
          "dtype": "f8"
         },
         "yaxis": "y"
        },
        {
         "hovertemplate": "<b>%{hovertext}</b><br><br>theme=Friends<br>pieces=%{x}<br>price=%{y}<extra></extra>",
         "hovertext": [
          "Stephanie's Soccer Practice",
          "Olivia's Mission Vehicle",
          "Mia's Tree House",
          "Friendship House",
          "Friends Advent Calendar",
          "Stephanie's Heart Box",
          "Mia's Heart Box",
          "Mia's Forest Adventures",
          "Stephanie's Obstacle Course",
          "Mia's House",
          "Andrea's Pool Party",
          "Turtles Rescue Mission",
          "Dolphins Rescue Mission",
          "Andrea's Summer Heart Box",
          "Olivia's Summer Heart Box",
          "Heartlake City Hospital",
          "Puppy Playground",
          "Andrea's Play Cube - Singer",
          "Mia's Play Cube - Veterinarian",
          "Mia's Play Cube - Cinema",
          "Baby Elephant Jungle Rescue",
          "Tiger Hot Air Balloon Jungle Rescue",
          "Jungle Rescue Base",
          "Emma's Fashion Shop",
          "Beach House"
         ],
         "legendgroup": "Friends",
         "marker": {
          "color": "#EF553B",
          "symbol": "circle"
         },
         "mode": "markers",
         "name": "Friends",
         "orientation": "v",
         "showlegend": true,
         "type": "scatter",
         "x": {
          "bdata": "dwDfAF8B0gL0AVUAUwCGAFEBywLUAeEAawFTAF0AewE5ADEAKAAlAMsALgGIAlcBvAE=",
          "dtype": "i2"
         },
         "xaxis": "x",
         "y": {
          "bdata": "exSuR+H6LUA9CtejcP0zQD0K16Nw/T1Aj8L1KFx/UUA9CtejcP09QPYoXI/C9R9A9ihcj8L1H0B7FK5H4fotQB+F61G4/kNAj8L1KFx/UUAfhetRuP5IQD0K16Nw/TNAH4XrUbj+Q0D2KFyPwvUfQPYoXI/C9R9AH4XrUbj+SEB7FK5H4fojQHsUrkfh+iNAexSuR+H6I0B7FK5H4fojQD0K16Nw/TNAH4XrUbj+Q0CPwvUoXP9TQD0K16Nw/T1AH4XrUbj+SEA=",
          "dtype": "f8"
         },
         "yaxis": "y"
        },
        {
         "hovertemplate": "<b>%{hovertext}</b><br><br>theme=City<br>pieces=%{x}<br>price=%{y}<extra></extra>",
         "hovertext": [
          "Off-Road Chase",
          "Mountain Fugitives",
          "Dirt Road Pursuit",
          "Pickup & Caravan",
          "Heavy Cargo Transport",
          "Mining Team",
          "People Pack - Outdoor Adventures",
          "Parachute Arrest",
          "Dock Side Fire",
          "Fire Station",
          "Fire Plane",
          "Construction Loader",
          "Diving Yacht",
          "Harvester Transport",
          "Mars Research Shuttle",
          "Police Helicopter Chase",
          "Police Monster Truck Heist",
          "Police Station",
          "Fire Helicopter Response",
          "Street Sweeper",
          "Monster Truck",
          "Construction Bulldozer",
          "Tuning Workshop",
          "Ocean Exploration Ship",
          "Safari Off-Roader"
         ],
         "legendgroup": "City",
         "marker": {
          "color": "#00cc96",
          "symbol": "circle"
         },
         "mode": "markers",
         "name": "City",
         "orientation": "v",
         "showlegend": true,
         "type": "scatter",
         "x": {
          "bdata": "JQBYACkBWAE2AVIApADaAGEA/QFrAVgAlABmAREB1ABqAecCXQBZADcAfgCBA+kCqAA=",
          "dtype": "i2"
         },
         "xaxis": "x",
         "y": {
          "bdata": "9ihcj8L1G0B7FK5H4fojQB+F61G4/kNAPQrXo3D9PUA9CtejcP09QHsUrkfh+iNAH4XrUbj+Q0AfhetRuP5DQD0K16Nw/TNAj8L1KFx/UUAfhetRuP5NQHsUrkfh+iNAPQrXo3D9M0A9CtejcP09QB+F61G4/kNAH4XrUbj+Q0AfhetRuP5NQI/C9Shc/1hAPQrXo3D9PUB7FK5H4fojQHsUrkfh+iNAPQrXo3D9M0CPwvUoXP9YQEjhehSuv2JAPQrXo3D9M0A=",
          "dtype": "f8"
         },
         "yaxis": "y"
        }
       ],
       "layout": {
        "legend": {
         "title": {
          "text": "theme"
         },
         "tracegroupgap": 0
        },
        "template": {
         "data": {
          "bar": [
           {
            "error_x": {
             "color": "#2a3f5f"
            },
            "error_y": {
             "color": "#2a3f5f"
            },
            "marker": {
             "line": {
              "color": "#E5ECF6",
              "width": 0.5
             },
             "pattern": {
              "fillmode": "overlay",
              "size": 10,
              "solidity": 0.2
             }
            },
            "type": "bar"
           }
          ],
          "barpolar": [
           {
            "marker": {
             "line": {
              "color": "#E5ECF6",
              "width": 0.5
             },
             "pattern": {
              "fillmode": "overlay",
              "size": 10,
              "solidity": 0.2
             }
            },
            "type": "barpolar"
           }
          ],
          "carpet": [
           {
            "aaxis": {
             "endlinecolor": "#2a3f5f",
             "gridcolor": "white",
             "linecolor": "white",
             "minorgridcolor": "white",
             "startlinecolor": "#2a3f5f"
            },
            "baxis": {
             "endlinecolor": "#2a3f5f",
             "gridcolor": "white",
             "linecolor": "white",
             "minorgridcolor": "white",
             "startlinecolor": "#2a3f5f"
            },
            "type": "carpet"
           }
          ],
          "choropleth": [
           {
            "colorbar": {
             "outlinewidth": 0,
             "ticks": ""
            },
            "type": "choropleth"
           }
          ],
          "contour": [
           {
            "colorbar": {
             "outlinewidth": 0,
             "ticks": ""
            },
            "colorscale": [
             [
              0,
              "#0d0887"
             ],
             [
              0.1111111111111111,
              "#46039f"
             ],
             [
              0.2222222222222222,
              "#7201a8"
             ],
             [
              0.3333333333333333,
              "#9c179e"
             ],
             [
              0.4444444444444444,
              "#bd3786"
             ],
             [
              0.5555555555555556,
              "#d8576b"
             ],
             [
              0.6666666666666666,
              "#ed7953"
             ],
             [
              0.7777777777777778,
              "#fb9f3a"
             ],
             [
              0.8888888888888888,
              "#fdca26"
             ],
             [
              1,
              "#f0f921"
             ]
            ],
            "type": "contour"
           }
          ],
          "contourcarpet": [
           {
            "colorbar": {
             "outlinewidth": 0,
             "ticks": ""
            },
            "type": "contourcarpet"
           }
          ],
          "heatmap": [
           {
            "colorbar": {
             "outlinewidth": 0,
             "ticks": ""
            },
            "colorscale": [
             [
              0,
              "#0d0887"
             ],
             [
              0.1111111111111111,
              "#46039f"
             ],
             [
              0.2222222222222222,
              "#7201a8"
             ],
             [
              0.3333333333333333,
              "#9c179e"
             ],
             [
              0.4444444444444444,
              "#bd3786"
             ],
             [
              0.5555555555555556,
              "#d8576b"
             ],
             [
              0.6666666666666666,
              "#ed7953"
             ],
             [
              0.7777777777777778,
              "#fb9f3a"
             ],
             [
              0.8888888888888888,
              "#fdca26"
             ],
             [
              1,
              "#f0f921"
             ]
            ],
            "type": "heatmap"
           }
          ],
          "histogram": [
           {
            "marker": {
             "pattern": {
              "fillmode": "overlay",
              "size": 10,
              "solidity": 0.2
             }
            },
            "type": "histogram"
           }
          ],
          "histogram2d": [
           {
            "colorbar": {
             "outlinewidth": 0,
             "ticks": ""
            },
            "colorscale": [
             [
              0,
              "#0d0887"
             ],
             [
              0.1111111111111111,
              "#46039f"
             ],
             [
              0.2222222222222222,
              "#7201a8"
             ],
             [
              0.3333333333333333,
              "#9c179e"
             ],
             [
              0.4444444444444444,
              "#bd3786"
             ],
             [
              0.5555555555555556,
              "#d8576b"
             ],
             [
              0.6666666666666666,
              "#ed7953"
             ],
             [
              0.7777777777777778,
              "#fb9f3a"
             ],
             [
              0.8888888888888888,
              "#fdca26"
             ],
             [
              1,
              "#f0f921"
             ]
            ],
            "type": "histogram2d"
           }
          ],
          "histogram2dcontour": [
           {
            "colorbar": {
             "outlinewidth": 0,
             "ticks": ""
            },
            "colorscale": [
             [
              0,
              "#0d0887"
             ],
             [
              0.1111111111111111,
              "#46039f"
             ],
             [
              0.2222222222222222,
              "#7201a8"
             ],
             [
              0.3333333333333333,
              "#9c179e"
             ],
             [
              0.4444444444444444,
              "#bd3786"
             ],
             [
              0.5555555555555556,
              "#d8576b"
             ],
             [
              0.6666666666666666,
              "#ed7953"
             ],
             [
              0.7777777777777778,
              "#fb9f3a"
             ],
             [
              0.8888888888888888,
              "#fdca26"
             ],
             [
              1,
              "#f0f921"
             ]
            ],
            "type": "histogram2dcontour"
           }
          ],
          "mesh3d": [
           {
            "colorbar": {
             "outlinewidth": 0,
             "ticks": ""
            },
            "type": "mesh3d"
           }
          ],
          "parcoords": [
           {
            "line": {
             "colorbar": {
              "outlinewidth": 0,
              "ticks": ""
             }
            },
            "type": "parcoords"
           }
          ],
          "pie": [
           {
            "automargin": true,
            "type": "pie"
           }
          ],
          "scatter": [
           {
            "fillpattern": {
             "fillmode": "overlay",
             "size": 10,
             "solidity": 0.2
            },
            "type": "scatter"
           }
          ],
          "scatter3d": [
           {
            "line": {
             "colorbar": {
              "outlinewidth": 0,
              "ticks": ""
             }
            },
            "marker": {
             "colorbar": {
              "outlinewidth": 0,
              "ticks": ""
             }
            },
            "type": "scatter3d"
           }
          ],
          "scattercarpet": [
           {
            "marker": {
             "colorbar": {
              "outlinewidth": 0,
              "ticks": ""
             }
            },
            "type": "scattercarpet"
           }
          ],
          "scattergeo": [
           {
            "marker": {
             "colorbar": {
              "outlinewidth": 0,
              "ticks": ""
             }
            },
            "type": "scattergeo"
           }
          ],
          "scattergl": [
           {
            "marker": {
             "colorbar": {
              "outlinewidth": 0,
              "ticks": ""
             }
            },
            "type": "scattergl"
           }
          ],
          "scattermap": [
           {
            "marker": {
             "colorbar": {
              "outlinewidth": 0,
              "ticks": ""
             }
            },
            "type": "scattermap"
           }
          ],
          "scattermapbox": [
           {
            "marker": {
             "colorbar": {
              "outlinewidth": 0,
              "ticks": ""
             }
            },
            "type": "scattermapbox"
           }
          ],
          "scatterpolar": [
           {
            "marker": {
             "colorbar": {
              "outlinewidth": 0,
              "ticks": ""
             }
            },
            "type": "scatterpolar"
           }
          ],
          "scatterpolargl": [
           {
            "marker": {
             "colorbar": {
              "outlinewidth": 0,
              "ticks": ""
             }
            },
            "type": "scatterpolargl"
           }
          ],
          "scatterternary": [
           {
            "marker": {
             "colorbar": {
              "outlinewidth": 0,
              "ticks": ""
             }
            },
            "type": "scatterternary"
           }
          ],
          "surface": [
           {
            "colorbar": {
             "outlinewidth": 0,
             "ticks": ""
            },
            "colorscale": [
             [
              0,
              "#0d0887"
             ],
             [
              0.1111111111111111,
              "#46039f"
             ],
             [
              0.2222222222222222,
              "#7201a8"
             ],
             [
              0.3333333333333333,
              "#9c179e"
             ],
             [
              0.4444444444444444,
              "#bd3786"
             ],
             [
              0.5555555555555556,
              "#d8576b"
             ],
             [
              0.6666666666666666,
              "#ed7953"
             ],
             [
              0.7777777777777778,
              "#fb9f3a"
             ],
             [
              0.8888888888888888,
              "#fdca26"
             ],
             [
              1,
              "#f0f921"
             ]
            ],
            "type": "surface"
           }
          ],
          "table": [
           {
            "cells": {
             "fill": {
              "color": "#EBF0F8"
             },
             "line": {
              "color": "white"
             }
            },
            "header": {
             "fill": {
              "color": "#C8D4E3"
             },
             "line": {
              "color": "white"
             }
            },
            "type": "table"
           }
          ]
         },
         "layout": {
          "annotationdefaults": {
           "arrowcolor": "#2a3f5f",
           "arrowhead": 0,
           "arrowwidth": 1
          },
          "autotypenumbers": "strict",
          "coloraxis": {
           "colorbar": {
            "outlinewidth": 0,
            "ticks": ""
           }
          },
          "colorscale": {
           "diverging": [
            [
             0,
             "#8e0152"
            ],
            [
             0.1,
             "#c51b7d"
            ],
            [
             0.2,
             "#de77ae"
            ],
            [
             0.3,
             "#f1b6da"
            ],
            [
             0.4,
             "#fde0ef"
            ],
            [
             0.5,
             "#f7f7f7"
            ],
            [
             0.6,
             "#e6f5d0"
            ],
            [
             0.7,
             "#b8e186"
            ],
            [
             0.8,
             "#7fbc41"
            ],
            [
             0.9,
             "#4d9221"
            ],
            [
             1,
             "#276419"
            ]
           ],
           "sequential": [
            [
             0,
             "#0d0887"
            ],
            [
             0.1111111111111111,
             "#46039f"
            ],
            [
             0.2222222222222222,
             "#7201a8"
            ],
            [
             0.3333333333333333,
             "#9c179e"
            ],
            [
             0.4444444444444444,
             "#bd3786"
            ],
            [
             0.5555555555555556,
             "#d8576b"
            ],
            [
             0.6666666666666666,
             "#ed7953"
            ],
            [
             0.7777777777777778,
             "#fb9f3a"
            ],
            [
             0.8888888888888888,
             "#fdca26"
            ],
            [
             1,
             "#f0f921"
            ]
           ],
           "sequentialminus": [
            [
             0,
             "#0d0887"
            ],
            [
             0.1111111111111111,
             "#46039f"
            ],
            [
             0.2222222222222222,
             "#7201a8"
            ],
            [
             0.3333333333333333,
             "#9c179e"
            ],
            [
             0.4444444444444444,
             "#bd3786"
            ],
            [
             0.5555555555555556,
             "#d8576b"
            ],
            [
             0.6666666666666666,
             "#ed7953"
            ],
            [
             0.7777777777777778,
             "#fb9f3a"
            ],
            [
             0.8888888888888888,
             "#fdca26"
            ],
            [
             1,
             "#f0f921"
            ]
           ]
          },
          "colorway": [
           "#636efa",
           "#EF553B",
           "#00cc96",
           "#ab63fa",
           "#FFA15A",
           "#19d3f3",
           "#FF6692",
           "#B6E880",
           "#FF97FF",
           "#FECB52"
          ],
          "font": {
           "color": "#2a3f5f"
          },
          "geo": {
           "bgcolor": "white",
           "lakecolor": "white",
           "landcolor": "#E5ECF6",
           "showlakes": true,
           "showland": true,
           "subunitcolor": "white"
          },
          "hoverlabel": {
           "align": "left"
          },
          "hovermode": "closest",
          "mapbox": {
           "style": "light"
          },
          "paper_bgcolor": "white",
          "plot_bgcolor": "#E5ECF6",
          "polar": {
           "angularaxis": {
            "gridcolor": "white",
            "linecolor": "white",
            "ticks": ""
           },
           "bgcolor": "#E5ECF6",
           "radialaxis": {
            "gridcolor": "white",
            "linecolor": "white",
            "ticks": ""
           }
          },
          "scene": {
           "xaxis": {
            "backgroundcolor": "#E5ECF6",
            "gridcolor": "white",
            "gridwidth": 2,
            "linecolor": "white",
            "showbackground": true,
            "ticks": "",
            "zerolinecolor": "white"
           },
           "yaxis": {
            "backgroundcolor": "#E5ECF6",
            "gridcolor": "white",
            "gridwidth": 2,
            "linecolor": "white",
            "showbackground": true,
            "ticks": "",
            "zerolinecolor": "white"
           },
           "zaxis": {
            "backgroundcolor": "#E5ECF6",
            "gridcolor": "white",
            "gridwidth": 2,
            "linecolor": "white",
            "showbackground": true,
            "ticks": "",
            "zerolinecolor": "white"
           }
          },
          "shapedefaults": {
           "line": {
            "color": "#2a3f5f"
           }
          },
          "ternary": {
           "aaxis": {
            "gridcolor": "white",
            "linecolor": "white",
            "ticks": ""
           },
           "baxis": {
            "gridcolor": "white",
            "linecolor": "white",
            "ticks": ""
           },
           "bgcolor": "#E5ECF6",
           "caxis": {
            "gridcolor": "white",
            "linecolor": "white",
            "ticks": ""
           }
          },
          "title": {
           "x": 0.05
          },
          "xaxis": {
           "automargin": true,
           "gridcolor": "white",
           "linecolor": "white",
           "ticks": "",
           "title": {
            "standoff": 15
           },
           "zerolinecolor": "white",
           "zerolinewidth": 2
          },
          "yaxis": {
           "automargin": true,
           "gridcolor": "white",
           "linecolor": "white",
           "ticks": "",
           "title": {
            "standoff": 15
           },
           "zerolinecolor": "white",
           "zerolinewidth": 2
          }
         }
        },
        "title": {
         "text": "Pieces vs Price: Lego Set Exploration"
        },
        "xaxis": {
         "anchor": "y",
         "domain": [
          0,
          1
         ],
         "title": {
          "text": "pieces"
         }
        },
        "yaxis": {
         "anchor": "x",
         "domain": [
          0,
          1
         ],
         "title": {
          "text": "price"
         }
        }
       }
      },
      "image/png": "[encoded data removed]"
     },
     "metadata": {},
     "output_type": "display_data"
    }
   ],
   "source": [
    "#A\n",
    "fig = px.scatter(\n",
    "    DF,\n",
    "    x='pieces',\n",
    "    y='price',\n",
    "    color='theme',        \n",
    "    hover_name='set_name',     \n",
    "    title='Pieces vs Price: Lego Set Exploration', \n",
    ")\n",
    "\n",
    "fig.show()"
   ]
  },
  {
   "cell_type": "markdown",
   "id": "1ff47135-50e2-45fe-8861-ae34d92da8e2",
   "metadata": {},
   "source": [
    "\n",
    "\n",
    "\n",
    "\n",
    "***Problem 4 (15 points)***\n",
    "\n",
    "\n",
    "Analyze the price differences between the Retail Price and the Amazon Price.\n",
    "\n",
    "(a) Create a new column in the data frame that measures the price difference between Amazon and Retail.\n",
    "Price Difference = Amazon Price - Retail Price\n",
    "If the results of this calculation are positive, what does that mean about the prices?\n",
    "\n",
    "***Prices can very depending on where you get them from. Amazon for legos tends to be more expensive, shown by the positives v.s. the negatives which show that the Amazon is less.***\n",
    "\n",
    "(b) Group the data by Lego Theme and use describe to do statistics on the price difference column you created in part (a). Comment on at least four things that you learned by looking at these statistics.\n",
    "Your result should be a data frame (or table) with the three Lego themes on the left and statistics about the price difference to the right of that.\n",
    "\n",
    "***All of the themes tend to be more expensive on amazon, compared to the price. I learned that althought there are some outliers that are much more expensive on amazon, the difference tends to be around ~$7. Friends, the theme with the largest max, also has the largest standard deviation, possibly caused by the large max. Although City has the most expensive sets, they tend to have the most consistant price.***\n",
    "\n",
    "(c) Make a histogram of the price difference and color the bars by the Lego Theme.\n",
    "For help with this one - look at Day4.\n",
    "Your plot should include labels for the axis and a descriptive title.\n",
    "\n"
   ]
  },
  {
   "cell_type": "code",
   "execution_count": 90,
   "id": "d111f555-afa7-4704-98b7-7eab9598982a",
   "metadata": {},
   "outputs": [
    {
     "data": {
      "text/plain": [
       "Index(['item_number', 'set_name', 'theme', 'pieces', 'price', 'amazon_price',\n",
       "       'year', 'ages', 'pages', 'minifigures', 'packaging', 'weight',\n",
       "       'unique_pieces', 'size'],\n",
       "      dtype='object')"
      ]
     },
     "execution_count": 90,
     "metadata": {},
     "output_type": "execute_result"
    }
   ],
   "source": [
    "DF.keys()\n"
   ]
  },
  {
   "cell_type": "code",
   "execution_count": 91,
   "id": "3408b52c-cb61-4f1e-96d6-cced50faa800",
   "metadata": {},
   "outputs": [
    {
     "data": {
      "text/html": [
       "<!--| quarto-html-table-processing: none -->\n",
       "<table id=\"itables_772960c0_1c4c_46f0_bd76_7ded1dbdcaea\"><tbody><tr>\n",
       "    <td style=\"vertical-align:middle; text-align:left\">\n",
       "    <a href=https://mwouts.github.io/itables/><svg class=\"main-svg\" xmlns=\"http://www.w3.org/2000/svg\" xmlns:xlink=\"http://www.w3.org/1999/xlink\"\n",
       "width=\"64\" viewBox=\"0 0 500 400\" style=\"font-family: 'Droid Sans', sans-serif;\">\n",
       "    <g style=\"fill:#d9d7fc\">\n",
       "        <path d=\"M100,400H500V357H100Z\" />\n",
       "        <path d=\"M100,300H400V257H100Z\" />\n",
       "        <path d=\"M0,200H400V157H0Z\" />\n",
       "        <path d=\"M100,100H500V57H100Z\" />\n",
       "        <path d=\"M100,350H500V307H100Z\" />\n",
       "        <path d=\"M100,250H400V207H100Z\" />\n",
       "        <path d=\"M0,150H400V107H0Z\" />\n",
       "        <path d=\"M100,50H500V7H100Z\" />\n",
       "    </g>\n",
       "    <g style=\"fill:#1a1366;stroke:#1a1366;\">\n",
       "   <rect x=\"100\" y=\"7\" width=\"400\" height=\"43\">\n",
       "    <animate\n",
       "      attributeName=\"width\"\n",
       "      values=\"0;400;0\"\n",
       "      dur=\"5s\"\n",
       "      repeatCount=\"indefinite\" />\n",
       "      <animate\n",
       "      attributeName=\"x\"\n",
       "      values=\"100;100;500\"\n",
       "      dur=\"5s\"\n",
       "      repeatCount=\"indefinite\" />\n",
       "  </rect>\n",
       "        <rect x=\"0\" y=\"107\" width=\"400\" height=\"43\">\n",
       "    <animate\n",
       "      attributeName=\"width\"\n",
       "      values=\"0;400;0\"\n",
       "      dur=\"3.5s\"\n",
       "      repeatCount=\"indefinite\" />\n",
       "    <animate\n",
       "      attributeName=\"x\"\n",
       "      values=\"0;0;400\"\n",
       "      dur=\"3.5s\"\n",
       "      repeatCount=\"indefinite\" />\n",
       "  </rect>\n",
       "        <rect x=\"100\" y=\"207\" width=\"300\" height=\"43\">\n",
       "    <animate\n",
       "      attributeName=\"width\"\n",
       "      values=\"0;300;0\"\n",
       "      dur=\"3s\"\n",
       "      repeatCount=\"indefinite\" />\n",
       "    <animate\n",
       "      attributeName=\"x\"\n",
       "      values=\"100;100;400\"\n",
       "      dur=\"3s\"\n",
       "      repeatCount=\"indefinite\" />\n",
       "  </rect>\n",
       "        <rect x=\"100\" y=\"307\" width=\"400\" height=\"43\">\n",
       "    <animate\n",
       "      attributeName=\"width\"\n",
       "      values=\"0;400;0\"\n",
       "      dur=\"4s\"\n",
       "      repeatCount=\"indefinite\" />\n",
       "      <animate\n",
       "      attributeName=\"x\"\n",
       "      values=\"100;100;500\"\n",
       "      dur=\"4s\"\n",
       "      repeatCount=\"indefinite\" />\n",
       "  </rect>\n",
       "        <g style=\"fill:transparent;stroke-width:8; stroke-linejoin:round\" rx=\"5\">\n",
       "            <g transform=\"translate(45 50) rotate(-45)\">\n",
       "                <circle r=\"33\" cx=\"0\" cy=\"0\" />\n",
       "                <rect x=\"-8\" y=\"32\" width=\"16\" height=\"30\" />\n",
       "            </g>\n",
       "\n",
       "            <g transform=\"translate(450 152)\">\n",
       "                <polyline points=\"-15,-20 -35,-20 -35,40 25,40 25,20\" />\n",
       "                <rect x=\"-15\" y=\"-40\" width=\"60\" height=\"60\" />\n",
       "            </g>\n",
       "\n",
       "            <g transform=\"translate(50 352)\">\n",
       "                <polygon points=\"-35,-5 0,-40 35,-5\" />\n",
       "                <polygon points=\"-35,10 0,45 35,10\" />\n",
       "            </g>\n",
       "\n",
       "            <g transform=\"translate(75 250)\">\n",
       "                <polyline points=\"-30,30 -60,0 -30,-30\" />\n",
       "                <polyline points=\"0,30 -30,0 0,-30\" />\n",
       "            </g>\n",
       "\n",
       "            <g transform=\"translate(425 250) rotate(180)\">\n",
       "                <polyline points=\"-30,30 -60,0 -30,-30\" />\n",
       "                <polyline points=\"0,30 -30,0 0,-30\" />\n",
       "            </g>\n",
       "        </g>\n",
       "    </g>\n",
       "</svg>\n",
       "</a>\n",
       "    Loading ITables v2.5.2 from the internet...\n",
       "    (need <a href=https://mwouts.github.io/itables/troubleshooting.html>help</a>?)</td>\n",
       "    </tr></tbody></table>\n",
       "<link href=\"https://www.unpkg.com/dt_for_itables@2.4.0/dt_bundle.css\" rel=\"stylesheet\">\n",
       "<script type=\"module\">\n",
       "    import { ITable, jQuery as $ } from 'https://www.unpkg.com/dt_for_itables@2.4.0/dt_bundle.js';\n",
       "\n",
       "    document.querySelectorAll(\"#itables_772960c0_1c4c_46f0_bd76_7ded1dbdcaea:not(.dataTable)\").forEach(table => {\n",
       "        if (!(table instanceof HTMLTableElement))\n",
       "            return;\n",
       "\n",
       "        let dt_args = {\"layout\": {\"topStart\": \"pageLength\", \"topEnd\": \"search\", \"bottomStart\": \"info\", \"bottomEnd\": \"paging\"}, \"style\": {\"table-layout\": \"auto\", \"width\": \"auto\", \"margin\": \"auto\", \"caption-side\": \"bottom\"}, \"order\": [], \"classes\": [\"display\", \"nowrap\"], \"text_in_header_can_be_selected\": true, \"table_html\": \"<table><thead>\\n    <tr style=\\\"text-align: right;\\\">\\n      \\n      <th>item_number</th>\\n      <th>set_name</th>\\n      <th>theme</th>\\n      <th>pieces</th>\\n      <th>price</th>\\n      <th>amazon_price</th>\\n      <th>year</th>\\n      <th>ages</th>\\n      <th>pages</th>\\n      <th>minifigures</th>\\n      <th>packaging</th>\\n      <th>weight</th>\\n      <th>unique_pieces</th>\\n      <th>size</th>\\n      <th>price_difference</th>\\n    </tr>\\n  </thead></table>\", \"data_json\": \"[[10859, \\\"My First Ladybird\\\", \\\"DUPLO\\\\u00ae\\\", 6, 4.99, 16.0, 2018, \\\"Ages_1\\\\u00bd-3\\\", 9, \\\"___NaN___\\\", \\\"Box\\\", \\\"NaN\\\", 5, \\\"Large\\\", 11.01], [10860, \\\"My First Race Car\\\", \\\"DUPLO\\\\u00ae\\\", 6, 4.99, 9.45, 2018, \\\"Ages_1\\\\u00bd-3\\\", 9, \\\"___NaN___\\\", \\\"Box\\\", \\\"0.13Kg (0.29 lb)\\\", 6, \\\"Large\\\", 4.46], [10862, \\\"My First Celebration\\\", \\\"DUPLO\\\\u00ae\\\", 41, 14.99, 39.89, 2018, \\\"Ages_1\\\\u00bd-3\\\", 9, \\\"___NaN___\\\", \\\"Box\\\", \\\"NaN\\\", 18, \\\"Large\\\", 24.9], [10864, \\\"Large Playground Brick Box\\\", \\\"DUPLO\\\\u00ae\\\", 71, 49.99, 56.69, 2018, \\\"Ages_2-5\\\", 32, 2.0, \\\"Plastic box\\\", \\\"1.41Kg (3.11 lb)\\\", 49, \\\"Large\\\", 6.7], [10867, \\\"Farmers' Market\\\", \\\"DUPLO\\\\u00ae\\\", 26, 19.99, 36.99, 2018, \\\"Ages_2-5\\\", 9, 3.0, \\\"Box\\\", \\\"NaN\\\", 18, \\\"Large\\\", 17.0], [10870, \\\"Farm Animals\\\", \\\"DUPLO\\\\u00ae\\\", 16, 9.99, 9.99, 2018, \\\"Ages_2-5\\\", 8, \\\"___NaN___\\\", \\\"Box\\\", \\\"NaN\\\", 13, \\\"Large\\\", 0.0], [10872, \\\"Train Bridge and Tracks\\\", \\\"DUPLO\\\\u00ae\\\", 26, 24.99, 21.99, 2018, \\\"Ages_2-5\\\", 16, 1.0, \\\"Box\\\", \\\"0.88Kg (1.95 lb)\\\", 10, \\\"Large\\\", -3.0], [10875, \\\"Cargo Train\\\", \\\"DUPLO\\\\u00ae\\\", 105, 119.99, 128.95, 2018, \\\"Ages_2-5\\\", 64, 3.0, \\\"Box\\\", \\\"2.86Kg (6.31 lb)\\\", 68, \\\"Large\\\", 8.96], [10876, \\\"Spider-Man &amp; Hulk Adventures\\\", \\\"DUPLO\\\\u00ae\\\", 38, 29.99, 74.5, 2018, \\\"Ages_2-5\\\", 20, 3.0, \\\"Box\\\", \\\"0.54Kg (1.19 lb)\\\", 29, \\\"Large\\\", 44.51], [10878, \\\"Rapunzel's Tower\\\", \\\"DUPLO\\\\u00ae\\\", 37, 29.99, 98.99, 2018, \\\"Ages_2-5\\\", 24, 1.0, \\\"Box\\\", \\\"NaN\\\", 26, \\\"Large\\\", 69.0], [10882, \\\"Train Tracks\\\", \\\"DUPLO\\\\u00ae\\\", 23, 19.99, 17.99, 2018, \\\"Ages_2-5\\\", 16, \\\"___NaN___\\\", \\\"Box\\\", \\\"0.66Kg (1.45 lb)\\\", 9, \\\"Large\\\", -2.0], [10885, \\\"My First Fun Puzzle\\\", \\\"DUPLO\\\\u00ae\\\", 15, 19.99, 19.55, 2019, \\\"Ages_1\\\\u00bd+\\\", 9, \\\"___NaN___\\\", \\\"NaN\\\", \\\"NaN\\\", 15, \\\"Large\\\", -0.44], [10886, \\\"My First Car Creations\\\", \\\"DUPLO\\\\u00ae\\\", 34, 19.99, 16.0, 2019, \\\"Ages_1\\\\u00bd+\\\", 10, \\\"___NaN___\\\", \\\"NaN\\\", \\\"0.64Kg (1.41 lb)\\\", 31, \\\"Large\\\", -3.99], [10901, \\\"Fire Truck\\\", \\\"DUPLO\\\\u00ae\\\", 21, 19.99, 17.99, 2019, \\\"Ages_2+\\\", 10, 2.0, \\\"Box\\\", \\\"0.45Kg (0.99 lb)\\\", 16, \\\"Large\\\", -2.0], [10904, \\\"Baby Animals\\\", \\\"DUPLO\\\\u00ae\\\", 9, 9.99, 21.11, 2019, \\\"Ages_2+\\\", 8, \\\"___NaN___\\\", \\\"Box\\\", \\\"NaN\\\", 9, \\\"Large\\\", 11.12], [10906, \\\"Tropical Island\\\", \\\"DUPLO\\\\u00ae\\\", 73, 59.99, 59.99, 2019, \\\"Ages_2+\\\", 40, 3.0, \\\"Box\\\", \\\"NaN\\\", 44, \\\"Large\\\", 0.0], [10908, \\\"Plane\\\", \\\"DUPLO\\\\u00ae\\\", 12, 9.99, 23.27, 2019, \\\"Ages_2+\\\", 10, 1.0, \\\"Box\\\", \\\"NaN\\\", 11, \\\"Large\\\", 13.28], [10910, \\\"Submarine Adventure\\\", \\\"DUPLO\\\\u00ae\\\", 24, 19.99, 17.99, 2019, \\\"Ages_2+\\\", 8, 2.0, \\\"Box\\\", \\\"NaN\\\", 22, \\\"Large\\\", -2.0], [10915, \\\"Alphabet Truck\\\", \\\"DUPLO\\\\u00ae\\\", 36, 24.99, 21.99, 2020, \\\"Ages_1\\\\u00bd+\\\", 1, 2.0, \\\"Box\\\", \\\"NaN\\\", 35, \\\"Large\\\", -3.0], [10918, \\\"Tow Truck\\\", \\\"DUPLO\\\\u00ae\\\", 7, 6.99, 6.29, 2020, \\\"Ages_1\\\\u00bd+\\\", 3, \\\"___NaN___\\\", \\\"Box with backing card\\\", \\\"NaN\\\", 7, \\\"Large\\\", -0.7], [10921, \\\"Super Heroes Lab\\\", \\\"DUPLO\\\\u00ae\\\", 30, 29.99, 26.99, 2020, \\\"Ages_2+\\\", 16, 3.0, \\\"Box\\\", \\\"NaN\\\", 23, \\\"Large\\\", -3.0], [10926, \\\"Bedroom\\\", \\\"DUPLO\\\\u00ae\\\", 16, 14.99, 14.99, 2020, \\\"Ages_2+\\\", 2, 2.0, \\\"Box\\\", \\\"NaN\\\", 16, \\\"Large\\\", 0.0], [10927, \\\"Pizza Stand\\\", \\\"DUPLO\\\\u00ae\\\", 18, 9.99, 8.99, 2020, \\\"Ages_2+\\\", 12, 1.0, \\\"Box\\\", \\\"NaN\\\", 15, \\\"Large\\\", -1.0], [10928, \\\"Bakery\\\", \\\"DUPLO\\\\u00ae\\\", 46, 34.99, 29.99, 2020, \\\"Ages_2+\\\", 20, 2.0, \\\"Box\\\", \\\"NaN\\\", 33, \\\"Large\\\", -5.0], [10929, \\\"Modular Playhouse\\\", \\\"DUPLO\\\\u00ae\\\", 129, 59.99, 59.99, 2020, \\\"Ages_2+\\\", 84, 3.0, \\\"Box\\\", \\\"NaN\\\", 56, \\\"Large\\\", 0.0], [41330, \\\"Stephanie's Soccer Practice\\\", \\\"Friends\\\", 119, 14.99, 40.4, 2018, \\\"Ages_6-12\\\", 48, 1.0, \\\"Box\\\", \\\"NaN\\\", 78, \\\"Small\\\", 25.41], [41333, \\\"Olivia's Mission Vehicle\\\", \\\"Friends\\\", 223, 19.99, 45.95, 2018, \\\"Ages_6-12\\\", 84, 1.0, \\\"Box\\\", \\\"0.32Kg (0.7 lb)\\\", 106, \\\"Small\\\", 25.96], [41335, \\\"Mia's Tree House\\\", \\\"Friends\\\", 351, 29.99, 53.88, 2018, \\\"Ages_6-12\\\", 120, 2.0, \\\"Box\\\", \\\"0.61Kg (1.34 lb)\\\", 151, \\\"Small\\\", 23.89], [41340, \\\"Friendship House\\\", \\\"Friends\\\", 722, 69.99, 184.99, 2018, \\\"Ages_6-12\\\", 164, 3.0, \\\"Box\\\", \\\"1.14Kg (2.51 lb)\\\", 309, \\\"Small\\\", 115.0], [41353, \\\"Friends Advent Calendar\\\", \\\"Friends\\\", 500, 29.99, 34.0, 2018, \\\"Ages_6-12\\\", 4, \\\"___NaN___\\\", \\\"Box\\\", \\\"NaN\\\", 202, \\\"Small\\\", 4.01], [41356, \\\"Stephanie's Heart Box\\\", \\\"Friends\\\", 85, 7.99, 14.99, 2019, \\\"Ages_6+\\\", 32, 1.0, \\\"NaN\\\", \\\"0.13Kg (0.29 lb)\\\", 36, \\\"Small\\\", 7.0], [41358, \\\"Mia's Heart Box\\\", \\\"Friends\\\", 83, 7.99, 18.64, 2019, \\\"Ages_6+\\\", 32, 1.0, \\\"NaN\\\", \\\"0.14Kg (0.31 lb)\\\", 38, \\\"Small\\\", 10.65], [41363, \\\"Mia's Forest Adventures\\\", \\\"Friends\\\", 134, 14.99, 18.95, 2019, \\\"Ages_6+\\\", 44, 1.0, \\\"NaN\\\", \\\"0.15Kg (0.33 lb)\\\", 77, \\\"Small\\\", 3.96], [41367, \\\"Stephanie's Obstacle Course\\\", \\\"Friends\\\", 337, 39.99, 35.99, 2019, \\\"Ages_6+\\\", 100, 2.0, \\\"NaN\\\", \\\"0.59Kg (1.3 lb)\\\", 168, \\\"Small\\\", -4.0], [41369, \\\"Mia's House\\\", \\\"Friends\\\", 715, 69.99, 62.99, 2019, \\\"Ages_6+\\\", 192, 3.0, \\\"NaN\\\", \\\"1.12Kg (2.47 lb)\\\", 274, \\\"Small\\\", -7.0], [41374, \\\"Andrea's Pool Party\\\", \\\"Friends\\\", 468, 49.99, 40.0, 2019, \\\"Ages_6+\\\", 112, 2.0, \\\"Box\\\", \\\"NaN\\\", 221, \\\"Small\\\", -9.99], [41376, \\\"Turtles Rescue Mission\\\", \\\"Friends\\\", 225, 19.99, 31.27, 2019, \\\"Ages_6+\\\", 72, 2.0, \\\"Box\\\", \\\"NaN\\\", 125, \\\"Small\\\", 11.28], [41378, \\\"Dolphins Rescue Mission\\\", \\\"Friends\\\", 363, 39.99, 31.67, 2019, \\\"Ages_6+\\\", 116, 2.0, \\\"Box\\\", \\\"NaN\\\", 192, \\\"Small\\\", -8.32], [41384, \\\"Andrea's Summer Heart Box\\\", \\\"Friends\\\", 83, 7.99, 14.99, 2019, \\\"Ages_6+\\\", 36, 1.0, \\\"Other\\\", \\\"NaN\\\", 46, \\\"Small\\\", 7.0], [41387, \\\"Olivia's Summer Heart Box\\\", \\\"Friends\\\", 93, 7.99, 7.99, 2019, \\\"Ages_6+\\\", 40, 2.0, \\\"Other\\\", \\\"NaN\\\", 48, \\\"Small\\\", 0.0], [41394, \\\"Heartlake City Hospital\\\", \\\"Friends\\\", 379, 49.99, 48.53, 2020, \\\"Ages_6+\\\", 132, 3.0, \\\"Box\\\", \\\"NaN\\\", 154, \\\"Small\\\", -1.46], [41396, \\\"Puppy Playground\\\", \\\"Friends\\\", 57, 9.99, 8.99, 2020, \\\"Ages_4+\\\", 40, 1.0, \\\"Box\\\", \\\"NaN\\\", 41, \\\"Small\\\", -1.0], [41400, \\\"Andrea's Play Cube - Singer\\\", \\\"Friends\\\", 49, 9.99, 18.93, 2020, \\\"Ages_6+\\\", 5, 1.0, \\\"Box\\\", \\\"NaN\\\", 32, \\\"Small\\\", 8.94], [41403, \\\"Mia's Play Cube - Veterinarian\\\", \\\"Friends\\\", 40, 9.99, 17.97, 2020, \\\"Ages_6+\\\", 5, 1.0, \\\"Box\\\", \\\"NaN\\\", 32, \\\"Small\\\", 7.98], [41408, \\\"Mia's Play Cube - Cinema\\\", \\\"Friends\\\", 37, 9.99, 15.32, 2020, \\\"Ages_6+\\\", 5, 1.0, \\\"Box\\\", \\\"NaN\\\", 31, \\\"Small\\\", 5.33], [41421, \\\"Baby Elephant Jungle Rescue\\\", \\\"Friends\\\", 203, 19.99, 19.99, 2020, \\\"Ages_6+\\\", 68, 2.0, \\\"Box\\\", \\\"NaN\\\", 111, \\\"Small\\\", 0.0], [41423, \\\"Tiger Hot Air Balloon Jungle Rescue\\\", \\\"Friends\\\", 302, 39.99, 39.95, 2020, \\\"Ages_7+\\\", 116, 2.0, \\\"Box\\\", \\\"NaN\\\", 145, \\\"Small\\\", -0.04], [41424, \\\"Jungle Rescue Base\\\", \\\"Friends\\\", 648, 79.99, 79.95, 2020, \\\"Ages_8+\\\", 176, 3.0, \\\"Box\\\", \\\"NaN\\\", 251, \\\"Small\\\", -0.04], [41427, \\\"Emma's Fashion Shop\\\", \\\"Friends\\\", 343, 29.99, 29.95, 2020, \\\"Ages_6+\\\", 112, 2.0, \\\"Box\\\", \\\"NaN\\\", 152, \\\"Small\\\", -0.04], [41428, \\\"Beach House\\\", \\\"Friends\\\", 444, 49.99, 49.95, 2020, \\\"Ages_6+\\\", 160, 2.0, \\\"Box\\\", \\\"NaN\\\", 216, \\\"Small\\\", -0.04], [60170, \\\"Off-Road Chase\\\", \\\"City\\\", 37, 6.99, 30.89, 2018, \\\"Ages_5-12\\\", 20, 2.0, \\\"Box\\\", \\\"NaN\\\", 28, \\\"Small\\\", 23.9], [60171, \\\"Mountain Fugitives\\\", \\\"City\\\", 88, 9.99, 16.49, 2018, \\\"Ages_5-12\\\", 36, 4.0, \\\"Box\\\", \\\"NaN\\\", 61, \\\"Small\\\", 6.5], [60172, \\\"Dirt Road Pursuit\\\", \\\"City\\\", 297, 39.99, 64.75, 2018, \\\"Ages_5-12\\\", 116, 3.0, \\\"Box\\\", \\\"0.6Kg (1.32 lb)\\\", 140, \\\"Small\\\", 24.76], [60182, \\\"Pickup &amp; Caravan\\\", \\\"City\\\", 344, 29.99, 65.99, 2018, \\\"Ages_5-12\\\", 140, 3.0, \\\"Box\\\", \\\"0.65Kg (1.43 lb)\\\", 188, \\\"Small\\\", 36.0], [60183, \\\"Heavy Cargo Transport\\\", \\\"City\\\", 310, 29.99, 69.95, 2018, \\\"Ages_5-12\\\", 128, 2.0, \\\"Box\\\", \\\"0.59Kg (1.3 lb)\\\", 161, \\\"Small\\\", 39.96], [60184, \\\"Mining Team\\\", \\\"City\\\", 82, 9.99, 21.99, 2018, \\\"Ages_5-12\\\", 32, 4.0, \\\"Box\\\", \\\"0.13Kg (0.29 lb)\\\", 64, \\\"Small\\\", 12.0], [60202, \\\"People Pack - Outdoor Adventures\\\", \\\"City\\\", 164, 39.99, 69.99, 2018, \\\"Ages_5-12\\\", 64, 15.0, \\\"Box\\\", \\\"0.29Kg (0.64 lb)\\\", 128, \\\"Small\\\", 30.0], [60208, \\\"Parachute Arrest\\\", \\\"City\\\", 218, 39.99, 31.46, 2019, \\\"Ages_5+\\\", 120, 4.0, \\\"Box\\\", \\\"0.48Kg (1.05 lb)\\\", 139, \\\"Small\\\", -8.53], [60213, \\\"Dock Side Fire\\\", \\\"City\\\", 97, 19.99, 23.83, 2019, \\\"Ages_5+\\\", 48, 2.0, \\\"Box\\\", \\\"0.25Kg (0.54 lb)\\\", 63, \\\"Small\\\", 3.84], [60215, \\\"Fire Station\\\", \\\"City\\\", 509, 69.99, 56.0, 2019, \\\"Ages_5+\\\", 184, 4.0, \\\"Box\\\", \\\"1.17Kg (2.57 lb)\\\", 210, \\\"Small\\\", -13.99], [60217, \\\"Fire Plane\\\", \\\"City\\\", 363, 59.99, 53.99, 2019, \\\"Ages_6+\\\", 156, 3.0, \\\"Box\\\", \\\"0.76Kg (1.68 lb)\\\", 151, \\\"Small\\\", -6.0], [60219, \\\"Construction Loader\\\", \\\"City\\\", 88, 9.99, 8.99, 2019, \\\"Ages_5+\\\", 36, 1.0, \\\"Box\\\", \\\"0.16Kg (0.34 lb)\\\", 50, \\\"Small\\\", -1.0], [60221, \\\"Diving Yacht\\\", \\\"City\\\", 148, 19.99, 16.0, 2019, \\\"Ages_5+\\\", 64, 2.0, \\\"Box\\\", \\\"0.34Kg (0.74 lb)\\\", 81, \\\"Small\\\", -3.99], [60223, \\\"Harvester Transport\\\", \\\"City\\\", 358, 29.99, 54.8, 2019, \\\"Ages_5+\\\", 148, 3.0, \\\"Box\\\", \\\"0.65Kg (1.43 lb)\\\", 166, \\\"Small\\\", 24.81], [60226, \\\"Mars Research Shuttle\\\", \\\"City\\\", 273, 39.99, 31.99, 2019, \\\"Ages_5+\\\", 160, 2.0, \\\"Box\\\", \\\"0.61Kg (1.34 lb)\\\", 135, \\\"Small\\\", -8.0], [60243, \\\"Police Helicopter Chase\\\", \\\"City\\\", 212, 39.99, 35.98, 2020, \\\"Ages_5+\\\", 128, 4.0, \\\"Box\\\", \\\"0.52Kg (1.16 lb)\\\", 127, \\\"Small\\\", -4.01], [60245, \\\"Police Monster Truck Heist\\\", \\\"City\\\", 362, 59.99, 52.74, 2020, \\\"Ages_5+\\\", 200, 5.0, \\\"Box\\\", \\\"0.85Kg (1.87 lb)\\\", 198, \\\"Small\\\", -7.25], [60246, \\\"Police Station\\\", \\\"City\\\", 743, 99.99, 99.99, 2020, \\\"Ages_6+\\\", 345, 7.0, \\\"Box\\\", \\\"1.85Kg (4.06 lb)\\\", 298, \\\"Small\\\", 0.0], [60248, \\\"Fire Helicopter Response\\\", \\\"City\\\", 93, 29.99, 23.98, 2020, \\\"Ages_5+\\\", 44, 3.0, \\\"Box\\\", \\\"0.25Kg (0.55 lb)\\\", 61, \\\"Small\\\", -6.01], [60249, \\\"Street Sweeper\\\", \\\"City\\\", 89, 9.99, 8.99, 2020, \\\"Ages_5+\\\", 48, 1.0, \\\"Box\\\", \\\"0.14Kg (0.31 lb)\\\", 55, \\\"Small\\\", -1.0], [60251, \\\"Monster Truck\\\", \\\"City\\\", 55, 9.99, 8.99, 2020, \\\"Ages_5+\\\", 32, 1.0, \\\"Box\\\", \\\"0.14Kg (0.31 lb)\\\", 34, \\\"Small\\\", -1.0], [60252, \\\"Construction Bulldozer\\\", \\\"City\\\", 126, 19.99, 15.99, 2020, \\\"Ages_4+\\\", 84, 2.0, \\\"Box\\\", \\\"0.35Kg (0.78 lb)\\\", 81, \\\"Small\\\", -4.0], [60258, \\\"Tuning Workshop\\\", \\\"City\\\", 897, 99.99, 99.99, 2020, \\\"Ages_6+\\\", 389, 7.0, \\\"Box\\\", \\\"1.63Kg (3.58 lb)\\\", 411, \\\"Small\\\", 0.0], [60266, \\\"Ocean Exploration Ship\\\", \\\"City\\\", 745, 149.99, 149.99, 2020, \\\"Ages_7+\\\", 229, 8.0, \\\"Box\\\", \\\"2.28Kg (5.03 lb)\\\", 314, \\\"Small\\\", 0.0], [60267, \\\"Safari Off-Roader\\\", \\\"City\\\", 168, 19.99, 17.99, 2020, \\\"Ages_5+\\\", 76, 2.0, \\\"Box\\\", \\\"0.34Kg (0.76 lb)\\\", 86, \\\"Small\\\", -2.0]]\"};\n",
       "        new ITable(table, dt_args);\n",
       "    });\n",
       "</script>\n"
      ],
      "text/plain": [
       "<IPython.core.display.HTML object>"
      ]
     },
     "metadata": {},
     "output_type": "display_data"
    }
   ],
   "source": [
    "#A\n",
    "DF['price_difference'] = DF['amazon_price'] - DF['price']\n",
    "show(DF)"
   ]
  },
  {
   "cell_type": "code",
   "execution_count": 92,
   "id": "a98f03ba-3568-4399-ae62-3241221aa3f2",
   "metadata": {},
   "outputs": [
    {
     "data": {
      "text/html": [
       "<div>\n",
       "<style scoped>\n",
       "    .dataframe tbody tr th:only-of-type {\n",
       "        vertical-align: middle;\n",
       "    }\n",
       "\n",
       "    .dataframe tbody tr th {\n",
       "        vertical-align: top;\n",
       "    }\n",
       "\n",
       "    .dataframe thead tr th {\n",
       "        text-align: left;\n",
       "    }\n",
       "\n",
       "    .dataframe thead tr:last-of-type th {\n",
       "        text-align: right;\n",
       "    }\n",
       "</style>\n",
       "<table border=\"1\" class=\"dataframe\">\n",
       "  <thead>\n",
       "    <tr>\n",
       "      <th></th>\n",
       "      <th colspan=\"8\" halign=\"left\">price_difference</th>\n",
       "    </tr>\n",
       "    <tr>\n",
       "      <th></th>\n",
       "      <th>count</th>\n",
       "      <th>mean</th>\n",
       "      <th>std</th>\n",
       "      <th>min</th>\n",
       "      <th>25%</th>\n",
       "      <th>50%</th>\n",
       "      <th>75%</th>\n",
       "      <th>max</th>\n",
       "    </tr>\n",
       "    <tr>\n",
       "      <th>theme</th>\n",
       "      <th></th>\n",
       "      <th></th>\n",
       "      <th></th>\n",
       "      <th></th>\n",
       "      <th></th>\n",
       "      <th></th>\n",
       "      <th></th>\n",
       "      <th></th>\n",
       "    </tr>\n",
       "  </thead>\n",
       "  <tbody>\n",
       "    <tr>\n",
       "      <th>City</th>\n",
       "      <td>25.0</td>\n",
       "      <td>5.3996</td>\n",
       "      <td>15.243677</td>\n",
       "      <td>-13.99</td>\n",
       "      <td>-4.01</td>\n",
       "      <td>-1.00</td>\n",
       "      <td>12.00</td>\n",
       "      <td>39.96</td>\n",
       "    </tr>\n",
       "    <tr>\n",
       "      <th>DUPLO®</th>\n",
       "      <td>25.0</td>\n",
       "      <td>7.3924</td>\n",
       "      <td>16.996152</td>\n",
       "      <td>-5.00</td>\n",
       "      <td>-2.00</td>\n",
       "      <td>0.00</td>\n",
       "      <td>11.01</td>\n",
       "      <td>69.00</td>\n",
       "    </tr>\n",
       "    <tr>\n",
       "      <th>Friends</th>\n",
       "      <td>25.0</td>\n",
       "      <td>8.9792</td>\n",
       "      <td>24.047927</td>\n",
       "      <td>-9.99</td>\n",
       "      <td>-0.04</td>\n",
       "      <td>3.96</td>\n",
       "      <td>8.94</td>\n",
       "      <td>115.00</td>\n",
       "    </tr>\n",
       "  </tbody>\n",
       "</table>\n",
       "</div>"
      ],
      "text/plain": [
       "        price_difference                                                     \n",
       "                   count    mean        std    min   25%   50%    75%     max\n",
       "theme                                                                        \n",
       "City                25.0  5.3996  15.243677 -13.99 -4.01 -1.00  12.00   39.96\n",
       "DUPLO®              25.0  7.3924  16.996152  -5.00 -2.00  0.00  11.01   69.00\n",
       "Friends             25.0  8.9792  24.047927  -9.99 -0.04  3.96   8.94  115.00"
      ]
     },
     "execution_count": 92,
     "metadata": {},
     "output_type": "execute_result"
    }
   ],
   "source": [
    "#B\n",
    "mvar = ['theme', 'price_difference']\n",
    "group = DF[mvar].groupby('theme').describe()\n",
    "group"
   ]
  },
  {
   "cell_type": "code",
   "execution_count": 93,
   "id": "842565ea-7615-4415-a0f6-fbdbd66cb152",
   "metadata": {},
   "outputs": [
    {
     "data": {
      "application/vnd.plotly.v1+json": {
       "config": {
        "plotlyServerURL": "https://plot.ly"
       },
       "data": [
        {
         "bingroup": "x",
         "hovertemplate": "theme=DUPLO®<br>price_difference=%{x}<br>count=%{y}<extra></extra>",
         "legendgroup": "DUPLO®",
         "marker": {
          "color": "deeppink",
          "opacity": 0.5,
          "pattern": {
           "shape": ""
          }
         },
         "name": "DUPLO®",
         "orientation": "v",
         "showlegend": true,
         "type": "histogram",
         "x": {
          "bdata": "hetRuB4FJkDWo3A9CtcRQGZmZmZm5jhAyMzMzMzMGkABAAAAAAAxQAAAAAAAAAAAAAAAAAAACMDoUbgeheshQOJ6FK5HQUZAAAAAAABAUUAAAAAAAAAAwABcj8L1KNy/6FG4HoXrD8AAAAAAAAAAwD0K16NwPSZAAAAAAAAAAACPwvUoXI8qQAAAAAAAAADAAAAAAAAACMBoZmZmZmbmvwAAAAAAAAjAAAAAAAAAAAAAAAAAAADwvwQAAAAAABTAAAAAAAAAAAA=",
          "dtype": "f8"
         },
         "xaxis": "x",
         "yaxis": "y"
        },
        {
         "bingroup": "x",
         "hovertemplate": "theme=Friends<br>price_difference=%{x}<br>count=%{y}<extra></extra>",
         "legendgroup": "Friends",
         "marker": {
          "color": "darkturquoise",
          "opacity": 0.5,
          "pattern": {
           "shape": ""
          }
         },
         "name": "Friends",
         "orientation": "v",
         "showlegend": true,
         "type": "histogram",
         "x": {
          "bdata": "KFyPwvVoOUD3KFyPwvU5QKVwPQrX4zdAAQAAAADAXEAM16NwPQoQQAAAAAAAABxAzczMzMxMJUCsR+F6FK4PQAAAAAAAABDA+P//////G8B8FK5H4fojwJDC9ShcjyZApHA9CtejIMAAAAAAAAAcQAAAAAAAAAAAYI/C9Shc978AAAAAAADwv+F6FK5H4SFA6lG4HoXrH0BSuB6F61EVQAAAAAAAAAAAABSuR+F6pL8AEK5H4XqkvwAUrkfheqS/ABSuR+F6pL8=",
          "dtype": "f8"
         },
         "xaxis": "x",
         "yaxis": "y"
        },
        {
         "bingroup": "x",
         "hovertemplate": "theme=City<br>price_difference=%{x}<br>count=%{y}<extra></extra>",
         "legendgroup": "City",
         "marker": {
          "color": "darkviolet",
          "opacity": 0.5,
          "pattern": {
           "shape": ""
          }
         },
         "name": "City",
         "orientation": "v",
         "showlegend": true,
         "type": "histogram",
         "x": {
          "bdata": "ZmZmZmbmN0D+//////8ZQML1KFyPwjhAAAAAAAAAQkB8FK5H4fpDQP///////ydA/v//////PUCQwvUoXA8hwLgehetRuA5AeBSuR+H6K8AAAAAAAAAYwAAAAAAAAPC/6FG4HoXrD8CPwvUoXM84QAIAAAAAACDAENejcD0KEMAAAAAAAAAdwAAAAAAAAAAACNejcD0KGMAAAAAAAADwvwAAAAAAAPC//P//////D8AAAAAAAAAAAAAAAAAAAAAAAAAAAAAAAMA=",
          "dtype": "f8"
         },
         "xaxis": "x",
         "yaxis": "y"
        }
       ],
       "layout": {
        "barmode": "relative",
        "legend": {
         "title": {
          "text": "theme"
         },
         "tracegroupgap": 0
        },
        "template": {
         "data": {
          "bar": [
           {
            "error_x": {
             "color": "#2a3f5f"
            },
            "error_y": {
             "color": "#2a3f5f"
            },
            "marker": {
             "line": {
              "color": "#E5ECF6",
              "width": 0.5
             },
             "pattern": {
              "fillmode": "overlay",
              "size": 10,
              "solidity": 0.2
             }
            },
            "type": "bar"
           }
          ],
          "barpolar": [
           {
            "marker": {
             "line": {
              "color": "#E5ECF6",
              "width": 0.5
             },
             "pattern": {
              "fillmode": "overlay",
              "size": 10,
              "solidity": 0.2
             }
            },
            "type": "barpolar"
           }
          ],
          "carpet": [
           {
            "aaxis": {
             "endlinecolor": "#2a3f5f",
             "gridcolor": "white",
             "linecolor": "white",
             "minorgridcolor": "white",
             "startlinecolor": "#2a3f5f"
            },
            "baxis": {
             "endlinecolor": "#2a3f5f",
             "gridcolor": "white",
             "linecolor": "white",
             "minorgridcolor": "white",
             "startlinecolor": "#2a3f5f"
            },
            "type": "carpet"
           }
          ],
          "choropleth": [
           {
            "colorbar": {
             "outlinewidth": 0,
             "ticks": ""
            },
            "type": "choropleth"
           }
          ],
          "contour": [
           {
            "colorbar": {
             "outlinewidth": 0,
             "ticks": ""
            },
            "colorscale": [
             [
              0,
              "#0d0887"
             ],
             [
              0.1111111111111111,
              "#46039f"
             ],
             [
              0.2222222222222222,
              "#7201a8"
             ],
             [
              0.3333333333333333,
              "#9c179e"
             ],
             [
              0.4444444444444444,
              "#bd3786"
             ],
             [
              0.5555555555555556,
              "#d8576b"
             ],
             [
              0.6666666666666666,
              "#ed7953"
             ],
             [
              0.7777777777777778,
              "#fb9f3a"
             ],
             [
              0.8888888888888888,
              "#fdca26"
             ],
             [
              1,
              "#f0f921"
             ]
            ],
            "type": "contour"
           }
          ],
          "contourcarpet": [
           {
            "colorbar": {
             "outlinewidth": 0,
             "ticks": ""
            },
            "type": "contourcarpet"
           }
          ],
          "heatmap": [
           {
            "colorbar": {
             "outlinewidth": 0,
             "ticks": ""
            },
            "colorscale": [
             [
              0,
              "#0d0887"
             ],
             [
              0.1111111111111111,
              "#46039f"
             ],
             [
              0.2222222222222222,
              "#7201a8"
             ],
             [
              0.3333333333333333,
              "#9c179e"
             ],
             [
              0.4444444444444444,
              "#bd3786"
             ],
             [
              0.5555555555555556,
              "#d8576b"
             ],
             [
              0.6666666666666666,
              "#ed7953"
             ],
             [
              0.7777777777777778,
              "#fb9f3a"
             ],
             [
              0.8888888888888888,
              "#fdca26"
             ],
             [
              1,
              "#f0f921"
             ]
            ],
            "type": "heatmap"
           }
          ],
          "histogram": [
           {
            "marker": {
             "pattern": {
              "fillmode": "overlay",
              "size": 10,
              "solidity": 0.2
             }
            },
            "type": "histogram"
           }
          ],
          "histogram2d": [
           {
            "colorbar": {
             "outlinewidth": 0,
             "ticks": ""
            },
            "colorscale": [
             [
              0,
              "#0d0887"
             ],
             [
              0.1111111111111111,
              "#46039f"
             ],
             [
              0.2222222222222222,
              "#7201a8"
             ],
             [
              0.3333333333333333,
              "#9c179e"
             ],
             [
              0.4444444444444444,
              "#bd3786"
             ],
             [
              0.5555555555555556,
              "#d8576b"
             ],
             [
              0.6666666666666666,
              "#ed7953"
             ],
             [
              0.7777777777777778,
              "#fb9f3a"
             ],
             [
              0.8888888888888888,
              "#fdca26"
             ],
             [
              1,
              "#f0f921"
             ]
            ],
            "type": "histogram2d"
           }
          ],
          "histogram2dcontour": [
           {
            "colorbar": {
             "outlinewidth": 0,
             "ticks": ""
            },
            "colorscale": [
             [
              0,
              "#0d0887"
             ],
             [
              0.1111111111111111,
              "#46039f"
             ],
             [
              0.2222222222222222,
              "#7201a8"
             ],
             [
              0.3333333333333333,
              "#9c179e"
             ],
             [
              0.4444444444444444,
              "#bd3786"
             ],
             [
              0.5555555555555556,
              "#d8576b"
             ],
             [
              0.6666666666666666,
              "#ed7953"
             ],
             [
              0.7777777777777778,
              "#fb9f3a"
             ],
             [
              0.8888888888888888,
              "#fdca26"
             ],
             [
              1,
              "#f0f921"
             ]
            ],
            "type": "histogram2dcontour"
           }
          ],
          "mesh3d": [
           {
            "colorbar": {
             "outlinewidth": 0,
             "ticks": ""
            },
            "type": "mesh3d"
           }
          ],
          "parcoords": [
           {
            "line": {
             "colorbar": {
              "outlinewidth": 0,
              "ticks": ""
             }
            },
            "type": "parcoords"
           }
          ],
          "pie": [
           {
            "automargin": true,
            "type": "pie"
           }
          ],
          "scatter": [
           {
            "fillpattern": {
             "fillmode": "overlay",
             "size": 10,
             "solidity": 0.2
            },
            "type": "scatter"
           }
          ],
          "scatter3d": [
           {
            "line": {
             "colorbar": {
              "outlinewidth": 0,
              "ticks": ""
             }
            },
            "marker": {
             "colorbar": {
              "outlinewidth": 0,
              "ticks": ""
             }
            },
            "type": "scatter3d"
           }
          ],
          "scattercarpet": [
           {
            "marker": {
             "colorbar": {
              "outlinewidth": 0,
              "ticks": ""
             }
            },
            "type": "scattercarpet"
           }
          ],
          "scattergeo": [
           {
            "marker": {
             "colorbar": {
              "outlinewidth": 0,
              "ticks": ""
             }
            },
            "type": "scattergeo"
           }
          ],
          "scattergl": [
           {
            "marker": {
             "colorbar": {
              "outlinewidth": 0,
              "ticks": ""
             }
            },
            "type": "scattergl"
           }
          ],
          "scattermap": [
           {
            "marker": {
             "colorbar": {
              "outlinewidth": 0,
              "ticks": ""
             }
            },
            "type": "scattermap"
           }
          ],
          "scattermapbox": [
           {
            "marker": {
             "colorbar": {
              "outlinewidth": 0,
              "ticks": ""
             }
            },
            "type": "scattermapbox"
           }
          ],
          "scatterpolar": [
           {
            "marker": {
             "colorbar": {
              "outlinewidth": 0,
              "ticks": ""
             }
            },
            "type": "scatterpolar"
           }
          ],
          "scatterpolargl": [
           {
            "marker": {
             "colorbar": {
              "outlinewidth": 0,
              "ticks": ""
             }
            },
            "type": "scatterpolargl"
           }
          ],
          "scatterternary": [
           {
            "marker": {
             "colorbar": {
              "outlinewidth": 0,
              "ticks": ""
             }
            },
            "type": "scatterternary"
           }
          ],
          "surface": [
           {
            "colorbar": {
             "outlinewidth": 0,
             "ticks": ""
            },
            "colorscale": [
             [
              0,
              "#0d0887"
             ],
             [
              0.1111111111111111,
              "#46039f"
             ],
             [
              0.2222222222222222,
              "#7201a8"
             ],
             [
              0.3333333333333333,
              "#9c179e"
             ],
             [
              0.4444444444444444,
              "#bd3786"
             ],
             [
              0.5555555555555556,
              "#d8576b"
             ],
             [
              0.6666666666666666,
              "#ed7953"
             ],
             [
              0.7777777777777778,
              "#fb9f3a"
             ],
             [
              0.8888888888888888,
              "#fdca26"
             ],
             [
              1,
              "#f0f921"
             ]
            ],
            "type": "surface"
           }
          ],
          "table": [
           {
            "cells": {
             "fill": {
              "color": "#EBF0F8"
             },
             "line": {
              "color": "white"
             }
            },
            "header": {
             "fill": {
              "color": "#C8D4E3"
             },
             "line": {
              "color": "white"
             }
            },
            "type": "table"
           }
          ]
         },
         "layout": {
          "annotationdefaults": {
           "arrowcolor": "#2a3f5f",
           "arrowhead": 0,
           "arrowwidth": 1
          },
          "autotypenumbers": "strict",
          "coloraxis": {
           "colorbar": {
            "outlinewidth": 0,
            "ticks": ""
           }
          },
          "colorscale": {
           "diverging": [
            [
             0,
             "#8e0152"
            ],
            [
             0.1,
             "#c51b7d"
            ],
            [
             0.2,
             "#de77ae"
            ],
            [
             0.3,
             "#f1b6da"
            ],
            [
             0.4,
             "#fde0ef"
            ],
            [
             0.5,
             "#f7f7f7"
            ],
            [
             0.6,
             "#e6f5d0"
            ],
            [
             0.7,
             "#b8e186"
            ],
            [
             0.8,
             "#7fbc41"
            ],
            [
             0.9,
             "#4d9221"
            ],
            [
             1,
             "#276419"
            ]
           ],
           "sequential": [
            [
             0,
             "#0d0887"
            ],
            [
             0.1111111111111111,
             "#46039f"
            ],
            [
             0.2222222222222222,
             "#7201a8"
            ],
            [
             0.3333333333333333,
             "#9c179e"
            ],
            [
             0.4444444444444444,
             "#bd3786"
            ],
            [
             0.5555555555555556,
             "#d8576b"
            ],
            [
             0.6666666666666666,
             "#ed7953"
            ],
            [
             0.7777777777777778,
             "#fb9f3a"
            ],
            [
             0.8888888888888888,
             "#fdca26"
            ],
            [
             1,
             "#f0f921"
            ]
           ],
           "sequentialminus": [
            [
             0,
             "#0d0887"
            ],
            [
             0.1111111111111111,
             "#46039f"
            ],
            [
             0.2222222222222222,
             "#7201a8"
            ],
            [
             0.3333333333333333,
             "#9c179e"
            ],
            [
             0.4444444444444444,
             "#bd3786"
            ],
            [
             0.5555555555555556,
             "#d8576b"
            ],
            [
             0.6666666666666666,
             "#ed7953"
            ],
            [
             0.7777777777777778,
             "#fb9f3a"
            ],
            [
             0.8888888888888888,
             "#fdca26"
            ],
            [
             1,
             "#f0f921"
            ]
           ]
          },
          "colorway": [
           "#636efa",
           "#EF553B",
           "#00cc96",
           "#ab63fa",
           "#FFA15A",
           "#19d3f3",
           "#FF6692",
           "#B6E880",
           "#FF97FF",
           "#FECB52"
          ],
          "font": {
           "color": "#2a3f5f"
          },
          "geo": {
           "bgcolor": "white",
           "lakecolor": "white",
           "landcolor": "#E5ECF6",
           "showlakes": true,
           "showland": true,
           "subunitcolor": "white"
          },
          "hoverlabel": {
           "align": "left"
          },
          "hovermode": "closest",
          "mapbox": {
           "style": "light"
          },
          "paper_bgcolor": "white",
          "plot_bgcolor": "#E5ECF6",
          "polar": {
           "angularaxis": {
            "gridcolor": "white",
            "linecolor": "white",
            "ticks": ""
           },
           "bgcolor": "#E5ECF6",
           "radialaxis": {
            "gridcolor": "white",
            "linecolor": "white",
            "ticks": ""
           }
          },
          "scene": {
           "xaxis": {
            "backgroundcolor": "#E5ECF6",
            "gridcolor": "white",
            "gridwidth": 2,
            "linecolor": "white",
            "showbackground": true,
            "ticks": "",
            "zerolinecolor": "white"
           },
           "yaxis": {
            "backgroundcolor": "#E5ECF6",
            "gridcolor": "white",
            "gridwidth": 2,
            "linecolor": "white",
            "showbackground": true,
            "ticks": "",
            "zerolinecolor": "white"
           },
           "zaxis": {
            "backgroundcolor": "#E5ECF6",
            "gridcolor": "white",
            "gridwidth": 2,
            "linecolor": "white",
            "showbackground": true,
            "ticks": "",
            "zerolinecolor": "white"
           }
          },
          "shapedefaults": {
           "line": {
            "color": "#2a3f5f"
           }
          },
          "ternary": {
           "aaxis": {
            "gridcolor": "white",
            "linecolor": "white",
            "ticks": ""
           },
           "baxis": {
            "gridcolor": "white",
            "linecolor": "white",
            "ticks": ""
           },
           "bgcolor": "#E5ECF6",
           "caxis": {
            "gridcolor": "white",
            "linecolor": "white",
            "ticks": ""
           }
          },
          "title": {
           "x": 0.05
          },
          "xaxis": {
           "automargin": true,
           "gridcolor": "white",
           "linecolor": "white",
           "ticks": "",
           "title": {
            "standoff": 15
           },
           "zerolinecolor": "white",
           "zerolinewidth": 2
          },
          "yaxis": {
           "automargin": true,
           "gridcolor": "white",
           "linecolor": "white",
           "ticks": "",
           "title": {
            "standoff": 15
           },
           "zerolinecolor": "white",
           "zerolinewidth": 2
          }
         }
        },
        "title": {
         "text": "Price difference based on themes"
        },
        "xaxis": {
         "anchor": "y",
         "domain": [
          0,
          1
         ],
         "title": {
          "text": "price_difference"
         }
        },
        "yaxis": {
         "anchor": "x",
         "domain": [
          0,
          1
         ],
         "title": {
          "text": "count"
         }
        }
       }
      },
      "image/png": "[encoded data removed]"
     },
     "metadata": {},
     "output_type": "display_data"
    }
   ],
   "source": [
    "fig = px.histogram(DF,\n",
    "              x='price_difference',\n",
    "              color='theme',\n",
    "              opacity=0.5,\n",
    "              color_discrete_map={'City': 'darkviolet', \n",
    "                                       'DUPLO®': 'deeppink', \n",
    "                                       'Friends': 'darkturquoise'},\n",
    "                title='Price difference based on themes', \n",
    "                  )\n",
    "fig.show()"
   ]
  },
  {
   "cell_type": "markdown",
   "id": "485ec3a9-c6c9-40c1-9a2d-5c22cca44e8e",
   "metadata": {},
   "source": [
    "***Problem 5***\n",
    "\n",
    "The goal of this problem is to explore the price of the Lego sets.\n",
    "\n",
    "**(a) What was the most expensive set based on Retail price? Show the full data frame information for this observation. Comment on your results comparing Amazon and Retail, number of pieces or minifigs, etc.**\n",
    "\n",
    "**for the most expensive retail set, the price on amazon is the same price as base price.**\n",
    "\n",
    "Hint- a mask might help.\n",
    "\n",
    "**(b) What was the most expensive set based on Amazon price? Show the full data frame information for this observation.**\n",
    "\n",
    "**The set on amazon max price is almost double what the base price was.**\n",
    "\n",
    "Hint - a mask might help.\n",
    "\n",
    "**(c) How many sets were above $100 on either Retail or Amazon? Show the full data frame information for these observations. Comment on any observations for these sets.**\n",
    "\n",
    "**3 sets were above 100 on amazon, two of which were base priced over 100. friends and duplo tended to be marked up more than the City set.**\n",
    "\n",
    "Hint - more masking."
   ]
  },
  {
   "cell_type": "code",
   "execution_count": 94,
   "id": "a9d8b495-00bc-42ac-94ca-585acf51a2af",
   "metadata": {},
   "outputs": [
    {
     "data": {
      "text/plain": [
       "Index(['item_number', 'set_name', 'theme', 'pieces', 'price', 'amazon_price',\n",
       "       'year', 'ages', 'pages', 'minifigures', 'packaging', 'weight',\n",
       "       'unique_pieces', 'size', 'price_difference'],\n",
       "      dtype='object')"
      ]
     },
     "execution_count": 94,
     "metadata": {},
     "output_type": "execute_result"
    }
   ],
   "source": [
    "DF.keys()"
   ]
  },
  {
   "cell_type": "code",
   "execution_count": 95,
   "id": "2bc3eefe-5fa1-41ce-b9d1-53570e2acb19",
   "metadata": {},
   "outputs": [
    {
     "data": {
      "text/html": [
       "<div>\n",
       "<style scoped>\n",
       "    .dataframe tbody tr th:only-of-type {\n",
       "        vertical-align: middle;\n",
       "    }\n",
       "\n",
       "    .dataframe tbody tr th {\n",
       "        vertical-align: top;\n",
       "    }\n",
       "\n",
       "    .dataframe thead th {\n",
       "        text-align: right;\n",
       "    }\n",
       "</style>\n",
       "<table border=\"1\" class=\"dataframe\">\n",
       "  <thead>\n",
       "    <tr style=\"text-align: right;\">\n",
       "      <th></th>\n",
       "      <th>item_number</th>\n",
       "      <th>set_name</th>\n",
       "      <th>theme</th>\n",
       "      <th>pieces</th>\n",
       "      <th>price</th>\n",
       "      <th>amazon_price</th>\n",
       "      <th>year</th>\n",
       "      <th>ages</th>\n",
       "      <th>pages</th>\n",
       "      <th>minifigures</th>\n",
       "      <th>packaging</th>\n",
       "      <th>weight</th>\n",
       "      <th>unique_pieces</th>\n",
       "      <th>size</th>\n",
       "      <th>price_difference</th>\n",
       "    </tr>\n",
       "  </thead>\n",
       "  <tbody>\n",
       "    <tr>\n",
       "      <th>73</th>\n",
       "      <td>60266</td>\n",
       "      <td>Ocean Exploration Ship</td>\n",
       "      <td>City</td>\n",
       "      <td>745</td>\n",
       "      <td>149.99</td>\n",
       "      <td>149.99</td>\n",
       "      <td>2020</td>\n",
       "      <td>Ages_7+</td>\n",
       "      <td>229</td>\n",
       "      <td>8.0</td>\n",
       "      <td>Box</td>\n",
       "      <td>2.28Kg (5.03 lb)</td>\n",
       "      <td>314</td>\n",
       "      <td>Small</td>\n",
       "      <td>0.0</td>\n",
       "    </tr>\n",
       "  </tbody>\n",
       "</table>\n",
       "</div>"
      ],
      "text/plain": [
       "    item_number                set_name theme  pieces   price  amazon_price  \\\n",
       "73        60266  Ocean Exploration Ship  City     745  149.99        149.99   \n",
       "\n",
       "    year     ages  pages  minifigures packaging            weight  \\\n",
       "73  2020  Ages_7+    229          8.0       Box  2.28Kg (5.03 lb)   \n",
       "\n",
       "    unique_pieces   size  price_difference  \n",
       "73            314  Small               0.0  "
      ]
     },
     "execution_count": 95,
     "metadata": {},
     "output_type": "execute_result"
    }
   ],
   "source": [
    "#A\n",
    "mask = DF['price'] == DF['price'].max()\n",
    "most_expensive = DF[mask]\n",
    "most_expensive"
   ]
  },
  {
   "cell_type": "code",
   "execution_count": 96,
   "id": "64fb0f2c-49f5-428d-a205-ea066c18ac1d",
   "metadata": {},
   "outputs": [
    {
     "data": {
      "text/html": [
       "<div>\n",
       "<style scoped>\n",
       "    .dataframe tbody tr th:only-of-type {\n",
       "        vertical-align: middle;\n",
       "    }\n",
       "\n",
       "    .dataframe tbody tr th {\n",
       "        vertical-align: top;\n",
       "    }\n",
       "\n",
       "    .dataframe thead th {\n",
       "        text-align: right;\n",
       "    }\n",
       "</style>\n",
       "<table border=\"1\" class=\"dataframe\">\n",
       "  <thead>\n",
       "    <tr style=\"text-align: right;\">\n",
       "      <th></th>\n",
       "      <th>item_number</th>\n",
       "      <th>set_name</th>\n",
       "      <th>theme</th>\n",
       "      <th>pieces</th>\n",
       "      <th>price</th>\n",
       "      <th>amazon_price</th>\n",
       "      <th>year</th>\n",
       "      <th>ages</th>\n",
       "      <th>pages</th>\n",
       "      <th>minifigures</th>\n",
       "      <th>packaging</th>\n",
       "      <th>weight</th>\n",
       "      <th>unique_pieces</th>\n",
       "      <th>size</th>\n",
       "      <th>price_difference</th>\n",
       "    </tr>\n",
       "  </thead>\n",
       "  <tbody>\n",
       "    <tr>\n",
       "      <th>28</th>\n",
       "      <td>41340</td>\n",
       "      <td>Friendship House</td>\n",
       "      <td>Friends</td>\n",
       "      <td>722</td>\n",
       "      <td>69.99</td>\n",
       "      <td>184.99</td>\n",
       "      <td>2018</td>\n",
       "      <td>Ages_6-12</td>\n",
       "      <td>164</td>\n",
       "      <td>3.0</td>\n",
       "      <td>Box</td>\n",
       "      <td>1.14Kg (2.51 lb)</td>\n",
       "      <td>309</td>\n",
       "      <td>Small</td>\n",
       "      <td>115.0</td>\n",
       "    </tr>\n",
       "  </tbody>\n",
       "</table>\n",
       "</div>"
      ],
      "text/plain": [
       "    item_number          set_name    theme  pieces  price  amazon_price  year  \\\n",
       "28        41340  Friendship House  Friends     722  69.99        184.99  2018   \n",
       "\n",
       "         ages  pages  minifigures packaging            weight  unique_pieces  \\\n",
       "28  Ages_6-12    164          3.0       Box  1.14Kg (2.51 lb)            309   \n",
       "\n",
       "     size  price_difference  \n",
       "28  Small             115.0  "
      ]
     },
     "execution_count": 96,
     "metadata": {},
     "output_type": "execute_result"
    }
   ],
   "source": [
    "#B\n",
    "mask = DF['amazon_price'] == DF['amazon_price'].max()\n",
    "most_expensive = DF[mask]\n",
    "most_expensive"
   ]
  },
  {
   "cell_type": "code",
   "execution_count": 97,
   "id": "6c016461-8da2-48d2-bddf-6b2af6e5232c",
   "metadata": {},
   "outputs": [
    {
     "data": {
      "text/html": [
       "<div>\n",
       "<style scoped>\n",
       "    .dataframe tbody tr th:only-of-type {\n",
       "        vertical-align: middle;\n",
       "    }\n",
       "\n",
       "    .dataframe tbody tr th {\n",
       "        vertical-align: top;\n",
       "    }\n",
       "\n",
       "    .dataframe thead th {\n",
       "        text-align: right;\n",
       "    }\n",
       "</style>\n",
       "<table border=\"1\" class=\"dataframe\">\n",
       "  <thead>\n",
       "    <tr style=\"text-align: right;\">\n",
       "      <th></th>\n",
       "      <th>item_number</th>\n",
       "      <th>set_name</th>\n",
       "      <th>theme</th>\n",
       "      <th>pieces</th>\n",
       "      <th>price</th>\n",
       "      <th>amazon_price</th>\n",
       "      <th>year</th>\n",
       "      <th>ages</th>\n",
       "      <th>pages</th>\n",
       "      <th>minifigures</th>\n",
       "      <th>packaging</th>\n",
       "      <th>weight</th>\n",
       "      <th>unique_pieces</th>\n",
       "      <th>size</th>\n",
       "      <th>price_difference</th>\n",
       "    </tr>\n",
       "  </thead>\n",
       "  <tbody>\n",
       "    <tr>\n",
       "      <th>7</th>\n",
       "      <td>10875</td>\n",
       "      <td>Cargo Train</td>\n",
       "      <td>DUPLO®</td>\n",
       "      <td>105</td>\n",
       "      <td>119.99</td>\n",
       "      <td>128.95</td>\n",
       "      <td>2018</td>\n",
       "      <td>Ages_2-5</td>\n",
       "      <td>64</td>\n",
       "      <td>3.0</td>\n",
       "      <td>Box</td>\n",
       "      <td>2.86Kg (6.31 lb)</td>\n",
       "      <td>68</td>\n",
       "      <td>Large</td>\n",
       "      <td>8.96</td>\n",
       "    </tr>\n",
       "    <tr>\n",
       "      <th>28</th>\n",
       "      <td>41340</td>\n",
       "      <td>Friendship House</td>\n",
       "      <td>Friends</td>\n",
       "      <td>722</td>\n",
       "      <td>69.99</td>\n",
       "      <td>184.99</td>\n",
       "      <td>2018</td>\n",
       "      <td>Ages_6-12</td>\n",
       "      <td>164</td>\n",
       "      <td>3.0</td>\n",
       "      <td>Box</td>\n",
       "      <td>1.14Kg (2.51 lb)</td>\n",
       "      <td>309</td>\n",
       "      <td>Small</td>\n",
       "      <td>115.00</td>\n",
       "    </tr>\n",
       "    <tr>\n",
       "      <th>73</th>\n",
       "      <td>60266</td>\n",
       "      <td>Ocean Exploration Ship</td>\n",
       "      <td>City</td>\n",
       "      <td>745</td>\n",
       "      <td>149.99</td>\n",
       "      <td>149.99</td>\n",
       "      <td>2020</td>\n",
       "      <td>Ages_7+</td>\n",
       "      <td>229</td>\n",
       "      <td>8.0</td>\n",
       "      <td>Box</td>\n",
       "      <td>2.28Kg (5.03 lb)</td>\n",
       "      <td>314</td>\n",
       "      <td>Small</td>\n",
       "      <td>0.00</td>\n",
       "    </tr>\n",
       "  </tbody>\n",
       "</table>\n",
       "</div>"
      ],
      "text/plain": [
       "    item_number                set_name    theme  pieces   price  \\\n",
       "7         10875             Cargo Train   DUPLO®     105  119.99   \n",
       "28        41340        Friendship House  Friends     722   69.99   \n",
       "73        60266  Ocean Exploration Ship     City     745  149.99   \n",
       "\n",
       "    amazon_price  year       ages  pages  minifigures packaging  \\\n",
       "7         128.95  2018   Ages_2-5     64          3.0       Box   \n",
       "28        184.99  2018  Ages_6-12    164          3.0       Box   \n",
       "73        149.99  2020    Ages_7+    229          8.0       Box   \n",
       "\n",
       "              weight  unique_pieces   size  price_difference  \n",
       "7   2.86Kg (6.31 lb)             68  Large              8.96  \n",
       "28  1.14Kg (2.51 lb)            309  Small            115.00  \n",
       "73  2.28Kg (5.03 lb)            314  Small              0.00  "
      ]
     },
     "execution_count": 97,
     "metadata": {},
     "output_type": "execute_result"
    }
   ],
   "source": [
    "#C\n",
    "mask = DF['amazon_price'] >= 100\n",
    "most_expensive = DF[mask]\n",
    "most_expensive"
   ]
  },
  {
   "cell_type": "markdown",
   "id": "d7fc5f7b-0405-4c9c-81bc-d1221f6c2a73",
   "metadata": {},
   "source": [
    "***Problem 6 (20 points)***\n",
    "\n",
    "\n",
    "*Below are questions that you should to use the data to find the answer to. Here I am giving you less guidance so you will have to come up with your own way of finding the answer.*\n",
    "\n",
    "(a) On average is the price of Legos increasing, decreasing, or staying the same over the three years?\n",
    "\n",
    "***From 2018 to 2019 the average was basically the same, but between 2019 and 2020 it jumped $10, which could be attributed to the inflation over COVID.***\n",
    "\n",
    "\n",
    "(b) On average are the number of pieces increase, decreasing, or staying the same over the three years?\n",
    "\n",
    "***On average it was a steady increase from 2018 to 2020, although it could be inflated due to the more sets being put out in 2019 and 2020.***\n",
    "\n",
    "\n",
    "(c) Which set has the most minifigures and how many sets have zero or an unknown number of minifigures?\n",
    "\n",
    "***Most: People Pack - Outdoor Adventures (15)***\n",
    "\n",
    "***How many have zero/unknown?*** **10 sets have unknown or zero minifigures**\n",
    "\n",
    "\n",
    "Hint - the second question is more challenging that it first appears."
   ]
  },
  {
   "cell_type": "code",
   "execution_count": 98,
   "id": "c062e911-76c2-45f2-a8b7-fff854438470",
   "metadata": {},
   "outputs": [
    {
     "data": {
      "application/vnd.plotly.v1+json": {
       "config": {
        "plotlyServerURL": "https://plot.ly"
       },
       "data": [
        {
         "hovertemplate": "<b>%{hovertext}</b><br><br>theme=DUPLO®<br>year=%{x}<br>price=%{y}<extra></extra>",
         "hovertext": [
          "My First Ladybird",
          "My First Race Car",
          "My First Celebration",
          "Large Playground Brick Box",
          "Farmers' Market",
          "Farm Animals",
          "Train Bridge and Tracks",
          "Cargo Train",
          "Spider-Man & Hulk Adventures",
          "Rapunzel's Tower",
          "Train Tracks",
          "My First Fun Puzzle",
          "My First Car Creations",
          "Fire Truck",
          "Baby Animals",
          "Tropical Island",
          "Plane",
          "Submarine Adventure",
          "Alphabet Truck",
          "Tow Truck",
          "Super Heroes Lab",
          "Bedroom",
          "Pizza Stand",
          "Bakery",
          "Modular Playhouse"
         ],
         "legendgroup": "DUPLO®",
         "marker": {
          "color": "#636efa",
          "pattern": {
           "shape": ""
          }
         },
         "name": "DUPLO®",
         "orientation": "v",
         "showlegend": true,
         "textposition": "auto",
         "type": "bar",
         "x": {
          "bdata": "4gfiB+IH4gfiB+IH4gfiB+IH4gfiB+MH4wfjB+MH4wfjB+MH5AfkB+QH5AfkB+QH5Ac=",
          "dtype": "i2"
         },
         "xaxis": "x",
         "y": {
          "bdata": "9ihcj8L1E0D2KFyPwvUTQHsUrkfh+i1AH4XrUbj+SEA9CtejcP0zQHsUrkfh+iNAPQrXo3D9OECPwvUoXP9dQD0K16Nw/T1APQrXo3D9PUA9CtejcP0zQD0K16Nw/TNAPQrXo3D9M0A9CtejcP0zQHsUrkfh+iNAH4XrUbj+TUB7FK5H4fojQD0K16Nw/TNAPQrXo3D9OED2KFyPwvUbQD0K16Nw/T1AexSuR+H6LUB7FK5H4fojQB+F61G4fkFAH4XrUbj+TUA=",
          "dtype": "f8"
         },
         "yaxis": "y"
        },
        {
         "hovertemplate": "<b>%{hovertext}</b><br><br>theme=Friends<br>year=%{x}<br>price=%{y}<extra></extra>",
         "hovertext": [
          "Stephanie's Soccer Practice",
          "Olivia's Mission Vehicle",
          "Mia's Tree House",
          "Friendship House",
          "Friends Advent Calendar",
          "Stephanie's Heart Box",
          "Mia's Heart Box",
          "Mia's Forest Adventures",
          "Stephanie's Obstacle Course",
          "Mia's House",
          "Andrea's Pool Party",
          "Turtles Rescue Mission",
          "Dolphins Rescue Mission",
          "Andrea's Summer Heart Box",
          "Olivia's Summer Heart Box",
          "Heartlake City Hospital",
          "Puppy Playground",
          "Andrea's Play Cube - Singer",
          "Mia's Play Cube - Veterinarian",
          "Mia's Play Cube - Cinema",
          "Baby Elephant Jungle Rescue",
          "Tiger Hot Air Balloon Jungle Rescue",
          "Jungle Rescue Base",
          "Emma's Fashion Shop",
          "Beach House"
         ],
         "legendgroup": "Friends",
         "marker": {
          "color": "#EF553B",
          "pattern": {
           "shape": ""
          }
         },
         "name": "Friends",
         "orientation": "v",
         "showlegend": true,
         "textposition": "auto",
         "type": "bar",
         "x": {
          "bdata": "4gfiB+IH4gfiB+MH4wfjB+MH4wfjB+MH4wfjB+MH5AfkB+QH5AfkB+QH5AfkB+QH5Ac=",
          "dtype": "i2"
         },
         "xaxis": "x",
         "y": {
          "bdata": "exSuR+H6LUA9CtejcP0zQD0K16Nw/T1Aj8L1KFx/UUA9CtejcP09QPYoXI/C9R9A9ihcj8L1H0B7FK5H4fotQB+F61G4/kNAj8L1KFx/UUAfhetRuP5IQD0K16Nw/TNAH4XrUbj+Q0D2KFyPwvUfQPYoXI/C9R9AH4XrUbj+SEB7FK5H4fojQHsUrkfh+iNAexSuR+H6I0B7FK5H4fojQD0K16Nw/TNAH4XrUbj+Q0CPwvUoXP9TQD0K16Nw/T1AH4XrUbj+SEA=",
          "dtype": "f8"
         },
         "yaxis": "y"
        },
        {
         "hovertemplate": "<b>%{hovertext}</b><br><br>theme=City<br>year=%{x}<br>price=%{y}<extra></extra>",
         "hovertext": [
          "Off-Road Chase",
          "Mountain Fugitives",
          "Dirt Road Pursuit",
          "Pickup & Caravan",
          "Heavy Cargo Transport",
          "Mining Team",
          "People Pack - Outdoor Adventures",
          "Parachute Arrest",
          "Dock Side Fire",
          "Fire Station",
          "Fire Plane",
          "Construction Loader",
          "Diving Yacht",
          "Harvester Transport",
          "Mars Research Shuttle",
          "Police Helicopter Chase",
          "Police Monster Truck Heist",
          "Police Station",
          "Fire Helicopter Response",
          "Street Sweeper",
          "Monster Truck",
          "Construction Bulldozer",
          "Tuning Workshop",
          "Ocean Exploration Ship",
          "Safari Off-Roader"
         ],
         "legendgroup": "City",
         "marker": {
          "color": "#00cc96",
          "pattern": {
           "shape": ""
          }
         },
         "name": "City",
         "orientation": "v",
         "showlegend": true,
         "textposition": "auto",
         "type": "bar",
         "x": {
          "bdata": "4gfiB+IH4gfiB+IH4gfjB+MH4wfjB+MH4wfjB+MH5AfkB+QH5AfkB+QH5AfkB+QH5Ac=",
          "dtype": "i2"
         },
         "xaxis": "x",
         "y": {
          "bdata": "9ihcj8L1G0B7FK5H4fojQB+F61G4/kNAPQrXo3D9PUA9CtejcP09QHsUrkfh+iNAH4XrUbj+Q0AfhetRuP5DQD0K16Nw/TNAj8L1KFx/UUAfhetRuP5NQHsUrkfh+iNAPQrXo3D9M0A9CtejcP09QB+F61G4/kNAH4XrUbj+Q0AfhetRuP5NQI/C9Shc/1hAPQrXo3D9PUB7FK5H4fojQHsUrkfh+iNAPQrXo3D9M0CPwvUoXP9YQEjhehSuv2JAPQrXo3D9M0A=",
          "dtype": "f8"
         },
         "yaxis": "y"
        }
       ],
       "layout": {
        "barmode": "relative",
        "legend": {
         "title": {
          "text": "theme"
         },
         "tracegroupgap": 0
        },
        "template": {
         "data": {
          "bar": [
           {
            "error_x": {
             "color": "#2a3f5f"
            },
            "error_y": {
             "color": "#2a3f5f"
            },
            "marker": {
             "line": {
              "color": "#E5ECF6",
              "width": 0.5
             },
             "pattern": {
              "fillmode": "overlay",
              "size": 10,
              "solidity": 0.2
             }
            },
            "type": "bar"
           }
          ],
          "barpolar": [
           {
            "marker": {
             "line": {
              "color": "#E5ECF6",
              "width": 0.5
             },
             "pattern": {
              "fillmode": "overlay",
              "size": 10,
              "solidity": 0.2
             }
            },
            "type": "barpolar"
           }
          ],
          "carpet": [
           {
            "aaxis": {
             "endlinecolor": "#2a3f5f",
             "gridcolor": "white",
             "linecolor": "white",
             "minorgridcolor": "white",
             "startlinecolor": "#2a3f5f"
            },
            "baxis": {
             "endlinecolor": "#2a3f5f",
             "gridcolor": "white",
             "linecolor": "white",
             "minorgridcolor": "white",
             "startlinecolor": "#2a3f5f"
            },
            "type": "carpet"
           }
          ],
          "choropleth": [
           {
            "colorbar": {
             "outlinewidth": 0,
             "ticks": ""
            },
            "type": "choropleth"
           }
          ],
          "contour": [
           {
            "colorbar": {
             "outlinewidth": 0,
             "ticks": ""
            },
            "colorscale": [
             [
              0,
              "#0d0887"
             ],
             [
              0.1111111111111111,
              "#46039f"
             ],
             [
              0.2222222222222222,
              "#7201a8"
             ],
             [
              0.3333333333333333,
              "#9c179e"
             ],
             [
              0.4444444444444444,
              "#bd3786"
             ],
             [
              0.5555555555555556,
              "#d8576b"
             ],
             [
              0.6666666666666666,
              "#ed7953"
             ],
             [
              0.7777777777777778,
              "#fb9f3a"
             ],
             [
              0.8888888888888888,
              "#fdca26"
             ],
             [
              1,
              "#f0f921"
             ]
            ],
            "type": "contour"
           }
          ],
          "contourcarpet": [
           {
            "colorbar": {
             "outlinewidth": 0,
             "ticks": ""
            },
            "type": "contourcarpet"
           }
          ],
          "heatmap": [
           {
            "colorbar": {
             "outlinewidth": 0,
             "ticks": ""
            },
            "colorscale": [
             [
              0,
              "#0d0887"
             ],
             [
              0.1111111111111111,
              "#46039f"
             ],
             [
              0.2222222222222222,
              "#7201a8"
             ],
             [
              0.3333333333333333,
              "#9c179e"
             ],
             [
              0.4444444444444444,
              "#bd3786"
             ],
             [
              0.5555555555555556,
              "#d8576b"
             ],
             [
              0.6666666666666666,
              "#ed7953"
             ],
             [
              0.7777777777777778,
              "#fb9f3a"
             ],
             [
              0.8888888888888888,
              "#fdca26"
             ],
             [
              1,
              "#f0f921"
             ]
            ],
            "type": "heatmap"
           }
          ],
          "histogram": [
           {
            "marker": {
             "pattern": {
              "fillmode": "overlay",
              "size": 10,
              "solidity": 0.2
             }
            },
            "type": "histogram"
           }
          ],
          "histogram2d": [
           {
            "colorbar": {
             "outlinewidth": 0,
             "ticks": ""
            },
            "colorscale": [
             [
              0,
              "#0d0887"
             ],
             [
              0.1111111111111111,
              "#46039f"
             ],
             [
              0.2222222222222222,
              "#7201a8"
             ],
             [
              0.3333333333333333,
              "#9c179e"
             ],
             [
              0.4444444444444444,
              "#bd3786"
             ],
             [
              0.5555555555555556,
              "#d8576b"
             ],
             [
              0.6666666666666666,
              "#ed7953"
             ],
             [
              0.7777777777777778,
              "#fb9f3a"
             ],
             [
              0.8888888888888888,
              "#fdca26"
             ],
             [
              1,
              "#f0f921"
             ]
            ],
            "type": "histogram2d"
           }
          ],
          "histogram2dcontour": [
           {
            "colorbar": {
             "outlinewidth": 0,
             "ticks": ""
            },
            "colorscale": [
             [
              0,
              "#0d0887"
             ],
             [
              0.1111111111111111,
              "#46039f"
             ],
             [
              0.2222222222222222,
              "#7201a8"
             ],
             [
              0.3333333333333333,
              "#9c179e"
             ],
             [
              0.4444444444444444,
              "#bd3786"
             ],
             [
              0.5555555555555556,
              "#d8576b"
             ],
             [
              0.6666666666666666,
              "#ed7953"
             ],
             [
              0.7777777777777778,
              "#fb9f3a"
             ],
             [
              0.8888888888888888,
              "#fdca26"
             ],
             [
              1,
              "#f0f921"
             ]
            ],
            "type": "histogram2dcontour"
           }
          ],
          "mesh3d": [
           {
            "colorbar": {
             "outlinewidth": 0,
             "ticks": ""
            },
            "type": "mesh3d"
           }
          ],
          "parcoords": [
           {
            "line": {
             "colorbar": {
              "outlinewidth": 0,
              "ticks": ""
             }
            },
            "type": "parcoords"
           }
          ],
          "pie": [
           {
            "automargin": true,
            "type": "pie"
           }
          ],
          "scatter": [
           {
            "fillpattern": {
             "fillmode": "overlay",
             "size": 10,
             "solidity": 0.2
            },
            "type": "scatter"
           }
          ],
          "scatter3d": [
           {
            "line": {
             "colorbar": {
              "outlinewidth": 0,
              "ticks": ""
             }
            },
            "marker": {
             "colorbar": {
              "outlinewidth": 0,
              "ticks": ""
             }
            },
            "type": "scatter3d"
           }
          ],
          "scattercarpet": [
           {
            "marker": {
             "colorbar": {
              "outlinewidth": 0,
              "ticks": ""
             }
            },
            "type": "scattercarpet"
           }
          ],
          "scattergeo": [
           {
            "marker": {
             "colorbar": {
              "outlinewidth": 0,
              "ticks": ""
             }
            },
            "type": "scattergeo"
           }
          ],
          "scattergl": [
           {
            "marker": {
             "colorbar": {
              "outlinewidth": 0,
              "ticks": ""
             }
            },
            "type": "scattergl"
           }
          ],
          "scattermap": [
           {
            "marker": {
             "colorbar": {
              "outlinewidth": 0,
              "ticks": ""
             }
            },
            "type": "scattermap"
           }
          ],
          "scattermapbox": [
           {
            "marker": {
             "colorbar": {
              "outlinewidth": 0,
              "ticks": ""
             }
            },
            "type": "scattermapbox"
           }
          ],
          "scatterpolar": [
           {
            "marker": {
             "colorbar": {
              "outlinewidth": 0,
              "ticks": ""
             }
            },
            "type": "scatterpolar"
           }
          ],
          "scatterpolargl": [
           {
            "marker": {
             "colorbar": {
              "outlinewidth": 0,
              "ticks": ""
             }
            },
            "type": "scatterpolargl"
           }
          ],
          "scatterternary": [
           {
            "marker": {
             "colorbar": {
              "outlinewidth": 0,
              "ticks": ""
             }
            },
            "type": "scatterternary"
           }
          ],
          "surface": [
           {
            "colorbar": {
             "outlinewidth": 0,
             "ticks": ""
            },
            "colorscale": [
             [
              0,
              "#0d0887"
             ],
             [
              0.1111111111111111,
              "#46039f"
             ],
             [
              0.2222222222222222,
              "#7201a8"
             ],
             [
              0.3333333333333333,
              "#9c179e"
             ],
             [
              0.4444444444444444,
              "#bd3786"
             ],
             [
              0.5555555555555556,
              "#d8576b"
             ],
             [
              0.6666666666666666,
              "#ed7953"
             ],
             [
              0.7777777777777778,
              "#fb9f3a"
             ],
             [
              0.8888888888888888,
              "#fdca26"
             ],
             [
              1,
              "#f0f921"
             ]
            ],
            "type": "surface"
           }
          ],
          "table": [
           {
            "cells": {
             "fill": {
              "color": "#EBF0F8"
             },
             "line": {
              "color": "white"
             }
            },
            "header": {
             "fill": {
              "color": "#C8D4E3"
             },
             "line": {
              "color": "white"
             }
            },
            "type": "table"
           }
          ]
         },
         "layout": {
          "annotationdefaults": {
           "arrowcolor": "#2a3f5f",
           "arrowhead": 0,
           "arrowwidth": 1
          },
          "autotypenumbers": "strict",
          "coloraxis": {
           "colorbar": {
            "outlinewidth": 0,
            "ticks": ""
           }
          },
          "colorscale": {
           "diverging": [
            [
             0,
             "#8e0152"
            ],
            [
             0.1,
             "#c51b7d"
            ],
            [
             0.2,
             "#de77ae"
            ],
            [
             0.3,
             "#f1b6da"
            ],
            [
             0.4,
             "#fde0ef"
            ],
            [
             0.5,
             "#f7f7f7"
            ],
            [
             0.6,
             "#e6f5d0"
            ],
            [
             0.7,
             "#b8e186"
            ],
            [
             0.8,
             "#7fbc41"
            ],
            [
             0.9,
             "#4d9221"
            ],
            [
             1,
             "#276419"
            ]
           ],
           "sequential": [
            [
             0,
             "#0d0887"
            ],
            [
             0.1111111111111111,
             "#46039f"
            ],
            [
             0.2222222222222222,
             "#7201a8"
            ],
            [
             0.3333333333333333,
             "#9c179e"
            ],
            [
             0.4444444444444444,
             "#bd3786"
            ],
            [
             0.5555555555555556,
             "#d8576b"
            ],
            [
             0.6666666666666666,
             "#ed7953"
            ],
            [
             0.7777777777777778,
             "#fb9f3a"
            ],
            [
             0.8888888888888888,
             "#fdca26"
            ],
            [
             1,
             "#f0f921"
            ]
           ],
           "sequentialminus": [
            [
             0,
             "#0d0887"
            ],
            [
             0.1111111111111111,
             "#46039f"
            ],
            [
             0.2222222222222222,
             "#7201a8"
            ],
            [
             0.3333333333333333,
             "#9c179e"
            ],
            [
             0.4444444444444444,
             "#bd3786"
            ],
            [
             0.5555555555555556,
             "#d8576b"
            ],
            [
             0.6666666666666666,
             "#ed7953"
            ],
            [
             0.7777777777777778,
             "#fb9f3a"
            ],
            [
             0.8888888888888888,
             "#fdca26"
            ],
            [
             1,
             "#f0f921"
            ]
           ]
          },
          "colorway": [
           "#636efa",
           "#EF553B",
           "#00cc96",
           "#ab63fa",
           "#FFA15A",
           "#19d3f3",
           "#FF6692",
           "#B6E880",
           "#FF97FF",
           "#FECB52"
          ],
          "font": {
           "color": "#2a3f5f"
          },
          "geo": {
           "bgcolor": "white",
           "lakecolor": "white",
           "landcolor": "#E5ECF6",
           "showlakes": true,
           "showland": true,
           "subunitcolor": "white"
          },
          "hoverlabel": {
           "align": "left"
          },
          "hovermode": "closest",
          "mapbox": {
           "style": "light"
          },
          "paper_bgcolor": "white",
          "plot_bgcolor": "#E5ECF6",
          "polar": {
           "angularaxis": {
            "gridcolor": "white",
            "linecolor": "white",
            "ticks": ""
           },
           "bgcolor": "#E5ECF6",
           "radialaxis": {
            "gridcolor": "white",
            "linecolor": "white",
            "ticks": ""
           }
          },
          "scene": {
           "xaxis": {
            "backgroundcolor": "#E5ECF6",
            "gridcolor": "white",
            "gridwidth": 2,
            "linecolor": "white",
            "showbackground": true,
            "ticks": "",
            "zerolinecolor": "white"
           },
           "yaxis": {
            "backgroundcolor": "#E5ECF6",
            "gridcolor": "white",
            "gridwidth": 2,
            "linecolor": "white",
            "showbackground": true,
            "ticks": "",
            "zerolinecolor": "white"
           },
           "zaxis": {
            "backgroundcolor": "#E5ECF6",
            "gridcolor": "white",
            "gridwidth": 2,
            "linecolor": "white",
            "showbackground": true,
            "ticks": "",
            "zerolinecolor": "white"
           }
          },
          "shapedefaults": {
           "line": {
            "color": "#2a3f5f"
           }
          },
          "ternary": {
           "aaxis": {
            "gridcolor": "white",
            "linecolor": "white",
            "ticks": ""
           },
           "baxis": {
            "gridcolor": "white",
            "linecolor": "white",
            "ticks": ""
           },
           "bgcolor": "#E5ECF6",
           "caxis": {
            "gridcolor": "white",
            "linecolor": "white",
            "ticks": ""
           }
          },
          "title": {
           "x": 0.05
          },
          "xaxis": {
           "automargin": true,
           "gridcolor": "white",
           "linecolor": "white",
           "ticks": "",
           "title": {
            "standoff": 15
           },
           "zerolinecolor": "white",
           "zerolinewidth": 2
          },
          "yaxis": {
           "automargin": true,
           "gridcolor": "white",
           "linecolor": "white",
           "ticks": "",
           "title": {
            "standoff": 15
           },
           "zerolinecolor": "white",
           "zerolinewidth": 2
          }
         }
        },
        "title": {
         "text": "Year vs Price: Lego Set Exploration"
        },
        "xaxis": {
         "anchor": "y",
         "domain": [
          0,
          1
         ],
         "title": {
          "text": "year"
         }
        },
        "yaxis": {
         "anchor": "x",
         "domain": [
          0,
          1
         ],
         "title": {
          "text": "price"
         }
        }
       }
      },
      "image/png": "[encoded data removed]"
     },
     "metadata": {},
     "output_type": "display_data"
    }
   ],
   "source": [
    "#A\n",
    "fig = px.bar(\n",
    "    DF,\n",
    "    x='year',\n",
    "    y='price',\n",
    "    color='theme',        \n",
    "    hover_name='set_name',     \n",
    "    title='Year vs Price: Lego Set Exploration', \n",
    ")\n",
    "\n",
    "fig.show()"
   ]
  },
  {
   "cell_type": "code",
   "execution_count": 99,
   "id": "72895c70-d968-4bb4-a6c0-fdd522279a88",
   "metadata": {},
   "outputs": [
    {
     "data": {
      "text/html": [
       "<div>\n",
       "<style scoped>\n",
       "    .dataframe tbody tr th:only-of-type {\n",
       "        vertical-align: middle;\n",
       "    }\n",
       "\n",
       "    .dataframe tbody tr th {\n",
       "        vertical-align: top;\n",
       "    }\n",
       "\n",
       "    .dataframe thead tr th {\n",
       "        text-align: left;\n",
       "    }\n",
       "\n",
       "    .dataframe thead tr:last-of-type th {\n",
       "        text-align: right;\n",
       "    }\n",
       "</style>\n",
       "<table border=\"1\" class=\"dataframe\">\n",
       "  <thead>\n",
       "    <tr>\n",
       "      <th></th>\n",
       "      <th colspan=\"8\" halign=\"left\">price</th>\n",
       "    </tr>\n",
       "    <tr>\n",
       "      <th></th>\n",
       "      <th>count</th>\n",
       "      <th>mean</th>\n",
       "      <th>std</th>\n",
       "      <th>min</th>\n",
       "      <th>25%</th>\n",
       "      <th>50%</th>\n",
       "      <th>75%</th>\n",
       "      <th>max</th>\n",
       "    </tr>\n",
       "    <tr>\n",
       "      <th>year</th>\n",
       "      <th></th>\n",
       "      <th></th>\n",
       "      <th></th>\n",
       "      <th></th>\n",
       "      <th></th>\n",
       "      <th></th>\n",
       "      <th></th>\n",
       "      <th></th>\n",
       "    </tr>\n",
       "  </thead>\n",
       "  <tbody>\n",
       "    <tr>\n",
       "      <th>2018</th>\n",
       "      <td>23.0</td>\n",
       "      <td>28.772609</td>\n",
       "      <td>25.244183</td>\n",
       "      <td>4.99</td>\n",
       "      <td>12.49</td>\n",
       "      <td>24.99</td>\n",
       "      <td>29.99</td>\n",
       "      <td>119.99</td>\n",
       "    </tr>\n",
       "    <tr>\n",
       "      <th>2019</th>\n",
       "      <td>25.0</td>\n",
       "      <td>28.670000</td>\n",
       "      <td>20.225232</td>\n",
       "      <td>7.99</td>\n",
       "      <td>9.99</td>\n",
       "      <td>19.99</td>\n",
       "      <td>39.99</td>\n",
       "      <td>69.99</td>\n",
       "    </tr>\n",
       "    <tr>\n",
       "      <th>2020</th>\n",
       "      <td>27.0</td>\n",
       "      <td>38.212222</td>\n",
       "      <td>34.850597</td>\n",
       "      <td>6.99</td>\n",
       "      <td>9.99</td>\n",
       "      <td>29.99</td>\n",
       "      <td>49.99</td>\n",
       "      <td>149.99</td>\n",
       "    </tr>\n",
       "  </tbody>\n",
       "</table>\n",
       "</div>"
      ],
      "text/plain": [
       "     price                                                         \n",
       "     count       mean        std   min    25%    50%    75%     max\n",
       "year                                                               \n",
       "2018  23.0  28.772609  25.244183  4.99  12.49  24.99  29.99  119.99\n",
       "2019  25.0  28.670000  20.225232  7.99   9.99  19.99  39.99   69.99\n",
       "2020  27.0  38.212222  34.850597  6.99   9.99  29.99  49.99  149.99"
      ]
     },
     "execution_count": 99,
     "metadata": {},
     "output_type": "execute_result"
    }
   ],
   "source": [
    "#A\n",
    "mvar = ['year', 'price']\n",
    "group = DF[mvar].groupby('year').describe()\n",
    "group"
   ]
  },
  {
   "cell_type": "code",
   "execution_count": 100,
   "id": "18e137a7-dfc9-4021-b98a-4a9bd186faf0",
   "metadata": {},
   "outputs": [
    {
     "data": {
      "application/vnd.plotly.v1+json": {
       "config": {
        "plotlyServerURL": "https://plot.ly"
       },
       "data": [
        {
         "hovertemplate": "<b>%{hovertext}</b><br><br>theme=DUPLO®<br>year=%{x}<br>pieces=%{y}<extra></extra>",
         "hovertext": [
          "My First Ladybird",
          "My First Race Car",
          "My First Celebration",
          "Large Playground Brick Box",
          "Farmers' Market",
          "Farm Animals",
          "Train Bridge and Tracks",
          "Cargo Train",
          "Spider-Man & Hulk Adventures",
          "Rapunzel's Tower",
          "Train Tracks",
          "My First Fun Puzzle",
          "My First Car Creations",
          "Fire Truck",
          "Baby Animals",
          "Tropical Island",
          "Plane",
          "Submarine Adventure",
          "Alphabet Truck",
          "Tow Truck",
          "Super Heroes Lab",
          "Bedroom",
          "Pizza Stand",
          "Bakery",
          "Modular Playhouse"
         ],
         "legendgroup": "DUPLO®",
         "marker": {
          "color": "#636efa",
          "pattern": {
           "shape": ""
          }
         },
         "name": "DUPLO®",
         "orientation": "v",
         "showlegend": true,
         "textposition": "auto",
         "type": "bar",
         "x": {
          "bdata": "4gfiB+IH4gfiB+IH4gfiB+IH4gfiB+MH4wfjB+MH4wfjB+MH5AfkB+QH5AfkB+QH5Ac=",
          "dtype": "i2"
         },
         "xaxis": "x",
         "y": {
          "bdata": "BgAGACkARwAaABAAGgBpACYAJQAXAA8AIgAVAAkASQAMABgAJAAHAB4AEAASAC4AgQA=",
          "dtype": "i2"
         },
         "yaxis": "y"
        },
        {
         "hovertemplate": "<b>%{hovertext}</b><br><br>theme=Friends<br>year=%{x}<br>pieces=%{y}<extra></extra>",
         "hovertext": [
          "Stephanie's Soccer Practice",
          "Olivia's Mission Vehicle",
          "Mia's Tree House",
          "Friendship House",
          "Friends Advent Calendar",
          "Stephanie's Heart Box",
          "Mia's Heart Box",
          "Mia's Forest Adventures",
          "Stephanie's Obstacle Course",
          "Mia's House",
          "Andrea's Pool Party",
          "Turtles Rescue Mission",
          "Dolphins Rescue Mission",
          "Andrea's Summer Heart Box",
          "Olivia's Summer Heart Box",
          "Heartlake City Hospital",
          "Puppy Playground",
          "Andrea's Play Cube - Singer",
          "Mia's Play Cube - Veterinarian",
          "Mia's Play Cube - Cinema",
          "Baby Elephant Jungle Rescue",
          "Tiger Hot Air Balloon Jungle Rescue",
          "Jungle Rescue Base",
          "Emma's Fashion Shop",
          "Beach House"
         ],
         "legendgroup": "Friends",
         "marker": {
          "color": "#EF553B",
          "pattern": {
           "shape": ""
          }
         },
         "name": "Friends",
         "orientation": "v",
         "showlegend": true,
         "textposition": "auto",
         "type": "bar",
         "x": {
          "bdata": "4gfiB+IH4gfiB+MH4wfjB+MH4wfjB+MH4wfjB+MH5AfkB+QH5AfkB+QH5AfkB+QH5Ac=",
          "dtype": "i2"
         },
         "xaxis": "x",
         "y": {
          "bdata": "dwDfAF8B0gL0AVUAUwCGAFEBywLUAeEAawFTAF0AewE5ADEAKAAlAMsALgGIAlcBvAE=",
          "dtype": "i2"
         },
         "yaxis": "y"
        },
        {
         "hovertemplate": "<b>%{hovertext}</b><br><br>theme=City<br>year=%{x}<br>pieces=%{y}<extra></extra>",
         "hovertext": [
          "Off-Road Chase",
          "Mountain Fugitives",
          "Dirt Road Pursuit",
          "Pickup & Caravan",
          "Heavy Cargo Transport",
          "Mining Team",
          "People Pack - Outdoor Adventures",
          "Parachute Arrest",
          "Dock Side Fire",
          "Fire Station",
          "Fire Plane",
          "Construction Loader",
          "Diving Yacht",
          "Harvester Transport",
          "Mars Research Shuttle",
          "Police Helicopter Chase",
          "Police Monster Truck Heist",
          "Police Station",
          "Fire Helicopter Response",
          "Street Sweeper",
          "Monster Truck",
          "Construction Bulldozer",
          "Tuning Workshop",
          "Ocean Exploration Ship",
          "Safari Off-Roader"
         ],
         "legendgroup": "City",
         "marker": {
          "color": "#00cc96",
          "pattern": {
           "shape": ""
          }
         },
         "name": "City",
         "orientation": "v",
         "showlegend": true,
         "textposition": "auto",
         "type": "bar",
         "x": {
          "bdata": "4gfiB+IH4gfiB+IH4gfjB+MH4wfjB+MH4wfjB+MH5AfkB+QH5AfkB+QH5AfkB+QH5Ac=",
          "dtype": "i2"
         },
         "xaxis": "x",
         "y": {
          "bdata": "JQBYACkBWAE2AVIApADaAGEA/QFrAVgAlABmAREB1ABqAecCXQBZADcAfgCBA+kCqAA=",
          "dtype": "i2"
         },
         "yaxis": "y"
        }
       ],
       "layout": {
        "barmode": "relative",
        "legend": {
         "title": {
          "text": "theme"
         },
         "tracegroupgap": 0
        },
        "template": {
         "data": {
          "bar": [
           {
            "error_x": {
             "color": "#2a3f5f"
            },
            "error_y": {
             "color": "#2a3f5f"
            },
            "marker": {
             "line": {
              "color": "#E5ECF6",
              "width": 0.5
             },
             "pattern": {
              "fillmode": "overlay",
              "size": 10,
              "solidity": 0.2
             }
            },
            "type": "bar"
           }
          ],
          "barpolar": [
           {
            "marker": {
             "line": {
              "color": "#E5ECF6",
              "width": 0.5
             },
             "pattern": {
              "fillmode": "overlay",
              "size": 10,
              "solidity": 0.2
             }
            },
            "type": "barpolar"
           }
          ],
          "carpet": [
           {
            "aaxis": {
             "endlinecolor": "#2a3f5f",
             "gridcolor": "white",
             "linecolor": "white",
             "minorgridcolor": "white",
             "startlinecolor": "#2a3f5f"
            },
            "baxis": {
             "endlinecolor": "#2a3f5f",
             "gridcolor": "white",
             "linecolor": "white",
             "minorgridcolor": "white",
             "startlinecolor": "#2a3f5f"
            },
            "type": "carpet"
           }
          ],
          "choropleth": [
           {
            "colorbar": {
             "outlinewidth": 0,
             "ticks": ""
            },
            "type": "choropleth"
           }
          ],
          "contour": [
           {
            "colorbar": {
             "outlinewidth": 0,
             "ticks": ""
            },
            "colorscale": [
             [
              0,
              "#0d0887"
             ],
             [
              0.1111111111111111,
              "#46039f"
             ],
             [
              0.2222222222222222,
              "#7201a8"
             ],
             [
              0.3333333333333333,
              "#9c179e"
             ],
             [
              0.4444444444444444,
              "#bd3786"
             ],
             [
              0.5555555555555556,
              "#d8576b"
             ],
             [
              0.6666666666666666,
              "#ed7953"
             ],
             [
              0.7777777777777778,
              "#fb9f3a"
             ],
             [
              0.8888888888888888,
              "#fdca26"
             ],
             [
              1,
              "#f0f921"
             ]
            ],
            "type": "contour"
           }
          ],
          "contourcarpet": [
           {
            "colorbar": {
             "outlinewidth": 0,
             "ticks": ""
            },
            "type": "contourcarpet"
           }
          ],
          "heatmap": [
           {
            "colorbar": {
             "outlinewidth": 0,
             "ticks": ""
            },
            "colorscale": [
             [
              0,
              "#0d0887"
             ],
             [
              0.1111111111111111,
              "#46039f"
             ],
             [
              0.2222222222222222,
              "#7201a8"
             ],
             [
              0.3333333333333333,
              "#9c179e"
             ],
             [
              0.4444444444444444,
              "#bd3786"
             ],
             [
              0.5555555555555556,
              "#d8576b"
             ],
             [
              0.6666666666666666,
              "#ed7953"
             ],
             [
              0.7777777777777778,
              "#fb9f3a"
             ],
             [
              0.8888888888888888,
              "#fdca26"
             ],
             [
              1,
              "#f0f921"
             ]
            ],
            "type": "heatmap"
           }
          ],
          "histogram": [
           {
            "marker": {
             "pattern": {
              "fillmode": "overlay",
              "size": 10,
              "solidity": 0.2
             }
            },
            "type": "histogram"
           }
          ],
          "histogram2d": [
           {
            "colorbar": {
             "outlinewidth": 0,
             "ticks": ""
            },
            "colorscale": [
             [
              0,
              "#0d0887"
             ],
             [
              0.1111111111111111,
              "#46039f"
             ],
             [
              0.2222222222222222,
              "#7201a8"
             ],
             [
              0.3333333333333333,
              "#9c179e"
             ],
             [
              0.4444444444444444,
              "#bd3786"
             ],
             [
              0.5555555555555556,
              "#d8576b"
             ],
             [
              0.6666666666666666,
              "#ed7953"
             ],
             [
              0.7777777777777778,
              "#fb9f3a"
             ],
             [
              0.8888888888888888,
              "#fdca26"
             ],
             [
              1,
              "#f0f921"
             ]
            ],
            "type": "histogram2d"
           }
          ],
          "histogram2dcontour": [
           {
            "colorbar": {
             "outlinewidth": 0,
             "ticks": ""
            },
            "colorscale": [
             [
              0,
              "#0d0887"
             ],
             [
              0.1111111111111111,
              "#46039f"
             ],
             [
              0.2222222222222222,
              "#7201a8"
             ],
             [
              0.3333333333333333,
              "#9c179e"
             ],
             [
              0.4444444444444444,
              "#bd3786"
             ],
             [
              0.5555555555555556,
              "#d8576b"
             ],
             [
              0.6666666666666666,
              "#ed7953"
             ],
             [
              0.7777777777777778,
              "#fb9f3a"
             ],
             [
              0.8888888888888888,
              "#fdca26"
             ],
             [
              1,
              "#f0f921"
             ]
            ],
            "type": "histogram2dcontour"
           }
          ],
          "mesh3d": [
           {
            "colorbar": {
             "outlinewidth": 0,
             "ticks": ""
            },
            "type": "mesh3d"
           }
          ],
          "parcoords": [
           {
            "line": {
             "colorbar": {
              "outlinewidth": 0,
              "ticks": ""
             }
            },
            "type": "parcoords"
           }
          ],
          "pie": [
           {
            "automargin": true,
            "type": "pie"
           }
          ],
          "scatter": [
           {
            "fillpattern": {
             "fillmode": "overlay",
             "size": 10,
             "solidity": 0.2
            },
            "type": "scatter"
           }
          ],
          "scatter3d": [
           {
            "line": {
             "colorbar": {
              "outlinewidth": 0,
              "ticks": ""
             }
            },
            "marker": {
             "colorbar": {
              "outlinewidth": 0,
              "ticks": ""
             }
            },
            "type": "scatter3d"
           }
          ],
          "scattercarpet": [
           {
            "marker": {
             "colorbar": {
              "outlinewidth": 0,
              "ticks": ""
             }
            },
            "type": "scattercarpet"
           }
          ],
          "scattergeo": [
           {
            "marker": {
             "colorbar": {
              "outlinewidth": 0,
              "ticks": ""
             }
            },
            "type": "scattergeo"
           }
          ],
          "scattergl": [
           {
            "marker": {
             "colorbar": {
              "outlinewidth": 0,
              "ticks": ""
             }
            },
            "type": "scattergl"
           }
          ],
          "scattermap": [
           {
            "marker": {
             "colorbar": {
              "outlinewidth": 0,
              "ticks": ""
             }
            },
            "type": "scattermap"
           }
          ],
          "scattermapbox": [
           {
            "marker": {
             "colorbar": {
              "outlinewidth": 0,
              "ticks": ""
             }
            },
            "type": "scattermapbox"
           }
          ],
          "scatterpolar": [
           {
            "marker": {
             "colorbar": {
              "outlinewidth": 0,
              "ticks": ""
             }
            },
            "type": "scatterpolar"
           }
          ],
          "scatterpolargl": [
           {
            "marker": {
             "colorbar": {
              "outlinewidth": 0,
              "ticks": ""
             }
            },
            "type": "scatterpolargl"
           }
          ],
          "scatterternary": [
           {
            "marker": {
             "colorbar": {
              "outlinewidth": 0,
              "ticks": ""
             }
            },
            "type": "scatterternary"
           }
          ],
          "surface": [
           {
            "colorbar": {
             "outlinewidth": 0,
             "ticks": ""
            },
            "colorscale": [
             [
              0,
              "#0d0887"
             ],
             [
              0.1111111111111111,
              "#46039f"
             ],
             [
              0.2222222222222222,
              "#7201a8"
             ],
             [
              0.3333333333333333,
              "#9c179e"
             ],
             [
              0.4444444444444444,
              "#bd3786"
             ],
             [
              0.5555555555555556,
              "#d8576b"
             ],
             [
              0.6666666666666666,
              "#ed7953"
             ],
             [
              0.7777777777777778,
              "#fb9f3a"
             ],
             [
              0.8888888888888888,
              "#fdca26"
             ],
             [
              1,
              "#f0f921"
             ]
            ],
            "type": "surface"
           }
          ],
          "table": [
           {
            "cells": {
             "fill": {
              "color": "#EBF0F8"
             },
             "line": {
              "color": "white"
             }
            },
            "header": {
             "fill": {
              "color": "#C8D4E3"
             },
             "line": {
              "color": "white"
             }
            },
            "type": "table"
           }
          ]
         },
         "layout": {
          "annotationdefaults": {
           "arrowcolor": "#2a3f5f",
           "arrowhead": 0,
           "arrowwidth": 1
          },
          "autotypenumbers": "strict",
          "coloraxis": {
           "colorbar": {
            "outlinewidth": 0,
            "ticks": ""
           }
          },
          "colorscale": {
           "diverging": [
            [
             0,
             "#8e0152"
            ],
            [
             0.1,
             "#c51b7d"
            ],
            [
             0.2,
             "#de77ae"
            ],
            [
             0.3,
             "#f1b6da"
            ],
            [
             0.4,
             "#fde0ef"
            ],
            [
             0.5,
             "#f7f7f7"
            ],
            [
             0.6,
             "#e6f5d0"
            ],
            [
             0.7,
             "#b8e186"
            ],
            [
             0.8,
             "#7fbc41"
            ],
            [
             0.9,
             "#4d9221"
            ],
            [
             1,
             "#276419"
            ]
           ],
           "sequential": [
            [
             0,
             "#0d0887"
            ],
            [
             0.1111111111111111,
             "#46039f"
            ],
            [
             0.2222222222222222,
             "#7201a8"
            ],
            [
             0.3333333333333333,
             "#9c179e"
            ],
            [
             0.4444444444444444,
             "#bd3786"
            ],
            [
             0.5555555555555556,
             "#d8576b"
            ],
            [
             0.6666666666666666,
             "#ed7953"
            ],
            [
             0.7777777777777778,
             "#fb9f3a"
            ],
            [
             0.8888888888888888,
             "#fdca26"
            ],
            [
             1,
             "#f0f921"
            ]
           ],
           "sequentialminus": [
            [
             0,
             "#0d0887"
            ],
            [
             0.1111111111111111,
             "#46039f"
            ],
            [
             0.2222222222222222,
             "#7201a8"
            ],
            [
             0.3333333333333333,
             "#9c179e"
            ],
            [
             0.4444444444444444,
             "#bd3786"
            ],
            [
             0.5555555555555556,
             "#d8576b"
            ],
            [
             0.6666666666666666,
             "#ed7953"
            ],
            [
             0.7777777777777778,
             "#fb9f3a"
            ],
            [
             0.8888888888888888,
             "#fdca26"
            ],
            [
             1,
             "#f0f921"
            ]
           ]
          },
          "colorway": [
           "#636efa",
           "#EF553B",
           "#00cc96",
           "#ab63fa",
           "#FFA15A",
           "#19d3f3",
           "#FF6692",
           "#B6E880",
           "#FF97FF",
           "#FECB52"
          ],
          "font": {
           "color": "#2a3f5f"
          },
          "geo": {
           "bgcolor": "white",
           "lakecolor": "white",
           "landcolor": "#E5ECF6",
           "showlakes": true,
           "showland": true,
           "subunitcolor": "white"
          },
          "hoverlabel": {
           "align": "left"
          },
          "hovermode": "closest",
          "mapbox": {
           "style": "light"
          },
          "paper_bgcolor": "white",
          "plot_bgcolor": "#E5ECF6",
          "polar": {
           "angularaxis": {
            "gridcolor": "white",
            "linecolor": "white",
            "ticks": ""
           },
           "bgcolor": "#E5ECF6",
           "radialaxis": {
            "gridcolor": "white",
            "linecolor": "white",
            "ticks": ""
           }
          },
          "scene": {
           "xaxis": {
            "backgroundcolor": "#E5ECF6",
            "gridcolor": "white",
            "gridwidth": 2,
            "linecolor": "white",
            "showbackground": true,
            "ticks": "",
            "zerolinecolor": "white"
           },
           "yaxis": {
            "backgroundcolor": "#E5ECF6",
            "gridcolor": "white",
            "gridwidth": 2,
            "linecolor": "white",
            "showbackground": true,
            "ticks": "",
            "zerolinecolor": "white"
           },
           "zaxis": {
            "backgroundcolor": "#E5ECF6",
            "gridcolor": "white",
            "gridwidth": 2,
            "linecolor": "white",
            "showbackground": true,
            "ticks": "",
            "zerolinecolor": "white"
           }
          },
          "shapedefaults": {
           "line": {
            "color": "#2a3f5f"
           }
          },
          "ternary": {
           "aaxis": {
            "gridcolor": "white",
            "linecolor": "white",
            "ticks": ""
           },
           "baxis": {
            "gridcolor": "white",
            "linecolor": "white",
            "ticks": ""
           },
           "bgcolor": "#E5ECF6",
           "caxis": {
            "gridcolor": "white",
            "linecolor": "white",
            "ticks": ""
           }
          },
          "title": {
           "x": 0.05
          },
          "xaxis": {
           "automargin": true,
           "gridcolor": "white",
           "linecolor": "white",
           "ticks": "",
           "title": {
            "standoff": 15
           },
           "zerolinecolor": "white",
           "zerolinewidth": 2
          },
          "yaxis": {
           "automargin": true,
           "gridcolor": "white",
           "linecolor": "white",
           "ticks": "",
           "title": {
            "standoff": 15
           },
           "zerolinecolor": "white",
           "zerolinewidth": 2
          }
         }
        },
        "title": {
         "text": "Year vs Price: Lego Set Exploration"
        },
        "xaxis": {
         "anchor": "y",
         "domain": [
          0,
          1
         ],
         "title": {
          "text": "year"
         }
        },
        "yaxis": {
         "anchor": "x",
         "domain": [
          0,
          1
         ],
         "title": {
          "text": "pieces"
         }
        }
       }
      },
      "image/png": "[encoded data removed]"
     },
     "metadata": {},
     "output_type": "display_data"
    }
   ],
   "source": [
    "#B\n",
    "fig = px.bar(\n",
    "    DF,\n",
    "    x='year',\n",
    "    y='pieces',\n",
    "    color='theme',        \n",
    "    hover_name='set_name',     \n",
    "    title='Year vs Price: Lego Set Exploration', \n",
    ")\n",
    "\n",
    "fig.show()"
   ]
  },
  {
   "cell_type": "code",
   "execution_count": 101,
   "id": "3f3e4eb7-7ed7-4ef6-b6a6-4572188c4e7d",
   "metadata": {},
   "outputs": [
    {
     "data": {
      "text/html": [
       "<div>\n",
       "<style scoped>\n",
       "    .dataframe tbody tr th:only-of-type {\n",
       "        vertical-align: middle;\n",
       "    }\n",
       "\n",
       "    .dataframe tbody tr th {\n",
       "        vertical-align: top;\n",
       "    }\n",
       "\n",
       "    .dataframe thead tr th {\n",
       "        text-align: left;\n",
       "    }\n",
       "\n",
       "    .dataframe thead tr:last-of-type th {\n",
       "        text-align: right;\n",
       "    }\n",
       "</style>\n",
       "<table border=\"1\" class=\"dataframe\">\n",
       "  <thead>\n",
       "    <tr>\n",
       "      <th></th>\n",
       "      <th colspan=\"8\" halign=\"left\">pieces</th>\n",
       "    </tr>\n",
       "    <tr>\n",
       "      <th></th>\n",
       "      <th>count</th>\n",
       "      <th>mean</th>\n",
       "      <th>std</th>\n",
       "      <th>min</th>\n",
       "      <th>25%</th>\n",
       "      <th>50%</th>\n",
       "      <th>75%</th>\n",
       "      <th>max</th>\n",
       "    </tr>\n",
       "    <tr>\n",
       "      <th>year</th>\n",
       "      <th></th>\n",
       "      <th></th>\n",
       "      <th></th>\n",
       "      <th></th>\n",
       "      <th></th>\n",
       "      <th></th>\n",
       "      <th></th>\n",
       "      <th></th>\n",
       "    </tr>\n",
       "  </thead>\n",
       "  <tbody>\n",
       "    <tr>\n",
       "      <th>2018</th>\n",
       "      <td>23.0</td>\n",
       "      <td>157.913043</td>\n",
       "      <td>185.003910</td>\n",
       "      <td>6.0</td>\n",
       "      <td>31.5</td>\n",
       "      <td>82.0</td>\n",
       "      <td>260.0</td>\n",
       "      <td>722.0</td>\n",
       "    </tr>\n",
       "    <tr>\n",
       "      <th>2019</th>\n",
       "      <td>25.0</td>\n",
       "      <td>193.120000</td>\n",
       "      <td>185.911341</td>\n",
       "      <td>9.0</td>\n",
       "      <td>73.0</td>\n",
       "      <td>97.0</td>\n",
       "      <td>337.0</td>\n",
       "      <td>715.0</td>\n",
       "    </tr>\n",
       "    <tr>\n",
       "      <th>2020</th>\n",
       "      <td>27.0</td>\n",
       "      <td>232.370370</td>\n",
       "      <td>258.279686</td>\n",
       "      <td>7.0</td>\n",
       "      <td>43.0</td>\n",
       "      <td>126.0</td>\n",
       "      <td>352.5</td>\n",
       "      <td>897.0</td>\n",
       "    </tr>\n",
       "  </tbody>\n",
       "</table>\n",
       "</div>"
      ],
      "text/plain": [
       "     pieces                                                        \n",
       "      count        mean         std  min   25%    50%    75%    max\n",
       "year                                                               \n",
       "2018   23.0  157.913043  185.003910  6.0  31.5   82.0  260.0  722.0\n",
       "2019   25.0  193.120000  185.911341  9.0  73.0   97.0  337.0  715.0\n",
       "2020   27.0  232.370370  258.279686  7.0  43.0  126.0  352.5  897.0"
      ]
     },
     "execution_count": 101,
     "metadata": {},
     "output_type": "execute_result"
    }
   ],
   "source": [
    "#B\n",
    "mvar = ['year', 'pieces']\n",
    "group = DF[mvar].groupby('year').describe()\n",
    "group"
   ]
  },
  {
   "cell_type": "code",
   "execution_count": 102,
   "id": "e0f950df-4e99-4fd6-ad51-fd3af63ca54e",
   "metadata": {},
   "outputs": [
    {
     "data": {
      "text/html": [
       "<div>\n",
       "<style scoped>\n",
       "    .dataframe tbody tr th:only-of-type {\n",
       "        vertical-align: middle;\n",
       "    }\n",
       "\n",
       "    .dataframe tbody tr th {\n",
       "        vertical-align: top;\n",
       "    }\n",
       "\n",
       "    .dataframe thead th {\n",
       "        text-align: right;\n",
       "    }\n",
       "</style>\n",
       "<table border=\"1\" class=\"dataframe\">\n",
       "  <thead>\n",
       "    <tr style=\"text-align: right;\">\n",
       "      <th></th>\n",
       "      <th>item_number</th>\n",
       "      <th>set_name</th>\n",
       "      <th>theme</th>\n",
       "      <th>pieces</th>\n",
       "      <th>price</th>\n",
       "      <th>amazon_price</th>\n",
       "      <th>year</th>\n",
       "      <th>ages</th>\n",
       "      <th>pages</th>\n",
       "      <th>minifigures</th>\n",
       "      <th>packaging</th>\n",
       "      <th>weight</th>\n",
       "      <th>unique_pieces</th>\n",
       "      <th>size</th>\n",
       "      <th>price_difference</th>\n",
       "    </tr>\n",
       "  </thead>\n",
       "  <tbody>\n",
       "    <tr>\n",
       "      <th>0</th>\n",
       "      <td>10859</td>\n",
       "      <td>My First Ladybird</td>\n",
       "      <td>DUPLO®</td>\n",
       "      <td>6</td>\n",
       "      <td>4.99</td>\n",
       "      <td>16.00</td>\n",
       "      <td>2018</td>\n",
       "      <td>Ages_1½-3</td>\n",
       "      <td>9</td>\n",
       "      <td>NaN</td>\n",
       "      <td>Box</td>\n",
       "      <td>NaN</td>\n",
       "      <td>5</td>\n",
       "      <td>Large</td>\n",
       "      <td>11.01</td>\n",
       "    </tr>\n",
       "    <tr>\n",
       "      <th>1</th>\n",
       "      <td>10860</td>\n",
       "      <td>My First Race Car</td>\n",
       "      <td>DUPLO®</td>\n",
       "      <td>6</td>\n",
       "      <td>4.99</td>\n",
       "      <td>9.45</td>\n",
       "      <td>2018</td>\n",
       "      <td>Ages_1½-3</td>\n",
       "      <td>9</td>\n",
       "      <td>NaN</td>\n",
       "      <td>Box</td>\n",
       "      <td>0.13Kg (0.29 lb)</td>\n",
       "      <td>6</td>\n",
       "      <td>Large</td>\n",
       "      <td>4.46</td>\n",
       "    </tr>\n",
       "    <tr>\n",
       "      <th>2</th>\n",
       "      <td>10862</td>\n",
       "      <td>My First Celebration</td>\n",
       "      <td>DUPLO®</td>\n",
       "      <td>41</td>\n",
       "      <td>14.99</td>\n",
       "      <td>39.89</td>\n",
       "      <td>2018</td>\n",
       "      <td>Ages_1½-3</td>\n",
       "      <td>9</td>\n",
       "      <td>NaN</td>\n",
       "      <td>Box</td>\n",
       "      <td>NaN</td>\n",
       "      <td>18</td>\n",
       "      <td>Large</td>\n",
       "      <td>24.90</td>\n",
       "    </tr>\n",
       "    <tr>\n",
       "      <th>5</th>\n",
       "      <td>10870</td>\n",
       "      <td>Farm Animals</td>\n",
       "      <td>DUPLO®</td>\n",
       "      <td>16</td>\n",
       "      <td>9.99</td>\n",
       "      <td>9.99</td>\n",
       "      <td>2018</td>\n",
       "      <td>Ages_2-5</td>\n",
       "      <td>8</td>\n",
       "      <td>NaN</td>\n",
       "      <td>Box</td>\n",
       "      <td>NaN</td>\n",
       "      <td>13</td>\n",
       "      <td>Large</td>\n",
       "      <td>0.00</td>\n",
       "    </tr>\n",
       "    <tr>\n",
       "      <th>10</th>\n",
       "      <td>10882</td>\n",
       "      <td>Train Tracks</td>\n",
       "      <td>DUPLO®</td>\n",
       "      <td>23</td>\n",
       "      <td>19.99</td>\n",
       "      <td>17.99</td>\n",
       "      <td>2018</td>\n",
       "      <td>Ages_2-5</td>\n",
       "      <td>16</td>\n",
       "      <td>NaN</td>\n",
       "      <td>Box</td>\n",
       "      <td>0.66Kg (1.45 lb)</td>\n",
       "      <td>9</td>\n",
       "      <td>Large</td>\n",
       "      <td>-2.00</td>\n",
       "    </tr>\n",
       "    <tr>\n",
       "      <th>11</th>\n",
       "      <td>10885</td>\n",
       "      <td>My First Fun Puzzle</td>\n",
       "      <td>DUPLO®</td>\n",
       "      <td>15</td>\n",
       "      <td>19.99</td>\n",
       "      <td>19.55</td>\n",
       "      <td>2019</td>\n",
       "      <td>Ages_1½+</td>\n",
       "      <td>9</td>\n",
       "      <td>NaN</td>\n",
       "      <td>NaN</td>\n",
       "      <td>NaN</td>\n",
       "      <td>15</td>\n",
       "      <td>Large</td>\n",
       "      <td>-0.44</td>\n",
       "    </tr>\n",
       "    <tr>\n",
       "      <th>12</th>\n",
       "      <td>10886</td>\n",
       "      <td>My First Car Creations</td>\n",
       "      <td>DUPLO®</td>\n",
       "      <td>34</td>\n",
       "      <td>19.99</td>\n",
       "      <td>16.00</td>\n",
       "      <td>2019</td>\n",
       "      <td>Ages_1½+</td>\n",
       "      <td>10</td>\n",
       "      <td>NaN</td>\n",
       "      <td>NaN</td>\n",
       "      <td>0.64Kg (1.41 lb)</td>\n",
       "      <td>31</td>\n",
       "      <td>Large</td>\n",
       "      <td>-3.99</td>\n",
       "    </tr>\n",
       "    <tr>\n",
       "      <th>14</th>\n",
       "      <td>10904</td>\n",
       "      <td>Baby Animals</td>\n",
       "      <td>DUPLO®</td>\n",
       "      <td>9</td>\n",
       "      <td>9.99</td>\n",
       "      <td>21.11</td>\n",
       "      <td>2019</td>\n",
       "      <td>Ages_2+</td>\n",
       "      <td>8</td>\n",
       "      <td>NaN</td>\n",
       "      <td>Box</td>\n",
       "      <td>NaN</td>\n",
       "      <td>9</td>\n",
       "      <td>Large</td>\n",
       "      <td>11.12</td>\n",
       "    </tr>\n",
       "    <tr>\n",
       "      <th>19</th>\n",
       "      <td>10918</td>\n",
       "      <td>Tow Truck</td>\n",
       "      <td>DUPLO®</td>\n",
       "      <td>7</td>\n",
       "      <td>6.99</td>\n",
       "      <td>6.29</td>\n",
       "      <td>2020</td>\n",
       "      <td>Ages_1½+</td>\n",
       "      <td>3</td>\n",
       "      <td>NaN</td>\n",
       "      <td>Box with backing card</td>\n",
       "      <td>NaN</td>\n",
       "      <td>7</td>\n",
       "      <td>Large</td>\n",
       "      <td>-0.70</td>\n",
       "    </tr>\n",
       "    <tr>\n",
       "      <th>29</th>\n",
       "      <td>41353</td>\n",
       "      <td>Friends Advent Calendar</td>\n",
       "      <td>Friends</td>\n",
       "      <td>500</td>\n",
       "      <td>29.99</td>\n",
       "      <td>34.00</td>\n",
       "      <td>2018</td>\n",
       "      <td>Ages_6-12</td>\n",
       "      <td>4</td>\n",
       "      <td>NaN</td>\n",
       "      <td>Box</td>\n",
       "      <td>NaN</td>\n",
       "      <td>202</td>\n",
       "      <td>Small</td>\n",
       "      <td>4.01</td>\n",
       "    </tr>\n",
       "  </tbody>\n",
       "</table>\n",
       "</div>"
      ],
      "text/plain": [
       "    item_number                 set_name    theme  pieces  price  \\\n",
       "0         10859        My First Ladybird   DUPLO®       6   4.99   \n",
       "1         10860        My First Race Car   DUPLO®       6   4.99   \n",
       "2         10862     My First Celebration   DUPLO®      41  14.99   \n",
       "5         10870             Farm Animals   DUPLO®      16   9.99   \n",
       "10        10882             Train Tracks   DUPLO®      23  19.99   \n",
       "11        10885      My First Fun Puzzle   DUPLO®      15  19.99   \n",
       "12        10886   My First Car Creations   DUPLO®      34  19.99   \n",
       "14        10904             Baby Animals   DUPLO®       9   9.99   \n",
       "19        10918                Tow Truck   DUPLO®       7   6.99   \n",
       "29        41353  Friends Advent Calendar  Friends     500  29.99   \n",
       "\n",
       "    amazon_price  year       ages  pages  minifigures              packaging  \\\n",
       "0          16.00  2018  Ages_1½-3      9          NaN                    Box   \n",
       "1           9.45  2018  Ages_1½-3      9          NaN                    Box   \n",
       "2          39.89  2018  Ages_1½-3      9          NaN                    Box   \n",
       "5           9.99  2018   Ages_2-5      8          NaN                    Box   \n",
       "10         17.99  2018   Ages_2-5     16          NaN                    Box   \n",
       "11         19.55  2019   Ages_1½+      9          NaN                    NaN   \n",
       "12         16.00  2019   Ages_1½+     10          NaN                    NaN   \n",
       "14         21.11  2019    Ages_2+      8          NaN                    Box   \n",
       "19          6.29  2020   Ages_1½+      3          NaN  Box with backing card   \n",
       "29         34.00  2018  Ages_6-12      4          NaN                    Box   \n",
       "\n",
       "              weight  unique_pieces   size  price_difference  \n",
       "0                NaN              5  Large             11.01  \n",
       "1   0.13Kg (0.29 lb)              6  Large              4.46  \n",
       "2                NaN             18  Large             24.90  \n",
       "5                NaN             13  Large              0.00  \n",
       "10  0.66Kg (1.45 lb)              9  Large             -2.00  \n",
       "11               NaN             15  Large             -0.44  \n",
       "12  0.64Kg (1.41 lb)             31  Large             -3.99  \n",
       "14               NaN              9  Large             11.12  \n",
       "19               NaN              7  Large             -0.70  \n",
       "29               NaN            202  Small              4.01  "
      ]
     },
     "execution_count": 102,
     "metadata": {},
     "output_type": "execute_result"
    }
   ],
   "source": [
    "#C\n",
    "orzero = (DF['minifigures'] == 0) | (DF['minifigures'].isna())\n",
    "DF_mini = DF[orzero]\n",
    "DF_mini"
   ]
  },
  {
   "cell_type": "markdown",
   "id": "2deddbd4-007c-4ebd-85a6-ce4c939b5eb5",
   "metadata": {},
   "source": [
    "***Problem 7 (10 points)***\n",
    "\n",
    "\n",
    "**Do an analysis that answers the question below. (free form)**\n",
    "\n",
    "\n",
    "I want to buy some Legos for my 6 year old cousin, which Lego set is the best deal?\n",
    "\n",
    "First you will have to describe in words what makes a good deal. \n",
    "\n",
    "**A good deal is one that you can get a significantly lower price than another price.**\n",
    "\n",
    "Is is price per piece, price per minifig, price per number of unique pieces, price per page, is it some combination of these things? Should you use Retail or Amazon Price?\n",
    "Then you will have to decide what age ranges are appropriate and select just that data.\n",
    "Then you will need to do a calculation and add that column to your data frame.\n",
    "Finally sort your deal column to find the best purchase.\n",
    "THERE IS NOT ONE CORRECT ANSWER - your answer should be different from everyone else. What I am looking for here is how you are using your data science skills to answer the question and explaining what you are doing."
   ]
  },
  {
   "cell_type": "markdown",
   "id": "4773c8c4-9bdc-4016-baa4-a49ce63ca0e9",
   "metadata": {},
   "source": [
    "What we need: \n",
    "\n",
    "Age range 6-12 'ageright'\n",
    "\n",
    "price difference to find a good deal 'price_difference'\n",
    "\n",
    "price to piece to find the most bang for your buck 'p2p'\n",
    "\n",
    "need a \"deal\" collumn (just using 'p2p')"
   ]
  },
  {
   "cell_type": "markdown",
   "id": "7f9ea713-0005-48b5-8b97-0266b4f14d7b",
   "metadata": {},
   "source": [
    "**I'd say there are multiple best deals, depending on how much big of a set you want. If you would want a larger set, I would reccomend going with the Friendship House because it checks both the deal box and the age box. A medium sized set I would reccomend Olivia's Mission Vehicle because getting it from base price would mean you get it for 25 dollars off which checks the deal box and it is the better price to piece for the price. Finally if you are on a budget, I would reccomend Stephanie's Soccer Practice becuase it has the best piece to price ratio, and is a similar 25 dollars off.**"
   ]
  },
  {
   "cell_type": "code",
   "execution_count": 107,
   "id": "e1dc1854-2f18-4cc6-bcb2-56027697f8a6",
   "metadata": {},
   "outputs": [
    {
     "data": {
      "text/html": [
       "<div>\n",
       "<style scoped>\n",
       "    .dataframe tbody tr th:only-of-type {\n",
       "        vertical-align: middle;\n",
       "    }\n",
       "\n",
       "    .dataframe tbody tr th {\n",
       "        vertical-align: top;\n",
       "    }\n",
       "\n",
       "    .dataframe thead th {\n",
       "        text-align: right;\n",
       "    }\n",
       "</style>\n",
       "<table border=\"1\" class=\"dataframe\">\n",
       "  <thead>\n",
       "    <tr style=\"text-align: right;\">\n",
       "      <th></th>\n",
       "      <th>item_number</th>\n",
       "      <th>set_name</th>\n",
       "      <th>theme</th>\n",
       "      <th>pieces</th>\n",
       "      <th>price</th>\n",
       "      <th>amazon_price</th>\n",
       "      <th>year</th>\n",
       "      <th>ages</th>\n",
       "      <th>pages</th>\n",
       "      <th>minifigures</th>\n",
       "      <th>packaging</th>\n",
       "      <th>weight</th>\n",
       "      <th>unique_pieces</th>\n",
       "      <th>size</th>\n",
       "      <th>price_difference</th>\n",
       "      <th>p2p</th>\n",
       "    </tr>\n",
       "  </thead>\n",
       "  <tbody>\n",
       "    <tr>\n",
       "      <th>25</th>\n",
       "      <td>41330</td>\n",
       "      <td>Stephanie's Soccer Practice</td>\n",
       "      <td>Friends</td>\n",
       "      <td>119</td>\n",
       "      <td>14.99</td>\n",
       "      <td>40.40</td>\n",
       "      <td>2018</td>\n",
       "      <td>Ages_6-12</td>\n",
       "      <td>48</td>\n",
       "      <td>1.0</td>\n",
       "      <td>Box</td>\n",
       "      <td>NaN</td>\n",
       "      <td>78</td>\n",
       "      <td>Small</td>\n",
       "      <td>25.41</td>\n",
       "      <td>0.125966</td>\n",
       "    </tr>\n",
       "    <tr>\n",
       "      <th>26</th>\n",
       "      <td>41333</td>\n",
       "      <td>Olivia's Mission Vehicle</td>\n",
       "      <td>Friends</td>\n",
       "      <td>223</td>\n",
       "      <td>19.99</td>\n",
       "      <td>45.95</td>\n",
       "      <td>2018</td>\n",
       "      <td>Ages_6-12</td>\n",
       "      <td>84</td>\n",
       "      <td>1.0</td>\n",
       "      <td>Box</td>\n",
       "      <td>0.32Kg (0.7 lb)</td>\n",
       "      <td>106</td>\n",
       "      <td>Small</td>\n",
       "      <td>25.96</td>\n",
       "      <td>0.089641</td>\n",
       "    </tr>\n",
       "    <tr>\n",
       "      <th>27</th>\n",
       "      <td>41335</td>\n",
       "      <td>Mia's Tree House</td>\n",
       "      <td>Friends</td>\n",
       "      <td>351</td>\n",
       "      <td>29.99</td>\n",
       "      <td>53.88</td>\n",
       "      <td>2018</td>\n",
       "      <td>Ages_6-12</td>\n",
       "      <td>120</td>\n",
       "      <td>2.0</td>\n",
       "      <td>Box</td>\n",
       "      <td>0.61Kg (1.34 lb)</td>\n",
       "      <td>151</td>\n",
       "      <td>Small</td>\n",
       "      <td>23.89</td>\n",
       "      <td>0.085442</td>\n",
       "    </tr>\n",
       "    <tr>\n",
       "      <th>28</th>\n",
       "      <td>41340</td>\n",
       "      <td>Friendship House</td>\n",
       "      <td>Friends</td>\n",
       "      <td>722</td>\n",
       "      <td>69.99</td>\n",
       "      <td>184.99</td>\n",
       "      <td>2018</td>\n",
       "      <td>Ages_6-12</td>\n",
       "      <td>164</td>\n",
       "      <td>3.0</td>\n",
       "      <td>Box</td>\n",
       "      <td>1.14Kg (2.51 lb)</td>\n",
       "      <td>309</td>\n",
       "      <td>Small</td>\n",
       "      <td>115.00</td>\n",
       "      <td>0.096939</td>\n",
       "    </tr>\n",
       "    <tr>\n",
       "      <th>29</th>\n",
       "      <td>41353</td>\n",
       "      <td>Friends Advent Calendar</td>\n",
       "      <td>Friends</td>\n",
       "      <td>500</td>\n",
       "      <td>29.99</td>\n",
       "      <td>34.00</td>\n",
       "      <td>2018</td>\n",
       "      <td>Ages_6-12</td>\n",
       "      <td>4</td>\n",
       "      <td>NaN</td>\n",
       "      <td>Box</td>\n",
       "      <td>NaN</td>\n",
       "      <td>202</td>\n",
       "      <td>Small</td>\n",
       "      <td>4.01</td>\n",
       "      <td>0.059980</td>\n",
       "    </tr>\n",
       "  </tbody>\n",
       "</table>\n",
       "</div>"
      ],
      "text/plain": [
       "    item_number                     set_name    theme  pieces  price  \\\n",
       "25        41330  Stephanie's Soccer Practice  Friends     119  14.99   \n",
       "26        41333     Olivia's Mission Vehicle  Friends     223  19.99   \n",
       "27        41335             Mia's Tree House  Friends     351  29.99   \n",
       "28        41340             Friendship House  Friends     722  69.99   \n",
       "29        41353      Friends Advent Calendar  Friends     500  29.99   \n",
       "\n",
       "    amazon_price  year       ages  pages  minifigures packaging  \\\n",
       "25         40.40  2018  Ages_6-12     48          1.0       Box   \n",
       "26         45.95  2018  Ages_6-12     84          1.0       Box   \n",
       "27         53.88  2018  Ages_6-12    120          2.0       Box   \n",
       "28        184.99  2018  Ages_6-12    164          3.0       Box   \n",
       "29         34.00  2018  Ages_6-12      4          NaN       Box   \n",
       "\n",
       "              weight  unique_pieces   size  price_difference       p2p  \n",
       "25               NaN             78  Small             25.41  0.125966  \n",
       "26   0.32Kg (0.7 lb)            106  Small             25.96  0.089641  \n",
       "27  0.61Kg (1.34 lb)            151  Small             23.89  0.085442  \n",
       "28  1.14Kg (2.51 lb)            309  Small            115.00  0.096939  \n",
       "29               NaN            202  Small              4.01  0.059980  "
      ]
     },
     "execution_count": 107,
     "metadata": {},
     "output_type": "execute_result"
    }
   ],
   "source": [
    "ageright = DF['ages'] == 'Ages_6-12'\n",
    "DF[ageright]"
   ]
  },
  {
   "cell_type": "code",
   "execution_count": 108,
   "id": "1dab1406-de1d-4643-9125-1c6faadac2ac",
   "metadata": {},
   "outputs": [
    {
     "data": {
      "application/vnd.plotly.v1+json": {
       "config": {
        "plotlyServerURL": "https://plot.ly"
       },
       "data": [
        {
         "bingroup": "x",
         "hovertemplate": "price_difference=11.01<br>p2p=%{x}<br>count=%{y}<extra></extra>",
         "legendgroup": "11.01",
         "marker": {
          "color": "#636efa",
          "opacity": 0.5,
          "pattern": {
           "shape": ""
          }
         },
         "name": "11.01",
         "nbinsx": 5,
         "orientation": "v",
         "showlegend": true,
         "type": "histogram",
         "x": {
          "bdata": "nTbQaQOd6j8=",
          "dtype": "f8"
         },
         "xaxis": "x",
         "yaxis": "y"
        },
        {
         "bingroup": "x",
         "hovertemplate": "price_difference=4.459999999999999<br>p2p=%{x}<br>count=%{y}<extra></extra>",
         "legendgroup": "4.459999999999999",
         "marker": {
          "color": "#EF553B",
          "opacity": 0.5,
          "pattern": {
           "shape": ""
          }
         },
         "name": "4.459999999999999",
         "nbinsx": 5,
         "orientation": "v",
         "showlegend": true,
         "type": "histogram",
         "x": {
          "bdata": "nTbQaQOd6j8=",
          "dtype": "f8"
         },
         "xaxis": "x",
         "yaxis": "y"
        },
        {
         "bingroup": "x",
         "hovertemplate": "price_difference=24.9<br>p2p=%{x}<br>count=%{y}<extra></extra>",
         "legendgroup": "24.9",
         "marker": {
          "color": "#00cc96",
          "opacity": 0.5,
          "pattern": {
           "shape": ""
          }
         },
         "name": "24.9",
         "nbinsx": 5,
         "orientation": "v",
         "showlegend": true,
         "type": "histogram",
         "x": {
          "bdata": "ZmdidiZm1z8=",
          "dtype": "f8"
         },
         "xaxis": "x",
         "yaxis": "y"
        },
        {
         "bingroup": "x",
         "hovertemplate": "price_difference=6.699999999999996<br>p2p=%{x}<br>count=%{y}<extra></extra>",
         "legendgroup": "6.699999999999996",
         "marker": {
          "color": "#ab63fa",
          "opacity": 0.5,
          "pattern": {
           "shape": ""
          }
         },
         "name": "6.699999999999996",
         "nbinsx": 5,
         "orientation": "v",
         "showlegend": true,
         "type": "histogram",
         "x": {
          "bdata": "gbxrO9yH5j8=",
          "dtype": "f8"
         },
         "xaxis": "x",
         "yaxis": "y"
        },
        {
         "bingroup": "x",
         "hovertemplate": "price_difference=17.000000000000004<br>p2p=%{x}<br>count=%{y}<extra></extra>",
         "legendgroup": "17.000000000000004",
         "marker": {
          "color": "#FFA15A",
          "opacity": 0.5,
          "pattern": {
           "shape": ""
          }
         },
         "name": "17.000000000000004",
         "nbinsx": 5,
         "orientation": "v",
         "showlegend": true,
         "type": "histogram",
         "x": {
          "bdata": "cpbNP2Oa6D8=",
          "dtype": "f8"
         },
         "xaxis": "x",
         "yaxis": "y"
        },
        {
         "bingroup": "x",
         "hovertemplate": "price_difference=0.0<br>p2p=%{x}<br>count=%{y}<extra></extra>",
         "legendgroup": "0.0",
         "marker": {
          "color": "#19d3f3",
          "opacity": 0.5,
          "pattern": {
           "shape": ""
          }
         },
         "name": "0.0",
         "nbinsx": 5,
         "orientation": "v",
         "showlegend": true,
         "type": "histogram",
         "x": {
          "bdata": "exSuR+H64z9avlNLB0zqP3sUrkfh+u0/UmYP7jHD3T//Vedfdf61P94HjDiFNbk/7gbnq8k5wT9agcWjZom8P+bks+Akxck/",
          "dtype": "f8"
         },
         "xaxis": "x",
         "yaxis": "y"
        },
        {
         "bingroup": "x",
         "hovertemplate": "price_difference=-3.0<br>p2p=%{x}<br>count=%{y}<extra></extra>",
         "legendgroup": "-3.0",
         "marker": {
          "color": "#FF6692",
          "opacity": 0.5,
          "pattern": {
           "shape": ""
          }
         },
         "name": "-3.0",
         "nbinsx": 5,
         "orientation": "v",
         "showlegend": true,
         "type": "histogram",
         "x": {
          "bdata": "6fj0tcXB7j820GkDnTbmP2OCB/NE/e8/",
          "dtype": "f8"
         },
         "xaxis": "x",
         "yaxis": "y"
        },
        {
         "bingroup": "x",
         "hovertemplate": "price_difference=8.959999999999994<br>p2p=%{x}<br>count=%{y}<extra></extra>",
         "legendgroup": "8.959999999999994",
         "marker": {
          "color": "#B6E880",
          "opacity": 0.5,
          "pattern": {
           "shape": ""
          }
         },
         "name": "8.959999999999994",
         "nbinsx": 5,
         "orientation": "v",
         "showlegend": true,
         "type": "histogram",
         "x": {
          "bdata": "oBIBtcBI8j8=",
          "dtype": "f8"
         },
         "xaxis": "x",
         "yaxis": "y"
        },
        {
         "bingroup": "x",
         "hovertemplate": "price_difference=44.510000000000005<br>p2p=%{x}<br>count=%{y}<extra></extra>",
         "legendgroup": "44.510000000000005",
         "marker": {
          "color": "#FF97FF",
          "opacity": 0.5,
          "pattern": {
           "shape": ""
          }
         },
         "name": "44.510000000000005",
         "nbinsx": 5,
         "orientation": "v",
         "showlegend": true,
         "type": "histogram",
         "x": {
          "bdata": "re0FbzZB6T8=",
          "dtype": "f8"
         },
         "xaxis": "x",
         "yaxis": "y"
        },
        {
         "bingroup": "x",
         "hovertemplate": "price_difference=69.0<br>p2p=%{x}<br>count=%{y}<extra></extra>",
         "legendgroup": "69.0",
         "marker": {
          "color": "#FECB52",
          "opacity": 0.5,
          "pattern": {
           "shape": ""
          }
         },
         "name": "69.0",
         "nbinsx": 5,
         "orientation": "v",
         "showlegend": true,
         "type": "histogram",
         "x": {
          "bdata": "ZYU2t/Lv6T8=",
          "dtype": "f8"
         },
         "xaxis": "x",
         "yaxis": "y"
        },
        {
         "bingroup": "x",
         "hovertemplate": "price_difference=-2.0<br>p2p=%{x}<br>count=%{y}<extra></extra>",
         "legendgroup": "-2.0",
         "marker": {
          "color": "#636efa",
          "opacity": 0.5,
          "pattern": {
           "shape": ""
          }
         },
         "name": "-2.0",
         "nbinsx": 5,
         "orientation": "v",
         "showlegend": true,
         "type": "histogram",
         "x": {
          "bdata": "oy8roerP6z8sNKn5AHbuP6cNdNpAp+o/LDSp+QB2vj8=",
          "dtype": "f8"
         },
         "xaxis": "x",
         "yaxis": "y"
        },
        {
         "bingroup": "x",
         "hovertemplate": "price_difference=-0.4399999999999977<br>p2p=%{x}<br>count=%{y}<extra></extra>",
         "legendgroup": "-0.4399999999999977",
         "marker": {
          "color": "#EF553B",
          "opacity": 0.5,
          "pattern": {
           "shape": ""
          }
         },
         "name": "-0.4399999999999977",
         "nbinsx": 5,
         "orientation": "v",
         "showlegend": true,
         "type": "histogram",
         "x": {
          "bdata": "uddcSJpS9T8=",
          "dtype": "f8"
         },
         "xaxis": "x",
         "yaxis": "y"
        },
        {
         "bingroup": "x",
         "hovertemplate": "price_difference=-3.9899999999999984<br>p2p=%{x}<br>count=%{y}<extra></extra>",
         "legendgroup": "-3.9899999999999984",
         "marker": {
          "color": "#00cc96",
          "opacity": 0.5,
          "pattern": {
           "shape": ""
          }
         },
         "name": "-3.9899999999999984",
         "nbinsx": 5,
         "orientation": "v",
         "showlegend": true,
         "type": "histogram",
         "x": {
          "bdata": "0DadA2rQ4j8E+7ng5EnBPw==",
          "dtype": "f8"
         },
         "xaxis": "x",
         "yaxis": "y"
        },
        {
         "bingroup": "x",
         "hovertemplate": "price_difference=11.12<br>p2p=%{x}<br>count=%{y}<extra></extra>",
         "legendgroup": "11.12",
         "marker": {
          "color": "#ab63fa",
          "opacity": 0.5,
          "pattern": {
           "shape": ""
          }
         },
         "name": "11.12",
         "nbinsx": 5,
         "orientation": "v",
         "showlegend": true,
         "type": "histogram",
         "x": {
          "bdata": "w/UoXI/C8T8=",
          "dtype": "f8"
         },
         "xaxis": "x",
         "yaxis": "y"
        },
        {
         "bingroup": "x",
         "hovertemplate": "price_difference=13.28<br>p2p=%{x}<br>count=%{y}<extra></extra>",
         "legendgroup": "13.28",
         "marker": {
          "color": "#FFA15A",
          "opacity": 0.5,
          "pattern": {
           "shape": ""
          }
         },
         "name": "13.28",
         "nbinsx": 5,
         "orientation": "v",
         "showlegend": true,
         "type": "histogram",
         "x": {
          "bdata": "pHA9Ctej6j8=",
          "dtype": "f8"
         },
         "xaxis": "x",
         "yaxis": "y"
        },
        {
         "bingroup": "x",
         "hovertemplate": "price_difference=-0.7000000000000002<br>p2p=%{x}<br>count=%{y}<extra></extra>",
         "legendgroup": "-0.7000000000000002",
         "marker": {
          "color": "#19d3f3",
          "opacity": 0.5,
          "pattern": {
           "shape": ""
          }
         },
         "name": "-0.7000000000000002",
         "nbinsx": 5,
         "orientation": "v",
         "showlegend": true,
         "type": "histogram",
         "x": {
          "bdata": "q+WNEUz07z8=",
          "dtype": "f8"
         },
         "xaxis": "x",
         "yaxis": "y"
        },
        {
         "bingroup": "x",
         "hovertemplate": "price_difference=-1.0<br>p2p=%{x}<br>count=%{y}<extra></extra>",
         "legendgroup": "-1.0",
         "marker": {
          "color": "#FF6692",
          "opacity": 0.5,
          "pattern": {
           "shape": ""
          }
         },
         "name": "-1.0",
         "nbinsx": 5,
         "orientation": "v",
         "showlegend": true,
         "type": "histogram",
         "x": {
          "bdata": "w/UoXI/C4T+KAK3tBW/GPxA1/VDTD70/Mgx2Xju8vD/akMpA3D/HPw==",
          "dtype": "f8"
         },
         "xaxis": "x",
         "yaxis": "y"
        },
        {
         "bingroup": "x",
         "hovertemplate": "price_difference=-5.0000000000000036<br>p2p=%{x}<br>count=%{y}<extra></extra>",
         "legendgroup": "-5.0000000000000036",
         "marker": {
          "color": "#B6E880",
          "opacity": 0.5,
          "pattern": {
           "shape": ""
          }
         },
         "name": "-5.0000000000000036",
         "nbinsx": 5,
         "orientation": "v",
         "showlegend": true,
         "type": "histogram",
         "x": {
          "bdata": "ec9SOkNX6D8=",
          "dtype": "f8"
         },
         "xaxis": "x",
         "yaxis": "y"
        },
        {
         "bingroup": "x",
         "hovertemplate": "price_difference=25.409999999999997<br>p2p=%{x}<br>count=%{y}<extra></extra>",
         "legendgroup": "25.409999999999997",
         "marker": {
          "color": "#FF97FF",
          "opacity": 0.5,
          "pattern": {
           "shape": ""
          }
         },
         "name": "25.409999999999997",
         "nbinsx": 5,
         "orientation": "v",
         "showlegend": true,
         "type": "histogram",
         "x": {
          "bdata": "191So6ofwD8=",
          "dtype": "f8"
         },
         "xaxis": "x",
         "yaxis": "y"
        },
        {
         "bingroup": "x",
         "hovertemplate": "price_difference=25.960000000000004<br>p2p=%{x}<br>count=%{y}<extra></extra>",
         "legendgroup": "25.960000000000004",
         "marker": {
          "color": "#FECB52",
          "opacity": 0.5,
          "pattern": {
           "shape": ""
          }
         },
         "name": "25.960000000000004",
         "nbinsx": 5,
         "orientation": "v",
         "showlegend": true,
         "type": "histogram",
         "x": {
          "bdata": "oI4ytbrytj8=",
          "dtype": "f8"
         },
         "xaxis": "x",
         "yaxis": "y"
        },
        {
         "bingroup": "x",
         "hovertemplate": "price_difference=23.890000000000004<br>p2p=%{x}<br>count=%{y}<extra></extra>",
         "legendgroup": "23.890000000000004",
         "marker": {
          "color": "#636efa",
          "opacity": 0.5,
          "pattern": {
           "shape": ""
          }
         },
         "name": "23.890000000000004",
         "nbinsx": 5,
         "orientation": "v",
         "showlegend": true,
         "type": "histogram",
         "x": {
          "bdata": "XsQjGoDftT8=",
          "dtype": "f8"
         },
         "xaxis": "x",
         "yaxis": "y"
        },
        {
         "bingroup": "x",
         "hovertemplate": "price_difference=115.00000000000001<br>p2p=%{x}<br>count=%{y}<extra></extra>",
         "legendgroup": "115.00000000000001",
         "marker": {
          "color": "#EF553B",
          "opacity": 0.5,
          "pattern": {
           "shape": ""
          }
         },
         "name": "115.00000000000001",
         "nbinsx": 5,
         "orientation": "v",
         "showlegend": true,
         "type": "histogram",
         "x": {
          "bdata": "5HyNhP/QuD8=",
          "dtype": "f8"
         },
         "xaxis": "x",
         "yaxis": "y"
        },
        {
         "bingroup": "x",
         "hovertemplate": "price_difference=4.010000000000002<br>p2p=%{x}<br>count=%{y}<extra></extra>",
         "legendgroup": "4.010000000000002",
         "marker": {
          "color": "#00cc96",
          "opacity": 0.5,
          "pattern": {
           "shape": ""
          }
         },
         "name": "4.010000000000002",
         "nbinsx": 5,
         "orientation": "v",
         "showlegend": true,
         "type": "histogram",
         "x": {
          "bdata": "SwLU1LK1rj8=",
          "dtype": "f8"
         },
         "xaxis": "x",
         "yaxis": "y"
        },
        {
         "bingroup": "x",
         "hovertemplate": "price_difference=7.0<br>p2p=%{x}<br>count=%{y}<extra></extra>",
         "legendgroup": "7.0",
         "marker": {
          "color": "#ab63fa",
          "opacity": 0.5,
          "pattern": {
           "shape": ""
          }
         },
         "name": "7.0",
         "nbinsx": 5,
         "orientation": "v",
         "showlegend": true,
         "type": "histogram",
         "x": {
          "bdata": "qvHSTWIQuD8zf3u106S4Pw==",
          "dtype": "f8"
         },
         "xaxis": "x",
         "yaxis": "y"
        },
        {
         "bingroup": "x",
         "hovertemplate": "price_difference=10.65<br>p2p=%{x}<br>count=%{y}<extra></extra>",
         "legendgroup": "10.65",
         "marker": {
          "color": "#FFA15A",
          "opacity": 0.5,
          "pattern": {
           "shape": ""
          }
         },
         "name": "10.65",
         "nbinsx": 5,
         "orientation": "v",
         "showlegend": true,
         "type": "histogram",
         "x": {
          "bdata": "M397tdOkuD8=",
          "dtype": "f8"
         },
         "xaxis": "x",
         "yaxis": "y"
        },
        {
         "bingroup": "x",
         "hovertemplate": "price_difference=3.959999999999999<br>p2p=%{x}<br>count=%{y}<extra></extra>",
         "legendgroup": "3.959999999999999",
         "marker": {
          "color": "#19d3f3",
          "opacity": 0.5,
          "pattern": {
           "shape": ""
          }
         },
         "name": "3.959999999999999",
         "nbinsx": 5,
         "orientation": "v",
         "showlegend": true,
         "type": "histogram",
         "x": {
          "bdata": "Bx8/iTqjvD8=",
          "dtype": "f8"
         },
         "xaxis": "x",
         "yaxis": "y"
        },
        {
         "bingroup": "x",
         "hovertemplate": "price_difference=-4.0<br>p2p=%{x}<br>count=%{y}<extra></extra>",
         "legendgroup": "-4.0",
         "marker": {
          "color": "#FF6692",
          "opacity": 0.5,
          "pattern": {
           "shape": ""
          }
         },
         "name": "-4.0",
         "nbinsx": 5,
         "orientation": "v",
         "showlegend": true,
         "type": "histogram",
         "x": {
          "bdata": "cDv8G89gvj8=",
          "dtype": "f8"
         },
         "xaxis": "x",
         "yaxis": "y"
        },
        {
         "bingroup": "x",
         "hovertemplate": "price_difference=-6.999999999999993<br>p2p=%{x}<br>count=%{y}<extra></extra>",
         "legendgroup": "-6.999999999999993",
         "marker": {
          "color": "#B6E880",
          "opacity": 0.5,
          "pattern": {
           "shape": ""
          }
         },
         "name": "-6.999999999999993",
         "nbinsx": 5,
         "orientation": "v",
         "showlegend": true,
         "type": "histogram",
         "x": {
          "bdata": "YQQ6/zEPuT8=",
          "dtype": "f8"
         },
         "xaxis": "x",
         "yaxis": "y"
        },
        {
         "bingroup": "x",
         "hovertemplate": "price_difference=-9.990000000000002<br>p2p=%{x}<br>count=%{y}<extra></extra>",
         "legendgroup": "-9.990000000000002",
         "marker": {
          "color": "#FF97FF",
          "opacity": 0.5,
          "pattern": {
           "shape": ""
          }
         },
         "name": "-9.990000000000002",
         "nbinsx": 5,
         "orientation": "v",
         "showlegend": true,
         "type": "histogram",
         "x": {
          "bdata": "UoKLHk9Yuz8=",
          "dtype": "f8"
         },
         "xaxis": "x",
         "yaxis": "y"
        },
        {
         "bingroup": "x",
         "hovertemplate": "price_difference=11.280000000000001<br>p2p=%{x}<br>count=%{y}<extra></extra>",
         "legendgroup": "11.280000000000001",
         "marker": {
          "color": "#FECB52",
          "opacity": 0.5,
          "pattern": {
           "shape": ""
          }
         },
         "name": "11.280000000000001",
         "nbinsx": 5,
         "orientation": "v",
         "showlegend": true,
         "type": "histogram",
         "x": {
          "bdata": "K/dRb4K+tj8=",
          "dtype": "f8"
         },
         "xaxis": "x",
         "yaxis": "y"
        },
        {
         "bingroup": "x",
         "hovertemplate": "price_difference=-8.32<br>p2p=%{x}<br>count=%{y}<extra></extra>",
         "legendgroup": "-8.32",
         "marker": {
          "color": "#636efa",
          "opacity": 0.5,
          "pattern": {
           "shape": ""
          }
         },
         "name": "-8.32",
         "nbinsx": 5,
         "orientation": "v",
         "showlegend": true,
         "type": "histogram",
         "x": {
          "bdata": "HX+C2sozvD8=",
          "dtype": "f8"
         },
         "xaxis": "x",
         "yaxis": "y"
        },
        {
         "bingroup": "x",
         "hovertemplate": "price_difference=-1.4600000000000009<br>p2p=%{x}<br>count=%{y}<extra></extra>",
         "legendgroup": "-1.4600000000000009",
         "marker": {
          "color": "#EF553B",
          "opacity": 0.5,
          "pattern": {
           "shape": ""
          }
         },
         "name": "-1.4600000000000009",
         "nbinsx": 5,
         "orientation": "v",
         "showlegend": true,
         "type": "histogram",
         "x": {
          "bdata": "04WNLhfiwD8=",
          "dtype": "f8"
         },
         "xaxis": "x",
         "yaxis": "y"
        },
        {
         "bingroup": "x",
         "hovertemplate": "price_difference=8.94<br>p2p=%{x}<br>count=%{y}<extra></extra>",
         "legendgroup": "8.94",
         "marker": {
          "color": "#00cc96",
          "opacity": 0.5,
          "pattern": {
           "shape": ""
          }
         },
         "name": "8.94",
         "nbinsx": 5,
         "orientation": "v",
         "showlegend": true,
         "type": "histogram",
         "x": {
          "bdata": "fLcC26gYyj8=",
          "dtype": "f8"
         },
         "xaxis": "x",
         "yaxis": "y"
        },
        {
         "bingroup": "x",
         "hovertemplate": "price_difference=7.979999999999999<br>p2p=%{x}<br>count=%{y}<extra></extra>",
         "legendgroup": "7.979999999999999",
         "marker": {
          "color": "#ab63fa",
          "opacity": 0.5,
          "pattern": {
           "shape": ""
          }
         },
         "name": "7.979999999999999",
         "nbinsx": 5,
         "orientation": "v",
         "showlegend": true,
         "type": "histogram",
         "x": {
          "bdata": "K4cW2c73zz8=",
          "dtype": "f8"
         },
         "xaxis": "x",
         "yaxis": "y"
        },
        {
         "bingroup": "x",
         "hovertemplate": "price_difference=5.33<br>p2p=%{x}<br>count=%{y}<extra></extra>",
         "legendgroup": "5.33",
         "marker": {
          "color": "#FFA15A",
          "opacity": 0.5,
          "pattern": {
           "shape": ""
          }
         },
         "name": "5.33",
         "nbinsx": 5,
         "orientation": "v",
         "showlegend": true,
         "type": "histogram",
         "x": {
          "bdata": "SOF6FK5H0T8=",
          "dtype": "f8"
         },
         "xaxis": "x",
         "yaxis": "y"
        },
        {
         "bingroup": "x",
         "hovertemplate": "price_difference=-0.03999999999999915<br>p2p=%{x}<br>count=%{y}<extra></extra>",
         "legendgroup": "-0.03999999999999915",
         "marker": {
          "color": "#19d3f3",
          "opacity": 0.5,
          "pattern": {
           "shape": ""
          }
         },
         "name": "-0.03999999999999915",
         "nbinsx": 5,
         "orientation": "v",
         "showlegend": true,
         "type": "histogram",
         "x": {
          "bdata": "6eqIIwzzwD+VE5DaGWK2P8VmykK00rw/",
          "dtype": "f8"
         },
         "xaxis": "x",
         "yaxis": "y"
        },
        {
         "bingroup": "x",
         "hovertemplate": "price_difference=-0.03999999999999204<br>p2p=%{x}<br>count=%{y}<extra></extra>",
         "legendgroup": "-0.03999999999999204",
         "marker": {
          "color": "#FF6692",
          "opacity": 0.5,
          "pattern": {
           "shape": ""
          }
         },
         "name": "-0.03999999999999204",
         "nbinsx": 5,
         "orientation": "v",
         "showlegend": true,
         "type": "histogram",
         "x": {
          "bdata": "v5uwU9qZvz8=",
          "dtype": "f8"
         },
         "xaxis": "x",
         "yaxis": "y"
        },
        {
         "bingroup": "x",
         "hovertemplate": "price_difference=23.9<br>p2p=%{x}<br>count=%{y}<extra></extra>",
         "legendgroup": "23.9",
         "marker": {
          "color": "#B6E880",
          "opacity": 0.5,
          "pattern": {
           "shape": ""
          }
         },
         "name": "23.9",
         "nbinsx": 5,
         "orientation": "v",
         "showlegend": true,
         "type": "histogram",
         "x": {
          "bdata": "ghwtwX4uyD8=",
          "dtype": "f8"
         },
         "xaxis": "x",
         "yaxis": "y"
        },
        {
         "bingroup": "x",
         "hovertemplate": "price_difference=6.499999999999998<br>p2p=%{x}<br>count=%{y}<extra></extra>",
         "legendgroup": "6.499999999999998",
         "marker": {
          "color": "#FF97FF",
          "opacity": 0.5,
          "pattern": {
           "shape": ""
          }
         },
         "name": "6.499999999999998",
         "nbinsx": 5,
         "orientation": "v",
         "showlegend": true,
         "type": "histogram",
         "x": {
          "bdata": "EDX9UNMPvT8=",
          "dtype": "f8"
         },
         "xaxis": "x",
         "yaxis": "y"
        },
        {
         "bingroup": "x",
         "hovertemplate": "price_difference=24.759999999999998<br>p2p=%{x}<br>count=%{y}<extra></extra>",
         "legendgroup": "24.759999999999998",
         "marker": {
          "color": "#FECB52",
          "opacity": 0.5,
          "pattern": {
           "shape": ""
          }
         },
         "name": "24.759999999999998",
         "nbinsx": 5,
         "orientation": "v",
         "showlegend": true,
         "type": "histogram",
         "x": {
          "bdata": "59sWaRg8wT8=",
          "dtype": "f8"
         },
         "xaxis": "x",
         "yaxis": "y"
        },
        {
         "bingroup": "x",
         "hovertemplate": "price_difference=36.0<br>p2p=%{x}<br>count=%{y}<extra></extra>",
         "legendgroup": "36.0",
         "marker": {
          "color": "#636efa",
          "opacity": 0.5,
          "pattern": {
           "shape": ""
          }
         },
         "name": "36.0",
         "nbinsx": 5,
         "orientation": "v",
         "showlegend": true,
         "type": "histogram",
         "x": {
          "bdata": "5uOxl3FRtj8=",
          "dtype": "f8"
         },
         "xaxis": "x",
         "yaxis": "y"
        },
        {
         "bingroup": "x",
         "hovertemplate": "price_difference=39.96000000000001<br>p2p=%{x}<br>count=%{y}<extra></extra>",
         "legendgroup": "39.96000000000001",
         "marker": {
          "color": "#EF553B",
          "opacity": 0.5,
          "pattern": {
           "shape": ""
          }
         },
         "name": "39.96000000000001",
         "nbinsx": 5,
         "orientation": "v",
         "showlegend": true,
         "type": "histogram",
         "x": {
          "bdata": "XRIOWRTEuD8=",
          "dtype": "f8"
         },
         "xaxis": "x",
         "yaxis": "y"
        },
        {
         "bingroup": "x",
         "hovertemplate": "price_difference=11.999999999999998<br>p2p=%{x}<br>count=%{y}<extra></extra>",
         "legendgroup": "11.999999999999998",
         "marker": {
          "color": "#00cc96",
          "opacity": 0.5,
          "pattern": {
           "shape": ""
          }
         },
         "name": "11.999999999999998",
         "nbinsx": 5,
         "orientation": "v",
         "showlegend": true,
         "type": "histogram",
         "x": {
          "bdata": "MD8D8zMwvz8=",
          "dtype": "f8"
         },
         "xaxis": "x",
         "yaxis": "y"
        },
        {
         "bingroup": "x",
         "hovertemplate": "price_difference=29.999999999999993<br>p2p=%{x}<br>count=%{y}<extra></extra>",
         "legendgroup": "29.999999999999993",
         "marker": {
          "color": "#ab63fa",
          "opacity": 0.5,
          "pattern": {
           "shape": ""
          }
         },
         "name": "29.999999999999993",
         "nbinsx": 5,
         "orientation": "v",
         "showlegend": true,
         "type": "histogram",
         "x": {
          "bdata": "NydjczI2zz8=",
          "dtype": "f8"
         },
         "xaxis": "x",
         "yaxis": "y"
        },
        {
         "bingroup": "x",
         "hovertemplate": "price_difference=-8.530000000000001<br>p2p=%{x}<br>count=%{y}<extra></extra>",
         "legendgroup": "-8.530000000000001",
         "marker": {
          "color": "#FFA15A",
          "opacity": 0.5,
          "pattern": {
           "shape": ""
          }
         },
         "name": "-8.530000000000001",
         "nbinsx": 5,
         "orientation": "v",
         "showlegend": true,
         "type": "histogram",
         "x": {
          "bdata": "Ft50VPl6xz8=",
          "dtype": "f8"
         },
         "xaxis": "x",
         "yaxis": "y"
        },
        {
         "bingroup": "x",
         "hovertemplate": "price_difference=3.84<br>p2p=%{x}<br>count=%{y}<extra></extra>",
         "legendgroup": "3.84",
         "marker": {
          "color": "#19d3f3",
          "opacity": 0.5,
          "pattern": {
           "shape": ""
          }
         },
         "name": "3.84",
         "nbinsx": 5,
         "orientation": "v",
         "showlegend": true,
         "type": "histogram",
         "x": {
          "bdata": "B5yKF+lgyj8=",
          "dtype": "f8"
         },
         "xaxis": "x",
         "yaxis": "y"
        },
        {
         "bingroup": "x",
         "hovertemplate": "price_difference=-13.989999999999995<br>p2p=%{x}<br>count=%{y}<extra></extra>",
         "legendgroup": "-13.989999999999995",
         "marker": {
          "color": "#FF6692",
          "opacity": 0.5,
          "pattern": {
           "shape": ""
          }
         },
         "name": "-13.989999999999995",
         "nbinsx": 5,
         "orientation": "v",
         "showlegend": true,
         "type": "histogram",
         "x": {
          "bdata": "0IApzcKZwT8=",
          "dtype": "f8"
         },
         "xaxis": "x",
         "yaxis": "y"
        },
        {
         "bingroup": "x",
         "hovertemplate": "price_difference=-6.0<br>p2p=%{x}<br>count=%{y}<extra></extra>",
         "legendgroup": "-6.0",
         "marker": {
          "color": "#B6E880",
          "opacity": 0.5,
          "pattern": {
           "shape": ""
          }
         },
         "name": "-6.0",
         "nbinsx": 5,
         "orientation": "v",
         "showlegend": true,
         "type": "histogram",
         "x": {
          "bdata": "ygCMr0snxT8=",
          "dtype": "f8"
         },
         "xaxis": "x",
         "yaxis": "y"
        },
        {
         "bingroup": "x",
         "hovertemplate": "price_difference=24.81<br>p2p=%{x}<br>count=%{y}<extra></extra>",
         "legendgroup": "24.81",
         "marker": {
          "color": "#FF97FF",
          "opacity": 0.5,
          "pattern": {
           "shape": ""
          }
         },
         "name": "24.81",
         "nbinsx": 5,
         "orientation": "v",
         "showlegend": true,
         "type": "histogram",
         "x": {
          "bdata": "O7dnUQNytT8=",
          "dtype": "f8"
         },
         "xaxis": "x",
         "yaxis": "y"
        },
        {
         "bingroup": "x",
         "hovertemplate": "price_difference=-8.000000000000004<br>p2p=%{x}<br>count=%{y}<extra></extra>",
         "legendgroup": "-8.000000000000004",
         "marker": {
          "color": "#FECB52",
          "opacity": 0.5,
          "pattern": {
           "shape": ""
          }
         },
         "name": "-8.000000000000004",
         "nbinsx": 5,
         "orientation": "v",
         "showlegend": true,
         "type": "histogram",
         "x": {
          "bdata": "ZpJZzPi/wj8=",
          "dtype": "f8"
         },
         "xaxis": "x",
         "yaxis": "y"
        },
        {
         "bingroup": "x",
         "hovertemplate": "price_difference=-4.010000000000005<br>p2p=%{x}<br>count=%{y}<extra></extra>",
         "legendgroup": "-4.010000000000005",
         "marker": {
          "color": "#636efa",
          "opacity": 0.5,
          "pattern": {
           "shape": ""
          }
         },
         "name": "-4.010000000000005",
         "nbinsx": 5,
         "orientation": "v",
         "showlegend": true,
         "type": "histogram",
         "x": {
          "bdata": "eFOQiRglyD8=",
          "dtype": "f8"
         },
         "xaxis": "x",
         "yaxis": "y"
        },
        {
         "bingroup": "x",
         "hovertemplate": "price_difference=-7.25<br>p2p=%{x}<br>count=%{y}<extra></extra>",
         "legendgroup": "-7.25",
         "marker": {
          "color": "#EF553B",
          "opacity": 0.5,
          "pattern": {
           "shape": ""
          }
         },
         "name": "-7.25",
         "nbinsx": 5,
         "orientation": "v",
         "showlegend": true,
         "type": "histogram",
         "x": {
          "bdata": "/Il9SUE2xT8=",
          "dtype": "f8"
         },
         "xaxis": "x",
         "yaxis": "y"
        },
        {
         "bingroup": "x",
         "hovertemplate": "price_difference=-6.009999999999998<br>p2p=%{x}<br>count=%{y}<extra></extra>",
         "legendgroup": "-6.009999999999998",
         "marker": {
          "color": "#00cc96",
          "opacity": 0.5,
          "pattern": {
           "shape": ""
          }
         },
         "name": "-6.009999999999998",
         "nbinsx": 5,
         "orientation": "v",
         "showlegend": true,
         "type": "histogram",
         "x": {
          "bdata": "o2Q2Smaj1D8=",
          "dtype": "f8"
         },
         "xaxis": "x",
         "yaxis": "y"
        },
        {
         "bingroup": "x",
         "hovertemplate": "price_difference=-3.9999999999999982<br>p2p=%{x}<br>count=%{y}<extra></extra>",
         "legendgroup": "-3.9999999999999982",
         "marker": {
          "color": "#ab63fa",
          "opacity": 0.5,
          "pattern": {
           "shape": ""
          }
         },
         "name": "-3.9999999999999982",
         "nbinsx": 5,
         "orientation": "v",
         "showlegend": true,
         "type": "histogram",
         "x": {
          "bdata": "HXgbUatOxD8=",
          "dtype": "f8"
         },
         "xaxis": "x",
         "yaxis": "y"
        }
       ],
       "layout": {
        "barmode": "relative",
        "legend": {
         "title": {
          "text": "price_difference"
         },
         "tracegroupgap": 0
        },
        "template": {
         "data": {
          "bar": [
           {
            "error_x": {
             "color": "#2a3f5f"
            },
            "error_y": {
             "color": "#2a3f5f"
            },
            "marker": {
             "line": {
              "color": "#E5ECF6",
              "width": 0.5
             },
             "pattern": {
              "fillmode": "overlay",
              "size": 10,
              "solidity": 0.2
             }
            },
            "type": "bar"
           }
          ],
          "barpolar": [
           {
            "marker": {
             "line": {
              "color": "#E5ECF6",
              "width": 0.5
             },
             "pattern": {
              "fillmode": "overlay",
              "size": 10,
              "solidity": 0.2
             }
            },
            "type": "barpolar"
           }
          ],
          "carpet": [
           {
            "aaxis": {
             "endlinecolor": "#2a3f5f",
             "gridcolor": "white",
             "linecolor": "white",
             "minorgridcolor": "white",
             "startlinecolor": "#2a3f5f"
            },
            "baxis": {
             "endlinecolor": "#2a3f5f",
             "gridcolor": "white",
             "linecolor": "white",
             "minorgridcolor": "white",
             "startlinecolor": "#2a3f5f"
            },
            "type": "carpet"
           }
          ],
          "choropleth": [
           {
            "colorbar": {
             "outlinewidth": 0,
             "ticks": ""
            },
            "type": "choropleth"
           }
          ],
          "contour": [
           {
            "colorbar": {
             "outlinewidth": 0,
             "ticks": ""
            },
            "colorscale": [
             [
              0,
              "#0d0887"
             ],
             [
              0.1111111111111111,
              "#46039f"
             ],
             [
              0.2222222222222222,
              "#7201a8"
             ],
             [
              0.3333333333333333,
              "#9c179e"
             ],
             [
              0.4444444444444444,
              "#bd3786"
             ],
             [
              0.5555555555555556,
              "#d8576b"
             ],
             [
              0.6666666666666666,
              "#ed7953"
             ],
             [
              0.7777777777777778,
              "#fb9f3a"
             ],
             [
              0.8888888888888888,
              "#fdca26"
             ],
             [
              1,
              "#f0f921"
             ]
            ],
            "type": "contour"
           }
          ],
          "contourcarpet": [
           {
            "colorbar": {
             "outlinewidth": 0,
             "ticks": ""
            },
            "type": "contourcarpet"
           }
          ],
          "heatmap": [
           {
            "colorbar": {
             "outlinewidth": 0,
             "ticks": ""
            },
            "colorscale": [
             [
              0,
              "#0d0887"
             ],
             [
              0.1111111111111111,
              "#46039f"
             ],
             [
              0.2222222222222222,
              "#7201a8"
             ],
             [
              0.3333333333333333,
              "#9c179e"
             ],
             [
              0.4444444444444444,
              "#bd3786"
             ],
             [
              0.5555555555555556,
              "#d8576b"
             ],
             [
              0.6666666666666666,
              "#ed7953"
             ],
             [
              0.7777777777777778,
              "#fb9f3a"
             ],
             [
              0.8888888888888888,
              "#fdca26"
             ],
             [
              1,
              "#f0f921"
             ]
            ],
            "type": "heatmap"
           }
          ],
          "histogram": [
           {
            "marker": {
             "pattern": {
              "fillmode": "overlay",
              "size": 10,
              "solidity": 0.2
             }
            },
            "type": "histogram"
           }
          ],
          "histogram2d": [
           {
            "colorbar": {
             "outlinewidth": 0,
             "ticks": ""
            },
            "colorscale": [
             [
              0,
              "#0d0887"
             ],
             [
              0.1111111111111111,
              "#46039f"
             ],
             [
              0.2222222222222222,
              "#7201a8"
             ],
             [
              0.3333333333333333,
              "#9c179e"
             ],
             [
              0.4444444444444444,
              "#bd3786"
             ],
             [
              0.5555555555555556,
              "#d8576b"
             ],
             [
              0.6666666666666666,
              "#ed7953"
             ],
             [
              0.7777777777777778,
              "#fb9f3a"
             ],
             [
              0.8888888888888888,
              "#fdca26"
             ],
             [
              1,
              "#f0f921"
             ]
            ],
            "type": "histogram2d"
           }
          ],
          "histogram2dcontour": [
           {
            "colorbar": {
             "outlinewidth": 0,
             "ticks": ""
            },
            "colorscale": [
             [
              0,
              "#0d0887"
             ],
             [
              0.1111111111111111,
              "#46039f"
             ],
             [
              0.2222222222222222,
              "#7201a8"
             ],
             [
              0.3333333333333333,
              "#9c179e"
             ],
             [
              0.4444444444444444,
              "#bd3786"
             ],
             [
              0.5555555555555556,
              "#d8576b"
             ],
             [
              0.6666666666666666,
              "#ed7953"
             ],
             [
              0.7777777777777778,
              "#fb9f3a"
             ],
             [
              0.8888888888888888,
              "#fdca26"
             ],
             [
              1,
              "#f0f921"
             ]
            ],
            "type": "histogram2dcontour"
           }
          ],
          "mesh3d": [
           {
            "colorbar": {
             "outlinewidth": 0,
             "ticks": ""
            },
            "type": "mesh3d"
           }
          ],
          "parcoords": [
           {
            "line": {
             "colorbar": {
              "outlinewidth": 0,
              "ticks": ""
             }
            },
            "type": "parcoords"
           }
          ],
          "pie": [
           {
            "automargin": true,
            "type": "pie"
           }
          ],
          "scatter": [
           {
            "fillpattern": {
             "fillmode": "overlay",
             "size": 10,
             "solidity": 0.2
            },
            "type": "scatter"
           }
          ],
          "scatter3d": [
           {
            "line": {
             "colorbar": {
              "outlinewidth": 0,
              "ticks": ""
             }
            },
            "marker": {
             "colorbar": {
              "outlinewidth": 0,
              "ticks": ""
             }
            },
            "type": "scatter3d"
           }
          ],
          "scattercarpet": [
           {
            "marker": {
             "colorbar": {
              "outlinewidth": 0,
              "ticks": ""
             }
            },
            "type": "scattercarpet"
           }
          ],
          "scattergeo": [
           {
            "marker": {
             "colorbar": {
              "outlinewidth": 0,
              "ticks": ""
             }
            },
            "type": "scattergeo"
           }
          ],
          "scattergl": [
           {
            "marker": {
             "colorbar": {
              "outlinewidth": 0,
              "ticks": ""
             }
            },
            "type": "scattergl"
           }
          ],
          "scattermap": [
           {
            "marker": {
             "colorbar": {
              "outlinewidth": 0,
              "ticks": ""
             }
            },
            "type": "scattermap"
           }
          ],
          "scattermapbox": [
           {
            "marker": {
             "colorbar": {
              "outlinewidth": 0,
              "ticks": ""
             }
            },
            "type": "scattermapbox"
           }
          ],
          "scatterpolar": [
           {
            "marker": {
             "colorbar": {
              "outlinewidth": 0,
              "ticks": ""
             }
            },
            "type": "scatterpolar"
           }
          ],
          "scatterpolargl": [
           {
            "marker": {
             "colorbar": {
              "outlinewidth": 0,
              "ticks": ""
             }
            },
            "type": "scatterpolargl"
           }
          ],
          "scatterternary": [
           {
            "marker": {
             "colorbar": {
              "outlinewidth": 0,
              "ticks": ""
             }
            },
            "type": "scatterternary"
           }
          ],
          "surface": [
           {
            "colorbar": {
             "outlinewidth": 0,
             "ticks": ""
            },
            "colorscale": [
             [
              0,
              "#0d0887"
             ],
             [
              0.1111111111111111,
              "#46039f"
             ],
             [
              0.2222222222222222,
              "#7201a8"
             ],
             [
              0.3333333333333333,
              "#9c179e"
             ],
             [
              0.4444444444444444,
              "#bd3786"
             ],
             [
              0.5555555555555556,
              "#d8576b"
             ],
             [
              0.6666666666666666,
              "#ed7953"
             ],
             [
              0.7777777777777778,
              "#fb9f3a"
             ],
             [
              0.8888888888888888,
              "#fdca26"
             ],
             [
              1,
              "#f0f921"
             ]
            ],
            "type": "surface"
           }
          ],
          "table": [
           {
            "cells": {
             "fill": {
              "color": "#EBF0F8"
             },
             "line": {
              "color": "white"
             }
            },
            "header": {
             "fill": {
              "color": "#C8D4E3"
             },
             "line": {
              "color": "white"
             }
            },
            "type": "table"
           }
          ]
         },
         "layout": {
          "annotationdefaults": {
           "arrowcolor": "#2a3f5f",
           "arrowhead": 0,
           "arrowwidth": 1
          },
          "autotypenumbers": "strict",
          "coloraxis": {
           "colorbar": {
            "outlinewidth": 0,
            "ticks": ""
           }
          },
          "colorscale": {
           "diverging": [
            [
             0,
             "#8e0152"
            ],
            [
             0.1,
             "#c51b7d"
            ],
            [
             0.2,
             "#de77ae"
            ],
            [
             0.3,
             "#f1b6da"
            ],
            [
             0.4,
             "#fde0ef"
            ],
            [
             0.5,
             "#f7f7f7"
            ],
            [
             0.6,
             "#e6f5d0"
            ],
            [
             0.7,
             "#b8e186"
            ],
            [
             0.8,
             "#7fbc41"
            ],
            [
             0.9,
             "#4d9221"
            ],
            [
             1,
             "#276419"
            ]
           ],
           "sequential": [
            [
             0,
             "#0d0887"
            ],
            [
             0.1111111111111111,
             "#46039f"
            ],
            [
             0.2222222222222222,
             "#7201a8"
            ],
            [
             0.3333333333333333,
             "#9c179e"
            ],
            [
             0.4444444444444444,
             "#bd3786"
            ],
            [
             0.5555555555555556,
             "#d8576b"
            ],
            [
             0.6666666666666666,
             "#ed7953"
            ],
            [
             0.7777777777777778,
             "#fb9f3a"
            ],
            [
             0.8888888888888888,
             "#fdca26"
            ],
            [
             1,
             "#f0f921"
            ]
           ],
           "sequentialminus": [
            [
             0,
             "#0d0887"
            ],
            [
             0.1111111111111111,
             "#46039f"
            ],
            [
             0.2222222222222222,
             "#7201a8"
            ],
            [
             0.3333333333333333,
             "#9c179e"
            ],
            [
             0.4444444444444444,
             "#bd3786"
            ],
            [
             0.5555555555555556,
             "#d8576b"
            ],
            [
             0.6666666666666666,
             "#ed7953"
            ],
            [
             0.7777777777777778,
             "#fb9f3a"
            ],
            [
             0.8888888888888888,
             "#fdca26"
            ],
            [
             1,
             "#f0f921"
            ]
           ]
          },
          "colorway": [
           "#636efa",
           "#EF553B",
           "#00cc96",
           "#ab63fa",
           "#FFA15A",
           "#19d3f3",
           "#FF6692",
           "#B6E880",
           "#FF97FF",
           "#FECB52"
          ],
          "font": {
           "color": "#2a3f5f"
          },
          "geo": {
           "bgcolor": "white",
           "lakecolor": "white",
           "landcolor": "#E5ECF6",
           "showlakes": true,
           "showland": true,
           "subunitcolor": "white"
          },
          "hoverlabel": {
           "align": "left"
          },
          "hovermode": "closest",
          "mapbox": {
           "style": "light"
          },
          "paper_bgcolor": "white",
          "plot_bgcolor": "#E5ECF6",
          "polar": {
           "angularaxis": {
            "gridcolor": "white",
            "linecolor": "white",
            "ticks": ""
           },
           "bgcolor": "#E5ECF6",
           "radialaxis": {
            "gridcolor": "white",
            "linecolor": "white",
            "ticks": ""
           }
          },
          "scene": {
           "xaxis": {
            "backgroundcolor": "#E5ECF6",
            "gridcolor": "white",
            "gridwidth": 2,
            "linecolor": "white",
            "showbackground": true,
            "ticks": "",
            "zerolinecolor": "white"
           },
           "yaxis": {
            "backgroundcolor": "#E5ECF6",
            "gridcolor": "white",
            "gridwidth": 2,
            "linecolor": "white",
            "showbackground": true,
            "ticks": "",
            "zerolinecolor": "white"
           },
           "zaxis": {
            "backgroundcolor": "#E5ECF6",
            "gridcolor": "white",
            "gridwidth": 2,
            "linecolor": "white",
            "showbackground": true,
            "ticks": "",
            "zerolinecolor": "white"
           }
          },
          "shapedefaults": {
           "line": {
            "color": "#2a3f5f"
           }
          },
          "ternary": {
           "aaxis": {
            "gridcolor": "white",
            "linecolor": "white",
            "ticks": ""
           },
           "baxis": {
            "gridcolor": "white",
            "linecolor": "white",
            "ticks": ""
           },
           "bgcolor": "#E5ECF6",
           "caxis": {
            "gridcolor": "white",
            "linecolor": "white",
            "ticks": ""
           }
          },
          "title": {
           "x": 0.05
          },
          "xaxis": {
           "automargin": true,
           "gridcolor": "white",
           "linecolor": "white",
           "ticks": "",
           "title": {
            "standoff": 15
           },
           "zerolinecolor": "white",
           "zerolinewidth": 2
          },
          "yaxis": {
           "automargin": true,
           "gridcolor": "white",
           "linecolor": "white",
           "ticks": "",
           "title": {
            "standoff": 15
           },
           "zerolinecolor": "white",
           "zerolinewidth": 2
          }
         }
        },
        "title": {
         "text": "Price to piece v.s. Amazon price difference"
        },
        "xaxis": {
         "anchor": "y",
         "domain": [
          0,
          1
         ],
         "title": {
          "text": "p2p"
         }
        },
        "yaxis": {
         "anchor": "x",
         "domain": [
          0,
          1
         ],
         "title": {
          "text": "count"
         }
        }
       }
      },
      "image/png": "[encoded data removed]"
     },
     "metadata": {},
     "output_type": "display_data"
    }
   ],
   "source": [
    "fig = px.histogram(DF,\n",
    "              x='p2p',\n",
    "                   nbins=5,\n",
    "              color='price_difference',\n",
    "                       hover_name='set_name',     \n",
    "\n",
    "              opacity=0.5,\n",
    "                title='Price to piece v.s. Amazon price difference', \n",
    "                  )\n",
    "fig.show()"
   ]
  },
  {
   "cell_type": "code",
   "execution_count": 105,
   "id": "cf843921-4f0b-4437-93c1-43f68ebb2dee",
   "metadata": {},
   "outputs": [
    {
     "data": {
      "text/html": [
       "<!--| quarto-html-table-processing: none -->\n",
       "<table id=\"itables_e3dfd435_37c1_43dc_a27e_f7344c9c17a3\"><tbody><tr>\n",
       "    <td style=\"vertical-align:middle; text-align:left\">\n",
       "    <a href=https://mwouts.github.io/itables/><svg class=\"main-svg\" xmlns=\"http://www.w3.org/2000/svg\" xmlns:xlink=\"http://www.w3.org/1999/xlink\"\n",
       "width=\"64\" viewBox=\"0 0 500 400\" style=\"font-family: 'Droid Sans', sans-serif;\">\n",
       "    <g style=\"fill:#d9d7fc\">\n",
       "        <path d=\"M100,400H500V357H100Z\" />\n",
       "        <path d=\"M100,300H400V257H100Z\" />\n",
       "        <path d=\"M0,200H400V157H0Z\" />\n",
       "        <path d=\"M100,100H500V57H100Z\" />\n",
       "        <path d=\"M100,350H500V307H100Z\" />\n",
       "        <path d=\"M100,250H400V207H100Z\" />\n",
       "        <path d=\"M0,150H400V107H0Z\" />\n",
       "        <path d=\"M100,50H500V7H100Z\" />\n",
       "    </g>\n",
       "    <g style=\"fill:#1a1366;stroke:#1a1366;\">\n",
       "   <rect x=\"100\" y=\"7\" width=\"400\" height=\"43\">\n",
       "    <animate\n",
       "      attributeName=\"width\"\n",
       "      values=\"0;400;0\"\n",
       "      dur=\"5s\"\n",
       "      repeatCount=\"indefinite\" />\n",
       "      <animate\n",
       "      attributeName=\"x\"\n",
       "      values=\"100;100;500\"\n",
       "      dur=\"5s\"\n",
       "      repeatCount=\"indefinite\" />\n",
       "  </rect>\n",
       "        <rect x=\"0\" y=\"107\" width=\"400\" height=\"43\">\n",
       "    <animate\n",
       "      attributeName=\"width\"\n",
       "      values=\"0;400;0\"\n",
       "      dur=\"3.5s\"\n",
       "      repeatCount=\"indefinite\" />\n",
       "    <animate\n",
       "      attributeName=\"x\"\n",
       "      values=\"0;0;400\"\n",
       "      dur=\"3.5s\"\n",
       "      repeatCount=\"indefinite\" />\n",
       "  </rect>\n",
       "        <rect x=\"100\" y=\"207\" width=\"300\" height=\"43\">\n",
       "    <animate\n",
       "      attributeName=\"width\"\n",
       "      values=\"0;300;0\"\n",
       "      dur=\"3s\"\n",
       "      repeatCount=\"indefinite\" />\n",
       "    <animate\n",
       "      attributeName=\"x\"\n",
       "      values=\"100;100;400\"\n",
       "      dur=\"3s\"\n",
       "      repeatCount=\"indefinite\" />\n",
       "  </rect>\n",
       "        <rect x=\"100\" y=\"307\" width=\"400\" height=\"43\">\n",
       "    <animate\n",
       "      attributeName=\"width\"\n",
       "      values=\"0;400;0\"\n",
       "      dur=\"4s\"\n",
       "      repeatCount=\"indefinite\" />\n",
       "      <animate\n",
       "      attributeName=\"x\"\n",
       "      values=\"100;100;500\"\n",
       "      dur=\"4s\"\n",
       "      repeatCount=\"indefinite\" />\n",
       "  </rect>\n",
       "        <g style=\"fill:transparent;stroke-width:8; stroke-linejoin:round\" rx=\"5\">\n",
       "            <g transform=\"translate(45 50) rotate(-45)\">\n",
       "                <circle r=\"33\" cx=\"0\" cy=\"0\" />\n",
       "                <rect x=\"-8\" y=\"32\" width=\"16\" height=\"30\" />\n",
       "            </g>\n",
       "\n",
       "            <g transform=\"translate(450 152)\">\n",
       "                <polyline points=\"-15,-20 -35,-20 -35,40 25,40 25,20\" />\n",
       "                <rect x=\"-15\" y=\"-40\" width=\"60\" height=\"60\" />\n",
       "            </g>\n",
       "\n",
       "            <g transform=\"translate(50 352)\">\n",
       "                <polygon points=\"-35,-5 0,-40 35,-5\" />\n",
       "                <polygon points=\"-35,10 0,45 35,10\" />\n",
       "            </g>\n",
       "\n",
       "            <g transform=\"translate(75 250)\">\n",
       "                <polyline points=\"-30,30 -60,0 -30,-30\" />\n",
       "                <polyline points=\"0,30 -30,0 0,-30\" />\n",
       "            </g>\n",
       "\n",
       "            <g transform=\"translate(425 250) rotate(180)\">\n",
       "                <polyline points=\"-30,30 -60,0 -30,-30\" />\n",
       "                <polyline points=\"0,30 -30,0 0,-30\" />\n",
       "            </g>\n",
       "        </g>\n",
       "    </g>\n",
       "</svg>\n",
       "</a>\n",
       "    Loading ITables v2.5.2 from the internet...\n",
       "    (need <a href=https://mwouts.github.io/itables/troubleshooting.html>help</a>?)</td>\n",
       "    </tr></tbody></table>\n",
       "<link href=\"https://www.unpkg.com/dt_for_itables@2.4.0/dt_bundle.css\" rel=\"stylesheet\">\n",
       "<script type=\"module\">\n",
       "    import { ITable, jQuery as $ } from 'https://www.unpkg.com/dt_for_itables@2.4.0/dt_bundle.js';\n",
       "\n",
       "    document.querySelectorAll(\"#itables_e3dfd435_37c1_43dc_a27e_f7344c9c17a3:not(.dataTable)\").forEach(table => {\n",
       "        if (!(table instanceof HTMLTableElement))\n",
       "            return;\n",
       "\n",
       "        let dt_args = {\"layout\": {\"topStart\": \"pageLength\", \"topEnd\": \"search\", \"bottomStart\": \"info\", \"bottomEnd\": \"paging\"}, \"style\": {\"table-layout\": \"auto\", \"width\": \"auto\", \"margin\": \"auto\", \"caption-side\": \"bottom\"}, \"order\": [], \"classes\": [\"display\", \"nowrap\"], \"text_in_header_can_be_selected\": true, \"table_html\": \"<table><thead>\\n    <tr style=\\\"text-align: right;\\\">\\n      \\n      <th>item_number</th>\\n      <th>set_name</th>\\n      <th>theme</th>\\n      <th>pieces</th>\\n      <th>price</th>\\n      <th>amazon_price</th>\\n      <th>year</th>\\n      <th>ages</th>\\n      <th>pages</th>\\n      <th>minifigures</th>\\n      <th>packaging</th>\\n      <th>weight</th>\\n      <th>unique_pieces</th>\\n      <th>size</th>\\n      <th>price_difference</th>\\n      <th>p2p</th>\\n    </tr>\\n  </thead></table>\", \"data_json\": \"[[10859, \\\"My First Ladybird\\\", \\\"DUPLO\\\\u00ae\\\", 6, 4.99, 16.0, 2018, \\\"Ages_1\\\\u00bd-3\\\", 9, \\\"___NaN___\\\", \\\"Box\\\", \\\"NaN\\\", 5, \\\"Large\\\", 11.01, 0.831667], [10860, \\\"My First Race Car\\\", \\\"DUPLO\\\\u00ae\\\", 6, 4.99, 9.45, 2018, \\\"Ages_1\\\\u00bd-3\\\", 9, \\\"___NaN___\\\", \\\"Box\\\", \\\"0.13Kg (0.29 lb)\\\", 6, \\\"Large\\\", 4.46, 0.831667], [10862, \\\"My First Celebration\\\", \\\"DUPLO\\\\u00ae\\\", 41, 14.99, 39.89, 2018, \\\"Ages_1\\\\u00bd-3\\\", 9, \\\"___NaN___\\\", \\\"Box\\\", \\\"NaN\\\", 18, \\\"Large\\\", 24.9, 0.36561], [10864, \\\"Large Playground Brick Box\\\", \\\"DUPLO\\\\u00ae\\\", 71, 49.99, 56.69, 2018, \\\"Ages_2-5\\\", 32, 2.0, \\\"Plastic box\\\", \\\"1.41Kg (3.11 lb)\\\", 49, \\\"Large\\\", 6.7, 0.704085], [10867, \\\"Farmers' Market\\\", \\\"DUPLO\\\\u00ae\\\", 26, 19.99, 36.99, 2018, \\\"Ages_2-5\\\", 9, 3.0, \\\"Box\\\", \\\"NaN\\\", 18, \\\"Large\\\", 17.0, 0.768846], [10870, \\\"Farm Animals\\\", \\\"DUPLO\\\\u00ae\\\", 16, 9.99, 9.99, 2018, \\\"Ages_2-5\\\", 8, \\\"___NaN___\\\", \\\"Box\\\", \\\"NaN\\\", 13, \\\"Large\\\", 0.0, 0.624375], [10872, \\\"Train Bridge and Tracks\\\", \\\"DUPLO\\\\u00ae\\\", 26, 24.99, 21.99, 2018, \\\"Ages_2-5\\\", 16, 1.0, \\\"Box\\\", \\\"0.88Kg (1.95 lb)\\\", 10, \\\"Large\\\", -3.0, 0.961154], [10875, \\\"Cargo Train\\\", \\\"DUPLO\\\\u00ae\\\", 105, 119.99, 128.95, 2018, \\\"Ages_2-5\\\", 64, 3.0, \\\"Box\\\", \\\"2.86Kg (6.31 lb)\\\", 68, \\\"Large\\\", 8.96, 1.142762], [10876, \\\"Spider-Man &amp; Hulk Adventures\\\", \\\"DUPLO\\\\u00ae\\\", 38, 29.99, 74.5, 2018, \\\"Ages_2-5\\\", 20, 3.0, \\\"Box\\\", \\\"0.54Kg (1.19 lb)\\\", 29, \\\"Large\\\", 44.51, 0.789211], [10878, \\\"Rapunzel's Tower\\\", \\\"DUPLO\\\\u00ae\\\", 37, 29.99, 98.99, 2018, \\\"Ages_2-5\\\", 24, 1.0, \\\"Box\\\", \\\"NaN\\\", 26, \\\"Large\\\", 69.0, 0.810541], [10882, \\\"Train Tracks\\\", \\\"DUPLO\\\\u00ae\\\", 23, 19.99, 17.99, 2018, \\\"Ages_2-5\\\", 16, \\\"___NaN___\\\", \\\"Box\\\", \\\"0.66Kg (1.45 lb)\\\", 9, \\\"Large\\\", -2.0, 0.86913], [10885, \\\"My First Fun Puzzle\\\", \\\"DUPLO\\\\u00ae\\\", 15, 19.99, 19.55, 2019, \\\"Ages_1\\\\u00bd+\\\", 9, \\\"___NaN___\\\", \\\"NaN\\\", \\\"NaN\\\", 15, \\\"Large\\\", -0.44, 1.332667], [10886, \\\"My First Car Creations\\\", \\\"DUPLO\\\\u00ae\\\", 34, 19.99, 16.0, 2019, \\\"Ages_1\\\\u00bd+\\\", 10, \\\"___NaN___\\\", \\\"NaN\\\", \\\"0.64Kg (1.41 lb)\\\", 31, \\\"Large\\\", -3.99, 0.587941], [10901, \\\"Fire Truck\\\", \\\"DUPLO\\\\u00ae\\\", 21, 19.99, 17.99, 2019, \\\"Ages_2+\\\", 10, 2.0, \\\"Box\\\", \\\"0.45Kg (0.99 lb)\\\", 16, \\\"Large\\\", -2.0, 0.951905], [10904, \\\"Baby Animals\\\", \\\"DUPLO\\\\u00ae\\\", 9, 9.99, 21.11, 2019, \\\"Ages_2+\\\", 8, \\\"___NaN___\\\", \\\"Box\\\", \\\"NaN\\\", 9, \\\"Large\\\", 11.12, 1.11], [10906, \\\"Tropical Island\\\", \\\"DUPLO\\\\u00ae\\\", 73, 59.99, 59.99, 2019, \\\"Ages_2+\\\", 40, 3.0, \\\"Box\\\", \\\"NaN\\\", 44, \\\"Large\\\", 0.0, 0.821781], [10908, \\\"Plane\\\", \\\"DUPLO\\\\u00ae\\\", 12, 9.99, 23.27, 2019, \\\"Ages_2+\\\", 10, 1.0, \\\"Box\\\", \\\"NaN\\\", 11, \\\"Large\\\", 13.28, 0.8325], [10910, \\\"Submarine Adventure\\\", \\\"DUPLO\\\\u00ae\\\", 24, 19.99, 17.99, 2019, \\\"Ages_2+\\\", 8, 2.0, \\\"Box\\\", \\\"NaN\\\", 22, \\\"Large\\\", -2.0, 0.832917], [10915, \\\"Alphabet Truck\\\", \\\"DUPLO\\\\u00ae\\\", 36, 24.99, 21.99, 2020, \\\"Ages_1\\\\u00bd+\\\", 1, 2.0, \\\"Box\\\", \\\"NaN\\\", 35, \\\"Large\\\", -3.0, 0.694167], [10918, \\\"Tow Truck\\\", \\\"DUPLO\\\\u00ae\\\", 7, 6.99, 6.29, 2020, \\\"Ages_1\\\\u00bd+\\\", 3, \\\"___NaN___\\\", \\\"Box with backing card\\\", \\\"NaN\\\", 7, \\\"Large\\\", -0.7, 0.998571], [10921, \\\"Super Heroes Lab\\\", \\\"DUPLO\\\\u00ae\\\", 30, 29.99, 26.99, 2020, \\\"Ages_2+\\\", 16, 3.0, \\\"Box\\\", \\\"NaN\\\", 23, \\\"Large\\\", -3.0, 0.999667], [10926, \\\"Bedroom\\\", \\\"DUPLO\\\\u00ae\\\", 16, 14.99, 14.99, 2020, \\\"Ages_2+\\\", 2, 2.0, \\\"Box\\\", \\\"NaN\\\", 16, \\\"Large\\\", 0.0, 0.936875], [10927, \\\"Pizza Stand\\\", \\\"DUPLO\\\\u00ae\\\", 18, 9.99, 8.99, 2020, \\\"Ages_2+\\\", 12, 1.0, \\\"Box\\\", \\\"NaN\\\", 15, \\\"Large\\\", -1.0, 0.555], [10928, \\\"Bakery\\\", \\\"DUPLO\\\\u00ae\\\", 46, 34.99, 29.99, 2020, \\\"Ages_2+\\\", 20, 2.0, \\\"Box\\\", \\\"NaN\\\", 33, \\\"Large\\\", -5.0, 0.760652], [10929, \\\"Modular Playhouse\\\", \\\"DUPLO\\\\u00ae\\\", 129, 59.99, 59.99, 2020, \\\"Ages_2+\\\", 84, 3.0, \\\"Box\\\", \\\"NaN\\\", 56, \\\"Large\\\", 0.0, 0.465039], [41330, \\\"Stephanie's Soccer Practice\\\", \\\"Friends\\\", 119, 14.99, 40.4, 2018, \\\"Ages_6-12\\\", 48, 1.0, \\\"Box\\\", \\\"NaN\\\", 78, \\\"Small\\\", 25.41, 0.125966], [41333, \\\"Olivia's Mission Vehicle\\\", \\\"Friends\\\", 223, 19.99, 45.95, 2018, \\\"Ages_6-12\\\", 84, 1.0, \\\"Box\\\", \\\"0.32Kg (0.7 lb)\\\", 106, \\\"Small\\\", 25.96, 0.089641], [41335, \\\"Mia's Tree House\\\", \\\"Friends\\\", 351, 29.99, 53.88, 2018, \\\"Ages_6-12\\\", 120, 2.0, \\\"Box\\\", \\\"0.61Kg (1.34 lb)\\\", 151, \\\"Small\\\", 23.89, 0.085442], [41340, \\\"Friendship House\\\", \\\"Friends\\\", 722, 69.99, 184.99, 2018, \\\"Ages_6-12\\\", 164, 3.0, \\\"Box\\\", \\\"1.14Kg (2.51 lb)\\\", 309, \\\"Small\\\", 115.0, 0.096939], [41353, \\\"Friends Advent Calendar\\\", \\\"Friends\\\", 500, 29.99, 34.0, 2018, \\\"Ages_6-12\\\", 4, \\\"___NaN___\\\", \\\"Box\\\", \\\"NaN\\\", 202, \\\"Small\\\", 4.01, 0.05998], [41356, \\\"Stephanie's Heart Box\\\", \\\"Friends\\\", 85, 7.99, 14.99, 2019, \\\"Ages_6+\\\", 32, 1.0, \\\"NaN\\\", \\\"0.13Kg (0.29 lb)\\\", 36, \\\"Small\\\", 7.0, 0.094], [41358, \\\"Mia's Heart Box\\\", \\\"Friends\\\", 83, 7.99, 18.64, 2019, \\\"Ages_6+\\\", 32, 1.0, \\\"NaN\\\", \\\"0.14Kg (0.31 lb)\\\", 38, \\\"Small\\\", 10.65, 0.096265], [41363, \\\"Mia's Forest Adventures\\\", \\\"Friends\\\", 134, 14.99, 18.95, 2019, \\\"Ages_6+\\\", 44, 1.0, \\\"NaN\\\", \\\"0.15Kg (0.33 lb)\\\", 77, \\\"Small\\\", 3.96, 0.111866], [41367, \\\"Stephanie's Obstacle Course\\\", \\\"Friends\\\", 337, 39.99, 35.99, 2019, \\\"Ages_6+\\\", 100, 2.0, \\\"NaN\\\", \\\"0.59Kg (1.3 lb)\\\", 168, \\\"Small\\\", -4.0, 0.118665], [41369, \\\"Mia's House\\\", \\\"Friends\\\", 715, 69.99, 62.99, 2019, \\\"Ages_6+\\\", 192, 3.0, \\\"NaN\\\", \\\"1.12Kg (2.47 lb)\\\", 274, \\\"Small\\\", -7.0, 0.097888], [41374, \\\"Andrea's Pool Party\\\", \\\"Friends\\\", 468, 49.99, 40.0, 2019, \\\"Ages_6+\\\", 112, 2.0, \\\"Box\\\", \\\"NaN\\\", 221, \\\"Small\\\", -9.99, 0.106816], [41376, \\\"Turtles Rescue Mission\\\", \\\"Friends\\\", 225, 19.99, 31.27, 2019, \\\"Ages_6+\\\", 72, 2.0, \\\"Box\\\", \\\"NaN\\\", 125, \\\"Small\\\", 11.28, 0.088844], [41378, \\\"Dolphins Rescue Mission\\\", \\\"Friends\\\", 363, 39.99, 31.67, 2019, \\\"Ages_6+\\\", 116, 2.0, \\\"Box\\\", \\\"NaN\\\", 192, \\\"Small\\\", -8.32, 0.110165], [41384, \\\"Andrea's Summer Heart Box\\\", \\\"Friends\\\", 83, 7.99, 14.99, 2019, \\\"Ages_6+\\\", 36, 1.0, \\\"Other\\\", \\\"NaN\\\", 46, \\\"Small\\\", 7.0, 0.096265], [41387, \\\"Olivia's Summer Heart Box\\\", \\\"Friends\\\", 93, 7.99, 7.99, 2019, \\\"Ages_6+\\\", 40, 2.0, \\\"Other\\\", \\\"NaN\\\", 48, \\\"Small\\\", 0.0, 0.085914], [41394, \\\"Heartlake City Hospital\\\", \\\"Friends\\\", 379, 49.99, 48.53, 2020, \\\"Ages_6+\\\", 132, 3.0, \\\"Box\\\", \\\"NaN\\\", 154, \\\"Small\\\", -1.46, 0.1319], [41396, \\\"Puppy Playground\\\", \\\"Friends\\\", 57, 9.99, 8.99, 2020, \\\"Ages_4+\\\", 40, 1.0, \\\"Box\\\", \\\"NaN\\\", 41, \\\"Small\\\", -1.0, 0.175263], [41400, \\\"Andrea's Play Cube - Singer\\\", \\\"Friends\\\", 49, 9.99, 18.93, 2020, \\\"Ages_6+\\\", 5, 1.0, \\\"Box\\\", \\\"NaN\\\", 32, \\\"Small\\\", 8.94, 0.203878], [41403, \\\"Mia's Play Cube - Veterinarian\\\", \\\"Friends\\\", 40, 9.99, 17.97, 2020, \\\"Ages_6+\\\", 5, 1.0, \\\"Box\\\", \\\"NaN\\\", 32, \\\"Small\\\", 7.98, 0.24975], [41408, \\\"Mia's Play Cube - Cinema\\\", \\\"Friends\\\", 37, 9.99, 15.32, 2020, \\\"Ages_6+\\\", 5, 1.0, \\\"Box\\\", \\\"NaN\\\", 31, \\\"Small\\\", 5.33, 0.27], [41421, \\\"Baby Elephant Jungle Rescue\\\", \\\"Friends\\\", 203, 19.99, 19.99, 2020, \\\"Ages_6+\\\", 68, 2.0, \\\"Box\\\", \\\"NaN\\\", 111, \\\"Small\\\", 0.0, 0.098473], [41423, \\\"Tiger Hot Air Balloon Jungle Rescue\\\", \\\"Friends\\\", 302, 39.99, 39.95, 2020, \\\"Ages_7+\\\", 116, 2.0, \\\"Box\\\", \\\"NaN\\\", 145, \\\"Small\\\", -0.04, 0.132417], [41424, \\\"Jungle Rescue Base\\\", \\\"Friends\\\", 648, 79.99, 79.95, 2020, \\\"Ages_8+\\\", 176, 3.0, \\\"Box\\\", \\\"NaN\\\", 251, \\\"Small\\\", -0.04, 0.123441], [41427, \\\"Emma's Fashion Shop\\\", \\\"Friends\\\", 343, 29.99, 29.95, 2020, \\\"Ages_6+\\\", 112, 2.0, \\\"Box\\\", \\\"NaN\\\", 152, \\\"Small\\\", -0.04, 0.087434], [41428, \\\"Beach House\\\", \\\"Friends\\\", 444, 49.99, 49.95, 2020, \\\"Ages_6+\\\", 160, 2.0, \\\"Box\\\", \\\"NaN\\\", 216, \\\"Small\\\", -0.04, 0.11259], [60170, \\\"Off-Road Chase\\\", \\\"City\\\", 37, 6.99, 30.89, 2018, \\\"Ages_5-12\\\", 20, 2.0, \\\"Box\\\", \\\"NaN\\\", 28, \\\"Small\\\", 23.9, 0.188919], [60171, \\\"Mountain Fugitives\\\", \\\"City\\\", 88, 9.99, 16.49, 2018, \\\"Ages_5-12\\\", 36, 4.0, \\\"Box\\\", \\\"NaN\\\", 61, \\\"Small\\\", 6.5, 0.113523], [60172, \\\"Dirt Road Pursuit\\\", \\\"City\\\", 297, 39.99, 64.75, 2018, \\\"Ages_5-12\\\", 116, 3.0, \\\"Box\\\", \\\"0.6Kg (1.32 lb)\\\", 140, \\\"Small\\\", 24.76, 0.134646], [60182, \\\"Pickup &amp; Caravan\\\", \\\"City\\\", 344, 29.99, 65.99, 2018, \\\"Ages_5-12\\\", 140, 3.0, \\\"Box\\\", \\\"0.65Kg (1.43 lb)\\\", 188, \\\"Small\\\", 36.0, 0.08718], [60183, \\\"Heavy Cargo Transport\\\", \\\"City\\\", 310, 29.99, 69.95, 2018, \\\"Ages_5-12\\\", 128, 2.0, \\\"Box\\\", \\\"0.59Kg (1.3 lb)\\\", 161, \\\"Small\\\", 39.96, 0.096742], [60184, \\\"Mining Team\\\", \\\"City\\\", 82, 9.99, 21.99, 2018, \\\"Ages_5-12\\\", 32, 4.0, \\\"Box\\\", \\\"0.13Kg (0.29 lb)\\\", 64, \\\"Small\\\", 12.0, 0.121829], [60202, \\\"People Pack - Outdoor Adventures\\\", \\\"City\\\", 164, 39.99, 69.99, 2018, \\\"Ages_5-12\\\", 64, 15.0, \\\"Box\\\", \\\"0.29Kg (0.64 lb)\\\", 128, \\\"Small\\\", 30.0, 0.243841], [60208, \\\"Parachute Arrest\\\", \\\"City\\\", 218, 39.99, 31.46, 2019, \\\"Ages_5+\\\", 120, 4.0, \\\"Box\\\", \\\"0.48Kg (1.05 lb)\\\", 139, \\\"Small\\\", -8.53, 0.18344], [60213, \\\"Dock Side Fire\\\", \\\"City\\\", 97, 19.99, 23.83, 2019, \\\"Ages_5+\\\", 48, 2.0, \\\"Box\\\", \\\"0.25Kg (0.54 lb)\\\", 63, \\\"Small\\\", 3.84, 0.206082], [60215, \\\"Fire Station\\\", \\\"City\\\", 509, 69.99, 56.0, 2019, \\\"Ages_5+\\\", 184, 4.0, \\\"Box\\\", \\\"1.17Kg (2.57 lb)\\\", 210, \\\"Small\\\", -13.99, 0.137505], [60217, \\\"Fire Plane\\\", \\\"City\\\", 363, 59.99, 53.99, 2019, \\\"Ages_6+\\\", 156, 3.0, \\\"Box\\\", \\\"0.76Kg (1.68 lb)\\\", 151, \\\"Small\\\", -6.0, 0.165262], [60219, \\\"Construction Loader\\\", \\\"City\\\", 88, 9.99, 8.99, 2019, \\\"Ages_5+\\\", 36, 1.0, \\\"Box\\\", \\\"0.16Kg (0.34 lb)\\\", 50, \\\"Small\\\", -1.0, 0.113523], [60221, \\\"Diving Yacht\\\", \\\"City\\\", 148, 19.99, 16.0, 2019, \\\"Ages_5+\\\", 64, 2.0, \\\"Box\\\", \\\"0.34Kg (0.74 lb)\\\", 81, \\\"Small\\\", -3.99, 0.135068], [60223, \\\"Harvester Transport\\\", \\\"City\\\", 358, 29.99, 54.8, 2019, \\\"Ages_5+\\\", 148, 3.0, \\\"Box\\\", \\\"0.65Kg (1.43 lb)\\\", 166, \\\"Small\\\", 24.81, 0.083771], [60226, \\\"Mars Research Shuttle\\\", \\\"City\\\", 273, 39.99, 31.99, 2019, \\\"Ages_5+\\\", 160, 2.0, \\\"Box\\\", \\\"0.61Kg (1.34 lb)\\\", 135, \\\"Small\\\", -8.0, 0.146484], [60243, \\\"Police Helicopter Chase\\\", \\\"City\\\", 212, 39.99, 35.98, 2020, \\\"Ages_5+\\\", 128, 4.0, \\\"Box\\\", \\\"0.52Kg (1.16 lb)\\\", 127, \\\"Small\\\", -4.01, 0.188632], [60245, \\\"Police Monster Truck Heist\\\", \\\"City\\\", 362, 59.99, 52.74, 2020, \\\"Ages_5+\\\", 200, 5.0, \\\"Box\\\", \\\"0.85Kg (1.87 lb)\\\", 198, \\\"Small\\\", -7.25, 0.165718], [60246, \\\"Police Station\\\", \\\"City\\\", 743, 99.99, 99.99, 2020, \\\"Ages_6+\\\", 345, 7.0, \\\"Box\\\", \\\"1.85Kg (4.06 lb)\\\", 298, \\\"Small\\\", 0.0, 0.134576], [60248, \\\"Fire Helicopter Response\\\", \\\"City\\\", 93, 29.99, 23.98, 2020, \\\"Ages_5+\\\", 44, 3.0, \\\"Box\\\", \\\"0.25Kg (0.55 lb)\\\", 61, \\\"Small\\\", -6.01, 0.322473], [60249, \\\"Street Sweeper\\\", \\\"City\\\", 89, 9.99, 8.99, 2020, \\\"Ages_5+\\\", 48, 1.0, \\\"Box\\\", \\\"0.14Kg (0.31 lb)\\\", 55, \\\"Small\\\", -1.0, 0.112247], [60251, \\\"Monster Truck\\\", \\\"City\\\", 55, 9.99, 8.99, 2020, \\\"Ages_5+\\\", 32, 1.0, \\\"Box\\\", \\\"0.14Kg (0.31 lb)\\\", 34, \\\"Small\\\", -1.0, 0.181636], [60252, \\\"Construction Bulldozer\\\", \\\"City\\\", 126, 19.99, 15.99, 2020, \\\"Ages_4+\\\", 84, 2.0, \\\"Box\\\", \\\"0.35Kg (0.78 lb)\\\", 81, \\\"Small\\\", -4.0, 0.158651], [60258, \\\"Tuning Workshop\\\", \\\"City\\\", 897, 99.99, 99.99, 2020, \\\"Ages_6+\\\", 389, 7.0, \\\"Box\\\", \\\"1.63Kg (3.58 lb)\\\", 411, \\\"Small\\\", 0.0, 0.111472], [60266, \\\"Ocean Exploration Ship\\\", \\\"City\\\", 745, 149.99, 149.99, 2020, \\\"Ages_7+\\\", 229, 8.0, \\\"Box\\\", \\\"2.28Kg (5.03 lb)\\\", 314, \\\"Small\\\", 0.0, 0.201329], [60267, \\\"Safari Off-Roader\\\", \\\"City\\\", 168, 19.99, 17.99, 2020, \\\"Ages_5+\\\", 76, 2.0, \\\"Box\\\", \\\"0.34Kg (0.76 lb)\\\", 86, \\\"Small\\\", -2.0, 0.118988]]\"};\n",
       "        new ITable(table, dt_args);\n",
       "    });\n",
       "</script>\n"
      ],
      "text/plain": [
       "<IPython.core.display.HTML object>"
      ]
     },
     "metadata": {},
     "output_type": "display_data"
    }
   ],
   "source": [
    "DF['p2p'] = DF['price'] / DF['pieces']\n",
    "piece2p = DF['p2p']\n",
    "show(DF)"
   ]
  },
  {
   "cell_type": "code",
   "execution_count": 106,
   "id": "2ab83bd5-4260-4c93-9cf5-0dbbfb807971",
   "metadata": {},
   "outputs": [
    {
     "name": "stdout",
     "output_type": "stream",
     "text": [
      "\n",
      "Sorted by 'Age' (ascending):\n"
     ]
    },
    {
     "data": {
      "text/html": [
       "<div>\n",
       "<style scoped>\n",
       "    .dataframe tbody tr th:only-of-type {\n",
       "        vertical-align: middle;\n",
       "    }\n",
       "\n",
       "    .dataframe tbody tr th {\n",
       "        vertical-align: top;\n",
       "    }\n",
       "\n",
       "    .dataframe thead th {\n",
       "        text-align: right;\n",
       "    }\n",
       "</style>\n",
       "<table border=\"1\" class=\"dataframe\">\n",
       "  <thead>\n",
       "    <tr style=\"text-align: right;\">\n",
       "      <th></th>\n",
       "      <th>item_number</th>\n",
       "      <th>set_name</th>\n",
       "      <th>theme</th>\n",
       "      <th>pieces</th>\n",
       "      <th>price</th>\n",
       "      <th>amazon_price</th>\n",
       "      <th>year</th>\n",
       "      <th>ages</th>\n",
       "      <th>pages</th>\n",
       "      <th>minifigures</th>\n",
       "      <th>packaging</th>\n",
       "      <th>weight</th>\n",
       "      <th>unique_pieces</th>\n",
       "      <th>size</th>\n",
       "      <th>price_difference</th>\n",
       "      <th>p2p</th>\n",
       "    </tr>\n",
       "  </thead>\n",
       "  <tbody>\n",
       "    <tr>\n",
       "      <th>29</th>\n",
       "      <td>41353</td>\n",
       "      <td>Friends Advent Calendar</td>\n",
       "      <td>Friends</td>\n",
       "      <td>500</td>\n",
       "      <td>29.99</td>\n",
       "      <td>34.00</td>\n",
       "      <td>2018</td>\n",
       "      <td>Ages_6-12</td>\n",
       "      <td>4</td>\n",
       "      <td>NaN</td>\n",
       "      <td>Box</td>\n",
       "      <td>NaN</td>\n",
       "      <td>202</td>\n",
       "      <td>Small</td>\n",
       "      <td>4.01</td>\n",
       "      <td>0.059980</td>\n",
       "    </tr>\n",
       "    <tr>\n",
       "      <th>63</th>\n",
       "      <td>60223</td>\n",
       "      <td>Harvester Transport</td>\n",
       "      <td>City</td>\n",
       "      <td>358</td>\n",
       "      <td>29.99</td>\n",
       "      <td>54.80</td>\n",
       "      <td>2019</td>\n",
       "      <td>Ages_5+</td>\n",
       "      <td>148</td>\n",
       "      <td>3.0</td>\n",
       "      <td>Box</td>\n",
       "      <td>0.65Kg (1.43 lb)</td>\n",
       "      <td>166</td>\n",
       "      <td>Small</td>\n",
       "      <td>24.81</td>\n",
       "      <td>0.083771</td>\n",
       "    </tr>\n",
       "    <tr>\n",
       "      <th>27</th>\n",
       "      <td>41335</td>\n",
       "      <td>Mia's Tree House</td>\n",
       "      <td>Friends</td>\n",
       "      <td>351</td>\n",
       "      <td>29.99</td>\n",
       "      <td>53.88</td>\n",
       "      <td>2018</td>\n",
       "      <td>Ages_6-12</td>\n",
       "      <td>120</td>\n",
       "      <td>2.0</td>\n",
       "      <td>Box</td>\n",
       "      <td>0.61Kg (1.34 lb)</td>\n",
       "      <td>151</td>\n",
       "      <td>Small</td>\n",
       "      <td>23.89</td>\n",
       "      <td>0.085442</td>\n",
       "    </tr>\n",
       "    <tr>\n",
       "      <th>39</th>\n",
       "      <td>41387</td>\n",
       "      <td>Olivia's Summer Heart Box</td>\n",
       "      <td>Friends</td>\n",
       "      <td>93</td>\n",
       "      <td>7.99</td>\n",
       "      <td>7.99</td>\n",
       "      <td>2019</td>\n",
       "      <td>Ages_6+</td>\n",
       "      <td>40</td>\n",
       "      <td>2.0</td>\n",
       "      <td>Other</td>\n",
       "      <td>NaN</td>\n",
       "      <td>48</td>\n",
       "      <td>Small</td>\n",
       "      <td>0.00</td>\n",
       "      <td>0.085914</td>\n",
       "    </tr>\n",
       "    <tr>\n",
       "      <th>53</th>\n",
       "      <td>60182</td>\n",
       "      <td>Pickup &amp; Caravan</td>\n",
       "      <td>City</td>\n",
       "      <td>344</td>\n",
       "      <td>29.99</td>\n",
       "      <td>65.99</td>\n",
       "      <td>2018</td>\n",
       "      <td>Ages_5-12</td>\n",
       "      <td>140</td>\n",
       "      <td>3.0</td>\n",
       "      <td>Box</td>\n",
       "      <td>0.65Kg (1.43 lb)</td>\n",
       "      <td>188</td>\n",
       "      <td>Small</td>\n",
       "      <td>36.00</td>\n",
       "      <td>0.087180</td>\n",
       "    </tr>\n",
       "    <tr>\n",
       "      <th>...</th>\n",
       "      <td>...</td>\n",
       "      <td>...</td>\n",
       "      <td>...</td>\n",
       "      <td>...</td>\n",
       "      <td>...</td>\n",
       "      <td>...</td>\n",
       "      <td>...</td>\n",
       "      <td>...</td>\n",
       "      <td>...</td>\n",
       "      <td>...</td>\n",
       "      <td>...</td>\n",
       "      <td>...</td>\n",
       "      <td>...</td>\n",
       "      <td>...</td>\n",
       "      <td>...</td>\n",
       "      <td>...</td>\n",
       "    </tr>\n",
       "    <tr>\n",
       "      <th>19</th>\n",
       "      <td>10918</td>\n",
       "      <td>Tow Truck</td>\n",
       "      <td>DUPLO®</td>\n",
       "      <td>7</td>\n",
       "      <td>6.99</td>\n",
       "      <td>6.29</td>\n",
       "      <td>2020</td>\n",
       "      <td>Ages_1½+</td>\n",
       "      <td>3</td>\n",
       "      <td>NaN</td>\n",
       "      <td>Box with backing card</td>\n",
       "      <td>NaN</td>\n",
       "      <td>7</td>\n",
       "      <td>Large</td>\n",
       "      <td>-0.70</td>\n",
       "      <td>0.998571</td>\n",
       "    </tr>\n",
       "    <tr>\n",
       "      <th>20</th>\n",
       "      <td>10921</td>\n",
       "      <td>Super Heroes Lab</td>\n",
       "      <td>DUPLO®</td>\n",
       "      <td>30</td>\n",
       "      <td>29.99</td>\n",
       "      <td>26.99</td>\n",
       "      <td>2020</td>\n",
       "      <td>Ages_2+</td>\n",
       "      <td>16</td>\n",
       "      <td>3.0</td>\n",
       "      <td>Box</td>\n",
       "      <td>NaN</td>\n",
       "      <td>23</td>\n",
       "      <td>Large</td>\n",
       "      <td>-3.00</td>\n",
       "      <td>0.999667</td>\n",
       "    </tr>\n",
       "    <tr>\n",
       "      <th>14</th>\n",
       "      <td>10904</td>\n",
       "      <td>Baby Animals</td>\n",
       "      <td>DUPLO®</td>\n",
       "      <td>9</td>\n",
       "      <td>9.99</td>\n",
       "      <td>21.11</td>\n",
       "      <td>2019</td>\n",
       "      <td>Ages_2+</td>\n",
       "      <td>8</td>\n",
       "      <td>NaN</td>\n",
       "      <td>Box</td>\n",
       "      <td>NaN</td>\n",
       "      <td>9</td>\n",
       "      <td>Large</td>\n",
       "      <td>11.12</td>\n",
       "      <td>1.110000</td>\n",
       "    </tr>\n",
       "    <tr>\n",
       "      <th>7</th>\n",
       "      <td>10875</td>\n",
       "      <td>Cargo Train</td>\n",
       "      <td>DUPLO®</td>\n",
       "      <td>105</td>\n",
       "      <td>119.99</td>\n",
       "      <td>128.95</td>\n",
       "      <td>2018</td>\n",
       "      <td>Ages_2-5</td>\n",
       "      <td>64</td>\n",
       "      <td>3.0</td>\n",
       "      <td>Box</td>\n",
       "      <td>2.86Kg (6.31 lb)</td>\n",
       "      <td>68</td>\n",
       "      <td>Large</td>\n",
       "      <td>8.96</td>\n",
       "      <td>1.142762</td>\n",
       "    </tr>\n",
       "    <tr>\n",
       "      <th>11</th>\n",
       "      <td>10885</td>\n",
       "      <td>My First Fun Puzzle</td>\n",
       "      <td>DUPLO®</td>\n",
       "      <td>15</td>\n",
       "      <td>19.99</td>\n",
       "      <td>19.55</td>\n",
       "      <td>2019</td>\n",
       "      <td>Ages_1½+</td>\n",
       "      <td>9</td>\n",
       "      <td>NaN</td>\n",
       "      <td>NaN</td>\n",
       "      <td>NaN</td>\n",
       "      <td>15</td>\n",
       "      <td>Large</td>\n",
       "      <td>-0.44</td>\n",
       "      <td>1.332667</td>\n",
       "    </tr>\n",
       "  </tbody>\n",
       "</table>\n",
       "<p>75 rows × 16 columns</p>\n",
       "</div>"
      ],
      "text/plain": [
       "    item_number                   set_name    theme  pieces   price  \\\n",
       "29        41353    Friends Advent Calendar  Friends     500   29.99   \n",
       "63        60223        Harvester Transport     City     358   29.99   \n",
       "27        41335           Mia's Tree House  Friends     351   29.99   \n",
       "39        41387  Olivia's Summer Heart Box  Friends      93    7.99   \n",
       "53        60182           Pickup & Caravan     City     344   29.99   \n",
       "..          ...                        ...      ...     ...     ...   \n",
       "19        10918                  Tow Truck   DUPLO®       7    6.99   \n",
       "20        10921           Super Heroes Lab   DUPLO®      30   29.99   \n",
       "14        10904               Baby Animals   DUPLO®       9    9.99   \n",
       "7         10875                Cargo Train   DUPLO®     105  119.99   \n",
       "11        10885        My First Fun Puzzle   DUPLO®      15   19.99   \n",
       "\n",
       "    amazon_price  year       ages  pages  minifigures              packaging  \\\n",
       "29         34.00  2018  Ages_6-12      4          NaN                    Box   \n",
       "63         54.80  2019    Ages_5+    148          3.0                    Box   \n",
       "27         53.88  2018  Ages_6-12    120          2.0                    Box   \n",
       "39          7.99  2019    Ages_6+     40          2.0                  Other   \n",
       "53         65.99  2018  Ages_5-12    140          3.0                    Box   \n",
       "..           ...   ...        ...    ...          ...                    ...   \n",
       "19          6.29  2020   Ages_1½+      3          NaN  Box with backing card   \n",
       "20         26.99  2020    Ages_2+     16          3.0                    Box   \n",
       "14         21.11  2019    Ages_2+      8          NaN                    Box   \n",
       "7         128.95  2018   Ages_2-5     64          3.0                    Box   \n",
       "11         19.55  2019   Ages_1½+      9          NaN                    NaN   \n",
       "\n",
       "              weight  unique_pieces   size  price_difference       p2p  \n",
       "29               NaN            202  Small              4.01  0.059980  \n",
       "63  0.65Kg (1.43 lb)            166  Small             24.81  0.083771  \n",
       "27  0.61Kg (1.34 lb)            151  Small             23.89  0.085442  \n",
       "39               NaN             48  Small              0.00  0.085914  \n",
       "53  0.65Kg (1.43 lb)            188  Small             36.00  0.087180  \n",
       "..               ...            ...    ...               ...       ...  \n",
       "19               NaN              7  Large             -0.70  0.998571  \n",
       "20               NaN             23  Large             -3.00  0.999667  \n",
       "14               NaN              9  Large             11.12  1.110000  \n",
       "7   2.86Kg (6.31 lb)             68  Large              8.96  1.142762  \n",
       "11               NaN             15  Large             -0.44  1.332667  \n",
       "\n",
       "[75 rows x 16 columns]"
      ]
     },
     "execution_count": 106,
     "metadata": {},
     "output_type": "execute_result"
    }
   ],
   "source": [
    "df_sorted_age = DF.sort_values(by='p2p')\n",
    "print(\"\\nSorted by 'Age' (ascending):\")\n",
    "df_sorted_age"
   ]
  },
  {
   "cell_type": "code",
   "execution_count": null,
   "id": "0b52dc38-db7a-41c0-9d00-f9409e2e5340",
   "metadata": {},
   "outputs": [],
   "source": []
  }
 ],
 "metadata": {
  "kernelspec": {
   "display_name": "Python 3 (ipykernel)",
   "language": "python",
   "name": "python3"
  },
  "language_info": {
   "codemirror_mode": {
    "name": "ipython",
    "version": 3
   },
   "file_extension": ".py",
   "mimetype": "text/x-python",
   "name": "python",
   "nbconvert_exporter": "python",
   "pygments_lexer": "ipython3",
   "version": "3.12.11"
  }
 },
 "nbformat": 4,
 "nbformat_minor": 5
}
