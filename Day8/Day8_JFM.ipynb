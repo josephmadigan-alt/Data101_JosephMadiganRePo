{
 "cells": [
  {
   "cell_type": "code",
   "execution_count": null,
   "id": "420782c6-c20f-436f-9920-d210dacb1c72",
   "metadata": {},
   "outputs": [],
   "source": []
  },
  {
   "cell_type": "markdown",
   "id": "df45c43e-c455-446b-bcab-7f89d09f9723",
   "metadata": {},
   "source": [
    "## Introduction to Data Science\n",
    "\n",
    "#### University of Redlands - DATA 101\n",
    "#### Prof: Joanna Bieri [joanna_bieri@redlands.edu](mailto:joanna_bieri@redlands.edu)\n",
    "#### [Class Website: data101.joannabieri.com](https://joannabieri.com/data101.html)\n",
    "\n",
    "---------------------------------------\n",
    "# Homework Day 8\n",
    "---------------------------------------\n",
    "\n",
    "GOALS:\n",
    "\n",
    "1. Load data into Python that you find online\n",
    "2. Understand data types and fix some errors\n",
    "3. Find your own data to play with\n",
    "\n",
    "----------------------------------------------------------\n",
    "\n",
    "This homework has **5 questions** and **1 problem**.\n",
    "\n",
    "NOTE: Be kind to yourself. Working with data can be hard! Every data set is different. **Seriously** come get help! Come to lab!\n"
   ]
  },
  {
   "cell_type": "code",
   "execution_count": 1,
   "id": "ea1b6cb0-99a1-42af-aa3c-e24d08992652",
   "metadata": {},
   "outputs": [],
   "source": [
    "import numpy as np\n",
    "import pandas as pd\n",
    "\n",
    "import matplotlib.pyplot as plt\n",
    "import plotly.express as px\n",
    "from plotly.subplots import make_subplots\n",
    "import plotly.io as pio\n",
    "pio.renderers.defaule = 'colab'"
   ]
  },
  {
   "cell_type": "markdown",
   "id": "e295ce0b-1c5e-433c-bec7-1d70a7b58b42",
   "metadata": {},
   "source": [
    "You might need to install lxml. If you get a \"ImportError: Missing optional dependency 'lxml'\" Then uncomment and run the cell below"
   ]
  },
  {
   "cell_type": "code",
   "execution_count": 34,
   "id": "eb6677e7-ac5c-4677-aec2-3f2f491814cc",
   "metadata": {},
   "outputs": [
    {
     "name": "stdout",
     "output_type": "stream",
     "text": [
      "Channels:\n",
      " - conda-forge\n",
      " - defaults\n",
      "Platform: win-64\n",
      "Collecting package metadata (repodata.json): ...working... done\n",
      "Solving environment: ...working... done\n",
      "\n",
      "# All requested packages already installed.\n",
      "\n"
     ]
    }
   ],
   "source": [
    "!conda install -y lxml"
   ]
  },
  {
   "cell_type": "markdown",
   "id": "0de8dd69-e006-475a-8172-9f23686477a4",
   "metadata": {},
   "source": [
    "## Try reading in some data - csv\n",
    "\n",
    "Go to the [Cal Fire Website](https://www.fire.ca.gov/incidents) and scroll to the bottom to see the Incident Data. We will download the file named **ALL DATA AS CSV** this should put the data file into your Downloads folder. \n",
    "\n",
    "Next you need to move the file **mapdataall.csv** from your Downloads folder into your Day8 folder where you are doing your homework. You can open your Downloads folder and drag the file into JupyterLab side bar. Then I can run the command\n",
    "\n",
    "    DF_raw = pd.read_csv('mapdataall.csv')\n",
    "\n",
    "to load the data and look at the data frame."
   ]
  },
  {
   "cell_type": "code",
   "execution_count": 2,
   "id": "7ef90b8c-1275-4aa9-8917-1fe668344450",
   "metadata": {},
   "outputs": [],
   "source": [
    "DF = pd.read_csv('mapdataall.csv')"
   ]
  },
  {
   "cell_type": "code",
   "execution_count": 3,
   "id": "29c3eec8-6f3d-49c7-87d2-74a181f0cc44",
   "metadata": {},
   "outputs": [
    {
     "data": {
      "text/html": [
       "<div>\n",
       "<style scoped>\n",
       "    .dataframe tbody tr th:only-of-type {\n",
       "        vertical-align: middle;\n",
       "    }\n",
       "\n",
       "    .dataframe tbody tr th {\n",
       "        vertical-align: top;\n",
       "    }\n",
       "\n",
       "    .dataframe thead th {\n",
       "        text-align: right;\n",
       "    }\n",
       "</style>\n",
       "<table border=\"1\" class=\"dataframe\">\n",
       "  <thead>\n",
       "    <tr style=\"text-align: right;\">\n",
       "      <th></th>\n",
       "      <th>incident_name</th>\n",
       "      <th>incident_is_final</th>\n",
       "      <th>incident_date_last_update</th>\n",
       "      <th>incident_date_created</th>\n",
       "      <th>incident_administrative_unit</th>\n",
       "      <th>incident_administrative_unit_url</th>\n",
       "      <th>incident_county</th>\n",
       "      <th>incident_location</th>\n",
       "      <th>incident_acres_burned</th>\n",
       "      <th>incident_containment</th>\n",
       "      <th>...</th>\n",
       "      <th>incident_latitude</th>\n",
       "      <th>incident_type</th>\n",
       "      <th>incident_id</th>\n",
       "      <th>incident_url</th>\n",
       "      <th>incident_date_extinguished</th>\n",
       "      <th>incident_dateonly_extinguished</th>\n",
       "      <th>incident_dateonly_created</th>\n",
       "      <th>is_active</th>\n",
       "      <th>calfire_incident</th>\n",
       "      <th>notification_desired</th>\n",
       "    </tr>\n",
       "  </thead>\n",
       "  <tbody>\n",
       "    <tr>\n",
       "      <th>0</th>\n",
       "      <td>Bridge Fire</td>\n",
       "      <td>Y</td>\n",
       "      <td>2018-01-09T13:46:00Z</td>\n",
       "      <td>2017-10-31T11:22:00Z</td>\n",
       "      <td>Shasta-Trinity National Forest</td>\n",
       "      <td>NaN</td>\n",
       "      <td>Shasta</td>\n",
       "      <td>I-5 and Turntable Bay, 7 miles NE of Shasta Lake</td>\n",
       "      <td>37.0</td>\n",
       "      <td>100.0</td>\n",
       "      <td>...</td>\n",
       "      <td>40.774000</td>\n",
       "      <td>NaN</td>\n",
       "      <td>2ca11d45-8139-4c16-8af0-880d99b21e82</td>\n",
       "      <td>https://www.fire.ca.gov/incidents/2017/10/31/b...</td>\n",
       "      <td>2018-01-09T13:46:00Z</td>\n",
       "      <td>2018-01-09</td>\n",
       "      <td>2017-10-31</td>\n",
       "      <td>N</td>\n",
       "      <td>False</td>\n",
       "      <td>False</td>\n",
       "    </tr>\n",
       "    <tr>\n",
       "      <th>1</th>\n",
       "      <td>Pala Fire</td>\n",
       "      <td>Y</td>\n",
       "      <td>2020-09-16T14:07:35Z</td>\n",
       "      <td>2009-05-24T14:56:00Z</td>\n",
       "      <td>CAL FIRE San Diego Unit</td>\n",
       "      <td>NaN</td>\n",
       "      <td>San Diego</td>\n",
       "      <td>Hwy 76 and Pala Temecula, northwest of Pala</td>\n",
       "      <td>122.0</td>\n",
       "      <td>100.0</td>\n",
       "      <td>...</td>\n",
       "      <td>1.000000</td>\n",
       "      <td>Wildfire</td>\n",
       "      <td>8f61f461-552d-4538-b186-35ab030da416</td>\n",
       "      <td>https://www.fire.ca.gov/incidents/2009/5/24/pa...</td>\n",
       "      <td>2009-05-25T00:00:00Z</td>\n",
       "      <td>2009-05-25</td>\n",
       "      <td>2009-05-24</td>\n",
       "      <td>N</td>\n",
       "      <td>True</td>\n",
       "      <td>False</td>\n",
       "    </tr>\n",
       "    <tr>\n",
       "      <th>2</th>\n",
       "      <td>River Fire</td>\n",
       "      <td>Y</td>\n",
       "      <td>2022-10-24T11:39:23Z</td>\n",
       "      <td>2013-02-24T08:16:00Z</td>\n",
       "      <td>CAL FIRE San Bernardino Unit</td>\n",
       "      <td>NaN</td>\n",
       "      <td>Inyo</td>\n",
       "      <td>south of Narrow Gauge Rd &amp; north of Hwy 136, e...</td>\n",
       "      <td>407.0</td>\n",
       "      <td>100.0</td>\n",
       "      <td>...</td>\n",
       "      <td>36.602575</td>\n",
       "      <td>NaN</td>\n",
       "      <td>094719ba-a47b-4abb-9ec5-a506b2b9fd23</td>\n",
       "      <td>https://www.fire.ca.gov/incidents/2013/2/24/ri...</td>\n",
       "      <td>2013-02-28T20:00:00Z</td>\n",
       "      <td>2013-02-28</td>\n",
       "      <td>2013-02-24</td>\n",
       "      <td>N</td>\n",
       "      <td>True</td>\n",
       "      <td>False</td>\n",
       "    </tr>\n",
       "    <tr>\n",
       "      <th>3</th>\n",
       "      <td>Fawnskin Fire</td>\n",
       "      <td>Y</td>\n",
       "      <td>2013-04-22T09:00:00Z</td>\n",
       "      <td>2013-04-20T17:30:00Z</td>\n",
       "      <td>San Bernardino National Forest</td>\n",
       "      <td>NaN</td>\n",
       "      <td>San Bernardino</td>\n",
       "      <td>west of Delamar Mountain, north of the communi...</td>\n",
       "      <td>30.0</td>\n",
       "      <td>100.0</td>\n",
       "      <td>...</td>\n",
       "      <td>34.288877</td>\n",
       "      <td>NaN</td>\n",
       "      <td>58f89ff8-bd3e-4355-b1c0-8fa05c747d3f</td>\n",
       "      <td>https://www.fire.ca.gov/incidents/2013/4/20/fa...</td>\n",
       "      <td>2013-04-22T09:00:00Z</td>\n",
       "      <td>2013-04-22</td>\n",
       "      <td>2013-04-20</td>\n",
       "      <td>N</td>\n",
       "      <td>False</td>\n",
       "      <td>False</td>\n",
       "    </tr>\n",
       "    <tr>\n",
       "      <th>4</th>\n",
       "      <td>Gold Fire</td>\n",
       "      <td>Y</td>\n",
       "      <td>2013-05-01T07:00:00Z</td>\n",
       "      <td>2013-04-30T12:59:00Z</td>\n",
       "      <td>CAL FIRE Madera-Mariposa-Merced Unit</td>\n",
       "      <td>NaN</td>\n",
       "      <td>Madera</td>\n",
       "      <td>Between Road 210 and Road 200 near Fine Gold C...</td>\n",
       "      <td>274.0</td>\n",
       "      <td>100.0</td>\n",
       "      <td>...</td>\n",
       "      <td>37.116295</td>\n",
       "      <td>NaN</td>\n",
       "      <td>357ffc13-bef9-48eb-810f-c5de851972eb</td>\n",
       "      <td>https://www.fire.ca.gov/incidents/2013/4/30/go...</td>\n",
       "      <td>2013-05-01T07:00:00Z</td>\n",
       "      <td>2013-05-01</td>\n",
       "      <td>2013-04-30</td>\n",
       "      <td>N</td>\n",
       "      <td>True</td>\n",
       "      <td>False</td>\n",
       "    </tr>\n",
       "    <tr>\n",
       "      <th>...</th>\n",
       "      <td>...</td>\n",
       "      <td>...</td>\n",
       "      <td>...</td>\n",
       "      <td>...</td>\n",
       "      <td>...</td>\n",
       "      <td>...</td>\n",
       "      <td>...</td>\n",
       "      <td>...</td>\n",
       "      <td>...</td>\n",
       "      <td>...</td>\n",
       "      <td>...</td>\n",
       "      <td>...</td>\n",
       "      <td>...</td>\n",
       "      <td>...</td>\n",
       "      <td>...</td>\n",
       "      <td>...</td>\n",
       "      <td>...</td>\n",
       "      <td>...</td>\n",
       "      <td>...</td>\n",
       "      <td>...</td>\n",
       "      <td>...</td>\n",
       "    </tr>\n",
       "    <tr>\n",
       "      <th>3335</th>\n",
       "      <td>Lost Fire</td>\n",
       "      <td>Y</td>\n",
       "      <td>2025-09-28T09:51:03Z</td>\n",
       "      <td>2025-09-25T08:00:00Z</td>\n",
       "      <td>Ventura County Fire Department</td>\n",
       "      <td>NaN</td>\n",
       "      <td>Ventura</td>\n",
       "      <td>Near Lost Canyon Drive, Simi Valley</td>\n",
       "      <td>13.0</td>\n",
       "      <td>100.0</td>\n",
       "      <td>...</td>\n",
       "      <td>34.301578</td>\n",
       "      <td>Wildfire</td>\n",
       "      <td>75c850b6-27a5-493e-aaef-a42e02b2eab4</td>\n",
       "      <td>https://www.fire.ca.gov/incidents/2025/9/25/lo...</td>\n",
       "      <td>2025-09-27T14:00:00Z</td>\n",
       "      <td>2025-09-27</td>\n",
       "      <td>2025-09-25</td>\n",
       "      <td>N</td>\n",
       "      <td>False</td>\n",
       "      <td>False</td>\n",
       "    </tr>\n",
       "    <tr>\n",
       "      <th>3336</th>\n",
       "      <td>Martell Fire</td>\n",
       "      <td>Y</td>\n",
       "      <td>2025-09-28T09:49:59Z</td>\n",
       "      <td>2025-09-26T14:45:08Z</td>\n",
       "      <td>CAL FIRE Tuolumne-Calaveras Unit</td>\n",
       "      <td>NaN</td>\n",
       "      <td>Stanislaus</td>\n",
       "      <td>South of Telegraph Road and Northeast of Sonor...</td>\n",
       "      <td>37.0</td>\n",
       "      <td>100.0</td>\n",
       "      <td>...</td>\n",
       "      <td>37.906127</td>\n",
       "      <td>Wildfire</td>\n",
       "      <td>2d15d2af-d4a5-4f41-a17c-b17e3030ea93</td>\n",
       "      <td>https://www.fire.ca.gov/incidents/2025/9/26/ma...</td>\n",
       "      <td>2025-09-26T23:30:00Z</td>\n",
       "      <td>2025-09-26</td>\n",
       "      <td>2025-09-26</td>\n",
       "      <td>N</td>\n",
       "      <td>True</td>\n",
       "      <td>False</td>\n",
       "    </tr>\n",
       "    <tr>\n",
       "      <th>3337</th>\n",
       "      <td>Cobb Fire</td>\n",
       "      <td>Y</td>\n",
       "      <td>2025-09-29T07:12:14Z</td>\n",
       "      <td>2025-09-26T15:56:10Z</td>\n",
       "      <td>Six Rivers National Forest</td>\n",
       "      <td>NaN</td>\n",
       "      <td>Humboldt</td>\n",
       "      <td>Cobb Road and Rattlesnake Bridge Road, Dinsmore</td>\n",
       "      <td>12.0</td>\n",
       "      <td>100.0</td>\n",
       "      <td>...</td>\n",
       "      <td>40.463864</td>\n",
       "      <td>Wildfire</td>\n",
       "      <td>793418f8-d217-44c3-8409-617b2a3107a2</td>\n",
       "      <td>https://www.fire.ca.gov/incidents/2025/9/26/co...</td>\n",
       "      <td>2025-09-28T17:00:00Z</td>\n",
       "      <td>2025-09-28</td>\n",
       "      <td>2025-09-26</td>\n",
       "      <td>N</td>\n",
       "      <td>True</td>\n",
       "      <td>False</td>\n",
       "    </tr>\n",
       "    <tr>\n",
       "      <th>3338</th>\n",
       "      <td>Vleck Fire</td>\n",
       "      <td>N</td>\n",
       "      <td>2025-09-30T13:00:14-07:00</td>\n",
       "      <td>2025-09-29T12:02:36Z</td>\n",
       "      <td>CAL FIRE Amador-El Dorado Unit</td>\n",
       "      <td>NaN</td>\n",
       "      <td>Sacramento</td>\n",
       "      <td>Van Vleck Road and Jackson Highway</td>\n",
       "      <td>30.0</td>\n",
       "      <td>95.0</td>\n",
       "      <td>...</td>\n",
       "      <td>38.482401</td>\n",
       "      <td>Wildfire</td>\n",
       "      <td>cd5d2222-9721-4800-a0b7-604d56b86a93</td>\n",
       "      <td>https://www.fire.ca.gov/incidents/2025/9/29/vl...</td>\n",
       "      <td>NaN</td>\n",
       "      <td>NaN</td>\n",
       "      <td>2025-09-29</td>\n",
       "      <td>Y</td>\n",
       "      <td>True</td>\n",
       "      <td>False</td>\n",
       "    </tr>\n",
       "    <tr>\n",
       "      <th>3339</th>\n",
       "      <td>Paloma Fire</td>\n",
       "      <td>Y</td>\n",
       "      <td>2025-09-30T21:41:00Z</td>\n",
       "      <td>2025-09-30T01:08:26Z</td>\n",
       "      <td>CAL FIRE Madera-Mariposa-Merced Unit</td>\n",
       "      <td>NaN</td>\n",
       "      <td>Mariposa</td>\n",
       "      <td>Paloma Road and Hornitos Road</td>\n",
       "      <td>86.0</td>\n",
       "      <td>100.0</td>\n",
       "      <td>...</td>\n",
       "      <td>37.482008</td>\n",
       "      <td>Wildfire</td>\n",
       "      <td>5fa1beec-2657-45ff-8f6c-3c16313ad424</td>\n",
       "      <td>https://www.fire.ca.gov/incidents/2025/9/30/pa...</td>\n",
       "      <td>2025-09-30T18:44:00Z</td>\n",
       "      <td>2025-09-30</td>\n",
       "      <td>2025-09-30</td>\n",
       "      <td>N</td>\n",
       "      <td>True</td>\n",
       "      <td>False</td>\n",
       "    </tr>\n",
       "  </tbody>\n",
       "</table>\n",
       "<p>3340 rows × 23 columns</p>\n",
       "</div>"
      ],
      "text/plain": [
       "      incident_name incident_is_final  incident_date_last_update  \\\n",
       "0       Bridge Fire                 Y       2018-01-09T13:46:00Z   \n",
       "1         Pala Fire                 Y       2020-09-16T14:07:35Z   \n",
       "2        River Fire                 Y       2022-10-24T11:39:23Z   \n",
       "3     Fawnskin Fire                 Y       2013-04-22T09:00:00Z   \n",
       "4         Gold Fire                 Y       2013-05-01T07:00:00Z   \n",
       "...             ...               ...                        ...   \n",
       "3335      Lost Fire                 Y       2025-09-28T09:51:03Z   \n",
       "3336   Martell Fire                 Y       2025-09-28T09:49:59Z   \n",
       "3337      Cobb Fire                 Y       2025-09-29T07:12:14Z   \n",
       "3338     Vleck Fire                 N  2025-09-30T13:00:14-07:00   \n",
       "3339    Paloma Fire                 Y       2025-09-30T21:41:00Z   \n",
       "\n",
       "     incident_date_created          incident_administrative_unit  \\\n",
       "0     2017-10-31T11:22:00Z       Shasta-Trinity National Forest    \n",
       "1     2009-05-24T14:56:00Z               CAL FIRE San Diego Unit   \n",
       "2     2013-02-24T08:16:00Z          CAL FIRE San Bernardino Unit   \n",
       "3     2013-04-20T17:30:00Z        San Bernardino National Forest   \n",
       "4     2013-04-30T12:59:00Z  CAL FIRE Madera-Mariposa-Merced Unit   \n",
       "...                    ...                                   ...   \n",
       "3335  2025-09-25T08:00:00Z        Ventura County Fire Department   \n",
       "3336  2025-09-26T14:45:08Z      CAL FIRE Tuolumne-Calaveras Unit   \n",
       "3337  2025-09-26T15:56:10Z            Six Rivers National Forest   \n",
       "3338  2025-09-29T12:02:36Z        CAL FIRE Amador-El Dorado Unit   \n",
       "3339  2025-09-30T01:08:26Z  CAL FIRE Madera-Mariposa-Merced Unit   \n",
       "\n",
       "      incident_administrative_unit_url incident_county  \\\n",
       "0                                  NaN          Shasta   \n",
       "1                                  NaN       San Diego   \n",
       "2                                  NaN            Inyo   \n",
       "3                                  NaN  San Bernardino   \n",
       "4                                  NaN          Madera   \n",
       "...                                ...             ...   \n",
       "3335                               NaN         Ventura   \n",
       "3336                               NaN      Stanislaus   \n",
       "3337                               NaN        Humboldt   \n",
       "3338                               NaN      Sacramento   \n",
       "3339                               NaN        Mariposa   \n",
       "\n",
       "                                      incident_location  \\\n",
       "0     I-5 and Turntable Bay, 7 miles NE of Shasta Lake    \n",
       "1           Hwy 76 and Pala Temecula, northwest of Pala   \n",
       "2     south of Narrow Gauge Rd & north of Hwy 136, e...   \n",
       "3     west of Delamar Mountain, north of the communi...   \n",
       "4     Between Road 210 and Road 200 near Fine Gold C...   \n",
       "...                                                 ...   \n",
       "3335                Near Lost Canyon Drive, Simi Valley   \n",
       "3336  South of Telegraph Road and Northeast of Sonor...   \n",
       "3337    Cobb Road and Rattlesnake Bridge Road, Dinsmore   \n",
       "3338                 Van Vleck Road and Jackson Highway   \n",
       "3339                      Paloma Road and Hornitos Road   \n",
       "\n",
       "      incident_acres_burned  incident_containment  ... incident_latitude  \\\n",
       "0                      37.0                 100.0  ...         40.774000   \n",
       "1                     122.0                 100.0  ...          1.000000   \n",
       "2                     407.0                 100.0  ...         36.602575   \n",
       "3                      30.0                 100.0  ...         34.288877   \n",
       "4                     274.0                 100.0  ...         37.116295   \n",
       "...                     ...                   ...  ...               ...   \n",
       "3335                   13.0                 100.0  ...         34.301578   \n",
       "3336                   37.0                 100.0  ...         37.906127   \n",
       "3337                   12.0                 100.0  ...         40.463864   \n",
       "3338                   30.0                  95.0  ...         38.482401   \n",
       "3339                   86.0                 100.0  ...         37.482008   \n",
       "\n",
       "     incident_type                           incident_id  \\\n",
       "0              NaN  2ca11d45-8139-4c16-8af0-880d99b21e82   \n",
       "1         Wildfire  8f61f461-552d-4538-b186-35ab030da416   \n",
       "2              NaN  094719ba-a47b-4abb-9ec5-a506b2b9fd23   \n",
       "3              NaN  58f89ff8-bd3e-4355-b1c0-8fa05c747d3f   \n",
       "4              NaN  357ffc13-bef9-48eb-810f-c5de851972eb   \n",
       "...            ...                                   ...   \n",
       "3335      Wildfire  75c850b6-27a5-493e-aaef-a42e02b2eab4   \n",
       "3336      Wildfire  2d15d2af-d4a5-4f41-a17c-b17e3030ea93   \n",
       "3337      Wildfire  793418f8-d217-44c3-8409-617b2a3107a2   \n",
       "3338      Wildfire  cd5d2222-9721-4800-a0b7-604d56b86a93   \n",
       "3339      Wildfire  5fa1beec-2657-45ff-8f6c-3c16313ad424   \n",
       "\n",
       "                                           incident_url  \\\n",
       "0     https://www.fire.ca.gov/incidents/2017/10/31/b...   \n",
       "1     https://www.fire.ca.gov/incidents/2009/5/24/pa...   \n",
       "2     https://www.fire.ca.gov/incidents/2013/2/24/ri...   \n",
       "3     https://www.fire.ca.gov/incidents/2013/4/20/fa...   \n",
       "4     https://www.fire.ca.gov/incidents/2013/4/30/go...   \n",
       "...                                                 ...   \n",
       "3335  https://www.fire.ca.gov/incidents/2025/9/25/lo...   \n",
       "3336  https://www.fire.ca.gov/incidents/2025/9/26/ma...   \n",
       "3337  https://www.fire.ca.gov/incidents/2025/9/26/co...   \n",
       "3338  https://www.fire.ca.gov/incidents/2025/9/29/vl...   \n",
       "3339  https://www.fire.ca.gov/incidents/2025/9/30/pa...   \n",
       "\n",
       "     incident_date_extinguished incident_dateonly_extinguished  \\\n",
       "0          2018-01-09T13:46:00Z                     2018-01-09   \n",
       "1          2009-05-25T00:00:00Z                     2009-05-25   \n",
       "2          2013-02-28T20:00:00Z                     2013-02-28   \n",
       "3          2013-04-22T09:00:00Z                     2013-04-22   \n",
       "4          2013-05-01T07:00:00Z                     2013-05-01   \n",
       "...                         ...                            ...   \n",
       "3335       2025-09-27T14:00:00Z                     2025-09-27   \n",
       "3336       2025-09-26T23:30:00Z                     2025-09-26   \n",
       "3337       2025-09-28T17:00:00Z                     2025-09-28   \n",
       "3338                        NaN                            NaN   \n",
       "3339       2025-09-30T18:44:00Z                     2025-09-30   \n",
       "\n",
       "     incident_dateonly_created is_active calfire_incident notification_desired  \n",
       "0                   2017-10-31         N            False                False  \n",
       "1                   2009-05-24         N             True                False  \n",
       "2                   2013-02-24         N             True                False  \n",
       "3                   2013-04-20         N            False                False  \n",
       "4                   2013-04-30         N             True                False  \n",
       "...                        ...       ...              ...                  ...  \n",
       "3335                2025-09-25         N            False                False  \n",
       "3336                2025-09-26         N             True                False  \n",
       "3337                2025-09-26         N             True                False  \n",
       "3338                2025-09-29         Y             True                False  \n",
       "3339                2025-09-30         N             True                False  \n",
       "\n",
       "[3340 rows x 23 columns]"
      ]
     },
     "execution_count": 3,
     "metadata": {},
     "output_type": "execute_result"
    }
   ],
   "source": [
    "DF"
   ]
  },
  {
   "cell_type": "code",
   "execution_count": 4,
   "id": "9a49d1b6-76d9-4eb5-bc54-3dae4c0ee4d6",
   "metadata": {},
   "outputs": [
    {
     "data": {
      "text/plain": [
       "Index(['incident_name', 'incident_is_final', 'incident_date_last_update',\n",
       "       'incident_date_created', 'incident_administrative_unit',\n",
       "       'incident_administrative_unit_url', 'incident_county',\n",
       "       'incident_location', 'incident_acres_burned', 'incident_containment',\n",
       "       'incident_control', 'incident_cooperating_agencies',\n",
       "       'incident_longitude', 'incident_latitude', 'incident_type',\n",
       "       'incident_id', 'incident_url', 'incident_date_extinguished',\n",
       "       'incident_dateonly_extinguished', 'incident_dateonly_created',\n",
       "       'is_active', 'calfire_incident', 'notification_desired'],\n",
       "      dtype='object')"
      ]
     },
     "execution_count": 4,
     "metadata": {},
     "output_type": "execute_result"
    }
   ],
   "source": [
    "DF.keys()"
   ]
  },
  {
   "cell_type": "markdown",
   "id": "dc9bfa7d-adc3-47d9-b079-c5275c687466",
   "metadata": {},
   "source": [
    "**Q1** How many variables and observations?\n",
    "\n",
    "**3340 rows × 23 columns**\n",
    "\n",
    "\n",
    "**Q2** How many different incident types are there?\n",
    "\n",
    "**nan, 'Wildfire', 'Flood', 'Fire', 'Earthquake'**\n"
   ]
  },
  {
   "cell_type": "code",
   "execution_count": 5,
   "id": "b5cf32a3-3378-4e26-86b4-1fded6cb3b7e",
   "metadata": {},
   "outputs": [
    {
     "data": {
      "text/plain": [
       "array([nan, 'Wildfire', 'Flood', 'Fire', 'Earthquake'], dtype=object)"
      ]
     },
     "execution_count": 5,
     "metadata": {},
     "output_type": "execute_result"
    }
   ],
   "source": [
    "#Q2\n",
    "q2 = DF['incident_type'].unique()\n",
    "q2"
   ]
  },
  {
   "cell_type": "markdown",
   "id": "02c783b5-4d1a-433d-a36f-4f758d0680e3",
   "metadata": {},
   "source": [
    "**Q3** Make a histogram of the acres burned and color the bars by whether or not the incident was a calfire incident. You will probably need to make a mask to remove very small and very large fires. How many fires burned more than 100,000 acres? What is the largest fire in the data?\n",
    "\n",
    "**Largest fire in dataset is 1,032,648 acres, 21 fires over 100,000 acres**\n",
    "\n",
    "**Extra Q** EXTRA - CHALLENGE - See if you can create a graph that answers the question: Are fires getting bigger or more frequent over time? You get complete creative control on how to answer this question!"
   ]
  },
  {
   "cell_type": "code",
   "execution_count": 30,
   "id": "0c22df46-1f0e-4acf-a68f-2aef5cf0c72b",
   "metadata": {},
   "outputs": [
    {
     "data": {
      "text/html": [
       "<div>\n",
       "<style scoped>\n",
       "    .dataframe tbody tr th:only-of-type {\n",
       "        vertical-align: middle;\n",
       "    }\n",
       "\n",
       "    .dataframe tbody tr th {\n",
       "        vertical-align: top;\n",
       "    }\n",
       "\n",
       "    .dataframe thead th {\n",
       "        text-align: right;\n",
       "    }\n",
       "</style>\n",
       "<table border=\"1\" class=\"dataframe\">\n",
       "  <thead>\n",
       "    <tr style=\"text-align: right;\">\n",
       "      <th></th>\n",
       "      <th>incident_name</th>\n",
       "      <th>incident_is_final</th>\n",
       "      <th>incident_date_last_update</th>\n",
       "      <th>incident_date_created</th>\n",
       "      <th>incident_administrative_unit</th>\n",
       "      <th>incident_administrative_unit_url</th>\n",
       "      <th>incident_county</th>\n",
       "      <th>incident_location</th>\n",
       "      <th>incident_acres_burned</th>\n",
       "      <th>incident_containment</th>\n",
       "      <th>...</th>\n",
       "      <th>incident_latitude</th>\n",
       "      <th>incident_type</th>\n",
       "      <th>incident_id</th>\n",
       "      <th>incident_url</th>\n",
       "      <th>incident_date_extinguished</th>\n",
       "      <th>incident_dateonly_extinguished</th>\n",
       "      <th>incident_dateonly_created</th>\n",
       "      <th>is_active</th>\n",
       "      <th>calfire_incident</th>\n",
       "      <th>notification_desired</th>\n",
       "    </tr>\n",
       "  </thead>\n",
       "  <tbody>\n",
       "    <tr>\n",
       "      <th>0</th>\n",
       "      <td>Bridge Fire</td>\n",
       "      <td>Y</td>\n",
       "      <td>2018-01-09T13:46:00Z</td>\n",
       "      <td>2017-10-31T11:22:00Z</td>\n",
       "      <td>Shasta-Trinity National Forest</td>\n",
       "      <td>NaN</td>\n",
       "      <td>Shasta</td>\n",
       "      <td>I-5 and Turntable Bay, 7 miles NE of Shasta Lake</td>\n",
       "      <td>37.0</td>\n",
       "      <td>100.0</td>\n",
       "      <td>...</td>\n",
       "      <td>40.774000</td>\n",
       "      <td>NaN</td>\n",
       "      <td>2ca11d45-8139-4c16-8af0-880d99b21e82</td>\n",
       "      <td>https://www.fire.ca.gov/incidents/2017/10/31/b...</td>\n",
       "      <td>2018-01-09T13:46:00Z</td>\n",
       "      <td>2018-01-09</td>\n",
       "      <td>2017-10-31</td>\n",
       "      <td>N</td>\n",
       "      <td>False</td>\n",
       "      <td>False</td>\n",
       "    </tr>\n",
       "    <tr>\n",
       "      <th>3</th>\n",
       "      <td>Fawnskin Fire</td>\n",
       "      <td>Y</td>\n",
       "      <td>2013-04-22T09:00:00Z</td>\n",
       "      <td>2013-04-20T17:30:00Z</td>\n",
       "      <td>San Bernardino National Forest</td>\n",
       "      <td>NaN</td>\n",
       "      <td>San Bernardino</td>\n",
       "      <td>west of Delamar Mountain, north of the communi...</td>\n",
       "      <td>30.0</td>\n",
       "      <td>100.0</td>\n",
       "      <td>...</td>\n",
       "      <td>34.288877</td>\n",
       "      <td>NaN</td>\n",
       "      <td>58f89ff8-bd3e-4355-b1c0-8fa05c747d3f</td>\n",
       "      <td>https://www.fire.ca.gov/incidents/2013/4/20/fa...</td>\n",
       "      <td>2013-04-22T09:00:00Z</td>\n",
       "      <td>2013-04-22</td>\n",
       "      <td>2013-04-20</td>\n",
       "      <td>N</td>\n",
       "      <td>False</td>\n",
       "      <td>False</td>\n",
       "    </tr>\n",
       "    <tr>\n",
       "      <th>6</th>\n",
       "      <td>Silverado Fire</td>\n",
       "      <td>Y</td>\n",
       "      <td>2013-05-01T17:15:00Z</td>\n",
       "      <td>2013-04-30T23:44:00Z</td>\n",
       "      <td>CAL FIRE Sonoma-Lake-Napa Unit</td>\n",
       "      <td>NaN</td>\n",
       "      <td>Napa</td>\n",
       "      <td>7300 block of Silverado Trail, north of Napa</td>\n",
       "      <td>75.0</td>\n",
       "      <td>100.0</td>\n",
       "      <td>...</td>\n",
       "      <td>38.441792</td>\n",
       "      <td>NaN</td>\n",
       "      <td>d8d1c943-7b5d-4885-9043-f41075d6eded</td>\n",
       "      <td>https://www.fire.ca.gov/incidents/2013/4/30/si...</td>\n",
       "      <td>2013-05-01T17:15:00Z</td>\n",
       "      <td>2013-05-01</td>\n",
       "      <td>2013-04-30</td>\n",
       "      <td>N</td>\n",
       "      <td>True</td>\n",
       "      <td>False</td>\n",
       "    </tr>\n",
       "    <tr>\n",
       "      <th>11</th>\n",
       "      <td>Lytle Fire</td>\n",
       "      <td>Y</td>\n",
       "      <td>2013-05-15T08:15:00Z</td>\n",
       "      <td>2013-05-13T13:30:00Z</td>\n",
       "      <td>USFS San Bernardino National Forest, CAL FIRE ...</td>\n",
       "      <td>NaN</td>\n",
       "      <td>San Bernardino</td>\n",
       "      <td>I-15 at Sierra Ave, near Lytle Creek</td>\n",
       "      <td>75.0</td>\n",
       "      <td>100.0</td>\n",
       "      <td>...</td>\n",
       "      <td>34.183400</td>\n",
       "      <td>NaN</td>\n",
       "      <td>e2c4b308-9a2d-483b-8434-999bef9adc7c</td>\n",
       "      <td>https://www.fire.ca.gov/incidents/2013/5/13/ly...</td>\n",
       "      <td>2013-05-15T08:15:00Z</td>\n",
       "      <td>2013-05-15</td>\n",
       "      <td>2013-05-13</td>\n",
       "      <td>N</td>\n",
       "      <td>True</td>\n",
       "      <td>False</td>\n",
       "    </tr>\n",
       "    <tr>\n",
       "      <th>14</th>\n",
       "      <td>54 Fire</td>\n",
       "      <td>Y</td>\n",
       "      <td>2013-05-17T08:30:00Z</td>\n",
       "      <td>2013-05-16T13:48:00Z</td>\n",
       "      <td>CAL FIRE Riverside Unit</td>\n",
       "      <td>NaN</td>\n",
       "      <td>Riverside</td>\n",
       "      <td>Avenue 54 and Tyler Street, near the community...</td>\n",
       "      <td>40.0</td>\n",
       "      <td>100.0</td>\n",
       "      <td>...</td>\n",
       "      <td>33.655638</td>\n",
       "      <td>NaN</td>\n",
       "      <td>e215290f-d0b4-48fd-be32-f599959347b1</td>\n",
       "      <td>https://www.fire.ca.gov/incidents/2013/5/16/54...</td>\n",
       "      <td>2013-05-17T08:30:00Z</td>\n",
       "      <td>2013-05-17</td>\n",
       "      <td>2013-05-16</td>\n",
       "      <td>N</td>\n",
       "      <td>True</td>\n",
       "      <td>False</td>\n",
       "    </tr>\n",
       "    <tr>\n",
       "      <th>...</th>\n",
       "      <td>...</td>\n",
       "      <td>...</td>\n",
       "      <td>...</td>\n",
       "      <td>...</td>\n",
       "      <td>...</td>\n",
       "      <td>...</td>\n",
       "      <td>...</td>\n",
       "      <td>...</td>\n",
       "      <td>...</td>\n",
       "      <td>...</td>\n",
       "      <td>...</td>\n",
       "      <td>...</td>\n",
       "      <td>...</td>\n",
       "      <td>...</td>\n",
       "      <td>...</td>\n",
       "      <td>...</td>\n",
       "      <td>...</td>\n",
       "      <td>...</td>\n",
       "      <td>...</td>\n",
       "      <td>...</td>\n",
       "      <td>...</td>\n",
       "    </tr>\n",
       "    <tr>\n",
       "      <th>3335</th>\n",
       "      <td>Lost Fire</td>\n",
       "      <td>Y</td>\n",
       "      <td>2025-09-28T09:51:03Z</td>\n",
       "      <td>2025-09-25T08:00:00Z</td>\n",
       "      <td>Ventura County Fire Department</td>\n",
       "      <td>NaN</td>\n",
       "      <td>Ventura</td>\n",
       "      <td>Near Lost Canyon Drive, Simi Valley</td>\n",
       "      <td>13.0</td>\n",
       "      <td>100.0</td>\n",
       "      <td>...</td>\n",
       "      <td>34.301578</td>\n",
       "      <td>Wildfire</td>\n",
       "      <td>75c850b6-27a5-493e-aaef-a42e02b2eab4</td>\n",
       "      <td>https://www.fire.ca.gov/incidents/2025/9/25/lo...</td>\n",
       "      <td>2025-09-27T14:00:00Z</td>\n",
       "      <td>2025-09-27</td>\n",
       "      <td>2025-09-25</td>\n",
       "      <td>N</td>\n",
       "      <td>False</td>\n",
       "      <td>False</td>\n",
       "    </tr>\n",
       "    <tr>\n",
       "      <th>3336</th>\n",
       "      <td>Martell Fire</td>\n",
       "      <td>Y</td>\n",
       "      <td>2025-09-28T09:49:59Z</td>\n",
       "      <td>2025-09-26T14:45:08Z</td>\n",
       "      <td>CAL FIRE Tuolumne-Calaveras Unit</td>\n",
       "      <td>NaN</td>\n",
       "      <td>Stanislaus</td>\n",
       "      <td>South of Telegraph Road and Northeast of Sonor...</td>\n",
       "      <td>37.0</td>\n",
       "      <td>100.0</td>\n",
       "      <td>...</td>\n",
       "      <td>37.906127</td>\n",
       "      <td>Wildfire</td>\n",
       "      <td>2d15d2af-d4a5-4f41-a17c-b17e3030ea93</td>\n",
       "      <td>https://www.fire.ca.gov/incidents/2025/9/26/ma...</td>\n",
       "      <td>2025-09-26T23:30:00Z</td>\n",
       "      <td>2025-09-26</td>\n",
       "      <td>2025-09-26</td>\n",
       "      <td>N</td>\n",
       "      <td>True</td>\n",
       "      <td>False</td>\n",
       "    </tr>\n",
       "    <tr>\n",
       "      <th>3337</th>\n",
       "      <td>Cobb Fire</td>\n",
       "      <td>Y</td>\n",
       "      <td>2025-09-29T07:12:14Z</td>\n",
       "      <td>2025-09-26T15:56:10Z</td>\n",
       "      <td>Six Rivers National Forest</td>\n",
       "      <td>NaN</td>\n",
       "      <td>Humboldt</td>\n",
       "      <td>Cobb Road and Rattlesnake Bridge Road, Dinsmore</td>\n",
       "      <td>12.0</td>\n",
       "      <td>100.0</td>\n",
       "      <td>...</td>\n",
       "      <td>40.463864</td>\n",
       "      <td>Wildfire</td>\n",
       "      <td>793418f8-d217-44c3-8409-617b2a3107a2</td>\n",
       "      <td>https://www.fire.ca.gov/incidents/2025/9/26/co...</td>\n",
       "      <td>2025-09-28T17:00:00Z</td>\n",
       "      <td>2025-09-28</td>\n",
       "      <td>2025-09-26</td>\n",
       "      <td>N</td>\n",
       "      <td>True</td>\n",
       "      <td>False</td>\n",
       "    </tr>\n",
       "    <tr>\n",
       "      <th>3338</th>\n",
       "      <td>Vleck Fire</td>\n",
       "      <td>N</td>\n",
       "      <td>2025-09-30T13:00:14-07:00</td>\n",
       "      <td>2025-09-29T12:02:36Z</td>\n",
       "      <td>CAL FIRE Amador-El Dorado Unit</td>\n",
       "      <td>NaN</td>\n",
       "      <td>Sacramento</td>\n",
       "      <td>Van Vleck Road and Jackson Highway</td>\n",
       "      <td>30.0</td>\n",
       "      <td>95.0</td>\n",
       "      <td>...</td>\n",
       "      <td>38.482401</td>\n",
       "      <td>Wildfire</td>\n",
       "      <td>cd5d2222-9721-4800-a0b7-604d56b86a93</td>\n",
       "      <td>https://www.fire.ca.gov/incidents/2025/9/29/vl...</td>\n",
       "      <td>NaN</td>\n",
       "      <td>NaN</td>\n",
       "      <td>2025-09-29</td>\n",
       "      <td>Y</td>\n",
       "      <td>True</td>\n",
       "      <td>False</td>\n",
       "    </tr>\n",
       "    <tr>\n",
       "      <th>3339</th>\n",
       "      <td>Paloma Fire</td>\n",
       "      <td>Y</td>\n",
       "      <td>2025-09-30T21:41:00Z</td>\n",
       "      <td>2025-09-30T01:08:26Z</td>\n",
       "      <td>CAL FIRE Madera-Mariposa-Merced Unit</td>\n",
       "      <td>NaN</td>\n",
       "      <td>Mariposa</td>\n",
       "      <td>Paloma Road and Hornitos Road</td>\n",
       "      <td>86.0</td>\n",
       "      <td>100.0</td>\n",
       "      <td>...</td>\n",
       "      <td>37.482008</td>\n",
       "      <td>Wildfire</td>\n",
       "      <td>5fa1beec-2657-45ff-8f6c-3c16313ad424</td>\n",
       "      <td>https://www.fire.ca.gov/incidents/2025/9/30/pa...</td>\n",
       "      <td>2025-09-30T18:44:00Z</td>\n",
       "      <td>2025-09-30</td>\n",
       "      <td>2025-09-30</td>\n",
       "      <td>N</td>\n",
       "      <td>True</td>\n",
       "      <td>False</td>\n",
       "    </tr>\n",
       "  </tbody>\n",
       "</table>\n",
       "<p>1882 rows × 23 columns</p>\n",
       "</div>"
      ],
      "text/plain": [
       "       incident_name incident_is_final  incident_date_last_update  \\\n",
       "0        Bridge Fire                 Y       2018-01-09T13:46:00Z   \n",
       "3      Fawnskin Fire                 Y       2013-04-22T09:00:00Z   \n",
       "6     Silverado Fire                 Y       2013-05-01T17:15:00Z   \n",
       "11        Lytle Fire                 Y       2013-05-15T08:15:00Z   \n",
       "14           54 Fire                 Y       2013-05-17T08:30:00Z   \n",
       "...              ...               ...                        ...   \n",
       "3335       Lost Fire                 Y       2025-09-28T09:51:03Z   \n",
       "3336    Martell Fire                 Y       2025-09-28T09:49:59Z   \n",
       "3337       Cobb Fire                 Y       2025-09-29T07:12:14Z   \n",
       "3338      Vleck Fire                 N  2025-09-30T13:00:14-07:00   \n",
       "3339     Paloma Fire                 Y       2025-09-30T21:41:00Z   \n",
       "\n",
       "     incident_date_created                       incident_administrative_unit  \\\n",
       "0     2017-10-31T11:22:00Z                    Shasta-Trinity National Forest    \n",
       "3     2013-04-20T17:30:00Z                     San Bernardino National Forest   \n",
       "6     2013-04-30T23:44:00Z                     CAL FIRE Sonoma-Lake-Napa Unit   \n",
       "11    2013-05-13T13:30:00Z  USFS San Bernardino National Forest, CAL FIRE ...   \n",
       "14    2013-05-16T13:48:00Z                            CAL FIRE Riverside Unit   \n",
       "...                    ...                                                ...   \n",
       "3335  2025-09-25T08:00:00Z                     Ventura County Fire Department   \n",
       "3336  2025-09-26T14:45:08Z                   CAL FIRE Tuolumne-Calaveras Unit   \n",
       "3337  2025-09-26T15:56:10Z                         Six Rivers National Forest   \n",
       "3338  2025-09-29T12:02:36Z                     CAL FIRE Amador-El Dorado Unit   \n",
       "3339  2025-09-30T01:08:26Z               CAL FIRE Madera-Mariposa-Merced Unit   \n",
       "\n",
       "      incident_administrative_unit_url incident_county  \\\n",
       "0                                  NaN          Shasta   \n",
       "3                                  NaN  San Bernardino   \n",
       "6                                  NaN            Napa   \n",
       "11                                 NaN  San Bernardino   \n",
       "14                                 NaN       Riverside   \n",
       "...                                ...             ...   \n",
       "3335                               NaN         Ventura   \n",
       "3336                               NaN      Stanislaus   \n",
       "3337                               NaN        Humboldt   \n",
       "3338                               NaN      Sacramento   \n",
       "3339                               NaN        Mariposa   \n",
       "\n",
       "                                      incident_location  \\\n",
       "0     I-5 and Turntable Bay, 7 miles NE of Shasta Lake    \n",
       "3     west of Delamar Mountain, north of the communi...   \n",
       "6          7300 block of Silverado Trail, north of Napa   \n",
       "11                 I-15 at Sierra Ave, near Lytle Creek   \n",
       "14    Avenue 54 and Tyler Street, near the community...   \n",
       "...                                                 ...   \n",
       "3335                Near Lost Canyon Drive, Simi Valley   \n",
       "3336  South of Telegraph Road and Northeast of Sonor...   \n",
       "3337    Cobb Road and Rattlesnake Bridge Road, Dinsmore   \n",
       "3338                 Van Vleck Road and Jackson Highway   \n",
       "3339                      Paloma Road and Hornitos Road   \n",
       "\n",
       "      incident_acres_burned  incident_containment  ... incident_latitude  \\\n",
       "0                      37.0                 100.0  ...         40.774000   \n",
       "3                      30.0                 100.0  ...         34.288877   \n",
       "6                      75.0                 100.0  ...         38.441792   \n",
       "11                     75.0                 100.0  ...         34.183400   \n",
       "14                     40.0                 100.0  ...         33.655638   \n",
       "...                     ...                   ...  ...               ...   \n",
       "3335                   13.0                 100.0  ...         34.301578   \n",
       "3336                   37.0                 100.0  ...         37.906127   \n",
       "3337                   12.0                 100.0  ...         40.463864   \n",
       "3338                   30.0                  95.0  ...         38.482401   \n",
       "3339                   86.0                 100.0  ...         37.482008   \n",
       "\n",
       "     incident_type                           incident_id  \\\n",
       "0              NaN  2ca11d45-8139-4c16-8af0-880d99b21e82   \n",
       "3              NaN  58f89ff8-bd3e-4355-b1c0-8fa05c747d3f   \n",
       "6              NaN  d8d1c943-7b5d-4885-9043-f41075d6eded   \n",
       "11             NaN  e2c4b308-9a2d-483b-8434-999bef9adc7c   \n",
       "14             NaN  e215290f-d0b4-48fd-be32-f599959347b1   \n",
       "...            ...                                   ...   \n",
       "3335      Wildfire  75c850b6-27a5-493e-aaef-a42e02b2eab4   \n",
       "3336      Wildfire  2d15d2af-d4a5-4f41-a17c-b17e3030ea93   \n",
       "3337      Wildfire  793418f8-d217-44c3-8409-617b2a3107a2   \n",
       "3338      Wildfire  cd5d2222-9721-4800-a0b7-604d56b86a93   \n",
       "3339      Wildfire  5fa1beec-2657-45ff-8f6c-3c16313ad424   \n",
       "\n",
       "                                           incident_url  \\\n",
       "0     https://www.fire.ca.gov/incidents/2017/10/31/b...   \n",
       "3     https://www.fire.ca.gov/incidents/2013/4/20/fa...   \n",
       "6     https://www.fire.ca.gov/incidents/2013/4/30/si...   \n",
       "11    https://www.fire.ca.gov/incidents/2013/5/13/ly...   \n",
       "14    https://www.fire.ca.gov/incidents/2013/5/16/54...   \n",
       "...                                                 ...   \n",
       "3335  https://www.fire.ca.gov/incidents/2025/9/25/lo...   \n",
       "3336  https://www.fire.ca.gov/incidents/2025/9/26/ma...   \n",
       "3337  https://www.fire.ca.gov/incidents/2025/9/26/co...   \n",
       "3338  https://www.fire.ca.gov/incidents/2025/9/29/vl...   \n",
       "3339  https://www.fire.ca.gov/incidents/2025/9/30/pa...   \n",
       "\n",
       "     incident_date_extinguished incident_dateonly_extinguished  \\\n",
       "0          2018-01-09T13:46:00Z                     2018-01-09   \n",
       "3          2013-04-22T09:00:00Z                     2013-04-22   \n",
       "6          2013-05-01T17:15:00Z                     2013-05-01   \n",
       "11         2013-05-15T08:15:00Z                     2013-05-15   \n",
       "14         2013-05-17T08:30:00Z                     2013-05-17   \n",
       "...                         ...                            ...   \n",
       "3335       2025-09-27T14:00:00Z                     2025-09-27   \n",
       "3336       2025-09-26T23:30:00Z                     2025-09-26   \n",
       "3337       2025-09-28T17:00:00Z                     2025-09-28   \n",
       "3338                        NaN                            NaN   \n",
       "3339       2025-09-30T18:44:00Z                     2025-09-30   \n",
       "\n",
       "     incident_dateonly_created is_active calfire_incident notification_desired  \n",
       "0                   2017-10-31         N            False                False  \n",
       "3                   2013-04-20         N            False                False  \n",
       "6                   2013-04-30         N             True                False  \n",
       "11                  2013-05-13         N             True                False  \n",
       "14                  2013-05-16         N             True                False  \n",
       "...                        ...       ...              ...                  ...  \n",
       "3335                2025-09-25         N            False                False  \n",
       "3336                2025-09-26         N             True                False  \n",
       "3337                2025-09-26         N             True                False  \n",
       "3338                2025-09-29         Y             True                False  \n",
       "3339                2025-09-30         N             True                False  \n",
       "\n",
       "[1882 rows x 23 columns]"
      ]
     },
     "execution_count": 30,
     "metadata": {},
     "output_type": "execute_result"
    }
   ],
   "source": [
    "#Q3\n",
    "maskq3 = DF['incident_acres_burned'] <= 99\n",
    "mq3 = DF[maskq3]\n",
    "mq3"
   ]
  },
  {
   "cell_type": "code",
   "execution_count": 31,
   "id": "bfc7d0fa-bdb2-4d43-bc40-b7877c607ccf",
   "metadata": {},
   "outputs": [
    {
     "data": {
      "text/html": [
       "<div>\n",
       "<style scoped>\n",
       "    .dataframe tbody tr th:only-of-type {\n",
       "        vertical-align: middle;\n",
       "    }\n",
       "\n",
       "    .dataframe tbody tr th {\n",
       "        vertical-align: top;\n",
       "    }\n",
       "\n",
       "    .dataframe thead th {\n",
       "        text-align: right;\n",
       "    }\n",
       "</style>\n",
       "<table border=\"1\" class=\"dataframe\">\n",
       "  <thead>\n",
       "    <tr style=\"text-align: right;\">\n",
       "      <th></th>\n",
       "      <th>incident_acres_burned</th>\n",
       "    </tr>\n",
       "  </thead>\n",
       "  <tbody>\n",
       "    <tr>\n",
       "      <th>count</th>\n",
       "      <td>3.287000e+03</td>\n",
       "    </tr>\n",
       "    <tr>\n",
       "      <th>mean</th>\n",
       "      <td>3.757929e+03</td>\n",
       "    </tr>\n",
       "    <tr>\n",
       "      <th>std</th>\n",
       "      <td>3.251579e+04</td>\n",
       "    </tr>\n",
       "    <tr>\n",
       "      <th>min</th>\n",
       "      <td>0.000000e+00</td>\n",
       "    </tr>\n",
       "    <tr>\n",
       "      <th>25%</th>\n",
       "      <td>2.500000e+01</td>\n",
       "    </tr>\n",
       "    <tr>\n",
       "      <th>50%</th>\n",
       "      <td>7.000000e+01</td>\n",
       "    </tr>\n",
       "    <tr>\n",
       "      <th>75%</th>\n",
       "      <td>3.000000e+02</td>\n",
       "    </tr>\n",
       "    <tr>\n",
       "      <th>max</th>\n",
       "      <td>1.032648e+06</td>\n",
       "    </tr>\n",
       "  </tbody>\n",
       "</table>\n",
       "</div>"
      ],
      "text/plain": [
       "       incident_acres_burned\n",
       "count           3.287000e+03\n",
       "mean            3.757929e+03\n",
       "std             3.251579e+04\n",
       "min             0.000000e+00\n",
       "25%             2.500000e+01\n",
       "50%             7.000000e+01\n",
       "75%             3.000000e+02\n",
       "max             1.032648e+06"
      ]
     },
     "execution_count": 31,
     "metadata": {},
     "output_type": "execute_result"
    }
   ],
   "source": [
    "q3var = ['incident_name','incident_county', 'incident_acres_burned' ]\n",
    "DF[q3var].describe()"
   ]
  },
  {
   "cell_type": "code",
   "execution_count": 32,
   "id": "35e35267-62f9-4c1c-855a-3212bb9f1f48",
   "metadata": {},
   "outputs": [
    {
     "data": {
      "application/vnd.plotly.v1+json": {
       "config": {
        "plotlyServerURL": "https://plot.ly"
       },
       "data": [
        {
         "bingroup": "x",
         "hovertemplate": "incident_acres_burned=%{x}<br>count=%{y}<extra></extra>",
         "legendgroup": "",
         "marker": {
          "color": "#636efa",
          "opacity": 0.5,
          "pattern": {
           "shape": ""
          }
         },
         "name": "",
         "nbinsx": 20,
         "orientation": "v",
         "showlegend": false,
         "type": "histogram",
         "x": {
          "bdata": "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",
          "dtype": "f8"
         },
         "xaxis": "x",
         "yaxis": "y"
        }
       ],
       "layout": {
        "barmode": "relative",
        "legend": {
         "tracegroupgap": 0
        },
        "template": {
         "data": {
          "bar": [
           {
            "error_x": {
             "color": "#2a3f5f"
            },
            "error_y": {
             "color": "#2a3f5f"
            },
            "marker": {
             "line": {
              "color": "#E5ECF6",
              "width": 0.5
             },
             "pattern": {
              "fillmode": "overlay",
              "size": 10,
              "solidity": 0.2
             }
            },
            "type": "bar"
           }
          ],
          "barpolar": [
           {
            "marker": {
             "line": {
              "color": "#E5ECF6",
              "width": 0.5
             },
             "pattern": {
              "fillmode": "overlay",
              "size": 10,
              "solidity": 0.2
             }
            },
            "type": "barpolar"
           }
          ],
          "carpet": [
           {
            "aaxis": {
             "endlinecolor": "#2a3f5f",
             "gridcolor": "white",
             "linecolor": "white",
             "minorgridcolor": "white",
             "startlinecolor": "#2a3f5f"
            },
            "baxis": {
             "endlinecolor": "#2a3f5f",
             "gridcolor": "white",
             "linecolor": "white",
             "minorgridcolor": "white",
             "startlinecolor": "#2a3f5f"
            },
            "type": "carpet"
           }
          ],
          "choropleth": [
           {
            "colorbar": {
             "outlinewidth": 0,
             "ticks": ""
            },
            "type": "choropleth"
           }
          ],
          "contour": [
           {
            "colorbar": {
             "outlinewidth": 0,
             "ticks": ""
            },
            "colorscale": [
             [
              0,
              "#0d0887"
             ],
             [
              0.1111111111111111,
              "#46039f"
             ],
             [
              0.2222222222222222,
              "#7201a8"
             ],
             [
              0.3333333333333333,
              "#9c179e"
             ],
             [
              0.4444444444444444,
              "#bd3786"
             ],
             [
              0.5555555555555556,
              "#d8576b"
             ],
             [
              0.6666666666666666,
              "#ed7953"
             ],
             [
              0.7777777777777778,
              "#fb9f3a"
             ],
             [
              0.8888888888888888,
              "#fdca26"
             ],
             [
              1,
              "#f0f921"
             ]
            ],
            "type": "contour"
           }
          ],
          "contourcarpet": [
           {
            "colorbar": {
             "outlinewidth": 0,
             "ticks": ""
            },
            "type": "contourcarpet"
           }
          ],
          "heatmap": [
           {
            "colorbar": {
             "outlinewidth": 0,
             "ticks": ""
            },
            "colorscale": [
             [
              0,
              "#0d0887"
             ],
             [
              0.1111111111111111,
              "#46039f"
             ],
             [
              0.2222222222222222,
              "#7201a8"
             ],
             [
              0.3333333333333333,
              "#9c179e"
             ],
             [
              0.4444444444444444,
              "#bd3786"
             ],
             [
              0.5555555555555556,
              "#d8576b"
             ],
             [
              0.6666666666666666,
              "#ed7953"
             ],
             [
              0.7777777777777778,
              "#fb9f3a"
             ],
             [
              0.8888888888888888,
              "#fdca26"
             ],
             [
              1,
              "#f0f921"
             ]
            ],
            "type": "heatmap"
           }
          ],
          "histogram": [
           {
            "marker": {
             "pattern": {
              "fillmode": "overlay",
              "size": 10,
              "solidity": 0.2
             }
            },
            "type": "histogram"
           }
          ],
          "histogram2d": [
           {
            "colorbar": {
             "outlinewidth": 0,
             "ticks": ""
            },
            "colorscale": [
             [
              0,
              "#0d0887"
             ],
             [
              0.1111111111111111,
              "#46039f"
             ],
             [
              0.2222222222222222,
              "#7201a8"
             ],
             [
              0.3333333333333333,
              "#9c179e"
             ],
             [
              0.4444444444444444,
              "#bd3786"
             ],
             [
              0.5555555555555556,
              "#d8576b"
             ],
             [
              0.6666666666666666,
              "#ed7953"
             ],
             [
              0.7777777777777778,
              "#fb9f3a"
             ],
             [
              0.8888888888888888,
              "#fdca26"
             ],
             [
              1,
              "#f0f921"
             ]
            ],
            "type": "histogram2d"
           }
          ],
          "histogram2dcontour": [
           {
            "colorbar": {
             "outlinewidth": 0,
             "ticks": ""
            },
            "colorscale": [
             [
              0,
              "#0d0887"
             ],
             [
              0.1111111111111111,
              "#46039f"
             ],
             [
              0.2222222222222222,
              "#7201a8"
             ],
             [
              0.3333333333333333,
              "#9c179e"
             ],
             [
              0.4444444444444444,
              "#bd3786"
             ],
             [
              0.5555555555555556,
              "#d8576b"
             ],
             [
              0.6666666666666666,
              "#ed7953"
             ],
             [
              0.7777777777777778,
              "#fb9f3a"
             ],
             [
              0.8888888888888888,
              "#fdca26"
             ],
             [
              1,
              "#f0f921"
             ]
            ],
            "type": "histogram2dcontour"
           }
          ],
          "mesh3d": [
           {
            "colorbar": {
             "outlinewidth": 0,
             "ticks": ""
            },
            "type": "mesh3d"
           }
          ],
          "parcoords": [
           {
            "line": {
             "colorbar": {
              "outlinewidth": 0,
              "ticks": ""
             }
            },
            "type": "parcoords"
           }
          ],
          "pie": [
           {
            "automargin": true,
            "type": "pie"
           }
          ],
          "scatter": [
           {
            "fillpattern": {
             "fillmode": "overlay",
             "size": 10,
             "solidity": 0.2
            },
            "type": "scatter"
           }
          ],
          "scatter3d": [
           {
            "line": {
             "colorbar": {
              "outlinewidth": 0,
              "ticks": ""
             }
            },
            "marker": {
             "colorbar": {
              "outlinewidth": 0,
              "ticks": ""
             }
            },
            "type": "scatter3d"
           }
          ],
          "scattercarpet": [
           {
            "marker": {
             "colorbar": {
              "outlinewidth": 0,
              "ticks": ""
             }
            },
            "type": "scattercarpet"
           }
          ],
          "scattergeo": [
           {
            "marker": {
             "colorbar": {
              "outlinewidth": 0,
              "ticks": ""
             }
            },
            "type": "scattergeo"
           }
          ],
          "scattergl": [
           {
            "marker": {
             "colorbar": {
              "outlinewidth": 0,
              "ticks": ""
             }
            },
            "type": "scattergl"
           }
          ],
          "scattermap": [
           {
            "marker": {
             "colorbar": {
              "outlinewidth": 0,
              "ticks": ""
             }
            },
            "type": "scattermap"
           }
          ],
          "scattermapbox": [
           {
            "marker": {
             "colorbar": {
              "outlinewidth": 0,
              "ticks": ""
             }
            },
            "type": "scattermapbox"
           }
          ],
          "scatterpolar": [
           {
            "marker": {
             "colorbar": {
              "outlinewidth": 0,
              "ticks": ""
             }
            },
            "type": "scatterpolar"
           }
          ],
          "scatterpolargl": [
           {
            "marker": {
             "colorbar": {
              "outlinewidth": 0,
              "ticks": ""
             }
            },
            "type": "scatterpolargl"
           }
          ],
          "scatterternary": [
           {
            "marker": {
             "colorbar": {
              "outlinewidth": 0,
              "ticks": ""
             }
            },
            "type": "scatterternary"
           }
          ],
          "surface": [
           {
            "colorbar": {
             "outlinewidth": 0,
             "ticks": ""
            },
            "colorscale": [
             [
              0,
              "#0d0887"
             ],
             [
              0.1111111111111111,
              "#46039f"
             ],
             [
              0.2222222222222222,
              "#7201a8"
             ],
             [
              0.3333333333333333,
              "#9c179e"
             ],
             [
              0.4444444444444444,
              "#bd3786"
             ],
             [
              0.5555555555555556,
              "#d8576b"
             ],
             [
              0.6666666666666666,
              "#ed7953"
             ],
             [
              0.7777777777777778,
              "#fb9f3a"
             ],
             [
              0.8888888888888888,
              "#fdca26"
             ],
             [
              1,
              "#f0f921"
             ]
            ],
            "type": "surface"
           }
          ],
          "table": [
           {
            "cells": {
             "fill": {
              "color": "#EBF0F8"
             },
             "line": {
              "color": "white"
             }
            },
            "header": {
             "fill": {
              "color": "#C8D4E3"
             },
             "line": {
              "color": "white"
             }
            },
            "type": "table"
           }
          ]
         },
         "layout": {
          "annotationdefaults": {
           "arrowcolor": "#2a3f5f",
           "arrowhead": 0,
           "arrowwidth": 1
          },
          "autotypenumbers": "strict",
          "coloraxis": {
           "colorbar": {
            "outlinewidth": 0,
            "ticks": ""
           }
          },
          "colorscale": {
           "diverging": [
            [
             0,
             "#8e0152"
            ],
            [
             0.1,
             "#c51b7d"
            ],
            [
             0.2,
             "#de77ae"
            ],
            [
             0.3,
             "#f1b6da"
            ],
            [
             0.4,
             "#fde0ef"
            ],
            [
             0.5,
             "#f7f7f7"
            ],
            [
             0.6,
             "#e6f5d0"
            ],
            [
             0.7,
             "#b8e186"
            ],
            [
             0.8,
             "#7fbc41"
            ],
            [
             0.9,
             "#4d9221"
            ],
            [
             1,
             "#276419"
            ]
           ],
           "sequential": [
            [
             0,
             "#0d0887"
            ],
            [
             0.1111111111111111,
             "#46039f"
            ],
            [
             0.2222222222222222,
             "#7201a8"
            ],
            [
             0.3333333333333333,
             "#9c179e"
            ],
            [
             0.4444444444444444,
             "#bd3786"
            ],
            [
             0.5555555555555556,
             "#d8576b"
            ],
            [
             0.6666666666666666,
             "#ed7953"
            ],
            [
             0.7777777777777778,
             "#fb9f3a"
            ],
            [
             0.8888888888888888,
             "#fdca26"
            ],
            [
             1,
             "#f0f921"
            ]
           ],
           "sequentialminus": [
            [
             0,
             "#0d0887"
            ],
            [
             0.1111111111111111,
             "#46039f"
            ],
            [
             0.2222222222222222,
             "#7201a8"
            ],
            [
             0.3333333333333333,
             "#9c179e"
            ],
            [
             0.4444444444444444,
             "#bd3786"
            ],
            [
             0.5555555555555556,
             "#d8576b"
            ],
            [
             0.6666666666666666,
             "#ed7953"
            ],
            [
             0.7777777777777778,
             "#fb9f3a"
            ],
            [
             0.8888888888888888,
             "#fdca26"
            ],
            [
             1,
             "#f0f921"
            ]
           ]
          },
          "colorway": [
           "#636efa",
           "#EF553B",
           "#00cc96",
           "#ab63fa",
           "#FFA15A",
           "#19d3f3",
           "#FF6692",
           "#B6E880",
           "#FF97FF",
           "#FECB52"
          ],
          "font": {
           "color": "#2a3f5f"
          },
          "geo": {
           "bgcolor": "white",
           "lakecolor": "white",
           "landcolor": "#E5ECF6",
           "showlakes": true,
           "showland": true,
           "subunitcolor": "white"
          },
          "hoverlabel": {
           "align": "left"
          },
          "hovermode": "closest",
          "mapbox": {
           "style": "light"
          },
          "paper_bgcolor": "white",
          "plot_bgcolor": "#E5ECF6",
          "polar": {
           "angularaxis": {
            "gridcolor": "white",
            "linecolor": "white",
            "ticks": ""
           },
           "bgcolor": "#E5ECF6",
           "radialaxis": {
            "gridcolor": "white",
            "linecolor": "white",
            "ticks": ""
           }
          },
          "scene": {
           "xaxis": {
            "backgroundcolor": "#E5ECF6",
            "gridcolor": "white",
            "gridwidth": 2,
            "linecolor": "white",
            "showbackground": true,
            "ticks": "",
            "zerolinecolor": "white"
           },
           "yaxis": {
            "backgroundcolor": "#E5ECF6",
            "gridcolor": "white",
            "gridwidth": 2,
            "linecolor": "white",
            "showbackground": true,
            "ticks": "",
            "zerolinecolor": "white"
           },
           "zaxis": {
            "backgroundcolor": "#E5ECF6",
            "gridcolor": "white",
            "gridwidth": 2,
            "linecolor": "white",
            "showbackground": true,
            "ticks": "",
            "zerolinecolor": "white"
           }
          },
          "shapedefaults": {
           "line": {
            "color": "#2a3f5f"
           }
          },
          "ternary": {
           "aaxis": {
            "gridcolor": "white",
            "linecolor": "white",
            "ticks": ""
           },
           "baxis": {
            "gridcolor": "white",
            "linecolor": "white",
            "ticks": ""
           },
           "bgcolor": "#E5ECF6",
           "caxis": {
            "gridcolor": "white",
            "linecolor": "white",
            "ticks": ""
           }
          },
          "title": {
           "x": 0.05
          },
          "xaxis": {
           "automargin": true,
           "gridcolor": "white",
           "linecolor": "white",
           "ticks": "",
           "title": {
            "standoff": 15
           },
           "zerolinecolor": "white",
           "zerolinewidth": 2
          },
          "yaxis": {
           "automargin": true,
           "gridcolor": "white",
           "linecolor": "white",
           "ticks": "",
           "title": {
            "standoff": 15
           },
           "zerolinecolor": "white",
           "zerolinewidth": 2
          }
         }
        },
        "title": {
         "text": "Price to piece v.s. Amazon price difference"
        },
        "xaxis": {
         "anchor": "y",
         "domain": [
          0,
          1
         ],
         "title": {
          "text": "incident_acres_burned"
         }
        },
        "yaxis": {
         "anchor": "x",
         "domain": [
          0,
          1
         ],
         "title": {
          "text": "count"
         }
        }
       }
      },
      "image/png": "[encoded data removed]"
     },
     "metadata": {},
     "output_type": "display_data"
    }
   ],
   "source": [
    "q3 = px.histogram(mq3,\n",
    "              x='incident_acres_burned',\n",
    "                   nbins=20,\n",
    "            hover_name='incident_name',     \n",
    "              opacity=0.5,\n",
    "                title='Price to piece v.s. Amazon price difference', \n",
    "                  )\n",
    "q3.show()"
   ]
  },
  {
   "cell_type": "markdown",
   "id": "4a62ca19-9cb1-48a7-b71e-2b38154cb86f",
   "metadata": {},
   "source": [
    "## Try reading in some data from Wikipedia - html\n",
    "\n",
    "Here we will explore academy award winning films. Go to the [Wiki for the List of Academy Award Winning Films](https://en.wikipedia.org/wiki/List_of_Academy_Award%E2%80%93winning_films). Look at what type of data is there. How many tables? Any weird looking data?\n",
    "\n",
    "Now we will read the html data into Python and show the data in DF[0]"
   ]
  },
  {
   "cell_type": "code",
   "execution_count": 36,
   "id": "d12ce3e7-0b8d-4138-897a-3b7fd2a87580",
   "metadata": {},
   "outputs": [
    {
     "ename": "ImportError",
     "evalue": "Missing optional dependency 'lxml'.  Use pip or conda to install lxml.",
     "output_type": "error",
     "traceback": [
      "\u001b[31m---------------------------------------------------------------------------\u001b[39m",
      "\u001b[31mImportError\u001b[39m                               Traceback (most recent call last)",
      "\u001b[36mFile \u001b[39m\u001b[32m~\\anaconda3\\envs\\Data101\\Lib\\site-packages\\pandas\\compat\\_optional.py:135\u001b[39m, in \u001b[36mimport_optional_dependency\u001b[39m\u001b[34m(name, extra, errors, min_version)\u001b[39m\n\u001b[32m    134\u001b[39m \u001b[38;5;28;01mtry\u001b[39;00m:\n\u001b[32m--> \u001b[39m\u001b[32m135\u001b[39m     module = \u001b[43mimportlib\u001b[49m\u001b[43m.\u001b[49m\u001b[43mimport_module\u001b[49m\u001b[43m(\u001b[49m\u001b[43mname\u001b[49m\u001b[43m)\u001b[49m\n\u001b[32m    136\u001b[39m \u001b[38;5;28;01mexcept\u001b[39;00m \u001b[38;5;167;01mImportError\u001b[39;00m:\n",
      "\u001b[36mFile \u001b[39m\u001b[32m~\\anaconda3\\envs\\Data101\\Lib\\importlib\\__init__.py:90\u001b[39m, in \u001b[36mimport_module\u001b[39m\u001b[34m(name, package)\u001b[39m\n\u001b[32m     89\u001b[39m         level += \u001b[32m1\u001b[39m\n\u001b[32m---> \u001b[39m\u001b[32m90\u001b[39m \u001b[38;5;28;01mreturn\u001b[39;00m \u001b[43m_bootstrap\u001b[49m\u001b[43m.\u001b[49m\u001b[43m_gcd_import\u001b[49m\u001b[43m(\u001b[49m\u001b[43mname\u001b[49m\u001b[43m[\u001b[49m\u001b[43mlevel\u001b[49m\u001b[43m:\u001b[49m\u001b[43m]\u001b[49m\u001b[43m,\u001b[49m\u001b[43m \u001b[49m\u001b[43mpackage\u001b[49m\u001b[43m,\u001b[49m\u001b[43m \u001b[49m\u001b[43mlevel\u001b[49m\u001b[43m)\u001b[49m\n",
      "\u001b[36mFile \u001b[39m\u001b[32m<frozen importlib._bootstrap>:1387\u001b[39m, in \u001b[36m_gcd_import\u001b[39m\u001b[34m(name, package, level)\u001b[39m\n",
      "\u001b[36mFile \u001b[39m\u001b[32m<frozen importlib._bootstrap>:1360\u001b[39m, in \u001b[36m_find_and_load\u001b[39m\u001b[34m(name, import_)\u001b[39m\n",
      "\u001b[36mFile \u001b[39m\u001b[32m<frozen importlib._bootstrap>:1331\u001b[39m, in \u001b[36m_find_and_load_unlocked\u001b[39m\u001b[34m(name, import_)\u001b[39m\n",
      "\u001b[36mFile \u001b[39m\u001b[32m<frozen importlib._bootstrap>:921\u001b[39m, in \u001b[36m_load_unlocked\u001b[39m\u001b[34m(spec)\u001b[39m\n",
      "\u001b[36mFile \u001b[39m\u001b[32m<frozen importlib._bootstrap>:813\u001b[39m, in \u001b[36mmodule_from_spec\u001b[39m\u001b[34m(spec)\u001b[39m\n",
      "\u001b[36mFile \u001b[39m\u001b[32m<frozen importlib._bootstrap_external>:1293\u001b[39m, in \u001b[36mcreate_module\u001b[39m\u001b[34m(self, spec)\u001b[39m\n",
      "\u001b[36mFile \u001b[39m\u001b[32m<frozen importlib._bootstrap>:488\u001b[39m, in \u001b[36m_call_with_frames_removed\u001b[39m\u001b[34m(f, *args, **kwds)\u001b[39m\n",
      "\u001b[31mImportError\u001b[39m: DLL load failed while importing etree: The specified procedure could not be found.",
      "\nDuring handling of the above exception, another exception occurred:\n",
      "\u001b[31mImportError\u001b[39m                               Traceback (most recent call last)",
      "\u001b[36mCell\u001b[39m\u001b[36m \u001b[39m\u001b[32mIn[36]\u001b[39m\u001b[32m, line 19\u001b[39m\n\u001b[32m     15\u001b[39m response = requests.get(my_website, headers=headers)\n\u001b[32m     16\u001b[39m \u001b[38;5;66;03m#####\u001b[39;00m\n\u001b[32m     17\u001b[39m \n\u001b[32m     18\u001b[39m \u001b[38;5;66;03m# Normal pandas code\u001b[39;00m\n\u001b[32m---> \u001b[39m\u001b[32m19\u001b[39m DF = \u001b[43mpd\u001b[49m\u001b[43m.\u001b[49m\u001b[43mread_html\u001b[49m\u001b[43m(\u001b[49m\u001b[43mresponse\u001b[49m\u001b[43m.\u001b[49m\u001b[43mcontent\u001b[49m\u001b[43m)\u001b[49m\n\u001b[32m     20\u001b[39m DF_raw = DF[\u001b[32m0\u001b[39m]\n\u001b[32m     21\u001b[39m DF_raw[\u001b[33m'\u001b[39m\u001b[33mYear\u001b[39m\u001b[33m'\u001b[39m] = DF_raw[\u001b[33m'\u001b[39m\u001b[33mYear\u001b[39m\u001b[33m'\u001b[39m].apply(\u001b[38;5;28;01mlambda\u001b[39;00m x: \u001b[38;5;28mint\u001b[39m(x.split(\u001b[33m'\u001b[39m\u001b[33m/\u001b[39m\u001b[33m'\u001b[39m)[\u001b[32m0\u001b[39m]))\n",
      "\u001b[36mFile \u001b[39m\u001b[32m~\\anaconda3\\envs\\Data101\\Lib\\site-packages\\pandas\\io\\html.py:1240\u001b[39m, in \u001b[36mread_html\u001b[39m\u001b[34m(io, match, flavor, header, index_col, skiprows, attrs, parse_dates, thousands, encoding, decimal, converters, na_values, keep_default_na, displayed_only, extract_links, dtype_backend, storage_options)\u001b[39m\n\u001b[32m   1224\u001b[39m \u001b[38;5;28;01mif\u001b[39;00m \u001b[38;5;28misinstance\u001b[39m(io, \u001b[38;5;28mstr\u001b[39m) \u001b[38;5;129;01mand\u001b[39;00m \u001b[38;5;129;01mnot\u001b[39;00m \u001b[38;5;28many\u001b[39m(\n\u001b[32m   1225\u001b[39m     [\n\u001b[32m   1226\u001b[39m         is_file_like(io),\n\u001b[32m   (...)\u001b[39m\u001b[32m   1230\u001b[39m     ]\n\u001b[32m   1231\u001b[39m ):\n\u001b[32m   1232\u001b[39m     warnings.warn(\n\u001b[32m   1233\u001b[39m         \u001b[33m\"\u001b[39m\u001b[33mPassing literal html to \u001b[39m\u001b[33m'\u001b[39m\u001b[33mread_html\u001b[39m\u001b[33m'\u001b[39m\u001b[33m is deprecated and \u001b[39m\u001b[33m\"\u001b[39m\n\u001b[32m   1234\u001b[39m         \u001b[33m\"\u001b[39m\u001b[33mwill be removed in a future version. To read from a \u001b[39m\u001b[33m\"\u001b[39m\n\u001b[32m   (...)\u001b[39m\u001b[32m   1237\u001b[39m         stacklevel=find_stack_level(),\n\u001b[32m   1238\u001b[39m     )\n\u001b[32m-> \u001b[39m\u001b[32m1240\u001b[39m \u001b[38;5;28;01mreturn\u001b[39;00m \u001b[43m_parse\u001b[49m\u001b[43m(\u001b[49m\n\u001b[32m   1241\u001b[39m \u001b[43m    \u001b[49m\u001b[43mflavor\u001b[49m\u001b[43m=\u001b[49m\u001b[43mflavor\u001b[49m\u001b[43m,\u001b[49m\n\u001b[32m   1242\u001b[39m \u001b[43m    \u001b[49m\u001b[43mio\u001b[49m\u001b[43m=\u001b[49m\u001b[43mio\u001b[49m\u001b[43m,\u001b[49m\n\u001b[32m   1243\u001b[39m \u001b[43m    \u001b[49m\u001b[43mmatch\u001b[49m\u001b[43m=\u001b[49m\u001b[43mmatch\u001b[49m\u001b[43m,\u001b[49m\n\u001b[32m   1244\u001b[39m \u001b[43m    \u001b[49m\u001b[43mheader\u001b[49m\u001b[43m=\u001b[49m\u001b[43mheader\u001b[49m\u001b[43m,\u001b[49m\n\u001b[32m   1245\u001b[39m \u001b[43m    \u001b[49m\u001b[43mindex_col\u001b[49m\u001b[43m=\u001b[49m\u001b[43mindex_col\u001b[49m\u001b[43m,\u001b[49m\n\u001b[32m   1246\u001b[39m \u001b[43m    \u001b[49m\u001b[43mskiprows\u001b[49m\u001b[43m=\u001b[49m\u001b[43mskiprows\u001b[49m\u001b[43m,\u001b[49m\n\u001b[32m   1247\u001b[39m \u001b[43m    \u001b[49m\u001b[43mparse_dates\u001b[49m\u001b[43m=\u001b[49m\u001b[43mparse_dates\u001b[49m\u001b[43m,\u001b[49m\n\u001b[32m   1248\u001b[39m \u001b[43m    \u001b[49m\u001b[43mthousands\u001b[49m\u001b[43m=\u001b[49m\u001b[43mthousands\u001b[49m\u001b[43m,\u001b[49m\n\u001b[32m   1249\u001b[39m \u001b[43m    \u001b[49m\u001b[43mattrs\u001b[49m\u001b[43m=\u001b[49m\u001b[43mattrs\u001b[49m\u001b[43m,\u001b[49m\n\u001b[32m   1250\u001b[39m \u001b[43m    \u001b[49m\u001b[43mencoding\u001b[49m\u001b[43m=\u001b[49m\u001b[43mencoding\u001b[49m\u001b[43m,\u001b[49m\n\u001b[32m   1251\u001b[39m \u001b[43m    \u001b[49m\u001b[43mdecimal\u001b[49m\u001b[43m=\u001b[49m\u001b[43mdecimal\u001b[49m\u001b[43m,\u001b[49m\n\u001b[32m   1252\u001b[39m \u001b[43m    \u001b[49m\u001b[43mconverters\u001b[49m\u001b[43m=\u001b[49m\u001b[43mconverters\u001b[49m\u001b[43m,\u001b[49m\n\u001b[32m   1253\u001b[39m \u001b[43m    \u001b[49m\u001b[43mna_values\u001b[49m\u001b[43m=\u001b[49m\u001b[43mna_values\u001b[49m\u001b[43m,\u001b[49m\n\u001b[32m   1254\u001b[39m \u001b[43m    \u001b[49m\u001b[43mkeep_default_na\u001b[49m\u001b[43m=\u001b[49m\u001b[43mkeep_default_na\u001b[49m\u001b[43m,\u001b[49m\n\u001b[32m   1255\u001b[39m \u001b[43m    \u001b[49m\u001b[43mdisplayed_only\u001b[49m\u001b[43m=\u001b[49m\u001b[43mdisplayed_only\u001b[49m\u001b[43m,\u001b[49m\n\u001b[32m   1256\u001b[39m \u001b[43m    \u001b[49m\u001b[43mextract_links\u001b[49m\u001b[43m=\u001b[49m\u001b[43mextract_links\u001b[49m\u001b[43m,\u001b[49m\n\u001b[32m   1257\u001b[39m \u001b[43m    \u001b[49m\u001b[43mdtype_backend\u001b[49m\u001b[43m=\u001b[49m\u001b[43mdtype_backend\u001b[49m\u001b[43m,\u001b[49m\n\u001b[32m   1258\u001b[39m \u001b[43m    \u001b[49m\u001b[43mstorage_options\u001b[49m\u001b[43m=\u001b[49m\u001b[43mstorage_options\u001b[49m\u001b[43m,\u001b[49m\n\u001b[32m   1259\u001b[39m \u001b[43m\u001b[49m\u001b[43m)\u001b[49m\n",
      "\u001b[36mFile \u001b[39m\u001b[32m~\\anaconda3\\envs\\Data101\\Lib\\site-packages\\pandas\\io\\html.py:971\u001b[39m, in \u001b[36m_parse\u001b[39m\u001b[34m(flavor, io, match, attrs, encoding, displayed_only, extract_links, storage_options, **kwargs)\u001b[39m\n\u001b[32m    969\u001b[39m retained = \u001b[38;5;28;01mNone\u001b[39;00m\n\u001b[32m    970\u001b[39m \u001b[38;5;28;01mfor\u001b[39;00m flav \u001b[38;5;129;01min\u001b[39;00m flavor:\n\u001b[32m--> \u001b[39m\u001b[32m971\u001b[39m     parser = \u001b[43m_parser_dispatch\u001b[49m\u001b[43m(\u001b[49m\u001b[43mflav\u001b[49m\u001b[43m)\u001b[49m\n\u001b[32m    972\u001b[39m     p = parser(\n\u001b[32m    973\u001b[39m         io,\n\u001b[32m    974\u001b[39m         compiled_match,\n\u001b[32m   (...)\u001b[39m\u001b[32m    979\u001b[39m         storage_options,\n\u001b[32m    980\u001b[39m     )\n\u001b[32m    982\u001b[39m     \u001b[38;5;28;01mtry\u001b[39;00m:\n",
      "\u001b[36mFile \u001b[39m\u001b[32m~\\anaconda3\\envs\\Data101\\Lib\\site-packages\\pandas\\io\\html.py:918\u001b[39m, in \u001b[36m_parser_dispatch\u001b[39m\u001b[34m(flavor)\u001b[39m\n\u001b[32m    916\u001b[39m     import_optional_dependency(\u001b[33m\"\u001b[39m\u001b[33mbs4\u001b[39m\u001b[33m\"\u001b[39m)\n\u001b[32m    917\u001b[39m \u001b[38;5;28;01melse\u001b[39;00m:\n\u001b[32m--> \u001b[39m\u001b[32m918\u001b[39m     \u001b[43mimport_optional_dependency\u001b[49m\u001b[43m(\u001b[49m\u001b[33;43m\"\u001b[39;49m\u001b[33;43mlxml.etree\u001b[39;49m\u001b[33;43m\"\u001b[39;49m\u001b[43m)\u001b[49m\n\u001b[32m    919\u001b[39m \u001b[38;5;28;01mreturn\u001b[39;00m _valid_parsers[flavor]\n",
      "\u001b[36mFile \u001b[39m\u001b[32m~\\anaconda3\\envs\\Data101\\Lib\\site-packages\\pandas\\compat\\_optional.py:138\u001b[39m, in \u001b[36mimport_optional_dependency\u001b[39m\u001b[34m(name, extra, errors, min_version)\u001b[39m\n\u001b[32m    136\u001b[39m \u001b[38;5;28;01mexcept\u001b[39;00m \u001b[38;5;167;01mImportError\u001b[39;00m:\n\u001b[32m    137\u001b[39m     \u001b[38;5;28;01mif\u001b[39;00m errors == \u001b[33m\"\u001b[39m\u001b[33mraise\u001b[39m\u001b[33m\"\u001b[39m:\n\u001b[32m--> \u001b[39m\u001b[32m138\u001b[39m         \u001b[38;5;28;01mraise\u001b[39;00m \u001b[38;5;167;01mImportError\u001b[39;00m(msg)\n\u001b[32m    139\u001b[39m     \u001b[38;5;28;01mreturn\u001b[39;00m \u001b[38;5;28;01mNone\u001b[39;00m\n\u001b[32m    141\u001b[39m \u001b[38;5;66;03m# Handle submodules: if we have submodule, grab parent module from sys.modules\u001b[39;00m\n",
      "\u001b[31mImportError\u001b[39m: Missing optional dependency 'lxml'.  Use pip or conda to install lxml."
     ]
    }
   ],
   "source": [
    "# Here is some helper code\n",
    "# This is code that will read in the data and then fix the Year column\n",
    "\n",
    "#####\n",
    "'''\n",
    "NOTE: Many websites try to stop you from scraping even simple tables. \n",
    "    In just one year wikipedia made big changes... so I changed the code here.\n",
    "    We can talk more about this code in class.\n",
    "'''\n",
    "import requests\n",
    "headers = {\n",
    "    'User-Agent': 'Mozilla/5.0 (Windows NT 10.0; Win64; x64) AppleWebKit/537.36 (KHTML, like Gecko) Chrome/91.0.4472.124 Safari/537.36'\n",
    "}\n",
    "my_website = \"https://en.wikipedia.org/wiki/List_of_Academy_Award%E2%80%93winning_films\"\n",
    "response = requests.get(my_website, headers=headers)\n",
    "#####\n",
    "\n",
    "# Normal pandas code\n",
    "DF = pd.read_html(response.content)\n",
    "DF_raw = DF[0]\n",
    "DF_raw['Year'] = DF_raw['Year'].apply(lambda x: int(x.split('/')[0]))\n",
    "DF_raw"
   ]
  },
  {
   "cell_type": "markdown",
   "id": "98bcb72b-737f-4e74-933d-7583417db1a1",
   "metadata": {},
   "source": [
    "**Q4** Following along with the lecture notes or video, fix the data in the 'Awards' column."
   ]
  },
  {
   "cell_type": "code",
   "execution_count": 22,
   "id": "f847dd3a-b500-47cb-8e6b-cc21cff6d72b",
   "metadata": {},
   "outputs": [],
   "source": [
    "# Your code here\n"
   ]
  },
  {
   "cell_type": "markdown",
   "id": "b2675dbc-d0d7-4a97-9816-b1a7e2d610f7",
   "metadata": {},
   "source": [
    "**Q5** Now try to fix the data in the \"Nominations\" column - see if you can do it without looking at the answer."
   ]
  },
  {
   "cell_type": "code",
   "execution_count": 23,
   "id": "a37bdc28-7ce7-4bd5-9d19-7e4cdb95ec08",
   "metadata": {},
   "outputs": [],
   "source": [
    "# Your code here\n"
   ]
  },
  {
   "cell_type": "markdown",
   "id": "4f1102d3-f56f-46d6-a733-b7ef510ae723",
   "metadata": {},
   "source": [
    "## Problem 1\n",
    "\n",
    "Your homework today will be to see if you can find some data of your own. This can be the first steps you take toward your final project. \n",
    "\n",
    "You should:\n",
    "\n",
    "* Find some data online\n",
    "* Read that data into Python using the Pandas commands we learned\n",
    "* Look at the DataFrame - number of variables, number of observations, AND the dtypes. Comment on what you see.\n",
    "* Try to do summary statistics (.describe()). Does it work like expected?\n",
    "* Attempt to fix any data, or explain why the data does not need to be fixed.\n",
    "* Make some sort of graph using columns in your data."
   ]
  },
  {
   "cell_type": "code",
   "execution_count": null,
   "id": "15235bc9-a435-46cf-9a3d-4caeefcac2fa",
   "metadata": {},
   "outputs": [],
   "source": []
  }
 ],
 "metadata": {
  "kernelspec": {
   "display_name": "Python 3 (ipykernel)",
   "language": "python",
   "name": "python3"
  },
  "language_info": {
   "codemirror_mode": {
    "name": "ipython",
    "version": 3
   },
   "file_extension": ".py",
   "mimetype": "text/x-python",
   "name": "python",
   "nbconvert_exporter": "python",
   "pygments_lexer": "ipython3",
   "version": "3.12.11"
  }
 },
 "nbformat": 4,
 "nbformat_minor": 5
}
