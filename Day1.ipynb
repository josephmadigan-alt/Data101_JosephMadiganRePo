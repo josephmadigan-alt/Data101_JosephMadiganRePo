{
 "cells": [
  {
   "cell_type": "code",
   "execution_count": null,
   "id": "221fd896-bf75-489b-b6ea-461f060bdbbd",
   "metadata": {},
   "outputs": [],
   "source": []
  },
  {
   "cell_type": "markdown",
   "id": "734c83a5-23cf-4f06-89e1-b8c013f194fb",
   "metadata": {},
   "source": [
    "---------------------------------------\n",
    "# Homework Day 1\n",
    "---------------------------------------\n",
    "\n",
    "GOALS:\n",
    "\n",
    "1. Start exploring JupyterLab Notebooks.\n",
    "2. Start thinking about your data science goals.\n",
    "3. Practice writing up and handing in homework for this class.\n",
    "\n",
    "----------------------------------------------------------\n",
    "# FIRST MAKE A COPY IN YOUR PERSONAL FOLDER\n",
    "\n",
    "Make sure you copy the file from the FALL25 folder into your own person working folder.\n",
    "\n",
    "## JupyterLab Notebook \n",
    "#### (aka Jupyter Notebook, Notebook, the code, .ipynb)\n",
    "\n",
    "All of our assignments will be written up in Jupyter Notebooks. You notebook should contain two types of cells:\n",
    "\n",
    "* Markdown - where you can write text explaining your work and your thoughts\n",
    "* Code - where you will make Python do the calculations for you"
   ]
  },
  {
   "cell_type": "code",
   "execution_count": null,
   "id": "7766081e-101c-4825-91b7-fa49fd1ac19e",
   "metadata": {},
   "outputs": [],
   "source": []
  },
  {
   "cell_type": "markdown",
   "id": "12fe54ea-b74a-45ff-bbf5-037e7ebc2f6e",
   "metadata": {},
   "source": [
    "---------------------------------------\n",
    "# Homework Day 1\n",
    "---------------------------------------\n",
    "\n",
    "GOALS:\n",
    "\n",
    "1. Start exploring JupyterLab Notebooks.\n",
    "2. Start thinking about your data science goals.\n",
    "3. Practice writing up and handing in homework for this class.\n",
    "\n",
    "----------------------------------------------------------\n",
    "# FIRST MAKE A COPY IN YOUR PERSONAL FOLDER\n",
    "\n",
    "Make sure you copy the file from the FALL25 folder into your own person working folder.\n",
    "\n",
    "## JupyterLab Notebook \n",
    "#### (aka Jupyter Notebook, Notebook, the code, .ipynb)\n",
    "\n",
    "All of our assignments will be written up in Jupyter Notebooks. You notebook should contain two types of cells:\n",
    "\n",
    "* Markdown - where you can write text explaining your work and your thoughts\n",
    "* Code - where you will make Python do the calculations for you"
   ]
  },
  {
   "cell_type": "markdown",
   "id": "06261efb-85ae-41d2-9b11-887323abfe29",
   "metadata": {},
   "source": [
    "#### This is a Markdown cell (double click here to edit!)\n",
    "\n",
    "You should try adding words here!"
   ]
  },
  {
   "cell_type": "code",
   "execution_count": 1,
   "id": "35f9553a-29d0-423a-ae7d-108b09e96e78",
   "metadata": {},
   "outputs": [
    {
     "data": {
      "text/plain": [
       "2"
      ]
     },
     "execution_count": 1,
     "metadata": {},
     "output_type": "execute_result"
    }
   ],
   "source": [
    "# This is a code cell and since this lines starts with a hashtag it is a comment\n",
    "# You can add words or do calculations\n",
    "# I run it using the play button or holding down SHIFT while I press ENTER.\n",
    "\n",
    "1+1"
   ]
  },
  {
   "cell_type": "markdown",
   "id": "d8eafc66-db1b-4a4c-96fe-07e67571408f",
   "metadata": {},
   "source": [
    "### Problem 1.\n",
    "\n",
    "In the cell below discuss your first impressions of this course. How are you feeling about it so far? What are you most excited for? What are you most afraid of?"
   ]
  },
  {
   "cell_type": "markdown",
   "id": "63782c75-9370-457b-b73e-c2bb16ba31ee",
   "metadata": {},
   "source": [
    "(double click here to enter your answer) I feel good about it, I have used python in another one of your classes and feel like I should be able to transition that knowledge to this."
   ]
  },
  {
   "cell_type": "markdown",
   "id": "65f567e9-fca9-4df4-bffd-97da7ce403bd",
   "metadata": {},
   "source": [
    "### Problem 2.\n",
    "\n",
    "What are some of your strengths that you bring to the class? This can be academic strengths, personal strengths, cultural strengths, experiences, etc."
   ]
  },
  {
   "cell_type": "markdown",
   "id": "72d6fcfc-5023-4c42-a580-bcabe2ed5e6e",
   "metadata": {},
   "source": [
    "(double click here to enter your answer) I like to see things work, and like to work hard to do as much as I can to succede."
   ]
  },
  {
   "cell_type": "markdown",
   "id": "3dff21e0-c063-4f59-bdab-fe92e13a57b0",
   "metadata": {},
   "source": [
    "### Problem 3.\n",
    "\n",
    "Try running the cells below to see what they do! Type in words for your comment about what the cell does.\n",
    "\n",
    "You can run a cell using the play button at the top of the page or by holding down SHIFT and pressing ENTER."
   ]
  },
  {
   "cell_type": "code",
   "execution_count": 2,
   "id": "eeed58d0-7aad-4f5f-b6f3-463fe2b91146",
   "metadata": {},
   "outputs": [
    {
     "data": {
      "text/plain": [
       "7"
      ]
     },
     "execution_count": 2,
     "metadata": {},
     "output_type": "execute_result"
    }
   ],
   "source": [
    "# Your comment:\n",
    "2+5"
   ]
  },
  {
   "cell_type": "code",
   "execution_count": 3,
   "id": "b5b10c8b-0a81-488d-8849-f99f77a433e3",
   "metadata": {},
   "outputs": [
    {
     "data": {
      "text/plain": [
       "10"
      ]
     },
     "execution_count": 3,
     "metadata": {},
     "output_type": "execute_result"
    }
   ],
   "source": [
    "# Your comment:\n",
    "2*5"
   ]
  },
  {
   "cell_type": "code",
   "execution_count": 4,
   "id": "489d0901-fadb-4bf2-8734-93864edd4a65",
   "metadata": {},
   "outputs": [
    {
     "data": {
      "text/plain": [
       "0.4"
      ]
     },
     "execution_count": 4,
     "metadata": {},
     "output_type": "execute_result"
    }
   ],
   "source": [
    "# Your comment:\n",
    "2/5"
   ]
  },
  {
   "cell_type": "code",
   "execution_count": 5,
   "id": "2eb38d82-48e1-4b0a-98a7-d3299fab068f",
   "metadata": {},
   "outputs": [
    {
     "data": {
      "text/plain": [
       "32"
      ]
     },
     "execution_count": 5,
     "metadata": {},
     "output_type": "execute_result"
    }
   ],
   "source": [
    "# Your comment:\n",
    "2**5"
   ]
  },
  {
   "cell_type": "code",
   "execution_count": 6,
   "id": "5536b0f3-3a6f-4755-839a-dd28b6557c1b",
   "metadata": {},
   "outputs": [
    {
     "data": {
      "text/plain": [
       "55"
      ]
     },
     "execution_count": 6,
     "metadata": {},
     "output_type": "execute_result"
    }
   ],
   "source": [
    "# Your comment:\n",
    "sum([1,2,3,4,5,6,7,8,9,10])"
   ]
  },
  {
   "cell_type": "markdown",
   "id": "93170edc-cdf9-4d41-956f-26b2dc066761",
   "metadata": {},
   "source": [
    "### Problem 4.\n",
    "\n",
    "Write code that will do the following calculation:\n",
    "\n",
    "$$\n",
    "\\frac{3(2+9)}{2^2}\n",
    "$$\n",
    "\n",
    "Answer: 8.25"
   ]
  },
  {
   "cell_type": "code",
   "execution_count": 8,
   "id": "ed974d79-2bbc-45a1-9b2a-28d8b46c961d",
   "metadata": {},
   "outputs": [
    {
     "data": {
      "text/plain": [
       "8.25"
      ]
     },
     "execution_count": 8,
     "metadata": {},
     "output_type": "execute_result"
    }
   ],
   "source": [
    "# Your code here\n",
    "3*(2+9)/(2**2)\n",
    "\n"
   ]
  },
  {
   "cell_type": "markdown",
   "id": "c6be7d8b-2021-498c-afc4-8049ef359025",
   "metadata": {},
   "source": [
    "### Problem 5.\n",
    "\n",
    "Now save your changes to your GitHub account:\n",
    "\n",
    "* Click on the Git tab and **Stage** your changes. Use the (+) icon next to the file name Day1-HW.ipynb\n",
    "* Make a summary of your changes \"My first DS homework\" and press **Commit**\n",
    "* Then use the cloud icon to **Push** your changes to GitHub\n",
    "* (optional) Go to GitHub and check that the changes have been made."
   ]
  }
 ],
 "metadata": {
  "kernelspec": {
   "display_name": "Python 3 (ipykernel)",
   "language": "python",
   "name": "python3"
  },
  "language_info": {
   "codemirror_mode": {
    "name": "ipython",
    "version": 3
   },
   "file_extension": ".py",
   "mimetype": "text/x-python",
   "name": "python",
   "nbconvert_exporter": "python",
   "pygments_lexer": "ipython3",
   "version": "3.12.11"
  }
 },
 "nbformat": 4,
 "nbformat_minor": 5
}
