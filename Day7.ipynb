{
 "cells": [
  {
   "cell_type": "code",
   "execution_count": null,
   "id": "82fb9628-24be-49c3-9d00-06f14fddbfdb",
   "metadata": {},
   "outputs": [],
   "source": []
  },
  {
   "cell_type": "markdown",
   "id": "ee85a873-e57b-47e7-9c68-6b6a632e8423",
   "metadata": {},
   "source": [
    "## Introduction to Data Science\n",
    "\n",
    "#### University of Redlands - DATA 101\n",
    "#### Prof: Joanna Bieri [joanna_bieri@redlands.edu](mailto:joanna_bieri@redlands.edu)\n",
    "#### [Class Website: data101.joannabieri.com](https://joannabieri.com/data101.html)\n",
    "\n",
    "---------------------------------------\n",
    "# Homework Day 7\n",
    "---------------------------------------\n",
    "\n",
    "GOALS:\n",
    "\n",
    "1. Answer all the questions from the lecture - we will use the scientists data and the grocery data.\n",
    "2. Analyze data about College majors - your first EDA! (Think of this as a practice exam.)\n",
    "\n",
    "----------------------------------------------------------\n",
    "\n",
    "This homework has **9 Questions** and **A Practice Exam**\n",
    "\n",
    "NOTE:\n",
    "The practice exam is intended to give you an idea of what an exam in this class might feel like. Remember you will be expected to work on the exam **independently** and submit your work before we get together to work on the exam in class. **15\\% of your Exam grade will come from what you can do independently** so start practicing now and get help if you need it!."
   ]
  },
  {
   "cell_type": "code",
   "execution_count": 26,
   "id": "98531f6b-5ae6-405b-a402-e01105200812",
   "metadata": {},
   "outputs": [],
   "source": [
    "import numpy as np\n",
    "import pandas as pd\n",
    "\n",
    "import matplotlib.pyplot as plt\n",
    "import plotly.express as px\n",
    "from plotly.subplots import make_subplots\n",
    "import plotly.io as pio\n",
    "pio.renderers.defaule = 'colab'\n",
    "\n",
    "from itables import show"
   ]
  },
  {
   "cell_type": "markdown",
   "id": "db5d38f2-b324-4884-a230-a1aba61a0fdc",
   "metadata": {},
   "source": [
    "## Lecture Questions\n",
    "\n",
    "First we will import the data about female scientists."
   ]
  },
  {
   "cell_type": "code",
   "execution_count": 27,
   "id": "cee7d2ad-1b3f-45b7-ad7b-d6302c3f7bd6",
   "metadata": {},
   "outputs": [
    {
     "data": {
      "text/html": [
       "<!--| quarto-html-table-processing: none -->\n",
       "<table id=\"itables_ec863340_f241_408a_ab46_f4e37a9ea250\"><tbody><tr>\n",
       "    <td style=\"vertical-align:middle; text-align:left\">\n",
       "    <a href=https://mwouts.github.io/itables/><svg class=\"main-svg\" xmlns=\"http://www.w3.org/2000/svg\" xmlns:xlink=\"http://www.w3.org/1999/xlink\"\n",
       "width=\"64\" viewBox=\"0 0 500 400\" style=\"font-family: 'Droid Sans', sans-serif;\">\n",
       "    <g style=\"fill:#d9d7fc\">\n",
       "        <path d=\"M100,400H500V357H100Z\" />\n",
       "        <path d=\"M100,300H400V257H100Z\" />\n",
       "        <path d=\"M0,200H400V157H0Z\" />\n",
       "        <path d=\"M100,100H500V57H100Z\" />\n",
       "        <path d=\"M100,350H500V307H100Z\" />\n",
       "        <path d=\"M100,250H400V207H100Z\" />\n",
       "        <path d=\"M0,150H400V107H0Z\" />\n",
       "        <path d=\"M100,50H500V7H100Z\" />\n",
       "    </g>\n",
       "    <g style=\"fill:#1a1366;stroke:#1a1366;\">\n",
       "   <rect x=\"100\" y=\"7\" width=\"400\" height=\"43\">\n",
       "    <animate\n",
       "      attributeName=\"width\"\n",
       "      values=\"0;400;0\"\n",
       "      dur=\"5s\"\n",
       "      repeatCount=\"indefinite\" />\n",
       "      <animate\n",
       "      attributeName=\"x\"\n",
       "      values=\"100;100;500\"\n",
       "      dur=\"5s\"\n",
       "      repeatCount=\"indefinite\" />\n",
       "  </rect>\n",
       "        <rect x=\"0\" y=\"107\" width=\"400\" height=\"43\">\n",
       "    <animate\n",
       "      attributeName=\"width\"\n",
       "      values=\"0;400;0\"\n",
       "      dur=\"3.5s\"\n",
       "      repeatCount=\"indefinite\" />\n",
       "    <animate\n",
       "      attributeName=\"x\"\n",
       "      values=\"0;0;400\"\n",
       "      dur=\"3.5s\"\n",
       "      repeatCount=\"indefinite\" />\n",
       "  </rect>\n",
       "        <rect x=\"100\" y=\"207\" width=\"300\" height=\"43\">\n",
       "    <animate\n",
       "      attributeName=\"width\"\n",
       "      values=\"0;300;0\"\n",
       "      dur=\"3s\"\n",
       "      repeatCount=\"indefinite\" />\n",
       "    <animate\n",
       "      attributeName=\"x\"\n",
       "      values=\"100;100;400\"\n",
       "      dur=\"3s\"\n",
       "      repeatCount=\"indefinite\" />\n",
       "  </rect>\n",
       "        <rect x=\"100\" y=\"307\" width=\"400\" height=\"43\">\n",
       "    <animate\n",
       "      attributeName=\"width\"\n",
       "      values=\"0;400;0\"\n",
       "      dur=\"4s\"\n",
       "      repeatCount=\"indefinite\" />\n",
       "      <animate\n",
       "      attributeName=\"x\"\n",
       "      values=\"100;100;500\"\n",
       "      dur=\"4s\"\n",
       "      repeatCount=\"indefinite\" />\n",
       "  </rect>\n",
       "        <g style=\"fill:transparent;stroke-width:8; stroke-linejoin:round\" rx=\"5\">\n",
       "            <g transform=\"translate(45 50) rotate(-45)\">\n",
       "                <circle r=\"33\" cx=\"0\" cy=\"0\" />\n",
       "                <rect x=\"-8\" y=\"32\" width=\"16\" height=\"30\" />\n",
       "            </g>\n",
       "\n",
       "            <g transform=\"translate(450 152)\">\n",
       "                <polyline points=\"-15,-20 -35,-20 -35,40 25,40 25,20\" />\n",
       "                <rect x=\"-15\" y=\"-40\" width=\"60\" height=\"60\" />\n",
       "            </g>\n",
       "\n",
       "            <g transform=\"translate(50 352)\">\n",
       "                <polygon points=\"-35,-5 0,-40 35,-5\" />\n",
       "                <polygon points=\"-35,10 0,45 35,10\" />\n",
       "            </g>\n",
       "\n",
       "            <g transform=\"translate(75 250)\">\n",
       "                <polyline points=\"-30,30 -60,0 -30,-30\" />\n",
       "                <polyline points=\"0,30 -30,0 0,-30\" />\n",
       "            </g>\n",
       "\n",
       "            <g transform=\"translate(425 250) rotate(180)\">\n",
       "                <polyline points=\"-30,30 -60,0 -30,-30\" />\n",
       "                <polyline points=\"0,30 -30,0 0,-30\" />\n",
       "            </g>\n",
       "        </g>\n",
       "    </g>\n",
       "</svg>\n",
       "</a>\n",
       "    Loading ITables v2.5.2 from the internet...\n",
       "    (need <a href=https://mwouts.github.io/itables/troubleshooting.html>help</a>?)</td>\n",
       "    </tr></tbody></table>\n",
       "<link href=\"https://www.unpkg.com/dt_for_itables@2.4.0/dt_bundle.css\" rel=\"stylesheet\">\n",
       "<script type=\"module\">\n",
       "    import { ITable, jQuery as $ } from 'https://www.unpkg.com/dt_for_itables@2.4.0/dt_bundle.js';\n",
       "\n",
       "    document.querySelectorAll(\"#itables_ec863340_f241_408a_ab46_f4e37a9ea250:not(.dataTable)\").forEach(table => {\n",
       "        if (!(table instanceof HTMLTableElement))\n",
       "            return;\n",
       "\n",
       "        let dt_args = {\"layout\": {\"topStart\": null, \"topEnd\": null, \"bottomStart\": null, \"bottomEnd\": null}, \"style\": {\"table-layout\": \"auto\", \"width\": \"auto\", \"margin\": \"auto\", \"caption-side\": \"bottom\"}, \"text_in_header_can_be_selected\": true, \"order\": [], \"classes\": [\"display\", \"nowrap\"], \"table_html\": \"<table><thead>\\n    <tr style=\\\"text-align: right;\\\">\\n      \\n      <th>name</th>\\n      <th>birth_year</th>\\n      <th>death_year</th>\\n    </tr>\\n  </thead></table>\", \"data_json\": \"[[\\\"Janaki Ammal\\\", 1897, 1984.0], [\\\"Chien-Shiung Wu\\\", 1912, 1997.0], [\\\"Katherine Johnson\\\", 1918, 2020.0], [\\\"Rosalind Franklin\\\", 1920, 1958.0], [\\\"Vera Rubin\\\", 1928, 2016.0], [\\\"Gladys West\\\", 1930, \\\"___NaN___\\\"], [\\\"Flossie Wong-Staal\\\", 1947, \\\"___NaN___\\\"], [\\\"Jennifer Doudna\\\", 1964, \\\"___NaN___\\\"]]\"};\n",
       "        new ITable(table, dt_args);\n",
       "    });\n",
       "</script>\n"
      ],
      "text/plain": [
       "<IPython.core.display.HTML object>"
      ]
     },
     "metadata": {},
     "output_type": "display_data"
    },
    {
     "data": {
      "text/html": [
       "<!--| quarto-html-table-processing: none -->\n",
       "<table id=\"itables_85ae3b79_a65d_4309_9e09_7757fe613761\"><tbody><tr>\n",
       "    <td style=\"vertical-align:middle; text-align:left\">\n",
       "    <a href=https://mwouts.github.io/itables/><svg class=\"main-svg\" xmlns=\"http://www.w3.org/2000/svg\" xmlns:xlink=\"http://www.w3.org/1999/xlink\"\n",
       "width=\"64\" viewBox=\"0 0 500 400\" style=\"font-family: 'Droid Sans', sans-serif;\">\n",
       "    <g style=\"fill:#d9d7fc\">\n",
       "        <path d=\"M100,400H500V357H100Z\" />\n",
       "        <path d=\"M100,300H400V257H100Z\" />\n",
       "        <path d=\"M0,200H400V157H0Z\" />\n",
       "        <path d=\"M100,100H500V57H100Z\" />\n",
       "        <path d=\"M100,350H500V307H100Z\" />\n",
       "        <path d=\"M100,250H400V207H100Z\" />\n",
       "        <path d=\"M0,150H400V107H0Z\" />\n",
       "        <path d=\"M100,50H500V7H100Z\" />\n",
       "    </g>\n",
       "    <g style=\"fill:#1a1366;stroke:#1a1366;\">\n",
       "   <rect x=\"100\" y=\"7\" width=\"400\" height=\"43\">\n",
       "    <animate\n",
       "      attributeName=\"width\"\n",
       "      values=\"0;400;0\"\n",
       "      dur=\"5s\"\n",
       "      repeatCount=\"indefinite\" />\n",
       "      <animate\n",
       "      attributeName=\"x\"\n",
       "      values=\"100;100;500\"\n",
       "      dur=\"5s\"\n",
       "      repeatCount=\"indefinite\" />\n",
       "  </rect>\n",
       "        <rect x=\"0\" y=\"107\" width=\"400\" height=\"43\">\n",
       "    <animate\n",
       "      attributeName=\"width\"\n",
       "      values=\"0;400;0\"\n",
       "      dur=\"3.5s\"\n",
       "      repeatCount=\"indefinite\" />\n",
       "    <animate\n",
       "      attributeName=\"x\"\n",
       "      values=\"0;0;400\"\n",
       "      dur=\"3.5s\"\n",
       "      repeatCount=\"indefinite\" />\n",
       "  </rect>\n",
       "        <rect x=\"100\" y=\"207\" width=\"300\" height=\"43\">\n",
       "    <animate\n",
       "      attributeName=\"width\"\n",
       "      values=\"0;300;0\"\n",
       "      dur=\"3s\"\n",
       "      repeatCount=\"indefinite\" />\n",
       "    <animate\n",
       "      attributeName=\"x\"\n",
       "      values=\"100;100;400\"\n",
       "      dur=\"3s\"\n",
       "      repeatCount=\"indefinite\" />\n",
       "  </rect>\n",
       "        <rect x=\"100\" y=\"307\" width=\"400\" height=\"43\">\n",
       "    <animate\n",
       "      attributeName=\"width\"\n",
       "      values=\"0;400;0\"\n",
       "      dur=\"4s\"\n",
       "      repeatCount=\"indefinite\" />\n",
       "      <animate\n",
       "      attributeName=\"x\"\n",
       "      values=\"100;100;500\"\n",
       "      dur=\"4s\"\n",
       "      repeatCount=\"indefinite\" />\n",
       "  </rect>\n",
       "        <g style=\"fill:transparent;stroke-width:8; stroke-linejoin:round\" rx=\"5\">\n",
       "            <g transform=\"translate(45 50) rotate(-45)\">\n",
       "                <circle r=\"33\" cx=\"0\" cy=\"0\" />\n",
       "                <rect x=\"-8\" y=\"32\" width=\"16\" height=\"30\" />\n",
       "            </g>\n",
       "\n",
       "            <g transform=\"translate(450 152)\">\n",
       "                <polyline points=\"-15,-20 -35,-20 -35,40 25,40 25,20\" />\n",
       "                <rect x=\"-15\" y=\"-40\" width=\"60\" height=\"60\" />\n",
       "            </g>\n",
       "\n",
       "            <g transform=\"translate(50 352)\">\n",
       "                <polygon points=\"-35,-5 0,-40 35,-5\" />\n",
       "                <polygon points=\"-35,10 0,45 35,10\" />\n",
       "            </g>\n",
       "\n",
       "            <g transform=\"translate(75 250)\">\n",
       "                <polyline points=\"-30,30 -60,0 -30,-30\" />\n",
       "                <polyline points=\"0,30 -30,0 0,-30\" />\n",
       "            </g>\n",
       "\n",
       "            <g transform=\"translate(425 250) rotate(180)\">\n",
       "                <polyline points=\"-30,30 -60,0 -30,-30\" />\n",
       "                <polyline points=\"0,30 -30,0 0,-30\" />\n",
       "            </g>\n",
       "        </g>\n",
       "    </g>\n",
       "</svg>\n",
       "</a>\n",
       "    Loading ITables v2.5.2 from the internet...\n",
       "    (need <a href=https://mwouts.github.io/itables/troubleshooting.html>help</a>?)</td>\n",
       "    </tr></tbody></table>\n",
       "<link href=\"https://www.unpkg.com/dt_for_itables@2.4.0/dt_bundle.css\" rel=\"stylesheet\">\n",
       "<script type=\"module\">\n",
       "    import { ITable, jQuery as $ } from 'https://www.unpkg.com/dt_for_itables@2.4.0/dt_bundle.js';\n",
       "\n",
       "    document.querySelectorAll(\"#itables_85ae3b79_a65d_4309_9e09_7757fe613761:not(.dataTable)\").forEach(table => {\n",
       "        if (!(table instanceof HTMLTableElement))\n",
       "            return;\n",
       "\n",
       "        let dt_args = {\"layout\": {\"topStart\": null, \"topEnd\": null, \"bottomStart\": null, \"bottomEnd\": null}, \"style\": {\"table-layout\": \"auto\", \"width\": \"auto\", \"margin\": \"auto\", \"caption-side\": \"bottom\"}, \"text_in_header_can_be_selected\": true, \"order\": [], \"classes\": [\"display\", \"nowrap\"], \"table_html\": \"<table><thead>\\n    <tr style=\\\"text-align: right;\\\">\\n      \\n      <th>name</th>\\n      <th>profession</th>\\n    </tr>\\n  </thead></table>\", \"data_json\": \"[[\\\"Ada Lovelace\\\", \\\"Mathematician\\\"], [\\\"Marie Curie\\\", \\\"Physicist and Chemist\\\"], [\\\"Janaki Ammal\\\", \\\"Botanist\\\"], [\\\"Chien-Shiung Wu\\\", \\\"Physicist\\\"], [\\\"Katherine Johnson\\\", \\\"Mathematician\\\"], [\\\"Rosalind Franklin\\\", \\\"Chemist\\\"], [\\\"Vera Rubin\\\", \\\"Astronomer\\\"], [\\\"Gladys West\\\", \\\"Mathematician\\\"], [\\\"Flossie Wong-Staal\\\", \\\"Virologist and Molecular Biologist\\\"], [\\\"Jennifer Doudna\\\", \\\"Biochemist\\\"]]\"};\n",
       "        new ITable(table, dt_args);\n",
       "    });\n",
       "</script>\n"
      ],
      "text/plain": [
       "<IPython.core.display.HTML object>"
      ]
     },
     "metadata": {},
     "output_type": "display_data"
    },
    {
     "data": {
      "text/html": [
       "<!--| quarto-html-table-processing: none -->\n",
       "<table id=\"itables_a0a568f2_05c0_46e0_8340_b51c1dc0bfbb\"><tbody><tr>\n",
       "    <td style=\"vertical-align:middle; text-align:left\">\n",
       "    <a href=https://mwouts.github.io/itables/><svg class=\"main-svg\" xmlns=\"http://www.w3.org/2000/svg\" xmlns:xlink=\"http://www.w3.org/1999/xlink\"\n",
       "width=\"64\" viewBox=\"0 0 500 400\" style=\"font-family: 'Droid Sans', sans-serif;\">\n",
       "    <g style=\"fill:#d9d7fc\">\n",
       "        <path d=\"M100,400H500V357H100Z\" />\n",
       "        <path d=\"M100,300H400V257H100Z\" />\n",
       "        <path d=\"M0,200H400V157H0Z\" />\n",
       "        <path d=\"M100,100H500V57H100Z\" />\n",
       "        <path d=\"M100,350H500V307H100Z\" />\n",
       "        <path d=\"M100,250H400V207H100Z\" />\n",
       "        <path d=\"M0,150H400V107H0Z\" />\n",
       "        <path d=\"M100,50H500V7H100Z\" />\n",
       "    </g>\n",
       "    <g style=\"fill:#1a1366;stroke:#1a1366;\">\n",
       "   <rect x=\"100\" y=\"7\" width=\"400\" height=\"43\">\n",
       "    <animate\n",
       "      attributeName=\"width\"\n",
       "      values=\"0;400;0\"\n",
       "      dur=\"5s\"\n",
       "      repeatCount=\"indefinite\" />\n",
       "      <animate\n",
       "      attributeName=\"x\"\n",
       "      values=\"100;100;500\"\n",
       "      dur=\"5s\"\n",
       "      repeatCount=\"indefinite\" />\n",
       "  </rect>\n",
       "        <rect x=\"0\" y=\"107\" width=\"400\" height=\"43\">\n",
       "    <animate\n",
       "      attributeName=\"width\"\n",
       "      values=\"0;400;0\"\n",
       "      dur=\"3.5s\"\n",
       "      repeatCount=\"indefinite\" />\n",
       "    <animate\n",
       "      attributeName=\"x\"\n",
       "      values=\"0;0;400\"\n",
       "      dur=\"3.5s\"\n",
       "      repeatCount=\"indefinite\" />\n",
       "  </rect>\n",
       "        <rect x=\"100\" y=\"207\" width=\"300\" height=\"43\">\n",
       "    <animate\n",
       "      attributeName=\"width\"\n",
       "      values=\"0;300;0\"\n",
       "      dur=\"3s\"\n",
       "      repeatCount=\"indefinite\" />\n",
       "    <animate\n",
       "      attributeName=\"x\"\n",
       "      values=\"100;100;400\"\n",
       "      dur=\"3s\"\n",
       "      repeatCount=\"indefinite\" />\n",
       "  </rect>\n",
       "        <rect x=\"100\" y=\"307\" width=\"400\" height=\"43\">\n",
       "    <animate\n",
       "      attributeName=\"width\"\n",
       "      values=\"0;400;0\"\n",
       "      dur=\"4s\"\n",
       "      repeatCount=\"indefinite\" />\n",
       "      <animate\n",
       "      attributeName=\"x\"\n",
       "      values=\"100;100;500\"\n",
       "      dur=\"4s\"\n",
       "      repeatCount=\"indefinite\" />\n",
       "  </rect>\n",
       "        <g style=\"fill:transparent;stroke-width:8; stroke-linejoin:round\" rx=\"5\">\n",
       "            <g transform=\"translate(45 50) rotate(-45)\">\n",
       "                <circle r=\"33\" cx=\"0\" cy=\"0\" />\n",
       "                <rect x=\"-8\" y=\"32\" width=\"16\" height=\"30\" />\n",
       "            </g>\n",
       "\n",
       "            <g transform=\"translate(450 152)\">\n",
       "                <polyline points=\"-15,-20 -35,-20 -35,40 25,40 25,20\" />\n",
       "                <rect x=\"-15\" y=\"-40\" width=\"60\" height=\"60\" />\n",
       "            </g>\n",
       "\n",
       "            <g transform=\"translate(50 352)\">\n",
       "                <polygon points=\"-35,-5 0,-40 35,-5\" />\n",
       "                <polygon points=\"-35,10 0,45 35,10\" />\n",
       "            </g>\n",
       "\n",
       "            <g transform=\"translate(75 250)\">\n",
       "                <polyline points=\"-30,30 -60,0 -30,-30\" />\n",
       "                <polyline points=\"0,30 -30,0 0,-30\" />\n",
       "            </g>\n",
       "\n",
       "            <g transform=\"translate(425 250) rotate(180)\">\n",
       "                <polyline points=\"-30,30 -60,0 -30,-30\" />\n",
       "                <polyline points=\"0,30 -30,0 0,-30\" />\n",
       "            </g>\n",
       "        </g>\n",
       "    </g>\n",
       "</svg>\n",
       "</a>\n",
       "    Loading ITables v2.5.2 from the internet...\n",
       "    (need <a href=https://mwouts.github.io/itables/troubleshooting.html>help</a>?)</td>\n",
       "    </tr></tbody></table>\n",
       "<link href=\"https://www.unpkg.com/dt_for_itables@2.4.0/dt_bundle.css\" rel=\"stylesheet\">\n",
       "<script type=\"module\">\n",
       "    import { ITable, jQuery as $ } from 'https://www.unpkg.com/dt_for_itables@2.4.0/dt_bundle.js';\n",
       "\n",
       "    document.querySelectorAll(\"#itables_a0a568f2_05c0_46e0_8340_b51c1dc0bfbb:not(.dataTable)\").forEach(table => {\n",
       "        if (!(table instanceof HTMLTableElement))\n",
       "            return;\n",
       "\n",
       "        let dt_args = {\"layout\": {\"topStart\": null, \"topEnd\": null, \"bottomStart\": null, \"bottomEnd\": null}, \"style\": {\"table-layout\": \"auto\", \"width\": \"auto\", \"margin\": \"auto\", \"caption-side\": \"bottom\"}, \"text_in_header_can_be_selected\": true, \"order\": [], \"classes\": [\"display\", \"nowrap\"], \"table_html\": \"<table><thead>\\n    <tr style=\\\"text-align: right;\\\">\\n      \\n      <th>name</th>\\n      <th>known_for</th>\\n    </tr>\\n  </thead></table>\", \"data_json\": \"[[\\\"Ada Lovelace\\\", \\\"first computer algorithm\\\"], [\\\"Marie Curie\\\", \\\"theory of radioactivity,  discovery of elements polonium and radium, first woman to win a Nobel Prize\\\"], [\\\"Janaki Ammal\\\", \\\"hybrid species, biodiversity protection\\\"], [\\\"Chien-Shiung Wu\\\", \\\"confim and refine theory of radioactive beta decy, Wu experiment overturning theory of parity\\\"], [\\\"Katherine Johnson\\\", \\\"calculations of orbital mechanics critical to sending the first Americans into space\\\"], [\\\"Vera Rubin\\\", \\\"existence of dark matter\\\"], [\\\"Gladys West\\\", \\\"mathematical modeling of the shape of the Earth which served as the foundation of GPS technology\\\"], [\\\"Flossie Wong-Staal\\\", \\\"first scientist to clone HIV and create a map of its genes which led to a test for the virus\\\"], [\\\"Jennifer Doudna\\\", \\\"one of the primary developers of CRISPR, a ground-breaking technology for editing genomes\\\"]]\"};\n",
       "        new ITable(table, dt_args);\n",
       "    });\n",
       "</script>\n"
      ],
      "text/plain": [
       "<IPython.core.display.HTML object>"
      ]
     },
     "metadata": {},
     "output_type": "display_data"
    }
   ],
   "source": [
    "file1 = 'https://joannabieri.com/introdatascience/data/dates.csv'\n",
    "DF_dates = pd.read_csv(file1)\n",
    "file2 = 'https://joannabieri.com/introdatascience/data/professions.csv'\n",
    "DF_professions = pd.read_csv(file2)\n",
    "file3 = 'https://joannabieri.com/introdatascience/data/works.csv'\n",
    "DF_works = pd.read_csv(file3)\n",
    "show(DF_dates)\n",
    "show(DF_professions)\n",
    "show(DF_works)"
   ]
  },
  {
   "cell_type": "markdown",
   "id": "bac3075a-6e0b-4c0f-b887-520de8c2d98b",
   "metadata": {},
   "source": [
    "**Q1** Are each of these data sets Tidy?\n",
    "\n",
    "**Q2** Do they all contain the same number of observations?\n",
    "\n",
    "**Q3** What are the five variables?\n",
    "\n",
    "**Q4** What variable do they have in common - what can we join **on**"
   ]
  },
  {
   "cell_type": "markdown",
   "id": "016a87a9-730c-4847-8a32-86168084a17e",
   "metadata": {},
   "source": [
    "**(Click Here)**\n",
    "\n"
   ]
  },
  {
   "cell_type": "markdown",
   "id": "8e478ec8-d5f3-4d7a-9fbb-ba6a634e8476",
   "metadata": {},
   "source": [
    "## Combining Three Data Sets\n",
    "\n",
    "You need to think about the order and whether or not you want to keep the maximum number of names or only keep names that are in all the data frames.\n",
    "\n",
    "In this case we will try to keep the maximal amount of data - the maximum number of names.\n",
    "\n",
    "1. Combine the professions and works data\n",
    "2. Then add the dates data"
   ]
  },
  {
   "cell_type": "code",
   "execution_count": 3,
   "id": "58c65544-fda4-4795-bc17-1c65aa503cae",
   "metadata": {},
   "outputs": [
    {
     "data": {
      "text/html": [
       "<div>\n",
       "<style scoped>\n",
       "    .dataframe tbody tr th:only-of-type {\n",
       "        vertical-align: middle;\n",
       "    }\n",
       "\n",
       "    .dataframe tbody tr th {\n",
       "        vertical-align: top;\n",
       "    }\n",
       "\n",
       "    .dataframe thead th {\n",
       "        text-align: right;\n",
       "    }\n",
       "</style>\n",
       "<table border=\"1\" class=\"dataframe\">\n",
       "  <thead>\n",
       "    <tr style=\"text-align: right;\">\n",
       "      <th></th>\n",
       "      <th>name</th>\n",
       "      <th>profession</th>\n",
       "      <th>known_for</th>\n",
       "      <th>birth_year</th>\n",
       "      <th>death_year</th>\n",
       "    </tr>\n",
       "  </thead>\n",
       "  <tbody>\n",
       "    <tr>\n",
       "      <th>0</th>\n",
       "      <td>Ada Lovelace</td>\n",
       "      <td>Mathematician</td>\n",
       "      <td>first computer algorithm</td>\n",
       "      <td>NaN</td>\n",
       "      <td>NaN</td>\n",
       "    </tr>\n",
       "    <tr>\n",
       "      <th>1</th>\n",
       "      <td>Marie Curie</td>\n",
       "      <td>Physicist and Chemist</td>\n",
       "      <td>theory of radioactivity,  discovery of element...</td>\n",
       "      <td>NaN</td>\n",
       "      <td>NaN</td>\n",
       "    </tr>\n",
       "    <tr>\n",
       "      <th>2</th>\n",
       "      <td>Janaki Ammal</td>\n",
       "      <td>Botanist</td>\n",
       "      <td>hybrid species, biodiversity protection</td>\n",
       "      <td>1897.0</td>\n",
       "      <td>1984.0</td>\n",
       "    </tr>\n",
       "    <tr>\n",
       "      <th>3</th>\n",
       "      <td>Chien-Shiung Wu</td>\n",
       "      <td>Physicist</td>\n",
       "      <td>confim and refine theory of radioactive beta d...</td>\n",
       "      <td>1912.0</td>\n",
       "      <td>1997.0</td>\n",
       "    </tr>\n",
       "    <tr>\n",
       "      <th>4</th>\n",
       "      <td>Katherine Johnson</td>\n",
       "      <td>Mathematician</td>\n",
       "      <td>calculations of orbital mechanics critical to ...</td>\n",
       "      <td>1918.0</td>\n",
       "      <td>2020.0</td>\n",
       "    </tr>\n",
       "    <tr>\n",
       "      <th>5</th>\n",
       "      <td>Rosalind Franklin</td>\n",
       "      <td>Chemist</td>\n",
       "      <td>NaN</td>\n",
       "      <td>1920.0</td>\n",
       "      <td>1958.0</td>\n",
       "    </tr>\n",
       "    <tr>\n",
       "      <th>6</th>\n",
       "      <td>Vera Rubin</td>\n",
       "      <td>Astronomer</td>\n",
       "      <td>existence of dark matter</td>\n",
       "      <td>1928.0</td>\n",
       "      <td>2016.0</td>\n",
       "    </tr>\n",
       "    <tr>\n",
       "      <th>7</th>\n",
       "      <td>Gladys West</td>\n",
       "      <td>Mathematician</td>\n",
       "      <td>mathematical modeling of the shape of the Eart...</td>\n",
       "      <td>1930.0</td>\n",
       "      <td>NaN</td>\n",
       "    </tr>\n",
       "    <tr>\n",
       "      <th>8</th>\n",
       "      <td>Flossie Wong-Staal</td>\n",
       "      <td>Virologist and Molecular Biologist</td>\n",
       "      <td>first scientist to clone HIV and create a map ...</td>\n",
       "      <td>1947.0</td>\n",
       "      <td>NaN</td>\n",
       "    </tr>\n",
       "    <tr>\n",
       "      <th>9</th>\n",
       "      <td>Jennifer Doudna</td>\n",
       "      <td>Biochemist</td>\n",
       "      <td>one of the primary developers of CRISPR, a gro...</td>\n",
       "      <td>1964.0</td>\n",
       "      <td>NaN</td>\n",
       "    </tr>\n",
       "  </tbody>\n",
       "</table>\n",
       "</div>"
      ],
      "text/plain": [
       "                 name                          profession  \\\n",
       "0        Ada Lovelace                       Mathematician   \n",
       "1         Marie Curie               Physicist and Chemist   \n",
       "2        Janaki Ammal                            Botanist   \n",
       "3     Chien-Shiung Wu                           Physicist   \n",
       "4   Katherine Johnson                       Mathematician   \n",
       "5   Rosalind Franklin                             Chemist   \n",
       "6          Vera Rubin                          Astronomer   \n",
       "7         Gladys West                       Mathematician   \n",
       "8  Flossie Wong-Staal  Virologist and Molecular Biologist   \n",
       "9     Jennifer Doudna                          Biochemist   \n",
       "\n",
       "                                           known_for  birth_year  death_year  \n",
       "0                           first computer algorithm         NaN         NaN  \n",
       "1  theory of radioactivity,  discovery of element...         NaN         NaN  \n",
       "2            hybrid species, biodiversity protection      1897.0      1984.0  \n",
       "3  confim and refine theory of radioactive beta d...      1912.0      1997.0  \n",
       "4  calculations of orbital mechanics critical to ...      1918.0      2020.0  \n",
       "5                                                NaN      1920.0      1958.0  \n",
       "6                           existence of dark matter      1928.0      2016.0  \n",
       "7  mathematical modeling of the shape of the Eart...      1930.0         NaN  \n",
       "8  first scientist to clone HIV and create a map ...      1947.0         NaN  \n",
       "9  one of the primary developers of CRISPR, a gro...      1964.0         NaN  "
      ]
     },
     "execution_count": 3,
     "metadata": {},
     "output_type": "execute_result"
    }
   ],
   "source": [
    "# 1. Combine the professions and works data\n",
    "DF_scientists = pd.merge(DF_professions,DF_works,on='name',how='left')\n",
    "DF_scientists\n",
    "# 2. Then add the dates data\n",
    "DF_scientists = pd.merge(DF_scientists,DF_dates,on='name',how='left')\n",
    "DF_scientists"
   ]
  },
  {
   "cell_type": "markdown",
   "id": "d1b16988-2099-4d00-8f4a-1ae06387dae5",
   "metadata": {},
   "source": [
    "**Q5** What, if anything, would change if you switched to how='right'?"
   ]
  },
  {
   "cell_type": "markdown",
   "id": "7ac95fb0-a60d-4fb1-ae12-d9b5ae76584f",
   "metadata": {},
   "source": [
    "**(Click Here)**"
   ]
  },
  {
   "cell_type": "markdown",
   "id": "d3e0b2d7-c529-44a5-94b7-8cad5dd408f5",
   "metadata": {},
   "source": [
    "## Combining Two Data Sets - You Try\n",
    "\n",
    "**Q6** Write code that would combine the professions data and the dates data, but drop any names that don't appear in both."
   ]
  },
  {
   "cell_type": "code",
   "execution_count": 4,
   "id": "bf6044b2-886c-46aa-ae47-c642c084990a",
   "metadata": {},
   "outputs": [],
   "source": [
    "# Your code here\n",
    "\n"
   ]
  },
  {
   "cell_type": "markdown",
   "id": "b0f60ef2-4067-46c3-8590-1f559274e681",
   "metadata": {},
   "source": [
    "## Combining Three Data Sets - You Try\n",
    "\n",
    "**Q7** Try to combine the three data sets together (professions, works, and dates) but instead of doing what we did above, see if you can keep only the names that appeared in all three data sets."
   ]
  },
  {
   "cell_type": "code",
   "execution_count": 5,
   "id": "c1de2725-9dbb-4b1a-a914-db59639d37b9",
   "metadata": {},
   "outputs": [],
   "source": [
    "# Your code here\n",
    "\n"
   ]
  },
  {
   "cell_type": "markdown",
   "id": "4d49d89d-10b5-4c4f-8192-2a017494c1bb",
   "metadata": {},
   "source": [
    "## Case study - Grocery Sales\n",
    "\n",
    "Below you will load some data about grocery sales and see how joining or merging data can help us answer questions."
   ]
  },
  {
   "cell_type": "code",
   "execution_count": 6,
   "id": "7c786336-cfeb-4597-8449-ed6e01f0e5c3",
   "metadata": {},
   "outputs": [
    {
     "data": {
      "text/html": [
       "<!--| quarto-html-table-processing: none -->\n",
       "<table id=\"itables_b6c925dd_0b9e_4d85_8f91_d508cf0200d3\"><tbody><tr>\n",
       "    <td style=\"vertical-align:middle; text-align:left\">\n",
       "    <a href=https://mwouts.github.io/itables/><svg class=\"main-svg\" xmlns=\"http://www.w3.org/2000/svg\" xmlns:xlink=\"http://www.w3.org/1999/xlink\"\n",
       "width=\"64\" viewBox=\"0 0 500 400\" style=\"font-family: 'Droid Sans', sans-serif;\">\n",
       "    <g style=\"fill:#d9d7fc\">\n",
       "        <path d=\"M100,400H500V357H100Z\" />\n",
       "        <path d=\"M100,300H400V257H100Z\" />\n",
       "        <path d=\"M0,200H400V157H0Z\" />\n",
       "        <path d=\"M100,100H500V57H100Z\" />\n",
       "        <path d=\"M100,350H500V307H100Z\" />\n",
       "        <path d=\"M100,250H400V207H100Z\" />\n",
       "        <path d=\"M0,150H400V107H0Z\" />\n",
       "        <path d=\"M100,50H500V7H100Z\" />\n",
       "    </g>\n",
       "    <g style=\"fill:#1a1366;stroke:#1a1366;\">\n",
       "   <rect x=\"100\" y=\"7\" width=\"400\" height=\"43\">\n",
       "    <animate\n",
       "      attributeName=\"width\"\n",
       "      values=\"0;400;0\"\n",
       "      dur=\"5s\"\n",
       "      repeatCount=\"indefinite\" />\n",
       "      <animate\n",
       "      attributeName=\"x\"\n",
       "      values=\"100;100;500\"\n",
       "      dur=\"5s\"\n",
       "      repeatCount=\"indefinite\" />\n",
       "  </rect>\n",
       "        <rect x=\"0\" y=\"107\" width=\"400\" height=\"43\">\n",
       "    <animate\n",
       "      attributeName=\"width\"\n",
       "      values=\"0;400;0\"\n",
       "      dur=\"3.5s\"\n",
       "      repeatCount=\"indefinite\" />\n",
       "    <animate\n",
       "      attributeName=\"x\"\n",
       "      values=\"0;0;400\"\n",
       "      dur=\"3.5s\"\n",
       "      repeatCount=\"indefinite\" />\n",
       "  </rect>\n",
       "        <rect x=\"100\" y=\"207\" width=\"300\" height=\"43\">\n",
       "    <animate\n",
       "      attributeName=\"width\"\n",
       "      values=\"0;300;0\"\n",
       "      dur=\"3s\"\n",
       "      repeatCount=\"indefinite\" />\n",
       "    <animate\n",
       "      attributeName=\"x\"\n",
       "      values=\"100;100;400\"\n",
       "      dur=\"3s\"\n",
       "      repeatCount=\"indefinite\" />\n",
       "  </rect>\n",
       "        <rect x=\"100\" y=\"307\" width=\"400\" height=\"43\">\n",
       "    <animate\n",
       "      attributeName=\"width\"\n",
       "      values=\"0;400;0\"\n",
       "      dur=\"4s\"\n",
       "      repeatCount=\"indefinite\" />\n",
       "      <animate\n",
       "      attributeName=\"x\"\n",
       "      values=\"100;100;500\"\n",
       "      dur=\"4s\"\n",
       "      repeatCount=\"indefinite\" />\n",
       "  </rect>\n",
       "        <g style=\"fill:transparent;stroke-width:8; stroke-linejoin:round\" rx=\"5\">\n",
       "            <g transform=\"translate(45 50) rotate(-45)\">\n",
       "                <circle r=\"33\" cx=\"0\" cy=\"0\" />\n",
       "                <rect x=\"-8\" y=\"32\" width=\"16\" height=\"30\" />\n",
       "            </g>\n",
       "\n",
       "            <g transform=\"translate(450 152)\">\n",
       "                <polyline points=\"-15,-20 -35,-20 -35,40 25,40 25,20\" />\n",
       "                <rect x=\"-15\" y=\"-40\" width=\"60\" height=\"60\" />\n",
       "            </g>\n",
       "\n",
       "            <g transform=\"translate(50 352)\">\n",
       "                <polygon points=\"-35,-5 0,-40 35,-5\" />\n",
       "                <polygon points=\"-35,10 0,45 35,10\" />\n",
       "            </g>\n",
       "\n",
       "            <g transform=\"translate(75 250)\">\n",
       "                <polyline points=\"-30,30 -60,0 -30,-30\" />\n",
       "                <polyline points=\"0,30 -30,0 0,-30\" />\n",
       "            </g>\n",
       "\n",
       "            <g transform=\"translate(425 250) rotate(180)\">\n",
       "                <polyline points=\"-30,30 -60,0 -30,-30\" />\n",
       "                <polyline points=\"0,30 -30,0 0,-30\" />\n",
       "            </g>\n",
       "        </g>\n",
       "    </g>\n",
       "</svg>\n",
       "</a>\n",
       "    Loading ITables v2.5.2 from the internet...\n",
       "    (need <a href=https://mwouts.github.io/itables/troubleshooting.html>help</a>?)</td>\n",
       "    </tr></tbody></table>\n",
       "<link href=\"https://www.unpkg.com/dt_for_itables@2.4.0/dt_bundle.css\" rel=\"stylesheet\">\n",
       "<script type=\"module\">\n",
       "    import { ITable, jQuery as $ } from 'https://www.unpkg.com/dt_for_itables@2.4.0/dt_bundle.js';\n",
       "\n",
       "    document.querySelectorAll(\"#itables_b6c925dd_0b9e_4d85_8f91_d508cf0200d3:not(.dataTable)\").forEach(table => {\n",
       "        if (!(table instanceof HTMLTableElement))\n",
       "            return;\n",
       "\n",
       "        let dt_args = {\"layout\": {\"topStart\": null, \"topEnd\": null, \"bottomStart\": null, \"bottomEnd\": null}, \"style\": {\"table-layout\": \"auto\", \"width\": \"auto\", \"margin\": \"auto\", \"caption-side\": \"bottom\"}, \"text_in_header_can_be_selected\": true, \"order\": [], \"classes\": [\"display\", \"nowrap\"], \"table_html\": \"<table><thead>\\n    <tr style=\\\"text-align: right;\\\">\\n      \\n      <th>customer_id</th>\\n      <th>item</th>\\n    </tr>\\n  </thead></table>\", \"data_json\": \"[[1, \\\"bread\\\"], [1, \\\"milk\\\"], [1, \\\"banana\\\"], [2, \\\"milk\\\"], [2, \\\"toilet paper\\\"]]\"};\n",
       "        new ITable(table, dt_args);\n",
       "    });\n",
       "</script>\n"
      ],
      "text/plain": [
       "<IPython.core.display.HTML object>"
      ]
     },
     "metadata": {},
     "output_type": "display_data"
    },
    {
     "data": {
      "text/html": [
       "<!--| quarto-html-table-processing: none -->\n",
       "<table id=\"itables_a6b02ec5_a005_44c2_8eaa_7847aaa9d79f\"><tbody><tr>\n",
       "    <td style=\"vertical-align:middle; text-align:left\">\n",
       "    <a href=https://mwouts.github.io/itables/><svg class=\"main-svg\" xmlns=\"http://www.w3.org/2000/svg\" xmlns:xlink=\"http://www.w3.org/1999/xlink\"\n",
       "width=\"64\" viewBox=\"0 0 500 400\" style=\"font-family: 'Droid Sans', sans-serif;\">\n",
       "    <g style=\"fill:#d9d7fc\">\n",
       "        <path d=\"M100,400H500V357H100Z\" />\n",
       "        <path d=\"M100,300H400V257H100Z\" />\n",
       "        <path d=\"M0,200H400V157H0Z\" />\n",
       "        <path d=\"M100,100H500V57H100Z\" />\n",
       "        <path d=\"M100,350H500V307H100Z\" />\n",
       "        <path d=\"M100,250H400V207H100Z\" />\n",
       "        <path d=\"M0,150H400V107H0Z\" />\n",
       "        <path d=\"M100,50H500V7H100Z\" />\n",
       "    </g>\n",
       "    <g style=\"fill:#1a1366;stroke:#1a1366;\">\n",
       "   <rect x=\"100\" y=\"7\" width=\"400\" height=\"43\">\n",
       "    <animate\n",
       "      attributeName=\"width\"\n",
       "      values=\"0;400;0\"\n",
       "      dur=\"5s\"\n",
       "      repeatCount=\"indefinite\" />\n",
       "      <animate\n",
       "      attributeName=\"x\"\n",
       "      values=\"100;100;500\"\n",
       "      dur=\"5s\"\n",
       "      repeatCount=\"indefinite\" />\n",
       "  </rect>\n",
       "        <rect x=\"0\" y=\"107\" width=\"400\" height=\"43\">\n",
       "    <animate\n",
       "      attributeName=\"width\"\n",
       "      values=\"0;400;0\"\n",
       "      dur=\"3.5s\"\n",
       "      repeatCount=\"indefinite\" />\n",
       "    <animate\n",
       "      attributeName=\"x\"\n",
       "      values=\"0;0;400\"\n",
       "      dur=\"3.5s\"\n",
       "      repeatCount=\"indefinite\" />\n",
       "  </rect>\n",
       "        <rect x=\"100\" y=\"207\" width=\"300\" height=\"43\">\n",
       "    <animate\n",
       "      attributeName=\"width\"\n",
       "      values=\"0;300;0\"\n",
       "      dur=\"3s\"\n",
       "      repeatCount=\"indefinite\" />\n",
       "    <animate\n",
       "      attributeName=\"x\"\n",
       "      values=\"100;100;400\"\n",
       "      dur=\"3s\"\n",
       "      repeatCount=\"indefinite\" />\n",
       "  </rect>\n",
       "        <rect x=\"100\" y=\"307\" width=\"400\" height=\"43\">\n",
       "    <animate\n",
       "      attributeName=\"width\"\n",
       "      values=\"0;400;0\"\n",
       "      dur=\"4s\"\n",
       "      repeatCount=\"indefinite\" />\n",
       "      <animate\n",
       "      attributeName=\"x\"\n",
       "      values=\"100;100;500\"\n",
       "      dur=\"4s\"\n",
       "      repeatCount=\"indefinite\" />\n",
       "  </rect>\n",
       "        <g style=\"fill:transparent;stroke-width:8; stroke-linejoin:round\" rx=\"5\">\n",
       "            <g transform=\"translate(45 50) rotate(-45)\">\n",
       "                <circle r=\"33\" cx=\"0\" cy=\"0\" />\n",
       "                <rect x=\"-8\" y=\"32\" width=\"16\" height=\"30\" />\n",
       "            </g>\n",
       "\n",
       "            <g transform=\"translate(450 152)\">\n",
       "                <polyline points=\"-15,-20 -35,-20 -35,40 25,40 25,20\" />\n",
       "                <rect x=\"-15\" y=\"-40\" width=\"60\" height=\"60\" />\n",
       "            </g>\n",
       "\n",
       "            <g transform=\"translate(50 352)\">\n",
       "                <polygon points=\"-35,-5 0,-40 35,-5\" />\n",
       "                <polygon points=\"-35,10 0,45 35,10\" />\n",
       "            </g>\n",
       "\n",
       "            <g transform=\"translate(75 250)\">\n",
       "                <polyline points=\"-30,30 -60,0 -30,-30\" />\n",
       "                <polyline points=\"0,30 -30,0 0,-30\" />\n",
       "            </g>\n",
       "\n",
       "            <g transform=\"translate(425 250) rotate(180)\">\n",
       "                <polyline points=\"-30,30 -60,0 -30,-30\" />\n",
       "                <polyline points=\"0,30 -30,0 0,-30\" />\n",
       "            </g>\n",
       "        </g>\n",
       "    </g>\n",
       "</svg>\n",
       "</a>\n",
       "    Loading ITables v2.5.2 from the internet...\n",
       "    (need <a href=https://mwouts.github.io/itables/troubleshooting.html>help</a>?)</td>\n",
       "    </tr></tbody></table>\n",
       "<link href=\"https://www.unpkg.com/dt_for_itables@2.4.0/dt_bundle.css\" rel=\"stylesheet\">\n",
       "<script type=\"module\">\n",
       "    import { ITable, jQuery as $ } from 'https://www.unpkg.com/dt_for_itables@2.4.0/dt_bundle.js';\n",
       "\n",
       "    document.querySelectorAll(\"#itables_a6b02ec5_a005_44c2_8eaa_7847aaa9d79f:not(.dataTable)\").forEach(table => {\n",
       "        if (!(table instanceof HTMLTableElement))\n",
       "            return;\n",
       "\n",
       "        let dt_args = {\"layout\": {\"topStart\": null, \"topEnd\": null, \"bottomStart\": null, \"bottomEnd\": null}, \"style\": {\"table-layout\": \"auto\", \"width\": \"auto\", \"margin\": \"auto\", \"caption-side\": \"bottom\"}, \"text_in_header_can_be_selected\": true, \"order\": [], \"classes\": [\"display\", \"nowrap\"], \"table_html\": \"<table><thead>\\n    <tr style=\\\"text-align: right;\\\">\\n      \\n      <th>item</th>\\n      <th>price</th>\\n    </tr>\\n  </thead></table>\", \"data_json\": \"[[\\\"avocado\\\", 0.5], [\\\"banana\\\", 0.15], [\\\"bread\\\", 1.0], [\\\"milk\\\", 0.8], [\\\"toilet paper\\\", 3.0]]\"};\n",
       "        new ITable(table, dt_args);\n",
       "    });\n",
       "</script>\n"
      ],
      "text/plain": [
       "<IPython.core.display.HTML object>"
      ]
     },
     "metadata": {},
     "output_type": "display_data"
    }
   ],
   "source": [
    "file1 = 'https://joannabieri.com/introdatascience/data/purchases.csv'\n",
    "DF_purchases = pd.read_csv(file1)\n",
    "file2 = 'https://joannabieri.com/introdatascience/data/prices.csv'\n",
    "DF_prices = pd.read_csv(file2)\n",
    "show(DF_purchases)\n",
    "show(DF_prices)"
   ]
  },
  {
   "cell_type": "markdown",
   "id": "f5af1fa1-4f7d-4cd4-ac09-e509772e5f57",
   "metadata": {},
   "source": [
    "## Calculate the total revenue\n",
    "\n",
    "**Q8** Given the data above find the total revenue.\n",
    "\n",
    "We will have to join the data frames so that we can see the price of what was sold. So first we look for a common column. In this case both data frames have **item** as a column.\n",
    "\n",
    "Now, think about how to calculate revenue... we need to add up the total money we made, so we need to know the price of each thing sold.\n",
    "\n",
    "**PAUSE - see if you can write some of the code for this before looking at the cells below**"
   ]
  },
  {
   "cell_type": "code",
   "execution_count": 7,
   "id": "a16c0888-d03e-4ff7-9b66-79fa9c74e4ff",
   "metadata": {},
   "outputs": [],
   "source": [
    "#"
   ]
  },
  {
   "cell_type": "code",
   "execution_count": 8,
   "id": "ebff5cbc-dbdc-4fec-8eb6-c79edca4e708",
   "metadata": {},
   "outputs": [],
   "source": [
    "#"
   ]
  },
  {
   "cell_type": "code",
   "execution_count": 9,
   "id": "7f1967df-b69d-4a1e-9d97-046ffe56d54c",
   "metadata": {},
   "outputs": [],
   "source": [
    "#"
   ]
  },
  {
   "cell_type": "code",
   "execution_count": 10,
   "id": "5672d7ea-2c0c-411d-bee7-42a985f1b6ff",
   "metadata": {},
   "outputs": [],
   "source": [
    "#"
   ]
  },
  {
   "cell_type": "markdown",
   "id": "37bfd299-2f8f-4073-9bff-f2a0bf6b5be0",
   "metadata": {},
   "source": [
    "**See the lecture notes if you need heelp figuring this out!**\n",
    "\n",
    "**Q9** Calculate the revenue per customer? Hint - group by the customer id and then apply the sum()."
   ]
  },
  {
   "cell_type": "code",
   "execution_count": 11,
   "id": "1e9f757c-4372-490c-993f-815b1880b238",
   "metadata": {},
   "outputs": [],
   "source": [
    "# Your code here\n"
   ]
  },
  {
   "cell_type": "markdown",
   "id": "499278e8-0acb-4eba-bfa2-336d0e55adb3",
   "metadata": {},
   "source": [
    "The first step in the process of turning information into knowledge process is to summarize and describe the raw information - the data.\n",
    "In this assignment we explore data on college majors and earnings, specifically the data begin the FiveThirtyEight story [\"The Economic Guide To Picking A College Major\"](https://fivethirtyeight.com/features/the-economic-guide-to-picking-a-college-major/).\n",
    "\n",
    "These data originally come from the American Community Survey (ACS) 2010-2012 Public Use Microdata Series.\n",
    "While this is outside the scope of this assignment, if you are curious about how raw data from the ACS were cleaned and prepared, see [the code](https://github.com/fivethirtyeight/data/blob/master/college-majors/college-majors-rscript.R) FiveThirtyEight authors used.\n",
    "\n",
    "We should also note that there are many considerations that go into picking a major.\n",
    "Earnings potential and employment prospects are two of them, and they are important, but they don't tell the whole story.\n",
    "Keep this in mind as you analyze the data."
   ]
  },
  {
   "cell_type": "code",
   "execution_count": 12,
   "id": "3b4abc95-54f3-4ac3-829e-04f7db85211b",
   "metadata": {},
   "outputs": [],
   "source": [
    "file_location = 'https://joannabieri.com/introdatascience/data/recent-grads.csv'\n",
    "DF_raw = pd.read_csv(file_location)"
   ]
  },
  {
   "cell_type": "code",
   "execution_count": 13,
   "id": "05b5ca28-76a8-4bac-b587-9864dae60ffd",
   "metadata": {
    "scrolled": true
   },
   "outputs": [
    {
     "data": {
      "text/html": [
       "<div>\n",
       "<style scoped>\n",
       "    .dataframe tbody tr th:only-of-type {\n",
       "        vertical-align: middle;\n",
       "    }\n",
       "\n",
       "    .dataframe tbody tr th {\n",
       "        vertical-align: top;\n",
       "    }\n",
       "\n",
       "    .dataframe thead th {\n",
       "        text-align: right;\n",
       "    }\n",
       "</style>\n",
       "<table border=\"1\" class=\"dataframe\">\n",
       "  <thead>\n",
       "    <tr style=\"text-align: right;\">\n",
       "      <th></th>\n",
       "      <th>Rank</th>\n",
       "      <th>Major_code</th>\n",
       "      <th>Major</th>\n",
       "      <th>Total</th>\n",
       "      <th>Men</th>\n",
       "      <th>Women</th>\n",
       "      <th>Major_category</th>\n",
       "      <th>ShareWomen</th>\n",
       "      <th>Sample_size</th>\n",
       "      <th>Employed</th>\n",
       "      <th>...</th>\n",
       "      <th>Part_time</th>\n",
       "      <th>Full_time_year_round</th>\n",
       "      <th>Unemployed</th>\n",
       "      <th>Unemployment_rate</th>\n",
       "      <th>Median</th>\n",
       "      <th>P25th</th>\n",
       "      <th>P75th</th>\n",
       "      <th>College_jobs</th>\n",
       "      <th>Non_college_jobs</th>\n",
       "      <th>Low_wage_jobs</th>\n",
       "    </tr>\n",
       "  </thead>\n",
       "  <tbody>\n",
       "    <tr>\n",
       "      <th>0</th>\n",
       "      <td>1</td>\n",
       "      <td>2419</td>\n",
       "      <td>PETROLEUM ENGINEERING</td>\n",
       "      <td>2339.0</td>\n",
       "      <td>2057.0</td>\n",
       "      <td>282.0</td>\n",
       "      <td>Engineering</td>\n",
       "      <td>0.120564</td>\n",
       "      <td>36</td>\n",
       "      <td>1976</td>\n",
       "      <td>...</td>\n",
       "      <td>270</td>\n",
       "      <td>1207</td>\n",
       "      <td>37</td>\n",
       "      <td>0.018381</td>\n",
       "      <td>110000</td>\n",
       "      <td>95000</td>\n",
       "      <td>125000</td>\n",
       "      <td>1534</td>\n",
       "      <td>364</td>\n",
       "      <td>193</td>\n",
       "    </tr>\n",
       "    <tr>\n",
       "      <th>1</th>\n",
       "      <td>2</td>\n",
       "      <td>2416</td>\n",
       "      <td>MINING AND MINERAL ENGINEERING</td>\n",
       "      <td>756.0</td>\n",
       "      <td>679.0</td>\n",
       "      <td>77.0</td>\n",
       "      <td>Engineering</td>\n",
       "      <td>0.101852</td>\n",
       "      <td>7</td>\n",
       "      <td>640</td>\n",
       "      <td>...</td>\n",
       "      <td>170</td>\n",
       "      <td>388</td>\n",
       "      <td>85</td>\n",
       "      <td>0.117241</td>\n",
       "      <td>75000</td>\n",
       "      <td>55000</td>\n",
       "      <td>90000</td>\n",
       "      <td>350</td>\n",
       "      <td>257</td>\n",
       "      <td>50</td>\n",
       "    </tr>\n",
       "    <tr>\n",
       "      <th>2</th>\n",
       "      <td>3</td>\n",
       "      <td>2415</td>\n",
       "      <td>METALLURGICAL ENGINEERING</td>\n",
       "      <td>856.0</td>\n",
       "      <td>725.0</td>\n",
       "      <td>131.0</td>\n",
       "      <td>Engineering</td>\n",
       "      <td>0.153037</td>\n",
       "      <td>3</td>\n",
       "      <td>648</td>\n",
       "      <td>...</td>\n",
       "      <td>133</td>\n",
       "      <td>340</td>\n",
       "      <td>16</td>\n",
       "      <td>0.024096</td>\n",
       "      <td>73000</td>\n",
       "      <td>50000</td>\n",
       "      <td>105000</td>\n",
       "      <td>456</td>\n",
       "      <td>176</td>\n",
       "      <td>0</td>\n",
       "    </tr>\n",
       "    <tr>\n",
       "      <th>3</th>\n",
       "      <td>4</td>\n",
       "      <td>2417</td>\n",
       "      <td>NAVAL ARCHITECTURE AND MARINE ENGINEERING</td>\n",
       "      <td>1258.0</td>\n",
       "      <td>1123.0</td>\n",
       "      <td>135.0</td>\n",
       "      <td>Engineering</td>\n",
       "      <td>0.107313</td>\n",
       "      <td>16</td>\n",
       "      <td>758</td>\n",
       "      <td>...</td>\n",
       "      <td>150</td>\n",
       "      <td>692</td>\n",
       "      <td>40</td>\n",
       "      <td>0.050125</td>\n",
       "      <td>70000</td>\n",
       "      <td>43000</td>\n",
       "      <td>80000</td>\n",
       "      <td>529</td>\n",
       "      <td>102</td>\n",
       "      <td>0</td>\n",
       "    </tr>\n",
       "    <tr>\n",
       "      <th>4</th>\n",
       "      <td>5</td>\n",
       "      <td>2405</td>\n",
       "      <td>CHEMICAL ENGINEERING</td>\n",
       "      <td>32260.0</td>\n",
       "      <td>21239.0</td>\n",
       "      <td>11021.0</td>\n",
       "      <td>Engineering</td>\n",
       "      <td>0.341631</td>\n",
       "      <td>289</td>\n",
       "      <td>25694</td>\n",
       "      <td>...</td>\n",
       "      <td>5180</td>\n",
       "      <td>16697</td>\n",
       "      <td>1672</td>\n",
       "      <td>0.061098</td>\n",
       "      <td>65000</td>\n",
       "      <td>50000</td>\n",
       "      <td>75000</td>\n",
       "      <td>18314</td>\n",
       "      <td>4440</td>\n",
       "      <td>972</td>\n",
       "    </tr>\n",
       "    <tr>\n",
       "      <th>...</th>\n",
       "      <td>...</td>\n",
       "      <td>...</td>\n",
       "      <td>...</td>\n",
       "      <td>...</td>\n",
       "      <td>...</td>\n",
       "      <td>...</td>\n",
       "      <td>...</td>\n",
       "      <td>...</td>\n",
       "      <td>...</td>\n",
       "      <td>...</td>\n",
       "      <td>...</td>\n",
       "      <td>...</td>\n",
       "      <td>...</td>\n",
       "      <td>...</td>\n",
       "      <td>...</td>\n",
       "      <td>...</td>\n",
       "      <td>...</td>\n",
       "      <td>...</td>\n",
       "      <td>...</td>\n",
       "      <td>...</td>\n",
       "      <td>...</td>\n",
       "    </tr>\n",
       "    <tr>\n",
       "      <th>168</th>\n",
       "      <td>169</td>\n",
       "      <td>3609</td>\n",
       "      <td>ZOOLOGY</td>\n",
       "      <td>8409.0</td>\n",
       "      <td>3050.0</td>\n",
       "      <td>5359.0</td>\n",
       "      <td>Biology &amp; Life Science</td>\n",
       "      <td>0.637293</td>\n",
       "      <td>47</td>\n",
       "      <td>6259</td>\n",
       "      <td>...</td>\n",
       "      <td>2190</td>\n",
       "      <td>3602</td>\n",
       "      <td>304</td>\n",
       "      <td>0.046320</td>\n",
       "      <td>26000</td>\n",
       "      <td>20000</td>\n",
       "      <td>39000</td>\n",
       "      <td>2771</td>\n",
       "      <td>2947</td>\n",
       "      <td>743</td>\n",
       "    </tr>\n",
       "    <tr>\n",
       "      <th>169</th>\n",
       "      <td>170</td>\n",
       "      <td>5201</td>\n",
       "      <td>EDUCATIONAL PSYCHOLOGY</td>\n",
       "      <td>2854.0</td>\n",
       "      <td>522.0</td>\n",
       "      <td>2332.0</td>\n",
       "      <td>Psychology &amp; Social Work</td>\n",
       "      <td>0.817099</td>\n",
       "      <td>7</td>\n",
       "      <td>2125</td>\n",
       "      <td>...</td>\n",
       "      <td>572</td>\n",
       "      <td>1211</td>\n",
       "      <td>148</td>\n",
       "      <td>0.065112</td>\n",
       "      <td>25000</td>\n",
       "      <td>24000</td>\n",
       "      <td>34000</td>\n",
       "      <td>1488</td>\n",
       "      <td>615</td>\n",
       "      <td>82</td>\n",
       "    </tr>\n",
       "    <tr>\n",
       "      <th>170</th>\n",
       "      <td>171</td>\n",
       "      <td>5202</td>\n",
       "      <td>CLINICAL PSYCHOLOGY</td>\n",
       "      <td>2838.0</td>\n",
       "      <td>568.0</td>\n",
       "      <td>2270.0</td>\n",
       "      <td>Psychology &amp; Social Work</td>\n",
       "      <td>0.799859</td>\n",
       "      <td>13</td>\n",
       "      <td>2101</td>\n",
       "      <td>...</td>\n",
       "      <td>648</td>\n",
       "      <td>1293</td>\n",
       "      <td>368</td>\n",
       "      <td>0.149048</td>\n",
       "      <td>25000</td>\n",
       "      <td>25000</td>\n",
       "      <td>40000</td>\n",
       "      <td>986</td>\n",
       "      <td>870</td>\n",
       "      <td>622</td>\n",
       "    </tr>\n",
       "    <tr>\n",
       "      <th>171</th>\n",
       "      <td>172</td>\n",
       "      <td>5203</td>\n",
       "      <td>COUNSELING PSYCHOLOGY</td>\n",
       "      <td>4626.0</td>\n",
       "      <td>931.0</td>\n",
       "      <td>3695.0</td>\n",
       "      <td>Psychology &amp; Social Work</td>\n",
       "      <td>0.798746</td>\n",
       "      <td>21</td>\n",
       "      <td>3777</td>\n",
       "      <td>...</td>\n",
       "      <td>965</td>\n",
       "      <td>2738</td>\n",
       "      <td>214</td>\n",
       "      <td>0.053621</td>\n",
       "      <td>23400</td>\n",
       "      <td>19200</td>\n",
       "      <td>26000</td>\n",
       "      <td>2403</td>\n",
       "      <td>1245</td>\n",
       "      <td>308</td>\n",
       "    </tr>\n",
       "    <tr>\n",
       "      <th>172</th>\n",
       "      <td>173</td>\n",
       "      <td>3501</td>\n",
       "      <td>LIBRARY SCIENCE</td>\n",
       "      <td>1098.0</td>\n",
       "      <td>134.0</td>\n",
       "      <td>964.0</td>\n",
       "      <td>Education</td>\n",
       "      <td>0.877960</td>\n",
       "      <td>2</td>\n",
       "      <td>742</td>\n",
       "      <td>...</td>\n",
       "      <td>237</td>\n",
       "      <td>410</td>\n",
       "      <td>87</td>\n",
       "      <td>0.104946</td>\n",
       "      <td>22000</td>\n",
       "      <td>20000</td>\n",
       "      <td>22000</td>\n",
       "      <td>288</td>\n",
       "      <td>338</td>\n",
       "      <td>192</td>\n",
       "    </tr>\n",
       "  </tbody>\n",
       "</table>\n",
       "<p>173 rows × 21 columns</p>\n",
       "</div>"
      ],
      "text/plain": [
       "     Rank  Major_code                                      Major    Total  \\\n",
       "0       1        2419                      PETROLEUM ENGINEERING   2339.0   \n",
       "1       2        2416             MINING AND MINERAL ENGINEERING    756.0   \n",
       "2       3        2415                  METALLURGICAL ENGINEERING    856.0   \n",
       "3       4        2417  NAVAL ARCHITECTURE AND MARINE ENGINEERING   1258.0   \n",
       "4       5        2405                       CHEMICAL ENGINEERING  32260.0   \n",
       "..    ...         ...                                        ...      ...   \n",
       "168   169        3609                                    ZOOLOGY   8409.0   \n",
       "169   170        5201                     EDUCATIONAL PSYCHOLOGY   2854.0   \n",
       "170   171        5202                        CLINICAL PSYCHOLOGY   2838.0   \n",
       "171   172        5203                      COUNSELING PSYCHOLOGY   4626.0   \n",
       "172   173        3501                            LIBRARY SCIENCE   1098.0   \n",
       "\n",
       "         Men    Women            Major_category  ShareWomen  Sample_size  \\\n",
       "0     2057.0    282.0               Engineering    0.120564           36   \n",
       "1      679.0     77.0               Engineering    0.101852            7   \n",
       "2      725.0    131.0               Engineering    0.153037            3   \n",
       "3     1123.0    135.0               Engineering    0.107313           16   \n",
       "4    21239.0  11021.0               Engineering    0.341631          289   \n",
       "..       ...      ...                       ...         ...          ...   \n",
       "168   3050.0   5359.0    Biology & Life Science    0.637293           47   \n",
       "169    522.0   2332.0  Psychology & Social Work    0.817099            7   \n",
       "170    568.0   2270.0  Psychology & Social Work    0.799859           13   \n",
       "171    931.0   3695.0  Psychology & Social Work    0.798746           21   \n",
       "172    134.0    964.0                 Education    0.877960            2   \n",
       "\n",
       "     Employed  ...  Part_time  Full_time_year_round  Unemployed  \\\n",
       "0        1976  ...        270                  1207          37   \n",
       "1         640  ...        170                   388          85   \n",
       "2         648  ...        133                   340          16   \n",
       "3         758  ...        150                   692          40   \n",
       "4       25694  ...       5180                 16697        1672   \n",
       "..        ...  ...        ...                   ...         ...   \n",
       "168      6259  ...       2190                  3602         304   \n",
       "169      2125  ...        572                  1211         148   \n",
       "170      2101  ...        648                  1293         368   \n",
       "171      3777  ...        965                  2738         214   \n",
       "172       742  ...        237                   410          87   \n",
       "\n",
       "     Unemployment_rate  Median  P25th   P75th  College_jobs  Non_college_jobs  \\\n",
       "0             0.018381  110000  95000  125000          1534               364   \n",
       "1             0.117241   75000  55000   90000           350               257   \n",
       "2             0.024096   73000  50000  105000           456               176   \n",
       "3             0.050125   70000  43000   80000           529               102   \n",
       "4             0.061098   65000  50000   75000         18314              4440   \n",
       "..                 ...     ...    ...     ...           ...               ...   \n",
       "168           0.046320   26000  20000   39000          2771              2947   \n",
       "169           0.065112   25000  24000   34000          1488               615   \n",
       "170           0.149048   25000  25000   40000           986               870   \n",
       "171           0.053621   23400  19200   26000          2403              1245   \n",
       "172           0.104946   22000  20000   22000           288               338   \n",
       "\n",
       "     Low_wage_jobs  \n",
       "0              193  \n",
       "1               50  \n",
       "2                0  \n",
       "3                0  \n",
       "4              972  \n",
       "..             ...  \n",
       "168            743  \n",
       "169             82  \n",
       "170            622  \n",
       "171            308  \n",
       "172            192  \n",
       "\n",
       "[173 rows x 21 columns]"
      ]
     },
     "execution_count": 13,
     "metadata": {},
     "output_type": "execute_result"
    }
   ],
   "source": [
    "DF_raw"
   ]
  },
  {
   "cell_type": "markdown",
   "id": "1a8b7b01-42fe-4200-958c-8034ec4e381e",
   "metadata": {},
   "source": [
    "### 1. Describe the data that you see here.\n",
    "\n",
    "* How many variables?\n",
    "* How man observations?\n",
    "* Are the variables categorical or numerical?\n",
    "* Are there any variables that you don't know what they mean? If so [CLICK HERE - to see the Git Repo for the data where the variables are defined](https://github.com/fivethirtyeight/data/tree/master/college-majors)\n"
   ]
  },
  {
   "cell_type": "code",
   "execution_count": 14,
   "id": "7582b22d-fe2f-4096-9cab-7eb68317d81b",
   "metadata": {},
   "outputs": [],
   "source": [
    "#"
   ]
  },
  {
   "cell_type": "code",
   "execution_count": 15,
   "id": "283046a0-671b-460d-add7-5f25136c773b",
   "metadata": {},
   "outputs": [],
   "source": [
    "#"
   ]
  },
  {
   "cell_type": "code",
   "execution_count": 16,
   "id": "ac29a401-96dd-4fa0-b731-f44a7248b7ce",
   "metadata": {},
   "outputs": [],
   "source": [
    "#"
   ]
  },
  {
   "cell_type": "markdown",
   "id": "84940acb-06aa-4ff9-94f0-7bbb73b6acf6",
   "metadata": {},
   "source": [
    "**(Click Here to Explain your Results)**"
   ]
  },
  {
   "cell_type": "markdown",
   "id": "88705179-450a-442e-9d00-c5e468e4f2ed",
   "metadata": {},
   "source": [
    "### 2. Answer some questions about the data\n",
    "\n",
    "* Which major has the lowest unemployment rate? Show a data frame that answers this question, but only show columns that are useful to the answer.\n",
    "* Which major has the highest percentage of women? Show a data frame that answers this question, but only show columns that are useful to the answer.\n",
    "* How do the distributions of median income compare across major categories?\n",
    "    * First get a value count on what major categories are in the data. What categories are most or least represented?\n",
    "    * Do some summary statistics using the .group_by() command to see the statistics for each major category.\n",
    "    * Make a histogram that explores median income for each of the major categories (facet_col). How did you choose your number of bins?\n",
    "    * Why do we often choose the median, rather than the mean, to describe the typical income of a group of people? Look this up online if you don't know the answer!\n",
    "    * Answer the question: Which major category has the highest typical (you'll need to decide what this means) median income?"
   ]
  },
  {
   "cell_type": "code",
   "execution_count": 28,
   "id": "4c4bb632-db11-48fc-bf24-efc6eeb35542",
   "metadata": {},
   "outputs": [
    {
     "data": {
      "text/plain": [
       "Index(['Rank', 'Major_code', 'Major', 'Total', 'Men', 'Women',\n",
       "       'Major_category', 'ShareWomen', 'Sample_size', 'Employed', 'Full_time',\n",
       "       'Part_time', 'Full_time_year_round', 'Unemployed', 'Unemployment_rate',\n",
       "       'Median', 'P25th', 'P75th', 'College_jobs', 'Non_college_jobs',\n",
       "       'Low_wage_jobs'],\n",
       "      dtype='object')"
      ]
     },
     "execution_count": 28,
     "metadata": {},
     "output_type": "execute_result"
    }
   ],
   "source": [
    "#\n",
    "DF_raw.keys()"
   ]
  },
  {
   "cell_type": "code",
   "execution_count": 30,
   "id": "bf7b8267-9765-4e98-842d-22e0c4ea316a",
   "metadata": {},
   "outputs": [
    {
     "data": {
      "text/html": [
       "<div>\n",
       "<style scoped>\n",
       "    .dataframe tbody tr th:only-of-type {\n",
       "        vertical-align: middle;\n",
       "    }\n",
       "\n",
       "    .dataframe tbody tr th {\n",
       "        vertical-align: top;\n",
       "    }\n",
       "\n",
       "    .dataframe thead th {\n",
       "        text-align: right;\n",
       "    }\n",
       "</style>\n",
       "<table border=\"1\" class=\"dataframe\">\n",
       "  <thead>\n",
       "    <tr style=\"text-align: right;\">\n",
       "      <th></th>\n",
       "      <th>Major</th>\n",
       "      <th>Unemployment_rate</th>\n",
       "    </tr>\n",
       "  </thead>\n",
       "  <tbody>\n",
       "    <tr>\n",
       "      <th>52</th>\n",
       "      <td>MATHEMATICS AND COMPUTER SCIENCE</td>\n",
       "      <td>0.000000</td>\n",
       "    </tr>\n",
       "    <tr>\n",
       "      <th>112</th>\n",
       "      <td>SOIL SCIENCE</td>\n",
       "      <td>0.000000</td>\n",
       "    </tr>\n",
       "    <tr>\n",
       "      <th>83</th>\n",
       "      <td>BOTANY</td>\n",
       "      <td>0.000000</td>\n",
       "    </tr>\n",
       "    <tr>\n",
       "      <th>73</th>\n",
       "      <td>MILITARY TECHNOLOGIES</td>\n",
       "      <td>0.000000</td>\n",
       "    </tr>\n",
       "    <tr>\n",
       "      <th>120</th>\n",
       "      <td>EDUCATIONAL ADMINISTRATION AND SUPERVISION</td>\n",
       "      <td>0.000000</td>\n",
       "    </tr>\n",
       "    <tr>\n",
       "      <th>14</th>\n",
       "      <td>ENGINEERING MECHANICS PHYSICS AND SCIENCE</td>\n",
       "      <td>0.006334</td>\n",
       "    </tr>\n",
       "    <tr>\n",
       "      <th>19</th>\n",
       "      <td>COURT REPORTING</td>\n",
       "      <td>0.011690</td>\n",
       "    </tr>\n",
       "    <tr>\n",
       "      <th>119</th>\n",
       "      <td>MATHEMATICS TEACHER EDUCATION</td>\n",
       "      <td>0.016203</td>\n",
       "    </tr>\n",
       "    <tr>\n",
       "      <th>0</th>\n",
       "      <td>PETROLEUM ENGINEERING</td>\n",
       "      <td>0.018381</td>\n",
       "    </tr>\n",
       "    <tr>\n",
       "      <th>64</th>\n",
       "      <td>GENERAL AGRICULTURE</td>\n",
       "      <td>0.019642</td>\n",
       "    </tr>\n",
       "  </tbody>\n",
       "</table>\n",
       "</div>"
      ],
      "text/plain": [
       "                                          Major  Unemployment_rate\n",
       "52             MATHEMATICS AND COMPUTER SCIENCE           0.000000\n",
       "112                                SOIL SCIENCE           0.000000\n",
       "83                                       BOTANY           0.000000\n",
       "73                        MILITARY TECHNOLOGIES           0.000000\n",
       "120  EDUCATIONAL ADMINISTRATION AND SUPERVISION           0.000000\n",
       "14    ENGINEERING MECHANICS PHYSICS AND SCIENCE           0.006334\n",
       "19                              COURT REPORTING           0.011690\n",
       "119               MATHEMATICS TEACHER EDUCATION           0.016203\n",
       "0                         PETROLEUM ENGINEERING           0.018381\n",
       "64                          GENERAL AGRICULTURE           0.019642"
      ]
     },
     "execution_count": 30,
     "metadata": {},
     "output_type": "execute_result"
    }
   ],
   "source": [
    "new_DF = DF_raw[['Major','Unemployment_rate']]\n",
    "new_DF.sort_values(by='Unemployment_rate').head(10)\n",
    "#tail(10)"
   ]
  },
  {
   "cell_type": "code",
   "execution_count": 35,
   "id": "b8b0409a-f4e3-4e0c-9277-afd6edd940a9",
   "metadata": {},
   "outputs": [
    {
     "data": {
      "text/html": [
       "<div>\n",
       "<style scoped>\n",
       "    .dataframe tbody tr th:only-of-type {\n",
       "        vertical-align: middle;\n",
       "    }\n",
       "\n",
       "    .dataframe tbody tr th {\n",
       "        vertical-align: top;\n",
       "    }\n",
       "\n",
       "    .dataframe thead th {\n",
       "        text-align: right;\n",
       "    }\n",
       "</style>\n",
       "<table border=\"1\" class=\"dataframe\">\n",
       "  <thead>\n",
       "    <tr style=\"text-align: right;\">\n",
       "      <th></th>\n",
       "      <th>ShareWomen</th>\n",
       "      <th>Major</th>\n",
       "    </tr>\n",
       "  </thead>\n",
       "  <tbody>\n",
       "    <tr>\n",
       "      <th>73</th>\n",
       "      <td>0.000000</td>\n",
       "      <td>MILITARY TECHNOLOGIES</td>\n",
       "    </tr>\n",
       "    <tr>\n",
       "      <th>66</th>\n",
       "      <td>0.077453</td>\n",
       "      <td>MECHANICAL ENGINEERING RELATED TECHNOLOGIES</td>\n",
       "    </tr>\n",
       "    <tr>\n",
       "      <th>26</th>\n",
       "      <td>0.090713</td>\n",
       "      <td>CONSTRUCTION SERVICES</td>\n",
       "    </tr>\n",
       "    <tr>\n",
       "      <th>1</th>\n",
       "      <td>0.101852</td>\n",
       "      <td>MINING AND MINERAL ENGINEERING</td>\n",
       "    </tr>\n",
       "    <tr>\n",
       "      <th>3</th>\n",
       "      <td>0.107313</td>\n",
       "      <td>NAVAL ARCHITECTURE AND MARINE ENGINEERING</td>\n",
       "    </tr>\n",
       "    <tr>\n",
       "      <th>8</th>\n",
       "      <td>0.119559</td>\n",
       "      <td>MECHANICAL ENGINEERING</td>\n",
       "    </tr>\n",
       "    <tr>\n",
       "      <th>0</th>\n",
       "      <td>0.120564</td>\n",
       "      <td>PETROLEUM ENGINEERING</td>\n",
       "    </tr>\n",
       "    <tr>\n",
       "      <th>106</th>\n",
       "      <td>0.124950</td>\n",
       "      <td>TRANSPORTATION SCIENCES AND TECHNOLOGIES</td>\n",
       "    </tr>\n",
       "    <tr>\n",
       "      <th>111</th>\n",
       "      <td>0.125035</td>\n",
       "      <td>FORESTRY</td>\n",
       "    </tr>\n",
       "    <tr>\n",
       "      <th>11</th>\n",
       "      <td>0.139793</td>\n",
       "      <td>AEROSPACE ENGINEERING</td>\n",
       "    </tr>\n",
       "  </tbody>\n",
       "</table>\n",
       "</div>"
      ],
      "text/plain": [
       "     ShareWomen                                        Major\n",
       "73     0.000000                        MILITARY TECHNOLOGIES\n",
       "66     0.077453  MECHANICAL ENGINEERING RELATED TECHNOLOGIES\n",
       "26     0.090713                        CONSTRUCTION SERVICES\n",
       "1      0.101852               MINING AND MINERAL ENGINEERING\n",
       "3      0.107313    NAVAL ARCHITECTURE AND MARINE ENGINEERING\n",
       "8      0.119559                       MECHANICAL ENGINEERING\n",
       "0      0.120564                        PETROLEUM ENGINEERING\n",
       "106    0.124950     TRANSPORTATION SCIENCES AND TECHNOLOGIES\n",
       "111    0.125035                                     FORESTRY\n",
       "11     0.139793                        AEROSPACE ENGINEERING"
      ]
     },
     "execution_count": 35,
     "metadata": {},
     "output_type": "execute_result"
    }
   ],
   "source": [
    "coll = ['ShareWomen', 'Major']\n",
    "DF_raw[coll].sort_values('ShareWomen').head(10)"
   ]
  },
  {
   "cell_type": "code",
   "execution_count": 37,
   "id": "c8fd14d5-3337-41f6-8382-735464af6ebb",
   "metadata": {},
   "outputs": [
    {
     "data": {
      "text/html": [
       "<div>\n",
       "<style scoped>\n",
       "    .dataframe tbody tr th:only-of-type {\n",
       "        vertical-align: middle;\n",
       "    }\n",
       "\n",
       "    .dataframe tbody tr th {\n",
       "        vertical-align: top;\n",
       "    }\n",
       "\n",
       "    .dataframe thead th {\n",
       "        text-align: right;\n",
       "    }\n",
       "</style>\n",
       "<table border=\"1\" class=\"dataframe\">\n",
       "  <thead>\n",
       "    <tr style=\"text-align: right;\">\n",
       "      <th></th>\n",
       "      <th>Major</th>\n",
       "      <th>Women_Participation</th>\n",
       "    </tr>\n",
       "  </thead>\n",
       "  <tbody>\n",
       "    <tr>\n",
       "      <th>73</th>\n",
       "      <td>MILITARY TECHNOLOGIES</td>\n",
       "      <td>0.000000</td>\n",
       "    </tr>\n",
       "    <tr>\n",
       "      <th>66</th>\n",
       "      <td>MECHANICAL ENGINEERING RELATED TECHNOLOGIES</td>\n",
       "      <td>0.077453</td>\n",
       "    </tr>\n",
       "    <tr>\n",
       "      <th>26</th>\n",
       "      <td>CONSTRUCTION SERVICES</td>\n",
       "      <td>0.090713</td>\n",
       "    </tr>\n",
       "    <tr>\n",
       "      <th>1</th>\n",
       "      <td>MINING AND MINERAL ENGINEERING</td>\n",
       "      <td>0.101852</td>\n",
       "    </tr>\n",
       "    <tr>\n",
       "      <th>3</th>\n",
       "      <td>NAVAL ARCHITECTURE AND MARINE ENGINEERING</td>\n",
       "      <td>0.107313</td>\n",
       "    </tr>\n",
       "    <tr>\n",
       "      <th>...</th>\n",
       "      <td>...</td>\n",
       "      <td>...</td>\n",
       "    </tr>\n",
       "    <tr>\n",
       "      <th>138</th>\n",
       "      <td>ELEMENTARY EDUCATION</td>\n",
       "      <td>0.923745</td>\n",
       "    </tr>\n",
       "    <tr>\n",
       "      <th>51</th>\n",
       "      <td>MEDICAL ASSISTING SERVICES</td>\n",
       "      <td>0.927807</td>\n",
       "    </tr>\n",
       "    <tr>\n",
       "      <th>163</th>\n",
       "      <td>COMMUNICATION DISORDERS SCIENCES AND SERVICES</td>\n",
       "      <td>0.967998</td>\n",
       "    </tr>\n",
       "    <tr>\n",
       "      <th>164</th>\n",
       "      <td>EARLY CHILDHOOD EDUCATION</td>\n",
       "      <td>0.968954</td>\n",
       "    </tr>\n",
       "    <tr>\n",
       "      <th>21</th>\n",
       "      <td>FOOD SCIENCE</td>\n",
       "      <td>NaN</td>\n",
       "    </tr>\n",
       "  </tbody>\n",
       "</table>\n",
       "<p>173 rows × 2 columns</p>\n",
       "</div>"
      ],
      "text/plain": [
       "                                             Major  Women_Participation\n",
       "73                           MILITARY TECHNOLOGIES             0.000000\n",
       "66     MECHANICAL ENGINEERING RELATED TECHNOLOGIES             0.077453\n",
       "26                           CONSTRUCTION SERVICES             0.090713\n",
       "1                   MINING AND MINERAL ENGINEERING             0.101852\n",
       "3        NAVAL ARCHITECTURE AND MARINE ENGINEERING             0.107313\n",
       "..                                             ...                  ...\n",
       "138                           ELEMENTARY EDUCATION             0.923745\n",
       "51                      MEDICAL ASSISTING SERVICES             0.927807\n",
       "163  COMMUNICATION DISORDERS SCIENCES AND SERVICES             0.967998\n",
       "164                      EARLY CHILDHOOD EDUCATION             0.968954\n",
       "21                                    FOOD SCIENCE                  NaN\n",
       "\n",
       "[173 rows x 2 columns]"
      ]
     },
     "execution_count": 37,
     "metadata": {},
     "output_type": "execute_result"
    }
   ],
   "source": [
    "#SAME AS ABOVE BUT USUING MATH (ALSO CREATES NEW COLLUMN)\n",
    "\n",
    "collu = ['Major', 'Total', 'Women']\n",
    "DF_percent = DF_raw.copy()\n",
    "\n",
    "DF_percent['Women_Participation'] = (DF_percent['Women'] / DF_percent['Total'])\n",
    "DF_percent[['Major','Women_Participation']].sort_values(by='Women_Participation', ascending=True)"
   ]
  },
  {
   "cell_type": "code",
   "execution_count": 40,
   "id": "95157cc2-6128-4e34-bedf-7a1ecd757a39",
   "metadata": {},
   "outputs": [
    {
     "data": {
      "text/plain": [
       "Major_category\n",
       "Engineering                            29\n",
       "Education                              16\n",
       "Humanities & Liberal Arts              15\n",
       "Biology & Life Science                 14\n",
       "Business                               13\n",
       "Health                                 12\n",
       "Computers & Mathematics                11\n",
       "Physical Sciences                      10\n",
       "Agriculture & Natural Resources        10\n",
       "Social Science                          9\n",
       "Psychology & Social Work                9\n",
       "Arts                                    8\n",
       "Industrial Arts & Consumer Services     7\n",
       "Law & Public Policy                     5\n",
       "Communications & Journalism             4\n",
       "Interdisciplinary                       1\n",
       "Name: count, dtype: int64"
      ]
     },
     "execution_count": 40,
     "metadata": {},
     "output_type": "execute_result"
    }
   ],
   "source": [
    "#How do the distributions of median income compare across major categories?\n",
    "#First get a value count on what major categories are in the data. What categories are most or least represented?\n",
    "DF_raw['Major_category'].value_counts()"
   ]
  },
  {
   "cell_type": "code",
   "execution_count": 45,
   "id": "bd45cc9a-487b-40a5-9592-f206bdc02b2c",
   "metadata": {},
   "outputs": [
    {
     "data": {
      "text/plain": [
       "Index(['Rank', 'Major_code', 'Major', 'Total', 'Men', 'Women',\n",
       "       'Major_category', 'ShareWomen', 'Sample_size', 'Employed', 'Full_time',\n",
       "       'Part_time', 'Full_time_year_round', 'Unemployed', 'Unemployment_rate',\n",
       "       'Median', 'P25th', 'P75th', 'College_jobs', 'Non_college_jobs',\n",
       "       'Low_wage_jobs'],\n",
       "      dtype='object')"
      ]
     },
     "execution_count": 45,
     "metadata": {},
     "output_type": "execute_result"
    }
   ],
   "source": [
    "DF_raw.keys()"
   ]
  },
  {
   "cell_type": "code",
   "execution_count": 50,
   "id": "f37454be-0c99-413a-875a-88338c89f218",
   "metadata": {},
   "outputs": [
    {
     "data": {
      "text/html": [
       "<div>\n",
       "<style scoped>\n",
       "    .dataframe tbody tr th:only-of-type {\n",
       "        vertical-align: middle;\n",
       "    }\n",
       "\n",
       "    .dataframe tbody tr th {\n",
       "        vertical-align: top;\n",
       "    }\n",
       "\n",
       "    .dataframe thead tr th {\n",
       "        text-align: left;\n",
       "    }\n",
       "\n",
       "    .dataframe thead tr:last-of-type th {\n",
       "        text-align: right;\n",
       "    }\n",
       "</style>\n",
       "<table border=\"1\" class=\"dataframe\">\n",
       "  <thead>\n",
       "    <tr>\n",
       "      <th></th>\n",
       "      <th colspan=\"8\" halign=\"left\">Unemployment_rate</th>\n",
       "      <th colspan=\"5\" halign=\"left\">Low_wage_jobs</th>\n",
       "      <th colspan=\"8\" halign=\"left\">College_jobs</th>\n",
       "    </tr>\n",
       "    <tr>\n",
       "      <th></th>\n",
       "      <th>count</th>\n",
       "      <th>mean</th>\n",
       "      <th>std</th>\n",
       "      <th>min</th>\n",
       "      <th>25%</th>\n",
       "      <th>50%</th>\n",
       "      <th>75%</th>\n",
       "      <th>max</th>\n",
       "      <th>count</th>\n",
       "      <th>mean</th>\n",
       "      <th>...</th>\n",
       "      <th>75%</th>\n",
       "      <th>max</th>\n",
       "      <th>count</th>\n",
       "      <th>mean</th>\n",
       "      <th>std</th>\n",
       "      <th>min</th>\n",
       "      <th>25%</th>\n",
       "      <th>50%</th>\n",
       "      <th>75%</th>\n",
       "      <th>max</th>\n",
       "    </tr>\n",
       "    <tr>\n",
       "      <th>Major_category</th>\n",
       "      <th></th>\n",
       "      <th></th>\n",
       "      <th></th>\n",
       "      <th></th>\n",
       "      <th></th>\n",
       "      <th></th>\n",
       "      <th></th>\n",
       "      <th></th>\n",
       "      <th></th>\n",
       "      <th></th>\n",
       "      <th></th>\n",
       "      <th></th>\n",
       "      <th></th>\n",
       "      <th></th>\n",
       "      <th></th>\n",
       "      <th></th>\n",
       "      <th></th>\n",
       "      <th></th>\n",
       "      <th></th>\n",
       "      <th></th>\n",
       "      <th></th>\n",
       "    </tr>\n",
       "  </thead>\n",
       "  <tbody>\n",
       "    <tr>\n",
       "      <th>Agriculture &amp; Natural Resources</th>\n",
       "      <td>10.0</td>\n",
       "      <td>0.056328</td>\n",
       "      <td>0.030809</td>\n",
       "      <td>0.000000</td>\n",
       "      <td>0.046599</td>\n",
       "      <td>0.055315</td>\n",
       "      <td>0.074592</td>\n",
       "      <td>0.096931</td>\n",
       "      <td>10.0</td>\n",
       "      <td>789.900000</td>\n",
       "      <td>...</td>\n",
       "      <td>1329.25</td>\n",
       "      <td>2125.0</td>\n",
       "      <td>10.0</td>\n",
       "      <td>1986.000000</td>\n",
       "      <td>1703.646155</td>\n",
       "      <td>355.0</td>\n",
       "      <td>675.25</td>\n",
       "      <td>1554.0</td>\n",
       "      <td>2335.75</td>\n",
       "      <td>5443.0</td>\n",
       "    </tr>\n",
       "    <tr>\n",
       "      <th>Arts</th>\n",
       "      <td>8.0</td>\n",
       "      <td>0.090173</td>\n",
       "      <td>0.010891</td>\n",
       "      <td>0.075960</td>\n",
       "      <td>0.082525</td>\n",
       "      <td>0.089464</td>\n",
       "      <td>0.098148</td>\n",
       "      <td>0.105772</td>\n",
       "      <td>8.0</td>\n",
       "      <td>7514.500000</td>\n",
       "      <td>...</td>\n",
       "      <td>11271.00</td>\n",
       "      <td>14839.0</td>\n",
       "      <td>8.0</td>\n",
       "      <td>11848.125000</td>\n",
       "      <td>12132.734793</td>\n",
       "      <td>693.0</td>\n",
       "      <td>3923.25</td>\n",
       "      <td>7181.0</td>\n",
       "      <td>15512.00</td>\n",
       "      <td>37389.0</td>\n",
       "    </tr>\n",
       "    <tr>\n",
       "      <th>Biology &amp; Life Science</th>\n",
       "      <td>14.0</td>\n",
       "      <td>0.060918</td>\n",
       "      <td>0.023370</td>\n",
       "      <td>0.000000</td>\n",
       "      <td>0.049980</td>\n",
       "      <td>0.067969</td>\n",
       "      <td>0.077748</td>\n",
       "      <td>0.085532</td>\n",
       "      <td>14.0</td>\n",
       "      <td>3053.000000</td>\n",
       "      <td>...</td>\n",
       "      <td>1989.25</td>\n",
       "      <td>28339.0</td>\n",
       "      <td>14.0</td>\n",
       "      <td>10802.357143</td>\n",
       "      <td>22634.554797</td>\n",
       "      <td>603.0</td>\n",
       "      <td>1949.00</td>\n",
       "      <td>4915.0</td>\n",
       "      <td>7065.50</td>\n",
       "      <td>88232.0</td>\n",
       "    </tr>\n",
       "    <tr>\n",
       "      <th>Business</th>\n",
       "      <td>13.0</td>\n",
       "      <td>0.071064</td>\n",
       "      <td>0.015875</td>\n",
       "      <td>0.047859</td>\n",
       "      <td>0.060686</td>\n",
       "      <td>0.069749</td>\n",
       "      <td>0.072861</td>\n",
       "      <td>0.096448</td>\n",
       "      <td>13.0</td>\n",
       "      <td>9752.923077</td>\n",
       "      <td>...</td>\n",
       "      <td>10886.00</td>\n",
       "      <td>32395.0</td>\n",
       "      <td>13.0</td>\n",
       "      <td>11426.000000</td>\n",
       "      <td>12735.923537</td>\n",
       "      <td>1466.0</td>\n",
       "      <td>2236.00</td>\n",
       "      <td>3383.0</td>\n",
       "      <td>24243.00</td>\n",
       "      <td>36720.0</td>\n",
       "    </tr>\n",
       "    <tr>\n",
       "      <th>Communications &amp; Journalism</th>\n",
       "      <td>4.0</td>\n",
       "      <td>0.075538</td>\n",
       "      <td>0.010041</td>\n",
       "      <td>0.067961</td>\n",
       "      <td>0.068873</td>\n",
       "      <td>0.072177</td>\n",
       "      <td>0.078842</td>\n",
       "      <td>0.089837</td>\n",
       "      <td>4.0</td>\n",
       "      <td>12398.750000</td>\n",
       "      <td>...</td>\n",
       "      <td>13244.00</td>\n",
       "      <td>27440.0</td>\n",
       "      <td>4.0</td>\n",
       "      <td>21639.000000</td>\n",
       "      <td>14013.041925</td>\n",
       "      <td>9659.0</td>\n",
       "      <td>12056.00</td>\n",
       "      <td>18067.0</td>\n",
       "      <td>27650.00</td>\n",
       "      <td>40763.0</td>\n",
       "    </tr>\n",
       "    <tr>\n",
       "      <th>Computers &amp; Mathematics</th>\n",
       "      <td>11.0</td>\n",
       "      <td>0.084256</td>\n",
       "      <td>0.040658</td>\n",
       "      <td>0.000000</td>\n",
       "      <td>0.061957</td>\n",
       "      <td>0.090823</td>\n",
       "      <td>0.106853</td>\n",
       "      <td>0.151850</td>\n",
       "      <td>11.0</td>\n",
       "      <td>1466.909091</td>\n",
       "      <td>...</td>\n",
       "      <td>2083.50</td>\n",
       "      <td>5144.0</td>\n",
       "      <td>11.0</td>\n",
       "      <td>12532.636364</td>\n",
       "      <td>21066.701798</td>\n",
       "      <td>452.0</td>\n",
       "      <td>2326.00</td>\n",
       "      <td>2593.0</td>\n",
       "      <td>8944.50</td>\n",
       "      <td>68622.0</td>\n",
       "    </tr>\n",
       "    <tr>\n",
       "      <th>Education</th>\n",
       "      <td>16.0</td>\n",
       "      <td>0.051702</td>\n",
       "      <td>0.027324</td>\n",
       "      <td>0.000000</td>\n",
       "      <td>0.039738</td>\n",
       "      <td>0.048785</td>\n",
       "      <td>0.057823</td>\n",
       "      <td>0.107579</td>\n",
       "      <td>16.0</td>\n",
       "      <td>2554.375000</td>\n",
       "      <td>...</td>\n",
       "      <td>2780.00</td>\n",
       "      <td>11502.0</td>\n",
       "      <td>16.0</td>\n",
       "      <td>21169.562500</td>\n",
       "      <td>30132.854546</td>\n",
       "      <td>288.0</td>\n",
       "      <td>5016.50</td>\n",
       "      <td>10847.0</td>\n",
       "      <td>20344.00</td>\n",
       "      <td>108085.0</td>\n",
       "    </tr>\n",
       "    <tr>\n",
       "      <th>Engineering</th>\n",
       "      <td>29.0</td>\n",
       "      <td>0.063334</td>\n",
       "      <td>0.034998</td>\n",
       "      <td>0.006334</td>\n",
       "      <td>0.042876</td>\n",
       "      <td>0.059824</td>\n",
       "      <td>0.075038</td>\n",
       "      <td>0.177226</td>\n",
       "      <td>29.0</td>\n",
       "      <td>864.793103</td>\n",
       "      <td>...</td>\n",
       "      <td>789.00</td>\n",
       "      <td>4221.0</td>\n",
       "      <td>29.0</td>\n",
       "      <td>9302.310345</td>\n",
       "      <td>13820.546496</td>\n",
       "      <td>350.0</td>\n",
       "      <td>1394.00</td>\n",
       "      <td>2446.0</td>\n",
       "      <td>8306.00</td>\n",
       "      <td>52844.0</td>\n",
       "    </tr>\n",
       "    <tr>\n",
       "      <th>Health</th>\n",
       "      <td>12.0</td>\n",
       "      <td>0.065920</td>\n",
       "      <td>0.022429</td>\n",
       "      <td>0.036983</td>\n",
       "      <td>0.046904</td>\n",
       "      <td>0.064261</td>\n",
       "      <td>0.081584</td>\n",
       "      <td>0.112144</td>\n",
       "      <td>12.0</td>\n",
       "      <td>2605.833333</td>\n",
       "      <td>...</td>\n",
       "      <td>3979.00</td>\n",
       "      <td>6193.0</td>\n",
       "      <td>12.0</td>\n",
       "      <td>20453.416667</td>\n",
       "      <td>41824.300441</td>\n",
       "      <td>2091.0</td>\n",
       "      <td>4681.50</td>\n",
       "      <td>6093.5</td>\n",
       "      <td>13669.00</td>\n",
       "      <td>151643.0</td>\n",
       "    </tr>\n",
       "    <tr>\n",
       "      <th>Humanities &amp; Liberal Arts</th>\n",
       "      <td>15.0</td>\n",
       "      <td>0.081008</td>\n",
       "      <td>0.018147</td>\n",
       "      <td>0.047179</td>\n",
       "      <td>0.066007</td>\n",
       "      <td>0.081742</td>\n",
       "      <td>0.095859</td>\n",
       "      <td>0.107116</td>\n",
       "      <td>15.0</td>\n",
       "      <td>6282.666667</td>\n",
       "      <td>...</td>\n",
       "      <td>7458.50</td>\n",
       "      <td>26503.0</td>\n",
       "      <td>15.0</td>\n",
       "      <td>12843.333333</td>\n",
       "      <td>15230.633223</td>\n",
       "      <td>801.0</td>\n",
       "      <td>4488.50</td>\n",
       "      <td>8465.0</td>\n",
       "      <td>14747.50</td>\n",
       "      <td>57690.0</td>\n",
       "    </tr>\n",
       "    <tr>\n",
       "      <th>Industrial Arts &amp; Consumer Services</th>\n",
       "      <td>7.0</td>\n",
       "      <td>0.048071</td>\n",
       "      <td>0.025297</td>\n",
       "      <td>0.000000</td>\n",
       "      <td>0.040473</td>\n",
       "      <td>0.055677</td>\n",
       "      <td>0.063576</td>\n",
       "      <td>0.072725</td>\n",
       "      <td>7.0</td>\n",
       "      <td>3798.571429</td>\n",
       "      <td>...</td>\n",
       "      <td>4205.50</td>\n",
       "      <td>16838.0</td>\n",
       "      <td>7.0</td>\n",
       "      <td>8171.428571</td>\n",
       "      <td>11296.740914</td>\n",
       "      <td>0.0</td>\n",
       "      <td>392.00</td>\n",
       "      <td>3275.0</td>\n",
       "      <td>12780.00</td>\n",
       "      <td>27581.0</td>\n",
       "    </tr>\n",
       "    <tr>\n",
       "      <th>Interdisciplinary</th>\n",
       "      <td>1.0</td>\n",
       "      <td>0.070861</td>\n",
       "      <td>NaN</td>\n",
       "      <td>0.070861</td>\n",
       "      <td>0.070861</td>\n",
       "      <td>0.070861</td>\n",
       "      <td>0.070861</td>\n",
       "      <td>0.070861</td>\n",
       "      <td>1.0</td>\n",
       "      <td>1061.000000</td>\n",
       "      <td>...</td>\n",
       "      <td>1061.00</td>\n",
       "      <td>1061.0</td>\n",
       "      <td>1.0</td>\n",
       "      <td>5176.000000</td>\n",
       "      <td>NaN</td>\n",
       "      <td>5176.0</td>\n",
       "      <td>5176.00</td>\n",
       "      <td>5176.0</td>\n",
       "      <td>5176.00</td>\n",
       "      <td>5176.0</td>\n",
       "    </tr>\n",
       "    <tr>\n",
       "      <th>Law &amp; Public Policy</th>\n",
       "      <td>5.0</td>\n",
       "      <td>0.090805</td>\n",
       "      <td>0.056606</td>\n",
       "      <td>0.011690</td>\n",
       "      <td>0.071965</td>\n",
       "      <td>0.082452</td>\n",
       "      <td>0.128426</td>\n",
       "      <td>0.159491</td>\n",
       "      <td>5.0</td>\n",
       "      <td>4144.000000</td>\n",
       "      <td>...</td>\n",
       "      <td>1336.00</td>\n",
       "      <td>18404.0</td>\n",
       "      <td>5.0</td>\n",
       "      <td>5844.200000</td>\n",
       "      <td>10361.809745</td>\n",
       "      <td>402.0</td>\n",
       "      <td>919.00</td>\n",
       "      <td>1550.0</td>\n",
       "      <td>2002.00</td>\n",
       "      <td>24348.0</td>\n",
       "    </tr>\n",
       "    <tr>\n",
       "      <th>Physical Sciences</th>\n",
       "      <td>10.0</td>\n",
       "      <td>0.046511</td>\n",
       "      <td>0.019903</td>\n",
       "      <td>0.021167</td>\n",
       "      <td>0.027119</td>\n",
       "      <td>0.051098</td>\n",
       "      <td>0.056698</td>\n",
       "      <td>0.075449</td>\n",
       "      <td>10.0</td>\n",
       "      <td>1407.800000</td>\n",
       "      <td>...</td>\n",
       "      <td>1607.00</td>\n",
       "      <td>5751.0</td>\n",
       "      <td>10.0</td>\n",
       "      <td>7655.200000</td>\n",
       "      <td>10728.692328</td>\n",
       "      <td>162.0</td>\n",
       "      <td>593.50</td>\n",
       "      <td>1390.0</td>\n",
       "      <td>14656.75</td>\n",
       "      <td>30382.0</td>\n",
       "    </tr>\n",
       "    <tr>\n",
       "      <th>Psychology &amp; Social Work</th>\n",
       "      <td>9.0</td>\n",
       "      <td>0.072065</td>\n",
       "      <td>0.037400</td>\n",
       "      <td>0.029650</td>\n",
       "      <td>0.051908</td>\n",
       "      <td>0.065112</td>\n",
       "      <td>0.083811</td>\n",
       "      <td>0.149048</td>\n",
       "      <td>9.0</td>\n",
       "      <td>6249.555556</td>\n",
       "      <td>...</td>\n",
       "      <td>1650.00</td>\n",
       "      <td>48207.0</td>\n",
       "      <td>9.0</td>\n",
       "      <td>18256.111111</td>\n",
       "      <td>40991.470514</td>\n",
       "      <td>434.0</td>\n",
       "      <td>986.00</td>\n",
       "      <td>2403.0</td>\n",
       "      <td>2960.00</td>\n",
       "      <td>125148.0</td>\n",
       "    </tr>\n",
       "    <tr>\n",
       "      <th>Social Science</th>\n",
       "      <td>9.0</td>\n",
       "      <td>0.095729</td>\n",
       "      <td>0.011507</td>\n",
       "      <td>0.073080</td>\n",
       "      <td>0.092306</td>\n",
       "      <td>0.097244</td>\n",
       "      <td>0.101175</td>\n",
       "      <td>0.113459</td>\n",
       "      <td>9.0</td>\n",
       "      <td>6020.000000</td>\n",
       "      <td>...</td>\n",
       "      <td>10653.00</td>\n",
       "      <td>19803.0</td>\n",
       "      <td>9.0</td>\n",
       "      <td>12662.222222</td>\n",
       "      <td>13783.873465</td>\n",
       "      <td>744.0</td>\n",
       "      <td>3373.00</td>\n",
       "      <td>5350.0</td>\n",
       "      <td>25582.00</td>\n",
       "      <td>36854.0</td>\n",
       "    </tr>\n",
       "  </tbody>\n",
       "</table>\n",
       "<p>16 rows × 24 columns</p>\n",
       "</div>"
      ],
      "text/plain": [
       "                                    Unemployment_rate                      \\\n",
       "                                                count      mean       std   \n",
       "Major_category                                                              \n",
       "Agriculture & Natural Resources                  10.0  0.056328  0.030809   \n",
       "Arts                                              8.0  0.090173  0.010891   \n",
       "Biology & Life Science                           14.0  0.060918  0.023370   \n",
       "Business                                         13.0  0.071064  0.015875   \n",
       "Communications & Journalism                       4.0  0.075538  0.010041   \n",
       "Computers & Mathematics                          11.0  0.084256  0.040658   \n",
       "Education                                        16.0  0.051702  0.027324   \n",
       "Engineering                                      29.0  0.063334  0.034998   \n",
       "Health                                           12.0  0.065920  0.022429   \n",
       "Humanities & Liberal Arts                        15.0  0.081008  0.018147   \n",
       "Industrial Arts & Consumer Services               7.0  0.048071  0.025297   \n",
       "Interdisciplinary                                 1.0  0.070861       NaN   \n",
       "Law & Public Policy                               5.0  0.090805  0.056606   \n",
       "Physical Sciences                                10.0  0.046511  0.019903   \n",
       "Psychology & Social Work                          9.0  0.072065  0.037400   \n",
       "Social Science                                    9.0  0.095729  0.011507   \n",
       "\n",
       "                                                                             \\\n",
       "                                          min       25%       50%       75%   \n",
       "Major_category                                                                \n",
       "Agriculture & Natural Resources      0.000000  0.046599  0.055315  0.074592   \n",
       "Arts                                 0.075960  0.082525  0.089464  0.098148   \n",
       "Biology & Life Science               0.000000  0.049980  0.067969  0.077748   \n",
       "Business                             0.047859  0.060686  0.069749  0.072861   \n",
       "Communications & Journalism          0.067961  0.068873  0.072177  0.078842   \n",
       "Computers & Mathematics              0.000000  0.061957  0.090823  0.106853   \n",
       "Education                            0.000000  0.039738  0.048785  0.057823   \n",
       "Engineering                          0.006334  0.042876  0.059824  0.075038   \n",
       "Health                               0.036983  0.046904  0.064261  0.081584   \n",
       "Humanities & Liberal Arts            0.047179  0.066007  0.081742  0.095859   \n",
       "Industrial Arts & Consumer Services  0.000000  0.040473  0.055677  0.063576   \n",
       "Interdisciplinary                    0.070861  0.070861  0.070861  0.070861   \n",
       "Law & Public Policy                  0.011690  0.071965  0.082452  0.128426   \n",
       "Physical Sciences                    0.021167  0.027119  0.051098  0.056698   \n",
       "Psychology & Social Work             0.029650  0.051908  0.065112  0.083811   \n",
       "Social Science                       0.073080  0.092306  0.097244  0.101175   \n",
       "\n",
       "                                              Low_wage_jobs                \\\n",
       "                                          max         count          mean   \n",
       "Major_category                                                              \n",
       "Agriculture & Natural Resources      0.096931          10.0    789.900000   \n",
       "Arts                                 0.105772           8.0   7514.500000   \n",
       "Biology & Life Science               0.085532          14.0   3053.000000   \n",
       "Business                             0.096448          13.0   9752.923077   \n",
       "Communications & Journalism          0.089837           4.0  12398.750000   \n",
       "Computers & Mathematics              0.151850          11.0   1466.909091   \n",
       "Education                            0.107579          16.0   2554.375000   \n",
       "Engineering                          0.177226          29.0    864.793103   \n",
       "Health                               0.112144          12.0   2605.833333   \n",
       "Humanities & Liberal Arts            0.107116          15.0   6282.666667   \n",
       "Industrial Arts & Consumer Services  0.072725           7.0   3798.571429   \n",
       "Interdisciplinary                    0.070861           1.0   1061.000000   \n",
       "Law & Public Policy                  0.159491           5.0   4144.000000   \n",
       "Physical Sciences                    0.075449          10.0   1407.800000   \n",
       "Psychology & Social Work             0.149048           9.0   6249.555556   \n",
       "Social Science                       0.113459           9.0   6020.000000   \n",
       "\n",
       "                                     ...                    College_jobs  \\\n",
       "                                     ...       75%      max        count   \n",
       "Major_category                       ...                                   \n",
       "Agriculture & Natural Resources      ...   1329.25   2125.0         10.0   \n",
       "Arts                                 ...  11271.00  14839.0          8.0   \n",
       "Biology & Life Science               ...   1989.25  28339.0         14.0   \n",
       "Business                             ...  10886.00  32395.0         13.0   \n",
       "Communications & Journalism          ...  13244.00  27440.0          4.0   \n",
       "Computers & Mathematics              ...   2083.50   5144.0         11.0   \n",
       "Education                            ...   2780.00  11502.0         16.0   \n",
       "Engineering                          ...    789.00   4221.0         29.0   \n",
       "Health                               ...   3979.00   6193.0         12.0   \n",
       "Humanities & Liberal Arts            ...   7458.50  26503.0         15.0   \n",
       "Industrial Arts & Consumer Services  ...   4205.50  16838.0          7.0   \n",
       "Interdisciplinary                    ...   1061.00   1061.0          1.0   \n",
       "Law & Public Policy                  ...   1336.00  18404.0          5.0   \n",
       "Physical Sciences                    ...   1607.00   5751.0         10.0   \n",
       "Psychology & Social Work             ...   1650.00  48207.0          9.0   \n",
       "Social Science                       ...  10653.00  19803.0          9.0   \n",
       "\n",
       "                                                                         \\\n",
       "                                             mean           std     min   \n",
       "Major_category                                                            \n",
       "Agriculture & Natural Resources       1986.000000   1703.646155   355.0   \n",
       "Arts                                 11848.125000  12132.734793   693.0   \n",
       "Biology & Life Science               10802.357143  22634.554797   603.0   \n",
       "Business                             11426.000000  12735.923537  1466.0   \n",
       "Communications & Journalism          21639.000000  14013.041925  9659.0   \n",
       "Computers & Mathematics              12532.636364  21066.701798   452.0   \n",
       "Education                            21169.562500  30132.854546   288.0   \n",
       "Engineering                           9302.310345  13820.546496   350.0   \n",
       "Health                               20453.416667  41824.300441  2091.0   \n",
       "Humanities & Liberal Arts            12843.333333  15230.633223   801.0   \n",
       "Industrial Arts & Consumer Services   8171.428571  11296.740914     0.0   \n",
       "Interdisciplinary                     5176.000000           NaN  5176.0   \n",
       "Law & Public Policy                   5844.200000  10361.809745   402.0   \n",
       "Physical Sciences                     7655.200000  10728.692328   162.0   \n",
       "Psychology & Social Work             18256.111111  40991.470514   434.0   \n",
       "Social Science                       12662.222222  13783.873465   744.0   \n",
       "\n",
       "                                                                            \n",
       "                                          25%      50%       75%       max  \n",
       "Major_category                                                              \n",
       "Agriculture & Natural Resources        675.25   1554.0   2335.75    5443.0  \n",
       "Arts                                  3923.25   7181.0  15512.00   37389.0  \n",
       "Biology & Life Science                1949.00   4915.0   7065.50   88232.0  \n",
       "Business                              2236.00   3383.0  24243.00   36720.0  \n",
       "Communications & Journalism          12056.00  18067.0  27650.00   40763.0  \n",
       "Computers & Mathematics               2326.00   2593.0   8944.50   68622.0  \n",
       "Education                             5016.50  10847.0  20344.00  108085.0  \n",
       "Engineering                           1394.00   2446.0   8306.00   52844.0  \n",
       "Health                                4681.50   6093.5  13669.00  151643.0  \n",
       "Humanities & Liberal Arts             4488.50   8465.0  14747.50   57690.0  \n",
       "Industrial Arts & Consumer Services    392.00   3275.0  12780.00   27581.0  \n",
       "Interdisciplinary                     5176.00   5176.0   5176.00    5176.0  \n",
       "Law & Public Policy                    919.00   1550.0   2002.00   24348.0  \n",
       "Physical Sciences                      593.50   1390.0  14656.75   30382.0  \n",
       "Psychology & Social Work               986.00   2403.0   2960.00  125148.0  \n",
       "Social Science                        3373.00   5350.0  25582.00   36854.0  \n",
       "\n",
       "[16 rows x 24 columns]"
      ]
     },
     "execution_count": 50,
     "metadata": {},
     "output_type": "execute_result"
    }
   ],
   "source": [
    "#Do some summary statistics using the .group_by() command to see the statistics for each major category.\n",
    "DF_raw.groupby('Major_category')[['Unemployment_rate','Low_wage_jobs','College_jobs']].describe()\n"
   ]
  },
  {
   "cell_type": "code",
   "execution_count": 57,
   "id": "6d95e1e1-0b58-4bf7-92c7-a4200e72cd2e",
   "metadata": {},
   "outputs": [
    {
     "data": {
      "application/vnd.plotly.v1+json": {
       "config": {
        "plotlyServerURL": "https://plot.ly"
       },
       "data": [
        {
         "bingroup": "x",
         "hovertemplate": "Unemployment_rate=0.018380527<br>Major_category=%{x}<br>count=%{y}<extra></extra>",
         "legendgroup": "0.018380527",
         "marker": {
          "color": "#636efa",
          "opacity": 0.5,
          "pattern": {
           "shape": ""
          }
         },
         "name": "0.018380527",
         "nbinsx": 9,
         "orientation": "v",
         "showlegend": true,
         "type": "histogram",
         "x": [
          "Engineering"
         ],
         "xaxis": "x",
         "yaxis": "y"
        },
        {
         "bingroup": "x",
         "hovertemplate": "Unemployment_rate=0.117241379<br>Major_category=%{x}<br>count=%{y}<extra></extra>",
         "legendgroup": "0.117241379",
         "marker": {
          "color": "#EF553B",
          "opacity": 0.5,
          "pattern": {
           "shape": ""
          }
         },
         "name": "0.117241379",
         "nbinsx": 9,
         "orientation": "v",
         "showlegend": true,
         "type": "histogram",
         "x": [
          "Engineering"
         ],
         "xaxis": "x",
         "yaxis": "y"
        },
        {
         "bingroup": "x",
         "hovertemplate": "Unemployment_rate=0.024096386<br>Major_category=%{x}<br>count=%{y}<extra></extra>",
         "legendgroup": "0.024096386",
         "marker": {
          "color": "#00cc96",
          "opacity": 0.5,
          "pattern": {
           "shape": ""
          }
         },
         "name": "0.024096386",
         "nbinsx": 9,
         "orientation": "v",
         "showlegend": true,
         "type": "histogram",
         "x": [
          "Engineering"
         ],
         "xaxis": "x",
         "yaxis": "y"
        },
        {
         "bingroup": "x",
         "hovertemplate": "Unemployment_rate=0.050125313<br>Major_category=%{x}<br>count=%{y}<extra></extra>",
         "legendgroup": "0.050125313",
         "marker": {
          "color": "#ab63fa",
          "opacity": 0.5,
          "pattern": {
           "shape": ""
          }
         },
         "name": "0.050125313",
         "nbinsx": 9,
         "orientation": "v",
         "showlegend": true,
         "type": "histogram",
         "x": [
          "Engineering"
         ],
         "xaxis": "x",
         "yaxis": "y"
        },
        {
         "bingroup": "x",
         "hovertemplate": "Unemployment_rate=0.061097712<br>Major_category=%{x}<br>count=%{y}<extra></extra>",
         "legendgroup": "0.061097712",
         "marker": {
          "color": "#FFA15A",
          "opacity": 0.5,
          "pattern": {
           "shape": ""
          }
         },
         "name": "0.061097712",
         "nbinsx": 9,
         "orientation": "v",
         "showlegend": true,
         "type": "histogram",
         "x": [
          "Engineering"
         ],
         "xaxis": "x",
         "yaxis": "y"
        },
        {
         "bingroup": "x",
         "hovertemplate": "Unemployment_rate=0.177226407<br>Major_category=%{x}<br>count=%{y}<extra></extra>",
         "legendgroup": "0.177226407",
         "marker": {
          "color": "#19d3f3",
          "opacity": 0.5,
          "pattern": {
           "shape": ""
          }
         },
         "name": "0.177226407",
         "nbinsx": 9,
         "orientation": "v",
         "showlegend": true,
         "type": "histogram",
         "x": [
          "Engineering"
         ],
         "xaxis": "x",
         "yaxis": "y"
        },
        {
         "bingroup": "x",
         "hovertemplate": "Unemployment_rate=0.095652174<br>Major_category=%{x}<br>count=%{y}<extra></extra>",
         "legendgroup": "0.095652174",
         "marker": {
          "color": "#FF6692",
          "opacity": 0.5,
          "pattern": {
           "shape": ""
          }
         },
         "name": "0.095652174",
         "nbinsx": 9,
         "orientation": "v",
         "showlegend": true,
         "type": "histogram",
         "x": [
          "Business"
         ],
         "xaxis": "x",
         "yaxis": "y"
        },
        {
         "bingroup": "x",
         "hovertemplate": "Unemployment_rate=0.021167415<br>Major_category=%{x}<br>count=%{y}<extra></extra>",
         "legendgroup": "0.021167415",
         "marker": {
          "color": "#B6E880",
          "opacity": 0.5,
          "pattern": {
           "shape": ""
          }
         },
         "name": "0.021167415",
         "nbinsx": 9,
         "orientation": "v",
         "showlegend": true,
         "type": "histogram",
         "x": [
          "Physical Sciences"
         ],
         "xaxis": "x",
         "yaxis": "y"
        },
        {
         "bingroup": "x",
         "hovertemplate": "Unemployment_rate=0.057342278<br>Major_category=%{x}<br>count=%{y}<extra></extra>",
         "legendgroup": "0.057342278",
         "marker": {
          "color": "#FF97FF",
          "opacity": 0.5,
          "pattern": {
           "shape": ""
          }
         },
         "name": "0.057342278",
         "nbinsx": 9,
         "orientation": "v",
         "showlegend": true,
         "type": "histogram",
         "x": [
          "Engineering"
         ],
         "xaxis": "x",
         "yaxis": "y"
        },
        {
         "bingroup": "x",
         "hovertemplate": "Unemployment_rate=0.059173845<br>Major_category=%{x}<br>count=%{y}<extra></extra>",
         "legendgroup": "0.059173845",
         "marker": {
          "color": "#FECB52",
          "opacity": 0.5,
          "pattern": {
           "shape": ""
          }
         },
         "name": "0.059173845",
         "nbinsx": 9,
         "orientation": "v",
         "showlegend": true,
         "type": "histogram",
         "x": [
          "Engineering"
         ],
         "xaxis": "x",
         "yaxis": "y"
        },
        {
         "bingroup": "x",
         "hovertemplate": "Unemployment_rate=0.065409275<br>Major_category=%{x}<br>count=%{y}<extra></extra>",
         "legendgroup": "0.065409275",
         "marker": {
          "color": "#636efa",
          "opacity": 0.5,
          "pattern": {
           "shape": ""
          }
         },
         "name": "0.065409275",
         "nbinsx": 9,
         "orientation": "v",
         "showlegend": true,
         "type": "histogram",
         "x": [
          "Engineering"
         ],
         "xaxis": "x",
         "yaxis": "y"
        },
        {
         "bingroup": "x",
         "hovertemplate": "Unemployment_rate=0.065162085<br>Major_category=%{x}<br>count=%{y}<extra></extra>",
         "legendgroup": "0.065162085",
         "marker": {
          "color": "#EF553B",
          "opacity": 0.5,
          "pattern": {
           "shape": ""
          }
         },
         "name": "0.065162085",
         "nbinsx": 9,
         "orientation": "v",
         "showlegend": true,
         "type": "histogram",
         "x": [
          "Engineering"
         ],
         "xaxis": "x",
         "yaxis": "y"
        },
        {
         "bingroup": "x",
         "hovertemplate": "Unemployment_rate=0.09208386<br>Major_category=%{x}<br>count=%{y}<extra></extra>",
         "legendgroup": "0.09208386",
         "marker": {
          "color": "#00cc96",
          "opacity": 0.5,
          "pattern": {
           "shape": ""
          }
         },
         "name": "0.09208386",
         "nbinsx": 9,
         "orientation": "v",
         "showlegend": true,
         "type": "histogram",
         "x": [
          "Engineering"
         ],
         "xaxis": "x",
         "yaxis": "y"
        },
        {
         "bingroup": "x",
         "hovertemplate": "Unemployment_rate=0.023042836<br>Major_category=%{x}<br>count=%{y}<extra></extra>",
         "legendgroup": "0.023042836",
         "marker": {
          "color": "#ab63fa",
          "opacity": 0.5,
          "pattern": {
           "shape": ""
          }
         },
         "name": "0.023042836",
         "nbinsx": 9,
         "orientation": "v",
         "showlegend": true,
         "type": "histogram",
         "x": [
          "Engineering"
         ],
         "xaxis": "x",
         "yaxis": "y"
        },
        {
         "bingroup": "x",
         "hovertemplate": "Unemployment_rate=0.006334343<br>Major_category=%{x}<br>count=%{y}<extra></extra>",
         "legendgroup": "0.006334343",
         "marker": {
          "color": "#FFA15A",
          "opacity": 0.5,
          "pattern": {
           "shape": ""
          }
         },
         "name": "0.006334343",
         "nbinsx": 9,
         "orientation": "v",
         "showlegend": true,
         "type": "histogram",
         "x": [
          "Engineering"
         ],
         "xaxis": "x",
         "yaxis": "y"
        },
        {
         "bingroup": "x",
         "hovertemplate": "Unemployment_rate=0.087143069<br>Major_category=%{x}<br>count=%{y}<extra></extra>",
         "legendgroup": "0.087143069",
         "marker": {
          "color": "#19d3f3",
          "opacity": 0.5,
          "pattern": {
           "shape": ""
          }
         },
         "name": "0.087143069",
         "nbinsx": 9,
         "orientation": "v",
         "showlegend": true,
         "type": "histogram",
         "x": [
          "Engineering"
         ],
         "xaxis": "x",
         "yaxis": "y"
        },
        {
         "bingroup": "x",
         "hovertemplate": "Unemployment_rate=0.042875544<br>Major_category=%{x}<br>count=%{y}<extra></extra>",
         "legendgroup": "0.042875544",
         "marker": {
          "color": "#FF6692",
          "opacity": 0.5,
          "pattern": {
           "shape": ""
          }
         },
         "name": "0.042875544",
         "nbinsx": 9,
         "orientation": "v",
         "showlegend": true,
         "type": "histogram",
         "x": [
          "Engineering"
         ],
         "xaxis": "x",
         "yaxis": "y"
        },
        {
         "bingroup": "x",
         "hovertemplate": "Unemployment_rate=0.059824231<br>Major_category=%{x}<br>count=%{y}<extra></extra>",
         "legendgroup": "0.059824231",
         "marker": {
          "color": "#B6E880",
          "opacity": 0.5,
          "pattern": {
           "shape": ""
          }
         },
         "name": "0.059824231",
         "nbinsx": 9,
         "orientation": "v",
         "showlegend": true,
         "type": "histogram",
         "x": [
          "Engineering"
         ],
         "xaxis": "x",
         "yaxis": "y"
        },
        {
         "bingroup": "x",
         "hovertemplate": "Unemployment_rate=0.061930783<br>Major_category=%{x}<br>count=%{y}<extra></extra>",
         "legendgroup": "0.061930783",
         "marker": {
          "color": "#FF97FF",
          "opacity": 0.5,
          "pattern": {
           "shape": ""
          }
         },
         "name": "0.061930783",
         "nbinsx": 9,
         "orientation": "v",
         "showlegend": true,
         "type": "histogram",
         "x": [
          "Engineering"
         ],
         "xaxis": "x",
         "yaxis": "y"
        },
        {
         "bingroup": "x",
         "hovertemplate": "Unemployment_rate=0.011689692<br>Major_category=%{x}<br>count=%{y}<extra></extra>",
         "legendgroup": "0.011689692",
         "marker": {
          "color": "#FECB52",
          "opacity": 0.5,
          "pattern": {
           "shape": ""
          }
         },
         "name": "0.011689692",
         "nbinsx": 9,
         "orientation": "v",
         "showlegend": true,
         "type": "histogram",
         "x": [
          "Law & Public Policy"
         ],
         "xaxis": "x",
         "yaxis": "y"
        },
        {
         "bingroup": "x",
         "hovertemplate": "Unemployment_rate=0.063172771<br>Major_category=%{x}<br>count=%{y}<extra></extra>",
         "legendgroup": "0.063172771",
         "marker": {
          "color": "#636efa",
          "opacity": 0.5,
          "pattern": {
           "shape": ""
          }
         },
         "name": "0.063172771",
         "nbinsx": 9,
         "orientation": "v",
         "showlegend": true,
         "type": "histogram",
         "x": [
          "Computers & Mathematics"
         ],
         "xaxis": "x",
         "yaxis": "y"
        },
        {
         "bingroup": "x",
         "hovertemplate": "Unemployment_rate=0.09693146<br>Major_category=%{x}<br>count=%{y}<extra></extra>",
         "legendgroup": "0.09693146",
         "marker": {
          "color": "#EF553B",
          "opacity": 0.5,
          "pattern": {
           "shape": ""
          }
         },
         "name": "0.09693146",
         "nbinsx": 9,
         "orientation": "v",
         "showlegend": true,
         "type": "histogram",
         "x": [
          "Agriculture & Natural Resources"
         ],
         "xaxis": "x",
         "yaxis": "y"
        },
        {
         "bingroup": "x",
         "hovertemplate": "Unemployment_rate=0.087557114<br>Major_category=%{x}<br>count=%{y}<extra></extra>",
         "legendgroup": "0.087557114",
         "marker": {
          "color": "#00cc96",
          "opacity": 0.5,
          "pattern": {
           "shape": ""
          }
         },
         "name": "0.087557114",
         "nbinsx": 9,
         "orientation": "v",
         "showlegend": true,
         "type": "histogram",
         "x": [
          "Engineering"
         ],
         "xaxis": "x",
         "yaxis": "y"
        },
        {
         "bingroup": "x",
         "hovertemplate": "Unemployment_rate=0.027788805<br>Major_category=%{x}<br>count=%{y}<extra></extra>",
         "legendgroup": "0.027788805",
         "marker": {
          "color": "#ab63fa",
          "opacity": 0.5,
          "pattern": {
           "shape": ""
          }
         },
         "name": "0.027788805",
         "nbinsx": 9,
         "orientation": "v",
         "showlegend": true,
         "type": "histogram",
         "x": [
          "Engineering"
         ],
         "xaxis": "x",
         "yaxis": "y"
        },
        {
         "bingroup": "x",
         "hovertemplate": "Unemployment_rate=0.058239614<br>Major_category=%{x}<br>count=%{y}<extra></extra>",
         "legendgroup": "0.058239614",
         "marker": {
          "color": "#FFA15A",
          "opacity": 0.5,
          "pattern": {
           "shape": ""
          }
         },
         "name": "0.058239614",
         "nbinsx": 9,
         "orientation": "v",
         "showlegend": true,
         "type": "histogram",
         "x": [
          "Business"
         ],
         "xaxis": "x",
         "yaxis": "y"
        },
        {
         "bingroup": "x",
         "hovertemplate": "Unemployment_rate=0.070609574<br>Major_category=%{x}<br>count=%{y}<extra></extra>",
         "legendgroup": "0.070609574",
         "marker": {
          "color": "#19d3f3",
          "opacity": 0.5,
          "pattern": {
           "shape": ""
          }
         },
         "name": "0.070609574",
         "nbinsx": 9,
         "orientation": "v",
         "showlegend": true,
         "type": "histogram",
         "x": [
          "Engineering"
         ],
         "xaxis": "x",
         "yaxis": "y"
        },
        {
         "bingroup": "x",
         "hovertemplate": "Unemployment_rate=0.060023041<br>Major_category=%{x}<br>count=%{y}<extra></extra>",
         "legendgroup": "0.060023041",
         "marker": {
          "color": "#FF6692",
          "opacity": 0.5,
          "pattern": {
           "shape": ""
          }
         },
         "name": "0.060023041",
         "nbinsx": 9,
         "orientation": "v",
         "showlegend": true,
         "type": "histogram",
         "x": [
          "Industrial Arts & Consumer Services"
         ],
         "xaxis": "x",
         "yaxis": "y"
        },
        {
         "bingroup": "x",
         "hovertemplate": "Unemployment_rate=0.047858703<br>Major_category=%{x}<br>count=%{y}<extra></extra>",
         "legendgroup": "0.047858703",
         "marker": {
          "color": "#B6E880",
          "opacity": 0.5,
          "pattern": {
           "shape": ""
          }
         },
         "name": "0.047858703",
         "nbinsx": 9,
         "orientation": "v",
         "showlegend": true,
         "type": "histogram",
         "x": [
          "Business"
         ],
         "xaxis": "x",
         "yaxis": "y"
        },
        {
         "bingroup": "x",
         "hovertemplate": "Unemployment_rate=0.074392523<br>Major_category=%{x}<br>count=%{y}<extra></extra>",
         "legendgroup": "0.074392523",
         "marker": {
          "color": "#FF97FF",
          "opacity": 0.5,
          "pattern": {
           "shape": ""
          }
         },
         "name": "0.074392523",
         "nbinsx": 9,
         "orientation": "v",
         "showlegend": true,
         "type": "histogram",
         "x": [
          "Engineering"
         ],
         "xaxis": "x",
         "yaxis": "y"
        },
        {
         "bingroup": "x",
         "hovertemplate": "Unemployment_rate=0.128426299<br>Major_category=%{x}<br>count=%{y}<extra></extra>",
         "legendgroup": "0.128426299",
         "marker": {
          "color": "#FECB52",
          "opacity": 0.5,
          "pattern": {
           "shape": ""
          }
         },
         "name": "0.128426299",
         "nbinsx": 9,
         "orientation": "v",
         "showlegend": true,
         "type": "histogram",
         "x": [
          "Law & Public Policy"
         ],
         "xaxis": "x",
         "yaxis": "y"
        },
        {
         "bingroup": "x",
         "hovertemplate": "Unemployment_rate=0.093588575<br>Major_category=%{x}<br>count=%{y}<extra></extra>",
         "legendgroup": "0.093588575",
         "marker": {
          "color": "#636efa",
          "opacity": 0.5,
          "pattern": {
           "shape": ""
          }
         },
         "name": "0.093588575",
         "nbinsx": 9,
         "orientation": "v",
         "showlegend": true,
         "type": "histogram",
         "x": [
          "Engineering"
         ],
         "xaxis": "x",
         "yaxis": "y"
        },
        {
         "bingroup": "x",
         "hovertemplate": "Unemployment_rate=0.055030385<br>Major_category=%{x}<br>count=%{y}<extra></extra>",
         "legendgroup": "0.055030385",
         "marker": {
          "color": "#EF553B",
          "opacity": 0.5,
          "pattern": {
           "shape": ""
          }
         },
         "name": "0.055030385",
         "nbinsx": 9,
         "orientation": "v",
         "showlegend": true,
         "type": "histogram",
         "x": [
          "Engineering"
         ],
         "xaxis": "x",
         "yaxis": "y"
        },
        {
         "bingroup": "x",
         "hovertemplate": "Unemployment_rate=0.089375<br>Major_category=%{x}<br>count=%{y}<extra></extra>",
         "legendgroup": "0.089375",
         "marker": {
          "color": "#00cc96",
          "opacity": 0.5,
          "pattern": {
           "shape": ""
          }
         },
         "name": "0.089375",
         "nbinsx": 9,
         "orientation": "v",
         "showlegend": true,
         "type": "histogram",
         "x": [
          "Arts"
         ],
         "xaxis": "x",
         "yaxis": "y"
        },
        {
         "bingroup": "x",
         "hovertemplate": "Unemployment_rate=0.075038285<br>Major_category=%{x}<br>count=%{y}<extra></extra>",
         "legendgroup": "0.075038285",
         "marker": {
          "color": "#ab63fa",
          "opacity": 0.5,
          "pattern": {
           "shape": ""
          }
         },
         "name": "0.075038285",
         "nbinsx": 9,
         "orientation": "v",
         "showlegend": true,
         "type": "histogram",
         "x": [
          "Engineering"
         ],
         "xaxis": "x",
         "yaxis": "y"
        },
        {
         "bingroup": "x",
         "hovertemplate": "Unemployment_rate=0.044862724<br>Major_category=%{x}<br>count=%{y}<extra></extra>",
         "legendgroup": "0.044862724",
         "marker": {
          "color": "#FFA15A",
          "opacity": 0.5,
          "pattern": {
           "shape": ""
          }
         },
         "name": "0.044862724",
         "nbinsx": 9,
         "orientation": "v",
         "showlegend": true,
         "type": "histogram",
         "x": [
          "Health"
         ],
         "xaxis": "x",
         "yaxis": "y"
        },
        {
         "bingroup": "x",
         "hovertemplate": "Unemployment_rate=0.060686356<br>Major_category=%{x}<br>count=%{y}<extra></extra>",
         "legendgroup": "0.060686356",
         "marker": {
          "color": "#19d3f3",
          "opacity": 0.5,
          "pattern": {
           "shape": ""
          }
         },
         "name": "0.060686356",
         "nbinsx": 9,
         "orientation": "v",
         "showlegend": true,
         "type": "histogram",
         "x": [
          "Business"
         ],
         "xaxis": "x",
         "yaxis": "y"
        },
        {
         "bingroup": "x",
         "hovertemplate": "Unemployment_rate=0.099092317<br>Major_category=%{x}<br>count=%{y}<extra></extra>",
         "legendgroup": "0.099092317",
         "marker": {
          "color": "#FF6692",
          "opacity": 0.5,
          "pattern": {
           "shape": ""
          }
         },
         "name": "0.099092317",
         "nbinsx": 9,
         "orientation": "v",
         "showlegend": true,
         "type": "histogram",
         "x": [
          "Social Science"
         ],
         "xaxis": "x",
         "yaxis": "y"
        },
        {
         "bingroup": "x",
         "hovertemplate": "Unemployment_rate=0.096448381<br>Major_category=%{x}<br>count=%{y}<extra></extra>",
         "legendgroup": "0.096448381",
         "marker": {
          "color": "#B6E880",
          "opacity": 0.5,
          "pattern": {
           "shape": ""
          }
         },
         "name": "0.096448381",
         "nbinsx": 9,
         "orientation": "v",
         "showlegend": true,
         "type": "histogram",
         "x": [
          "Business"
         ],
         "xaxis": "x",
         "yaxis": "y"
        },
        {
         "bingroup": "x",
         "hovertemplate": "Unemployment_rate=0.028308097<br>Major_category=%{x}<br>count=%{y}<extra></extra>",
         "legendgroup": "0.028308097",
         "marker": {
          "color": "#FF97FF",
          "opacity": 0.5,
          "pattern": {
           "shape": ""
          }
         },
         "name": "0.028308097",
         "nbinsx": 9,
         "orientation": "v",
         "showlegend": true,
         "type": "histogram",
         "x": [
          "Engineering"
         ],
         "xaxis": "x",
         "yaxis": "y"
        },
        {
         "bingroup": "x",
         "hovertemplate": "Unemployment_rate=0.07154047<br>Major_category=%{x}<br>count=%{y}<extra></extra>",
         "legendgroup": "0.07154047",
         "marker": {
          "color": "#FECB52",
          "opacity": 0.5,
          "pattern": {
           "shape": ""
          }
         },
         "name": "0.07154047",
         "nbinsx": 9,
         "orientation": "v",
         "showlegend": true,
         "type": "histogram",
         "x": [
          "Physical Sciences"
         ],
         "xaxis": "x",
         "yaxis": "y"
        },
        {
         "bingroup": "x",
         "hovertemplate": "Unemployment_rate=0.069749014<br>Major_category=%{x}<br>count=%{y}<extra></extra>",
         "legendgroup": "0.069749014",
         "marker": {
          "color": "#636efa",
          "opacity": 0.5,
          "pattern": {
           "shape": ""
          }
         },
         "name": "0.069749014",
         "nbinsx": 9,
         "orientation": "v",
         "showlegend": true,
         "type": "histogram",
         "x": [
          "Business"
         ],
         "xaxis": "x",
         "yaxis": "y"
        },
        {
         "bingroup": "x",
         "hovertemplate": "Unemployment_rate=0.047277138<br>Major_category=%{x}<br>count=%{y}<extra></extra>",
         "legendgroup": "0.047277138",
         "marker": {
          "color": "#EF553B",
          "opacity": 0.5,
          "pattern": {
           "shape": ""
          }
         },
         "name": "0.047277138",
         "nbinsx": 9,
         "orientation": "v",
         "showlegend": true,
         "type": "histogram",
         "x": [
          "Computers & Mathematics"
         ],
         "xaxis": "x",
         "yaxis": "y"
        },
        {
         "bingroup": "x",
         "hovertemplate": "Unemployment_rate=0.093460326<br>Major_category=%{x}<br>count=%{y}<extra></extra>",
         "legendgroup": "0.093460326",
         "marker": {
          "color": "#00cc96",
          "opacity": 0.5,
          "pattern": {
           "shape": ""
          }
         },
         "name": "0.093460326",
         "nbinsx": 9,
         "orientation": "v",
         "showlegend": true,
         "type": "histogram",
         "x": [
          "Computers & Mathematics"
         ],
         "xaxis": "x",
         "yaxis": "y"
        },
        {
         "bingroup": "x",
         "hovertemplate": "Unemployment_rate=0.048224496<br>Major_category=%{x}<br>count=%{y}<extra></extra>",
         "legendgroup": "0.048224496",
         "marker": {
          "color": "#ab63fa",
          "opacity": 0.5,
          "pattern": {
           "shape": ""
          }
         },
         "name": "0.048224496",
         "nbinsx": 9,
         "orientation": "v",
         "showlegend": true,
         "type": "histogram",
         "x": [
          "Physical Sciences"
         ],
         "xaxis": "x",
         "yaxis": "y"
        },
        {
         "bingroup": "x",
         "hovertemplate": "Unemployment_rate=0.03698279<br>Major_category=%{x}<br>count=%{y}<extra></extra>",
         "legendgroup": "0.03698279",
         "marker": {
          "color": "#FFA15A",
          "opacity": 0.5,
          "pattern": {
           "shape": ""
          }
         },
         "name": "0.03698279",
         "nbinsx": 9,
         "orientation": "v",
         "showlegend": true,
         "type": "histogram",
         "x": [
          "Health"
         ],
         "xaxis": "x",
         "yaxis": "y"
        },
        {
         "bingroup": "x",
         "hovertemplate": "Unemployment_rate=0.060741445<br>Major_category=%{x}<br>count=%{y}<extra></extra>",
         "legendgroup": "0.060741445",
         "marker": {
          "color": "#19d3f3",
          "opacity": 0.5,
          "pattern": {
           "shape": ""
          }
         },
         "name": "0.060741445",
         "nbinsx": 9,
         "orientation": "v",
         "showlegend": true,
         "type": "histogram",
         "x": [
          "Computers & Mathematics"
         ],
         "xaxis": "x",
         "yaxis": "y"
        },
        {
         "bingroup": "x",
         "hovertemplate": "Unemployment_rate=0.086273666<br>Major_category=%{x}<br>count=%{y}<extra></extra>",
         "legendgroup": "0.086273666",
         "marker": {
          "color": "#FF6692",
          "opacity": 0.5,
          "pattern": {
           "shape": ""
          }
         },
         "name": "0.086273666",
         "nbinsx": 9,
         "orientation": "v",
         "showlegend": true,
         "type": "histogram",
         "x": [
          "Computers & Mathematics"
         ],
         "xaxis": "x",
         "yaxis": "y"
        },
        {
         "bingroup": "x",
         "hovertemplate": "Unemployment_rate=0.090823307<br>Major_category=%{x}<br>count=%{y}<extra></extra>",
         "legendgroup": "0.090823307",
         "marker": {
          "color": "#B6E880",
          "opacity": 0.5,
          "pattern": {
           "shape": ""
          }
         },
         "name": "0.090823307",
         "nbinsx": 9,
         "orientation": "v",
         "showlegend": true,
         "type": "histogram",
         "x": [
          "Computers & Mathematics"
         ],
         "xaxis": "x",
         "yaxis": "y"
        },
        {
         "bingroup": "x",
         "hovertemplate": "Unemployment_rate=0.085531575<br>Major_category=%{x}<br>count=%{y}<extra></extra>",
         "legendgroup": "0.085531575",
         "marker": {
          "color": "#FF97FF",
          "opacity": 0.5,
          "pattern": {
           "shape": ""
          }
         },
         "name": "0.085531575",
         "nbinsx": 9,
         "orientation": "v",
         "showlegend": true,
         "type": "histogram",
         "x": [
          "Biology & Life Science"
         ],
         "xaxis": "x",
         "yaxis": "y"
        },
        {
         "bingroup": "x",
         "hovertemplate": "Unemployment_rate=0.056994819<br>Major_category=%{x}<br>count=%{y}<extra></extra>",
         "legendgroup": "0.056994819",
         "marker": {
          "color": "#FECB52",
          "opacity": 0.5,
          "pattern": {
           "shape": ""
          }
         },
         "name": "0.056994819",
         "nbinsx": 9,
         "orientation": "v",
         "showlegend": true,
         "type": "histogram",
         "x": [
          "Physical Sciences"
         ],
         "xaxis": "x",
         "yaxis": "y"
        },
        {
         "bingroup": "x",
         "hovertemplate": "Unemployment_rate=0.03365166<br>Major_category=%{x}<br>count=%{y}<extra></extra>",
         "legendgroup": "0.03365166",
         "marker": {
          "color": "#636efa",
          "opacity": 0.5,
          "pattern": {
           "shape": ""
          }
         },
         "name": "0.03365166",
         "nbinsx": 9,
         "orientation": "v",
         "showlegend": true,
         "type": "histogram",
         "x": [
          "Engineering"
         ],
         "xaxis": "x",
         "yaxis": "y"
        },
        {
         "bingroup": "x",
         "hovertemplate": "Unemployment_rate=0.042506527<br>Major_category=%{x}<br>count=%{y}<extra></extra>",
         "legendgroup": "0.042506527",
         "marker": {
          "color": "#EF553B",
          "opacity": 0.5,
          "pattern": {
           "shape": ""
          }
         },
         "name": "0.042506527",
         "nbinsx": 9,
         "orientation": "v",
         "showlegend": true,
         "type": "histogram",
         "x": [
          "Health"
         ],
         "xaxis": "x",
         "yaxis": "y"
        },
        {
         "bingroup": "x",
         "hovertemplate": "Unemployment_rate=0.0<br>Major_category=%{x}<br>count=%{y}<extra></extra>",
         "legendgroup": "0.0",
         "marker": {
          "color": "#00cc96",
          "opacity": 0.5,
          "pattern": {
           "shape": ""
          }
         },
         "name": "0.0",
         "nbinsx": 9,
         "orientation": "v",
         "showlegend": true,
         "type": "histogram",
         "x": [
          "Computers & Mathematics",
          "Industrial Arts & Consumer Services",
          "Biology & Life Science",
          "Agriculture & Natural Resources",
          "Education"
         ],
         "xaxis": "x",
         "yaxis": "y"
        },
        {
         "bingroup": "x",
         "hovertemplate": "Unemployment_rate=0.11398259<br>Major_category=%{x}<br>count=%{y}<extra></extra>",
         "legendgroup": "0.11398259",
         "marker": {
          "color": "#ab63fa",
          "opacity": 0.5,
          "pattern": {
           "shape": ""
          }
         },
         "name": "0.11398259",
         "nbinsx": 9,
         "orientation": "v",
         "showlegend": true,
         "type": "histogram",
         "x": [
          "Computers & Mathematics"
         ],
         "xaxis": "x",
         "yaxis": "y"
        },
        {
         "bingroup": "x",
         "hovertemplate": "Unemployment_rate=0.075236167<br>Major_category=%{x}<br>count=%{y}<extra></extra>",
         "legendgroup": "0.075236167",
         "marker": {
          "color": "#FFA15A",
          "opacity": 0.5,
          "pattern": {
           "shape": ""
          }
         },
         "name": "0.075236167",
         "nbinsx": 9,
         "orientation": "v",
         "showlegend": true,
         "type": "histogram",
         "x": [
          "Biology & Life Science"
         ],
         "xaxis": "x",
         "yaxis": "y"
        },
        {
         "bingroup": "x",
         "hovertemplate": "Unemployment_rate=0.107579462<br>Major_category=%{x}<br>count=%{y}<extra></extra>",
         "legendgroup": "0.107579462",
         "marker": {
          "color": "#19d3f3",
          "opacity": 0.5,
          "pattern": {
           "shape": ""
          }
         },
         "name": "0.107579462",
         "nbinsx": 9,
         "orientation": "v",
         "showlegend": true,
         "type": "histogram",
         "x": [
          "Education"
         ],
         "xaxis": "x",
         "yaxis": "y"
        },
        {
         "bingroup": "x",
         "hovertemplate": "Unemployment_rate=0.096798943<br>Major_category=%{x}<br>count=%{y}<extra></extra>",
         "legendgroup": "0.096798943",
         "marker": {
          "color": "#FF6692",
          "opacity": 0.5,
          "pattern": {
           "shape": ""
          }
         },
         "name": "0.096798943",
         "nbinsx": 9,
         "orientation": "v",
         "showlegend": true,
         "type": "histogram",
         "x": [
          "Social Science"
         ],
         "xaxis": "x",
         "yaxis": "y"
        },
        {
         "bingroup": "x",
         "hovertemplate": "Unemployment_rate=0.072861468<br>Major_category=%{x}<br>count=%{y}<extra></extra>",
         "legendgroup": "0.072861468",
         "marker": {
          "color": "#B6E880",
          "opacity": 0.5,
          "pattern": {
           "shape": ""
          }
         },
         "name": "0.072861468",
         "nbinsx": 9,
         "orientation": "v",
         "showlegend": true,
         "type": "histogram",
         "x": [
          "Business"
         ],
         "xaxis": "x",
         "yaxis": "y"
        },
        {
         "bingroup": "x",
         "hovertemplate": "Unemployment_rate=0.113331949<br>Major_category=%{x}<br>count=%{y}<extra></extra>",
         "legendgroup": "0.113331949",
         "marker": {
          "color": "#FF97FF",
          "opacity": 0.5,
          "pattern": {
           "shape": ""
          }
         },
         "name": "0.113331949",
         "nbinsx": 9,
         "orientation": "v",
         "showlegend": true,
         "type": "histogram",
         "x": [
          "Engineering"
         ],
         "xaxis": "x",
         "yaxis": "y"
        },
        {
         "bingroup": "x",
         "hovertemplate": "Unemployment_rate=0.096175064<br>Major_category=%{x}<br>count=%{y}<extra></extra>",
         "legendgroup": "0.096175064",
         "marker": {
          "color": "#FECB52",
          "opacity": 0.5,
          "pattern": {
           "shape": ""
          }
         },
         "name": "0.096175064",
         "nbinsx": 9,
         "orientation": "v",
         "showlegend": true,
         "type": "histogram",
         "x": [
          "Business"
         ],
         "xaxis": "x",
         "yaxis": "y"
        },
        {
         "bingroup": "x",
         "hovertemplate": "Unemployment_rate=0.055520827<br>Major_category=%{x}<br>count=%{y}<extra></extra>",
         "legendgroup": "0.055520827",
         "marker": {
          "color": "#636efa",
          "opacity": 0.5,
          "pattern": {
           "shape": ""
          }
         },
         "name": "0.055520827",
         "nbinsx": 9,
         "orientation": "v",
         "showlegend": true,
         "type": "histogram",
         "x": [
          "Health"
         ],
         "xaxis": "x",
         "yaxis": "y"
        },
        {
         "bingroup": "x",
         "hovertemplate": "Unemployment_rate=0.084361164<br>Major_category=%{x}<br>count=%{y}<extra></extra>",
         "legendgroup": "0.084361164",
         "marker": {
          "color": "#EF553B",
          "opacity": 0.5,
          "pattern": {
           "shape": ""
          }
         },
         "name": "0.084361164",
         "nbinsx": 9,
         "orientation": "v",
         "showlegend": true,
         "type": "histogram",
         "x": [
          "Biology & Life Science"
         ],
         "xaxis": "x",
         "yaxis": "y"
        },
        {
         "bingroup": "x",
         "hovertemplate": "Unemployment_rate=0.071982974<br>Major_category=%{x}<br>count=%{y}<extra></extra>",
         "legendgroup": "0.071982974",
         "marker": {
          "color": "#00cc96",
          "opacity": 0.5,
          "pattern": {
           "shape": ""
          }
         },
         "name": "0.071982974",
         "nbinsx": 9,
         "orientation": "v",
         "showlegend": true,
         "type": "histogram",
         "x": [
          "Business"
         ],
         "xaxis": "x",
         "yaxis": "y"
        },
        {
         "bingroup": "x",
         "hovertemplate": "Unemployment_rate=0.050030836<br>Major_category=%{x}<br>count=%{y}<extra></extra>",
         "legendgroup": "0.050030836",
         "marker": {
          "color": "#ab63fa",
          "opacity": 0.5,
          "pattern": {
           "shape": ""
          }
         },
         "name": "0.050030836",
         "nbinsx": 9,
         "orientation": "v",
         "showlegend": true,
         "type": "histogram",
         "x": [
          "Agriculture & Natural Resources"
         ],
         "xaxis": "x",
         "yaxis": "y"
        },
        {
         "bingroup": "x",
         "hovertemplate": "Unemployment_rate=0.019642463<br>Major_category=%{x}<br>count=%{y}<extra></extra>",
         "legendgroup": "0.019642463",
         "marker": {
          "color": "#FFA15A",
          "opacity": 0.5,
          "pattern": {
           "shape": ""
          }
         },
         "name": "0.019642463",
         "nbinsx": 9,
         "orientation": "v",
         "showlegend": true,
         "type": "histogram",
         "x": [
          "Agriculture & Natural Resources"
         ],
         "xaxis": "x",
         "yaxis": "y"
        },
        {
         "bingroup": "x",
         "hovertemplate": "Unemployment_rate=0.05253852<br>Major_category=%{x}<br>count=%{y}<extra></extra>",
         "legendgroup": "0.05253852",
         "marker": {
          "color": "#19d3f3",
          "opacity": 0.5,
          "pattern": {
           "shape": ""
          }
         },
         "name": "0.05253852",
         "nbinsx": 9,
         "orientation": "v",
         "showlegend": true,
         "type": "histogram",
         "x": [
          "Engineering"
         ],
         "xaxis": "x",
         "yaxis": "y"
        },
        {
         "bingroup": "x",
         "hovertemplate": "Unemployment_rate=0.056357078<br>Major_category=%{x}<br>count=%{y}<extra></extra>",
         "legendgroup": "0.056357078",
         "marker": {
          "color": "#FF6692",
          "opacity": 0.5,
          "pattern": {
           "shape": ""
          }
         },
         "name": "0.056357078",
         "nbinsx": 9,
         "orientation": "v",
         "showlegend": true,
         "type": "histogram",
         "x": [
          "Engineering"
         ],
         "xaxis": "x",
         "yaxis": "y"
        },
        {
         "bingroup": "x",
         "hovertemplate": "Unemployment_rate=0.034117647<br>Major_category=%{x}<br>count=%{y}<extra></extra>",
         "legendgroup": "0.034117647",
         "marker": {
          "color": "#B6E880",
          "opacity": 0.5,
          "pattern": {
           "shape": ""
          }
         },
         "name": "0.034117647",
         "nbinsx": 9,
         "orientation": "v",
         "showlegend": true,
         "type": "histogram",
         "x": [
          "Biology & Life Science"
         ],
         "xaxis": "x",
         "yaxis": "y"
        },
        {
         "bingroup": "x",
         "hovertemplate": "Unemployment_rate=0.073079538<br>Major_category=%{x}<br>count=%{y}<extra></extra>",
         "legendgroup": "0.073079538",
         "marker": {
          "color": "#FF97FF",
          "opacity": 0.5,
          "pattern": {
           "shape": ""
          }
         },
         "name": "0.073079538",
         "nbinsx": 9,
         "orientation": "v",
         "showlegend": true,
         "type": "histogram",
         "x": [
          "Social Science"
         ],
         "xaxis": "x",
         "yaxis": "y"
        },
        {
         "bingroup": "x",
         "hovertemplate": "Unemployment_rate=0.047179487<br>Major_category=%{x}<br>count=%{y}<extra></extra>",
         "legendgroup": "0.047179487",
         "marker": {
          "color": "#FECB52",
          "opacity": 0.5,
          "pattern": {
           "shape": ""
          }
         },
         "name": "0.047179487",
         "nbinsx": 9,
         "orientation": "v",
         "showlegend": true,
         "type": "histogram",
         "x": [
          "Humanities & Liberal Arts"
         ],
         "xaxis": "x",
         "yaxis": "y"
        },
        {
         "bingroup": "x",
         "hovertemplate": "Unemployment_rate=0.108786611<br>Major_category=%{x}<br>count=%{y}<extra></extra>",
         "legendgroup": "0.108786611",
         "marker": {
          "color": "#636efa",
          "opacity": 0.5,
          "pattern": {
           "shape": ""
          }
         },
         "name": "0.108786611",
         "nbinsx": 9,
         "orientation": "v",
         "showlegend": true,
         "type": "histogram",
         "x": [
          "Psychology & Social Work"
         ],
         "xaxis": "x",
         "yaxis": "y"
        },
        {
         "bingroup": "x",
         "hovertemplate": "Unemployment_rate=0.077249576<br>Major_category=%{x}<br>count=%{y}<extra></extra>",
         "legendgroup": "0.077249576",
         "marker": {
          "color": "#EF553B",
          "opacity": 0.5,
          "pattern": {
           "shape": ""
          }
         },
         "name": "0.077249576",
         "nbinsx": 9,
         "orientation": "v",
         "showlegend": true,
         "type": "histogram",
         "x": [
          "Agriculture & Natural Resources"
         ],
         "xaxis": "x",
         "yaxis": "y"
        },
        {
         "bingroup": "x",
         "hovertemplate": "Unemployment_rate=0.035353535<br>Major_category=%{x}<br>count=%{y}<extra></extra>",
         "legendgroup": "0.035353535",
         "marker": {
          "color": "#00cc96",
          "opacity": 0.5,
          "pattern": {
           "shape": ""
          }
         },
         "name": "0.035353535",
         "nbinsx": 9,
         "orientation": "v",
         "showlegend": true,
         "type": "histogram",
         "x": [
          "Physical Sciences"
         ],
         "xaxis": "x",
         "yaxis": "y"
        },
        {
         "bingroup": "x",
         "hovertemplate": "Unemployment_rate=0.0539724<br>Major_category=%{x}<br>count=%{y}<extra></extra>",
         "legendgroup": "0.0539724",
         "marker": {
          "color": "#ab63fa",
          "opacity": 0.5,
          "pattern": {
           "shape": ""
          }
         },
         "name": "0.0539724",
         "nbinsx": 9,
         "orientation": "v",
         "showlegend": true,
         "type": "histogram",
         "x": [
          "Physical Sciences"
         ],
         "xaxis": "x",
         "yaxis": "y"
        },
        {
         "bingroup": "x",
         "hovertemplate": "Unemployment_rate=0.029479503<br>Major_category=%{x}<br>count=%{y}<extra></extra>",
         "legendgroup": "0.029479503",
         "marker": {
          "color": "#FFA15A",
          "opacity": 0.5,
          "pattern": {
           "shape": ""
          }
         },
         "name": "0.029479503",
         "nbinsx": 9,
         "orientation": "v",
         "showlegend": true,
         "type": "histogram",
         "x": [
          "Industrial Arts & Consumer Services"
         ],
         "xaxis": "x",
         "yaxis": "y"
        },
        {
         "bingroup": "x",
         "hovertemplate": "Unemployment_rate=0.072218341<br>Major_category=%{x}<br>count=%{y}<extra></extra>",
         "legendgroup": "0.072218341",
         "marker": {
          "color": "#19d3f3",
          "opacity": 0.5,
          "pattern": {
           "shape": ""
          }
         },
         "name": "0.072218341",
         "nbinsx": 9,
         "orientation": "v",
         "showlegend": true,
         "type": "histogram",
         "x": [
          "Business"
         ],
         "xaxis": "x",
         "yaxis": "y"
        },
        {
         "bingroup": "x",
         "hovertemplate": "Unemployment_rate=0.061215064<br>Major_category=%{x}<br>count=%{y}<extra></extra>",
         "legendgroup": "0.061215064",
         "marker": {
          "color": "#FF6692",
          "opacity": 0.5,
          "pattern": {
           "shape": ""
          }
         },
         "name": "0.061215064",
         "nbinsx": 9,
         "orientation": "v",
         "showlegend": true,
         "type": "histogram",
         "x": [
          "Business"
         ],
         "xaxis": "x",
         "yaxis": "y"
        },
        {
         "bingroup": "x",
         "hovertemplate": "Unemployment_rate=0.101174601<br>Major_category=%{x}<br>count=%{y}<extra></extra>",
         "legendgroup": "0.101174601",
         "marker": {
          "color": "#B6E880",
          "opacity": 0.5,
          "pattern": {
           "shape": ""
          }
         },
         "name": "0.101174601",
         "nbinsx": 9,
         "orientation": "v",
         "showlegend": true,
         "type": "histogram",
         "x": [
          "Social Science"
         ],
         "xaxis": "x",
         "yaxis": "y"
        },
        {
         "bingroup": "x",
         "hovertemplate": "Unemployment_rate=0.113458628<br>Major_category=%{x}<br>count=%{y}<extra></extra>",
         "legendgroup": "0.113458628",
         "marker": {
          "color": "#FF97FF",
          "opacity": 0.5,
          "pattern": {
           "shape": ""
          }
         },
         "name": "0.113458628",
         "nbinsx": 9,
         "orientation": "v",
         "showlegend": true,
         "type": "histogram",
         "x": [
          "Social Science"
         ],
         "xaxis": "x",
         "yaxis": "y"
        },
        {
         "bingroup": "x",
         "hovertemplate": "Unemployment_rate=0.066775872<br>Major_category=%{x}<br>count=%{y}<extra></extra>",
         "legendgroup": "0.066775872",
         "marker": {
          "color": "#FECB52",
          "opacity": 0.5,
          "pattern": {
           "shape": ""
          }
         },
         "name": "0.066775872",
         "nbinsx": 9,
         "orientation": "v",
         "showlegend": true,
         "type": "histogram",
         "x": [
          "Biology & Life Science"
         ],
         "xaxis": "x",
         "yaxis": "y"
        },
        {
         "bingroup": "x",
         "hovertemplate": "Unemployment_rate=0.099723375<br>Major_category=%{x}<br>count=%{y}<extra></extra>",
         "legendgroup": "0.099723375",
         "marker": {
          "color": "#636efa",
          "opacity": 0.5,
          "pattern": {
           "shape": ""
          }
         },
         "name": "0.099723375",
         "nbinsx": 9,
         "orientation": "v",
         "showlegend": true,
         "type": "histogram",
         "x": [
          "Computers & Mathematics"
         ],
         "xaxis": "x",
         "yaxis": "y"
        },
        {
         "bingroup": "x",
         "hovertemplate": "Unemployment_rate=0.080531385<br>Major_category=%{x}<br>count=%{y}<extra></extra>",
         "legendgroup": "0.080531385",
         "marker": {
          "color": "#EF553B",
          "opacity": 0.5,
          "pattern": {
           "shape": ""
          }
         },
         "name": "0.080531385",
         "nbinsx": 9,
         "orientation": "v",
         "showlegend": true,
         "type": "histogram",
         "x": [
          "Biology & Life Science"
         ],
         "xaxis": "x",
         "yaxis": "y"
        },
        {
         "bingroup": "x",
         "hovertemplate": "Unemployment_rate=0.151849807<br>Major_category=%{x}<br>count=%{y}<extra></extra>",
         "legendgroup": "0.151849807",
         "marker": {
          "color": "#00cc96",
          "opacity": 0.5,
          "pattern": {
           "shape": ""
          }
         },
         "name": "0.151849807",
         "nbinsx": 9,
         "orientation": "v",
         "showlegend": true,
         "type": "histogram",
         "x": [
          "Computers & Mathematics"
         ],
         "xaxis": "x",
         "yaxis": "y"
        },
        {
         "bingroup": "x",
         "hovertemplate": "Unemployment_rate=0.075448568<br>Major_category=%{x}<br>count=%{y}<extra></extra>",
         "legendgroup": "0.075448568",
         "marker": {
          "color": "#ab63fa",
          "opacity": 0.5,
          "pattern": {
           "shape": ""
          }
         },
         "name": "0.075448568",
         "nbinsx": 9,
         "orientation": "v",
         "showlegend": true,
         "type": "histogram",
         "x": [
          "Physical Sciences"
         ],
         "xaxis": "x",
         "yaxis": "y"
        },
        {
         "bingroup": "x",
         "hovertemplate": "Unemployment_rate=0.059569649<br>Major_category=%{x}<br>count=%{y}<extra></extra>",
         "legendgroup": "0.059569649",
         "marker": {
          "color": "#FFA15A",
          "opacity": 0.5,
          "pattern": {
           "shape": ""
          }
         },
         "name": "0.059569649",
         "nbinsx": 9,
         "orientation": "v",
         "showlegend": true,
         "type": "histogram",
         "x": [
          "Business"
         ],
         "xaxis": "x",
         "yaxis": "y"
        },
        {
         "bingroup": "x",
         "hovertemplate": "Unemployment_rate=0.071965016<br>Major_category=%{x}<br>count=%{y}<extra></extra>",
         "legendgroup": "0.071965016",
         "marker": {
          "color": "#19d3f3",
          "opacity": 0.5,
          "pattern": {
           "shape": ""
          }
         },
         "name": "0.071965016",
         "nbinsx": 9,
         "orientation": "v",
         "showlegend": true,
         "type": "histogram",
         "x": [
          "Law & Public Policy"
         ],
         "xaxis": "x",
         "yaxis": "y"
        },
        {
         "bingroup": "x",
         "hovertemplate": "Unemployment_rate=0.08141125<br>Major_category=%{x}<br>count=%{y}<extra></extra>",
         "legendgroup": "0.08141125",
         "marker": {
          "color": "#FF6692",
          "opacity": 0.5,
          "pattern": {
           "shape": ""
          }
         },
         "name": "0.08141125",
         "nbinsx": 9,
         "orientation": "v",
         "showlegend": true,
         "type": "histogram",
         "x": [
          "Health"
         ],
         "xaxis": "x",
         "yaxis": "y"
        },
        {
         "bingroup": "x",
         "hovertemplate": "Unemployment_rate=0.1594906<br>Major_category=%{x}<br>count=%{y}<extra></extra>",
         "legendgroup": "0.1594906",
         "marker": {
          "color": "#B6E880",
          "opacity": 0.5,
          "pattern": {
           "shape": ""
          }
         },
         "name": "0.1594906",
         "nbinsx": 9,
         "orientation": "v",
         "showlegend": true,
         "type": "histogram",
         "x": [
          "Law & Public Policy"
         ],
         "xaxis": "x",
         "yaxis": "y"
        },
        {
         "bingroup": "x",
         "hovertemplate": "Unemployment_rate=0.024373731<br>Major_category=%{x}<br>count=%{y}<extra></extra>",
         "legendgroup": "0.024373731",
         "marker": {
          "color": "#FF97FF",
          "opacity": 0.5,
          "pattern": {
           "shape": ""
          }
         },
         "name": "0.024373731",
         "nbinsx": 9,
         "orientation": "v",
         "showlegend": true,
         "type": "histogram",
         "x": [
          "Physical Sciences"
         ],
         "xaxis": "x",
         "yaxis": "y"
        },
        {
         "bingroup": "x",
         "hovertemplate": "Unemployment_rate=0.029649596<br>Major_category=%{x}<br>count=%{y}<extra></extra>",
         "legendgroup": "0.029649596",
         "marker": {
          "color": "#FECB52",
          "opacity": 0.5,
          "pattern": {
           "shape": ""
          }
         },
         "name": "0.029649596",
         "nbinsx": 9,
         "orientation": "v",
         "showlegend": true,
         "type": "histogram",
         "x": [
          "Psychology & Social Work"
         ],
         "xaxis": "x",
         "yaxis": "y"
        },
        {
         "bingroup": "x",
         "hovertemplate": "Unemployment_rate=0.078584681<br>Major_category=%{x}<br>count=%{y}<extra></extra>",
         "legendgroup": "0.078584681",
         "marker": {
          "color": "#636efa",
          "opacity": 0.5,
          "pattern": {
           "shape": ""
          }
         },
         "name": "0.078584681",
         "nbinsx": 9,
         "orientation": "v",
         "showlegend": true,
         "type": "histogram",
         "x": [
          "Biology & Life Science"
         ],
         "xaxis": "x",
         "yaxis": "y"
        },
        {
         "bingroup": "x",
         "hovertemplate": "Unemployment_rate=0.075176976<br>Major_category=%{x}<br>count=%{y}<extra></extra>",
         "legendgroup": "0.075176976",
         "marker": {
          "color": "#EF553B",
          "opacity": 0.5,
          "pattern": {
           "shape": ""
          }
         },
         "name": "0.075176976",
         "nbinsx": 9,
         "orientation": "v",
         "showlegend": true,
         "type": "histogram",
         "x": [
          "Communications & Journalism"
         ],
         "xaxis": "x",
         "yaxis": "y"
        },
        {
         "bingroup": "x",
         "hovertemplate": "Unemployment_rate=0.082452199<br>Major_category=%{x}<br>count=%{y}<extra></extra>",
         "legendgroup": "0.082452199",
         "marker": {
          "color": "#00cc96",
          "opacity": 0.5,
          "pattern": {
           "shape": ""
          }
         },
         "name": "0.082452199",
         "nbinsx": 9,
         "orientation": "v",
         "showlegend": true,
         "type": "histogram",
         "x": [
          "Law & Public Policy"
         ],
         "xaxis": "x",
         "yaxis": "y"
        },
        {
         "bingroup": "x",
         "hovertemplate": "Unemployment_rate=0.096797577<br>Major_category=%{x}<br>count=%{y}<extra></extra>",
         "legendgroup": "0.096797577",
         "marker": {
          "color": "#ab63fa",
          "opacity": 0.5,
          "pattern": {
           "shape": ""
          }
         },
         "name": "0.096797577",
         "nbinsx": 9,
         "orientation": "v",
         "showlegend": true,
         "type": "histogram",
         "x": [
          "Arts"
         ],
         "xaxis": "x",
         "yaxis": "y"
        },
        {
         "bingroup": "x",
         "hovertemplate": "Unemployment_rate=0.069176442<br>Major_category=%{x}<br>count=%{y}<extra></extra>",
         "legendgroup": "0.069176442",
         "marker": {
          "color": "#FFA15A",
          "opacity": 0.5,
          "pattern": {
           "shape": ""
          }
         },
         "name": "0.069176442",
         "nbinsx": 9,
         "orientation": "v",
         "showlegend": true,
         "type": "histogram",
         "x": [
          "Communications & Journalism"
         ],
         "xaxis": "x",
         "yaxis": "y"
        },
        {
         "bingroup": "x",
         "hovertemplate": "Unemployment_rate=0.055806815<br>Major_category=%{x}<br>count=%{y}<extra></extra>",
         "legendgroup": "0.055806815",
         "marker": {
          "color": "#19d3f3",
          "opacity": 0.5,
          "pattern": {
           "shape": ""
          }
         },
         "name": "0.055806815",
         "nbinsx": 9,
         "orientation": "v",
         "showlegend": true,
         "type": "histogram",
         "x": [
          "Physical Sciences"
         ],
         "xaxis": "x",
         "yaxis": "y"
        },
        {
         "bingroup": "x",
         "hovertemplate": "Unemployment_rate=0.067960766<br>Major_category=%{x}<br>count=%{y}<extra></extra>",
         "legendgroup": "0.067960766",
         "marker": {
          "color": "#FF6692",
          "opacity": 0.5,
          "pattern": {
           "shape": ""
          }
         },
         "name": "0.067960766",
         "nbinsx": 9,
         "orientation": "v",
         "showlegend": true,
         "type": "histogram",
         "x": [
          "Communications & Journalism"
         ],
         "xaxis": "x",
         "yaxis": "y"
        },
        {
         "bingroup": "x",
         "hovertemplate": "Unemployment_rate=0.063429289<br>Major_category=%{x}<br>count=%{y}<extra></extra>",
         "legendgroup": "0.063429289",
         "marker": {
          "color": "#B6E880",
          "opacity": 0.5,
          "pattern": {
           "shape": ""
          }
         },
         "name": "0.063429289",
         "nbinsx": 9,
         "orientation": "v",
         "showlegend": true,
         "type": "histogram",
         "x": [
          "Humanities & Liberal Arts"
         ],
         "xaxis": "x",
         "yaxis": "y"
        },
        {
         "bingroup": "x",
         "hovertemplate": "Unemployment_rate=0.041507819<br>Major_category=%{x}<br>count=%{y}<extra></extra>",
         "legendgroup": "0.041507819",
         "marker": {
          "color": "#FF97FF",
          "opacity": 0.5,
          "pattern": {
           "shape": ""
          }
         },
         "name": "0.041507819",
         "nbinsx": 9,
         "orientation": "v",
         "showlegend": true,
         "type": "histogram",
         "x": [
          "Education"
         ],
         "xaxis": "x",
         "yaxis": "y"
        },
        {
         "bingroup": "x",
         "hovertemplate": "Unemployment_rate=0.0691628<br>Major_category=%{x}<br>count=%{y}<extra></extra>",
         "legendgroup": "0.0691628",
         "marker": {
          "color": "#FECB52",
          "opacity": 0.5,
          "pattern": {
           "shape": ""
          }
         },
         "name": "0.0691628",
         "nbinsx": 9,
         "orientation": "v",
         "showlegend": true,
         "type": "histogram",
         "x": [
          "Biology & Life Science"
         ],
         "xaxis": "x",
         "yaxis": "y"
        },
        {
         "bingroup": "x",
         "hovertemplate": "Unemployment_rate=0.097243919<br>Major_category=%{x}<br>count=%{y}<extra></extra>",
         "legendgroup": "0.097243919",
         "marker": {
          "color": "#636efa",
          "opacity": 0.5,
          "pattern": {
           "shape": ""
          }
         },
         "name": "0.097243919",
         "nbinsx": 9,
         "orientation": "v",
         "showlegend": true,
         "type": "histogram",
         "x": [
          "Social Science"
         ],
         "xaxis": "x",
         "yaxis": "y"
        },
        {
         "bingroup": "x",
         "hovertemplate": "Unemployment_rate=0.068700676<br>Major_category=%{x}<br>count=%{y}<extra></extra>",
         "legendgroup": "0.068700676",
         "marker": {
          "color": "#EF553B",
          "opacity": 0.5,
          "pattern": {
           "shape": ""
          }
         },
         "name": "0.068700676",
         "nbinsx": 9,
         "orientation": "v",
         "showlegend": true,
         "type": "histogram",
         "x": [
          "Health"
         ],
         "xaxis": "x",
         "yaxis": "y"
        },
        {
         "bingroup": "x",
         "hovertemplate": "Unemployment_rate=0.089626262<br>Major_category=%{x}<br>count=%{y}<extra></extra>",
         "legendgroup": "0.089626262",
         "marker": {
          "color": "#00cc96",
          "opacity": 0.5,
          "pattern": {
           "shape": ""
          }
         },
         "name": "0.089626262",
         "nbinsx": 9,
         "orientation": "v",
         "showlegend": true,
         "type": "histogram",
         "x": [
          "Health"
         ],
         "xaxis": "x",
         "yaxis": "y"
        },
        {
         "bingroup": "x",
         "hovertemplate": "Unemployment_rate=0.119511469<br>Major_category=%{x}<br>count=%{y}<extra></extra>",
         "legendgroup": "0.119511469",
         "marker": {
          "color": "#ab63fa",
          "opacity": 0.5,
          "pattern": {
           "shape": ""
          }
         },
         "name": "0.119511469",
         "nbinsx": 9,
         "orientation": "v",
         "showlegend": true,
         "type": "histogram",
         "x": [
          "Computers & Mathematics"
         ],
         "xaxis": "x",
         "yaxis": "y"
        },
        {
         "bingroup": "x",
         "hovertemplate": "Unemployment_rate=0.072724524<br>Major_category=%{x}<br>count=%{y}<extra></extra>",
         "legendgroup": "0.072724524",
         "marker": {
          "color": "#FFA15A",
          "opacity": 0.5,
          "pattern": {
           "shape": ""
          }
         },
         "name": "0.072724524",
         "nbinsx": 9,
         "orientation": "v",
         "showlegend": true,
         "type": "histogram",
         "x": [
          "Industrial Arts & Consumer Services"
         ],
         "xaxis": "x",
         "yaxis": "y"
        },
        {
         "bingroup": "x",
         "hovertemplate": "Unemployment_rate=0.066619195<br>Major_category=%{x}<br>count=%{y}<extra></extra>",
         "legendgroup": "0.066619195",
         "marker": {
          "color": "#19d3f3",
          "opacity": 0.5,
          "pattern": {
           "shape": ""
          }
         },
         "name": "0.066619195",
         "nbinsx": 9,
         "orientation": "v",
         "showlegend": true,
         "type": "histogram",
         "x": [
          "Agriculture & Natural Resources"
         ],
         "xaxis": "x",
         "yaxis": "y"
        },
        {
         "bingroup": "x",
         "hovertemplate": "Unemployment_rate=0.048481675<br>Major_category=%{x}<br>count=%{y}<extra></extra>",
         "legendgroup": "0.048481675",
         "marker": {
          "color": "#FF6692",
          "opacity": 0.5,
          "pattern": {
           "shape": ""
          }
         },
         "name": "0.048481675",
         "nbinsx": 9,
         "orientation": "v",
         "showlegend": true,
         "type": "histogram",
         "x": [
          "Biology & Life Science"
         ],
         "xaxis": "x",
         "yaxis": "y"
        },
        {
         "bingroup": "x",
         "hovertemplate": "Unemployment_rate=0.070860927<br>Major_category=%{x}<br>count=%{y}<extra></extra>",
         "legendgroup": "0.070860927",
         "marker": {
          "color": "#B6E880",
          "opacity": 0.5,
          "pattern": {
           "shape": ""
          }
         },
         "name": "0.070860927",
         "nbinsx": 9,
         "orientation": "v",
         "showlegend": true,
         "type": "histogram",
         "x": [
          "Interdisciplinary"
         ],
         "xaxis": "x",
         "yaxis": "y"
        },
        {
         "bingroup": "x",
         "hovertemplate": "Unemployment_rate=0.022228555<br>Major_category=%{x}<br>count=%{y}<extra></extra>",
         "legendgroup": "0.022228555",
         "marker": {
          "color": "#FF97FF",
          "opacity": 0.5,
          "pattern": {
           "shape": ""
          }
         },
         "name": "0.022228555",
         "nbinsx": 9,
         "orientation": "v",
         "showlegend": true,
         "type": "histogram",
         "x": [
          "Physical Sciences"
         ],
         "xaxis": "x",
         "yaxis": "y"
        },
        {
         "bingroup": "x",
         "hovertemplate": "Unemployment_rate=0.096725743<br>Major_category=%{x}<br>count=%{y}<extra></extra>",
         "legendgroup": "0.096725743",
         "marker": {
          "color": "#FECB52",
          "opacity": 0.5,
          "pattern": {
           "shape": ""
          }
         },
         "name": "0.096725743",
         "nbinsx": 9,
         "orientation": "v",
         "showlegend": true,
         "type": "histogram",
         "x": [
          "Agriculture & Natural Resources"
         ],
         "xaxis": "x",
         "yaxis": "y"
        },
        {
         "bingroup": "x",
         "hovertemplate": "Unemployment_rate=0.057359929<br>Major_category=%{x}<br>count=%{y}<extra></extra>",
         "legendgroup": "0.057359929",
         "marker": {
          "color": "#636efa",
          "opacity": 0.5,
          "pattern": {
           "shape": ""
          }
         },
         "name": "0.057359929",
         "nbinsx": 9,
         "orientation": "v",
         "showlegend": true,
         "type": "histogram",
         "x": [
          "Education"
         ],
         "xaxis": "x",
         "yaxis": "y"
        },
        {
         "bingroup": "x",
         "hovertemplate": "Unemployment_rate=0.095666912<br>Major_category=%{x}<br>count=%{y}<extra></extra>",
         "legendgroup": "0.095666912",
         "marker": {
          "color": "#EF553B",
          "opacity": 0.5,
          "pattern": {
           "shape": ""
          }
         },
         "name": "0.095666912",
         "nbinsx": 9,
         "orientation": "v",
         "showlegend": true,
         "type": "histogram",
         "x": [
          "Humanities & Liberal Arts"
         ],
         "xaxis": "x",
         "yaxis": "y"
        },
        {
         "bingroup": "x",
         "hovertemplate": "Unemployment_rate=0.075566386<br>Major_category=%{x}<br>count=%{y}<extra></extra>",
         "legendgroup": "0.075566386",
         "marker": {
          "color": "#00cc96",
          "opacity": 0.5,
          "pattern": {
           "shape": ""
          }
         },
         "name": "0.075566386",
         "nbinsx": 9,
         "orientation": "v",
         "showlegend": true,
         "type": "histogram",
         "x": [
          "Humanities & Liberal Arts"
         ],
         "xaxis": "x",
         "yaxis": "y"
        },
        {
         "bingroup": "x",
         "hovertemplate": "Unemployment_rate=0.083633531<br>Major_category=%{x}<br>count=%{y}<extra></extra>",
         "legendgroup": "0.083633531",
         "marker": {
          "color": "#ab63fa",
          "opacity": 0.5,
          "pattern": {
           "shape": ""
          }
         },
         "name": "0.083633531",
         "nbinsx": 9,
         "orientation": "v",
         "showlegend": true,
         "type": "histogram",
         "x": [
          "Humanities & Liberal Arts"
         ],
         "xaxis": "x",
         "yaxis": "y"
        },
        {
         "bingroup": "x",
         "hovertemplate": "Unemployment_rate=0.054082941<br>Major_category=%{x}<br>count=%{y}<extra></extra>",
         "legendgroup": "0.054082941",
         "marker": {
          "color": "#FFA15A",
          "opacity": 0.5,
          "pattern": {
           "shape": ""
          }
         },
         "name": "0.054082941",
         "nbinsx": 9,
         "orientation": "v",
         "showlegend": true,
         "type": "histogram",
         "x": [
          "Education"
         ],
         "xaxis": "x",
         "yaxis": "y"
        },
        {
         "bingroup": "x",
         "hovertemplate": "Unemployment_rate=0.112144387<br>Major_category=%{x}<br>count=%{y}<extra></extra>",
         "legendgroup": "0.112144387",
         "marker": {
          "color": "#19d3f3",
          "opacity": 0.5,
          "pattern": {
           "shape": ""
          }
         },
         "name": "0.112144387",
         "nbinsx": 9,
         "orientation": "v",
         "showlegend": true,
         "type": "histogram",
         "x": [
          "Health"
         ],
         "xaxis": "x",
         "yaxis": "y"
        },
        {
         "bingroup": "x",
         "hovertemplate": "Unemployment_rate=0.016202835<br>Major_category=%{x}<br>count=%{y}<extra></extra>",
         "legendgroup": "0.016202835",
         "marker": {
          "color": "#FF6692",
          "opacity": 0.5,
          "pattern": {
           "shape": ""
          }
         },
         "name": "0.016202835",
         "nbinsx": 9,
         "orientation": "v",
         "showlegend": true,
         "type": "histogram",
         "x": [
          "Education"
         ],
         "xaxis": "x",
         "yaxis": "y"
        },
        {
         "bingroup": "x",
         "hovertemplate": "Unemployment_rate=0.069779712<br>Major_category=%{x}<br>count=%{y}<extra></extra>",
         "legendgroup": "0.069779712",
         "marker": {
          "color": "#B6E880",
          "opacity": 0.5,
          "pattern": {
           "shape": ""
          }
         },
         "name": "0.069779712",
         "nbinsx": 9,
         "orientation": "v",
         "showlegend": true,
         "type": "histogram",
         "x": [
          "Health"
         ],
         "xaxis": "x",
         "yaxis": "y"
        },
        {
         "bingroup": "x",
         "hovertemplate": "Unemployment_rate=0.058545455<br>Major_category=%{x}<br>count=%{y}<extra></extra>",
         "legendgroup": "0.058545455",
         "marker": {
          "color": "#FF97FF",
          "opacity": 0.5,
          "pattern": {
           "shape": ""
          }
         },
         "name": "0.058545455",
         "nbinsx": 9,
         "orientation": "v",
         "showlegend": true,
         "type": "histogram",
         "x": [
          "Biology & Life Science"
         ],
         "xaxis": "x",
         "yaxis": "y"
        },
        {
         "bingroup": "x",
         "hovertemplate": "Unemployment_rate=0.070724732<br>Major_category=%{x}<br>count=%{y}<extra></extra>",
         "legendgroup": "0.070724732",
         "marker": {
          "color": "#FECB52",
          "opacity": 0.5,
          "pattern": {
           "shape": ""
          }
         },
         "name": "0.070724732",
         "nbinsx": 9,
         "orientation": "v",
         "showlegend": true,
         "type": "histogram",
         "x": [
          "Biology & Life Science"
         ],
         "xaxis": "x",
         "yaxis": "y"
        },
        {
         "bingroup": "x",
         "hovertemplate": "Unemployment_rate=0.084951001<br>Major_category=%{x}<br>count=%{y}<extra></extra>",
         "legendgroup": "0.084951001",
         "marker": {
          "color": "#636efa",
          "opacity": 0.5,
          "pattern": {
           "shape": ""
          }
         },
         "name": "0.084951001",
         "nbinsx": 9,
         "orientation": "v",
         "showlegend": true,
         "type": "histogram",
         "x": [
          "Social Science"
         ],
         "xaxis": "x",
         "yaxis": "y"
        },
        {
         "bingroup": "x",
         "hovertemplate": "Unemployment_rate=0.089836827<br>Major_category=%{x}<br>count=%{y}<extra></extra>",
         "legendgroup": "0.089836827",
         "marker": {
          "color": "#EF553B",
          "opacity": 0.5,
          "pattern": {
           "shape": ""
          }
         },
         "name": "0.089836827",
         "nbinsx": 9,
         "orientation": "v",
         "showlegend": true,
         "type": "histogram",
         "x": [
          "Communications & Journalism"
         ],
         "xaxis": "x",
         "yaxis": "y"
        },
        {
         "bingroup": "x",
         "hovertemplate": "Unemployment_rate=0.059821207<br>Major_category=%{x}<br>count=%{y}<extra></extra>",
         "legendgroup": "0.059821207",
         "marker": {
          "color": "#00cc96",
          "opacity": 0.5,
          "pattern": {
           "shape": ""
          }
         },
         "name": "0.059821207",
         "nbinsx": 9,
         "orientation": "v",
         "showlegend": true,
         "type": "histogram",
         "x": [
          "Health"
         ],
         "xaxis": "x",
         "yaxis": "y"
        },
        {
         "bingroup": "x",
         "hovertemplate": "Unemployment_rate=0.061169193<br>Major_category=%{x}<br>count=%{y}<extra></extra>",
         "legendgroup": "0.061169193",
         "marker": {
          "color": "#ab63fa",
          "opacity": 0.5,
          "pattern": {
           "shape": ""
          }
         },
         "name": "0.061169193",
         "nbinsx": 9,
         "orientation": "v",
         "showlegend": true,
         "type": "histogram",
         "x": [
          "Business"
         ],
         "xaxis": "x",
         "yaxis": "y"
        },
        {
         "bingroup": "x",
         "hovertemplate": "Unemployment_rate=0.050306435<br>Major_category=%{x}<br>count=%{y}<extra></extra>",
         "legendgroup": "0.050306435",
         "marker": {
          "color": "#FFA15A",
          "opacity": 0.5,
          "pattern": {
           "shape": ""
          }
         },
         "name": "0.050306435",
         "nbinsx": 9,
         "orientation": "v",
         "showlegend": true,
         "type": "histogram",
         "x": [
          "Education"
         ],
         "xaxis": "x",
         "yaxis": "y"
        },
        {
         "bingroup": "x",
         "hovertemplate": "Unemployment_rate=0.10443571<br>Major_category=%{x}<br>count=%{y}<extra></extra>",
         "legendgroup": "0.10443571",
         "marker": {
          "color": "#19d3f3",
          "opacity": 0.5,
          "pattern": {
           "shape": ""
          }
         },
         "name": "0.10443571",
         "nbinsx": 9,
         "orientation": "v",
         "showlegend": true,
         "type": "histogram",
         "x": [
          "Humanities & Liberal Arts"
         ],
         "xaxis": "x",
         "yaxis": "y"
        },
        {
         "bingroup": "x",
         "hovertemplate": "Unemployment_rate=0.059211951<br>Major_category=%{x}<br>count=%{y}<extra></extra>",
         "legendgroup": "0.059211951",
         "marker": {
          "color": "#FF6692",
          "opacity": 0.5,
          "pattern": {
           "shape": ""
          }
         },
         "name": "0.059211951",
         "nbinsx": 9,
         "orientation": "v",
         "showlegend": true,
         "type": "histogram",
         "x": [
          "Education"
         ],
         "xaxis": "x",
         "yaxis": "y"
        },
        {
         "bingroup": "x",
         "hovertemplate": "Unemployment_rate=0.092305816<br>Major_category=%{x}<br>count=%{y}<extra></extra>",
         "legendgroup": "0.092305816",
         "marker": {
          "color": "#B6E880",
          "opacity": 0.5,
          "pattern": {
           "shape": ""
          }
         },
         "name": "0.092305816",
         "nbinsx": 9,
         "orientation": "v",
         "showlegend": true,
         "type": "histogram",
         "x": [
          "Social Science"
         ],
         "xaxis": "x",
         "yaxis": "y"
        },
        {
         "bingroup": "x",
         "hovertemplate": "Unemployment_rate=0.054475193<br>Major_category=%{x}<br>count=%{y}<extra></extra>",
         "legendgroup": "0.054475193",
         "marker": {
          "color": "#FF97FF",
          "opacity": 0.5,
          "pattern": {
           "shape": ""
          }
         },
         "name": "0.054475193",
         "nbinsx": 9,
         "orientation": "v",
         "showlegend": true,
         "type": "histogram",
         "x": [
          "Biology & Life Science"
         ],
         "xaxis": "x",
         "yaxis": "y"
        },
        {
         "bingroup": "x",
         "hovertemplate": "Unemployment_rate=0.05222898<br>Major_category=%{x}<br>count=%{y}<extra></extra>",
         "legendgroup": "0.05222898",
         "marker": {
          "color": "#FECB52",
          "opacity": 0.5,
          "pattern": {
           "shape": ""
          }
         },
         "name": "0.05222898",
         "nbinsx": 9,
         "orientation": "v",
         "showlegend": true,
         "type": "histogram",
         "x": [
          "Education"
         ],
         "xaxis": "x",
         "yaxis": "y"
        },
        {
         "bingroup": "x",
         "hovertemplate": "Unemployment_rate=0.082101621<br>Major_category=%{x}<br>count=%{y}<extra></extra>",
         "legendgroup": "0.082101621",
         "marker": {
          "color": "#636efa",
          "opacity": 0.5,
          "pattern": {
           "shape": ""
          }
         },
         "name": "0.082101621",
         "nbinsx": 9,
         "orientation": "v",
         "showlegend": true,
         "type": "histogram",
         "x": [
          "Health"
         ],
         "xaxis": "x",
         "yaxis": "y"
        },
        {
         "bingroup": "x",
         "hovertemplate": "Unemployment_rate=0.096051684<br>Major_category=%{x}<br>count=%{y}<extra></extra>",
         "legendgroup": "0.096051684",
         "marker": {
          "color": "#EF553B",
          "opacity": 0.5,
          "pattern": {
           "shape": ""
          }
         },
         "name": "0.096051684",
         "nbinsx": 9,
         "orientation": "v",
         "showlegend": true,
         "type": "histogram",
         "x": [
          "Humanities & Liberal Arts"
         ],
         "xaxis": "x",
         "yaxis": "y"
        },
        {
         "bingroup": "x",
         "hovertemplate": "Unemployment_rate=0.038637747<br>Major_category=%{x}<br>count=%{y}<extra></extra>",
         "legendgroup": "0.038637747",
         "marker": {
          "color": "#00cc96",
          "opacity": 0.5,
          "pattern": {
           "shape": ""
          }
         },
         "name": "0.038637747",
         "nbinsx": 9,
         "orientation": "v",
         "showlegend": true,
         "type": "histogram",
         "x": [
          "Education"
         ],
         "xaxis": "x",
         "yaxis": "y"
        },
        {
         "bingroup": "x",
         "hovertemplate": "Unemployment_rate=0.08772359<br>Major_category=%{x}<br>count=%{y}<extra></extra>",
         "legendgroup": "0.08772359",
         "marker": {
          "color": "#ab63fa",
          "opacity": 0.5,
          "pattern": {
           "shape": ""
          }
         },
         "name": "0.08772359",
         "nbinsx": 9,
         "orientation": "v",
         "showlegend": true,
         "type": "histogram",
         "x": [
          "Humanities & Liberal Arts"
         ],
         "xaxis": "x",
         "yaxis": "y"
        },
        {
         "bingroup": "x",
         "hovertemplate": "Unemployment_rate=0.046585715<br>Major_category=%{x}<br>count=%{y}<extra></extra>",
         "legendgroup": "0.046585715",
         "marker": {
          "color": "#FFA15A",
          "opacity": 0.5,
          "pattern": {
           "shape": ""
          }
         },
         "name": "0.046585715",
         "nbinsx": 9,
         "orientation": "v",
         "showlegend": true,
         "type": "histogram",
         "x": [
          "Education"
         ],
         "xaxis": "x",
         "yaxis": "y"
        },
        {
         "bingroup": "x",
         "hovertemplate": "Unemployment_rate=0.051467273<br>Major_category=%{x}<br>count=%{y}<extra></extra>",
         "legendgroup": "0.051467273",
         "marker": {
          "color": "#19d3f3",
          "opacity": 0.5,
          "pattern": {
           "shape": ""
          }
         },
         "name": "0.051467273",
         "nbinsx": 9,
         "orientation": "v",
         "showlegend": true,
         "type": "histogram",
         "x": [
          "Industrial Arts & Consumer Services"
         ],
         "xaxis": "x",
         "yaxis": "y"
        },
        {
         "bingroup": "x",
         "hovertemplate": "Unemployment_rate=0.078267592<br>Major_category=%{x}<br>count=%{y}<extra></extra>",
         "legendgroup": "0.078267592",
         "marker": {
          "color": "#FF6692",
          "opacity": 0.5,
          "pattern": {
           "shape": ""
          }
         },
         "name": "0.078267592",
         "nbinsx": 9,
         "orientation": "v",
         "showlegend": true,
         "type": "histogram",
         "x": [
          "Humanities & Liberal Arts"
         ],
         "xaxis": "x",
         "yaxis": "y"
        },
        {
         "bingroup": "x",
         "hovertemplate": "Unemployment_rate=0.10577224<br>Major_category=%{x}<br>count=%{y}<extra></extra>",
         "legendgroup": "0.10577224",
         "marker": {
          "color": "#B6E880",
          "opacity": 0.5,
          "pattern": {
           "shape": ""
          }
         },
         "name": "0.10577224",
         "nbinsx": 9,
         "orientation": "v",
         "showlegend": true,
         "type": "histogram",
         "x": [
          "Arts"
         ],
         "xaxis": "x",
         "yaxis": "y"
        },
        {
         "bingroup": "x",
         "hovertemplate": "Unemployment_rate=0.103454715<br>Major_category=%{x}<br>count=%{y}<extra></extra>",
         "legendgroup": "0.103454715",
         "marker": {
          "color": "#FF97FF",
          "opacity": 0.5,
          "pattern": {
           "shape": ""
          }
         },
         "name": "0.103454715",
         "nbinsx": 9,
         "orientation": "v",
         "showlegend": true,
         "type": "histogram",
         "x": [
          "Social Science"
         ],
         "xaxis": "x",
         "yaxis": "y"
        },
        {
         "bingroup": "x",
         "hovertemplate": "Unemployment_rate=0.045454545<br>Major_category=%{x}<br>count=%{y}<extra></extra>",
         "legendgroup": "0.045454545",
         "marker": {
          "color": "#FECB52",
          "opacity": 0.5,
          "pattern": {
           "shape": ""
          }
         },
         "name": "0.045454545",
         "nbinsx": 9,
         "orientation": "v",
         "showlegend": true,
         "type": "histogram",
         "x": [
          "Agriculture & Natural Resources"
         ],
         "xaxis": "x",
         "yaxis": "y"
        },
        {
         "bingroup": "x",
         "hovertemplate": "Unemployment_rate=0.047263682<br>Major_category=%{x}<br>count=%{y}<extra></extra>",
         "legendgroup": "0.047263682",
         "marker": {
          "color": "#636efa",
          "opacity": 0.5,
          "pattern": {
           "shape": ""
          }
         },
         "name": "0.047263682",
         "nbinsx": 9,
         "orientation": "v",
         "showlegend": true,
         "type": "histogram",
         "x": [
          "Education"
         ],
         "xaxis": "x",
         "yaxis": "y"
        },
        {
         "bingroup": "x",
         "hovertemplate": "Unemployment_rate=0.083810867<br>Major_category=%{x}<br>count=%{y}<extra></extra>",
         "legendgroup": "0.083810867",
         "marker": {
          "color": "#EF553B",
          "opacity": 0.5,
          "pattern": {
           "shape": ""
          }
         },
         "name": "0.083810867",
         "nbinsx": 9,
         "orientation": "v",
         "showlegend": true,
         "type": "histogram",
         "x": [
          "Psychology & Social Work"
         ],
         "xaxis": "x",
         "yaxis": "y"
        },
        {
         "bingroup": "x",
         "hovertemplate": "Unemployment_rate=0.075959674<br>Major_category=%{x}<br>count=%{y}<extra></extra>",
         "legendgroup": "0.075959674",
         "marker": {
          "color": "#00cc96",
          "opacity": 0.5,
          "pattern": {
           "shape": ""
          }
         },
         "name": "0.075959674",
         "nbinsx": 9,
         "orientation": "v",
         "showlegend": true,
         "type": "histogram",
         "x": [
          "Arts"
         ],
         "xaxis": "x",
         "yaxis": "y"
        },
        {
         "bingroup": "x",
         "hovertemplate": "Unemployment_rate=0.074667496<br>Major_category=%{x}<br>count=%{y}<extra></extra>",
         "legendgroup": "0.074667496",
         "marker": {
          "color": "#ab63fa",
          "opacity": 0.5,
          "pattern": {
           "shape": ""
          }
         },
         "name": "0.074667496",
         "nbinsx": 9,
         "orientation": "v",
         "showlegend": true,
         "type": "histogram",
         "x": [
          "Education"
         ],
         "xaxis": "x",
         "yaxis": "y"
        },
        {
         "bingroup": "x",
         "hovertemplate": "Unemployment_rate=0.060298284<br>Major_category=%{x}<br>count=%{y}<extra></extra>",
         "legendgroup": "0.060298284",
         "marker": {
          "color": "#FFA15A",
          "opacity": 0.5,
          "pattern": {
           "shape": ""
          }
         },
         "name": "0.060298284",
         "nbinsx": 9,
         "orientation": "v",
         "showlegend": true,
         "type": "histogram",
         "x": [
          "Humanities & Liberal Arts"
         ],
         "xaxis": "x",
         "yaxis": "y"
        },
        {
         "bingroup": "x",
         "hovertemplate": "Unemployment_rate=0.084186296<br>Major_category=%{x}<br>count=%{y}<extra></extra>",
         "legendgroup": "0.084186296",
         "marker": {
          "color": "#19d3f3",
          "opacity": 0.5,
          "pattern": {
           "shape": ""
          }
         },
         "name": "0.084186296",
         "nbinsx": 9,
         "orientation": "v",
         "showlegend": true,
         "type": "histogram",
         "x": [
          "Arts"
         ],
         "xaxis": "x",
         "yaxis": "y"
        },
        {
         "bingroup": "x",
         "hovertemplate": "Unemployment_rate=0.067128194<br>Major_category=%{x}<br>count=%{y}<extra></extra>",
         "legendgroup": "0.067128194",
         "marker": {
          "color": "#FF6692",
          "opacity": 0.5,
          "pattern": {
           "shape": ""
          }
         },
         "name": "0.067128194",
         "nbinsx": 9,
         "orientation": "v",
         "showlegend": true,
         "type": "histogram",
         "x": [
          "Industrial Arts & Consumer Services"
         ],
         "xaxis": "x",
         "yaxis": "y"
        },
        {
         "bingroup": "x",
         "hovertemplate": "Unemployment_rate=0.06882792<br>Major_category=%{x}<br>count=%{y}<extra></extra>",
         "legendgroup": "0.06882792",
         "marker": {
          "color": "#B6E880",
          "opacity": 0.5,
          "pattern": {
           "shape": ""
          }
         },
         "name": "0.06882792",
         "nbinsx": 9,
         "orientation": "v",
         "showlegend": true,
         "type": "histogram",
         "x": [
          "Psychology & Social Work"
         ],
         "xaxis": "x",
         "yaxis": "y"
        },
        {
         "bingroup": "x",
         "hovertemplate": "Unemployment_rate=0.050862499<br>Major_category=%{x}<br>count=%{y}<extra></extra>",
         "legendgroup": "0.050862499",
         "marker": {
          "color": "#FF97FF",
          "opacity": 0.5,
          "pattern": {
           "shape": ""
          }
         },
         "name": "0.050862499",
         "nbinsx": 9,
         "orientation": "v",
         "showlegend": true,
         "type": "histogram",
         "x": [
          "Agriculture & Natural Resources"
         ],
         "xaxis": "x",
         "yaxis": "y"
        },
        {
         "bingroup": "x",
         "hovertemplate": "Unemployment_rate=0.102197419<br>Major_category=%{x}<br>count=%{y}<extra></extra>",
         "legendgroup": "0.102197419",
         "marker": {
          "color": "#FECB52",
          "opacity": 0.5,
          "pattern": {
           "shape": ""
          }
         },
         "name": "0.102197419",
         "nbinsx": 9,
         "orientation": "v",
         "showlegend": true,
         "type": "histogram",
         "x": [
          "Arts"
         ],
         "xaxis": "x",
         "yaxis": "y"
        },
        {
         "bingroup": "x",
         "hovertemplate": "Unemployment_rate=0.03654583<br>Major_category=%{x}<br>count=%{y}<extra></extra>",
         "legendgroup": "0.03654583",
         "marker": {
          "color": "#636efa",
          "opacity": 0.5,
          "pattern": {
           "shape": ""
          }
         },
         "name": "0.03654583",
         "nbinsx": 9,
         "orientation": "v",
         "showlegend": true,
         "type": "histogram",
         "x": [
          "Education"
         ],
         "xaxis": "x",
         "yaxis": "y"
        },
        {
         "bingroup": "x",
         "hovertemplate": "Unemployment_rate=0.05190783<br>Major_category=%{x}<br>count=%{y}<extra></extra>",
         "legendgroup": "0.05190783",
         "marker": {
          "color": "#EF553B",
          "opacity": 0.5,
          "pattern": {
           "shape": ""
          }
         },
         "name": "0.05190783",
         "nbinsx": 9,
         "orientation": "v",
         "showlegend": true,
         "type": "histogram",
         "x": [
          "Psychology & Social Work"
         ],
         "xaxis": "x",
         "yaxis": "y"
        },
        {
         "bingroup": "x",
         "hovertemplate": "Unemployment_rate=0.037819026<br>Major_category=%{x}<br>count=%{y}<extra></extra>",
         "legendgroup": "0.037819026",
         "marker": {
          "color": "#00cc96",
          "opacity": 0.5,
          "pattern": {
           "shape": ""
          }
         },
         "name": "0.037819026",
         "nbinsx": 9,
         "orientation": "v",
         "showlegend": true,
         "type": "histogram",
         "x": [
          "Psychology & Social Work"
         ],
         "xaxis": "x",
         "yaxis": "y"
        },
        {
         "bingroup": "x",
         "hovertemplate": "Unemployment_rate=0.068584071<br>Major_category=%{x}<br>count=%{y}<extra></extra>",
         "legendgroup": "0.068584071",
         "marker": {
          "color": "#ab63fa",
          "opacity": 0.5,
          "pattern": {
           "shape": ""
          }
         },
         "name": "0.068584071",
         "nbinsx": 9,
         "orientation": "v",
         "showlegend": true,
         "type": "histogram",
         "x": [
          "Humanities & Liberal Arts"
         ],
         "xaxis": "x",
         "yaxis": "y"
        },
        {
         "bingroup": "x",
         "hovertemplate": "Unemployment_rate=0.062628297<br>Major_category=%{x}<br>count=%{y}<extra></extra>",
         "legendgroup": "0.062628297",
         "marker": {
          "color": "#FFA15A",
          "opacity": 0.5,
          "pattern": {
           "shape": ""
          }
         },
         "name": "0.062628297",
         "nbinsx": 9,
         "orientation": "v",
         "showlegend": true,
         "type": "histogram",
         "x": [
          "Humanities & Liberal Arts"
         ],
         "xaxis": "x",
         "yaxis": "y"
        },
        {
         "bingroup": "x",
         "hovertemplate": "Unemployment_rate=0.089552239<br>Major_category=%{x}<br>count=%{y}<extra></extra>",
         "legendgroup": "0.089552239",
         "marker": {
          "color": "#19d3f3",
          "opacity": 0.5,
          "pattern": {
           "shape": ""
          }
         },
         "name": "0.089552239",
         "nbinsx": 9,
         "orientation": "v",
         "showlegend": true,
         "type": "histogram",
         "x": [
          "Arts"
         ],
         "xaxis": "x",
         "yaxis": "y"
        },
        {
         "bingroup": "x",
         "hovertemplate": "Unemployment_rate=0.055676856<br>Major_category=%{x}<br>count=%{y}<extra></extra>",
         "legendgroup": "0.055676856",
         "marker": {
          "color": "#FF6692",
          "opacity": 0.5,
          "pattern": {
           "shape": ""
          }
         },
         "name": "0.055676856",
         "nbinsx": 9,
         "orientation": "v",
         "showlegend": true,
         "type": "histogram",
         "x": [
          "Industrial Arts & Consumer Services"
         ],
         "xaxis": "x",
         "yaxis": "y"
        },
        {
         "bingroup": "x",
         "hovertemplate": "Unemployment_rate=0.059766764<br>Major_category=%{x}<br>count=%{y}<extra></extra>",
         "legendgroup": "0.059766764",
         "marker": {
          "color": "#B6E880",
          "opacity": 0.5,
          "pattern": {
           "shape": ""
          }
         },
         "name": "0.059766764",
         "nbinsx": 9,
         "orientation": "v",
         "showlegend": true,
         "type": "histogram",
         "x": [
          "Agriculture & Natural Resources"
         ],
         "xaxis": "x",
         "yaxis": "y"
        },
        {
         "bingroup": "x",
         "hovertemplate": "Unemployment_rate=0.102791571<br>Major_category=%{x}<br>count=%{y}<extra></extra>",
         "legendgroup": "0.102791571",
         "marker": {
          "color": "#FF97FF",
          "opacity": 0.5,
          "pattern": {
           "shape": ""
          }
         },
         "name": "0.102791571",
         "nbinsx": 9,
         "orientation": "v",
         "showlegend": true,
         "type": "histogram",
         "x": [
          "Humanities & Liberal Arts"
         ],
         "xaxis": "x",
         "yaxis": "y"
        },
        {
         "bingroup": "x",
         "hovertemplate": "Unemployment_rate=0.047584<br>Major_category=%{x}<br>count=%{y}<extra></extra>",
         "legendgroup": "0.047584",
         "marker": {
          "color": "#FECB52",
          "opacity": 0.5,
          "pattern": {
           "shape": ""
          }
         },
         "name": "0.047584",
         "nbinsx": 9,
         "orientation": "v",
         "showlegend": true,
         "type": "histogram",
         "x": [
          "Health"
         ],
         "xaxis": "x",
         "yaxis": "y"
        },
        {
         "bingroup": "x",
         "hovertemplate": "Unemployment_rate=0.040104981<br>Major_category=%{x}<br>count=%{y}<extra></extra>",
         "legendgroup": "0.040104981",
         "marker": {
          "color": "#636efa",
          "opacity": 0.5,
          "pattern": {
           "shape": ""
          }
         },
         "name": "0.040104981",
         "nbinsx": 9,
         "orientation": "v",
         "showlegend": true,
         "type": "histogram",
         "x": [
          "Education"
         ],
         "xaxis": "x",
         "yaxis": "y"
        },
        {
         "bingroup": "x",
         "hovertemplate": "Unemployment_rate=0.107115726<br>Major_category=%{x}<br>count=%{y}<extra></extra>",
         "legendgroup": "0.107115726",
         "marker": {
          "color": "#EF553B",
          "opacity": 0.5,
          "pattern": {
           "shape": ""
          }
         },
         "name": "0.107115726",
         "nbinsx": 9,
         "orientation": "v",
         "showlegend": true,
         "type": "histogram",
         "x": [
          "Humanities & Liberal Arts"
         ],
         "xaxis": "x",
         "yaxis": "y"
        },
        {
         "bingroup": "x",
         "hovertemplate": "Unemployment_rate=0.07754113<br>Major_category=%{x}<br>count=%{y}<extra></extra>",
         "legendgroup": "0.07754113",
         "marker": {
          "color": "#00cc96",
          "opacity": 0.5,
          "pattern": {
           "shape": ""
          }
         },
         "name": "0.07754113",
         "nbinsx": 9,
         "orientation": "v",
         "showlegend": true,
         "type": "histogram",
         "x": [
          "Arts"
         ],
         "xaxis": "x",
         "yaxis": "y"
        },
        {
         "bingroup": "x",
         "hovertemplate": "Unemployment_rate=0.081742207<br>Major_category=%{x}<br>count=%{y}<extra></extra>",
         "legendgroup": "0.081742207",
         "marker": {
          "color": "#ab63fa",
          "opacity": 0.5,
          "pattern": {
           "shape": ""
          }
         },
         "name": "0.081742207",
         "nbinsx": 9,
         "orientation": "v",
         "showlegend": true,
         "type": "histogram",
         "x": [
          "Humanities & Liberal Arts"
         ],
         "xaxis": "x",
         "yaxis": "y"
        },
        {
         "bingroup": "x",
         "hovertemplate": "Unemployment_rate=0.04632028<br>Major_category=%{x}<br>count=%{y}<extra></extra>",
         "legendgroup": "0.04632028",
         "marker": {
          "color": "#FFA15A",
          "opacity": 0.5,
          "pattern": {
           "shape": ""
          }
         },
         "name": "0.04632028",
         "nbinsx": 9,
         "orientation": "v",
         "showlegend": true,
         "type": "histogram",
         "x": [
          "Biology & Life Science"
         ],
         "xaxis": "x",
         "yaxis": "y"
        },
        {
         "bingroup": "x",
         "hovertemplate": "Unemployment_rate=0.065112187<br>Major_category=%{x}<br>count=%{y}<extra></extra>",
         "legendgroup": "0.065112187",
         "marker": {
          "color": "#19d3f3",
          "opacity": 0.5,
          "pattern": {
           "shape": ""
          }
         },
         "name": "0.065112187",
         "nbinsx": 9,
         "orientation": "v",
         "showlegend": true,
         "type": "histogram",
         "x": [
          "Psychology & Social Work"
         ],
         "xaxis": "x",
         "yaxis": "y"
        },
        {
         "bingroup": "x",
         "hovertemplate": "Unemployment_rate=0.149048198<br>Major_category=%{x}<br>count=%{y}<extra></extra>",
         "legendgroup": "0.149048198",
         "marker": {
          "color": "#FF6692",
          "opacity": 0.5,
          "pattern": {
           "shape": ""
          }
         },
         "name": "0.149048198",
         "nbinsx": 9,
         "orientation": "v",
         "showlegend": true,
         "type": "histogram",
         "x": [
          "Psychology & Social Work"
         ],
         "xaxis": "x",
         "yaxis": "y"
        },
        {
         "bingroup": "x",
         "hovertemplate": "Unemployment_rate=0.053620646<br>Major_category=%{x}<br>count=%{y}<extra></extra>",
         "legendgroup": "0.053620646",
         "marker": {
          "color": "#B6E880",
          "opacity": 0.5,
          "pattern": {
           "shape": ""
          }
         },
         "name": "0.053620646",
         "nbinsx": 9,
         "orientation": "v",
         "showlegend": true,
         "type": "histogram",
         "x": [
          "Psychology & Social Work"
         ],
         "xaxis": "x",
         "yaxis": "y"
        },
        {
         "bingroup": "x",
         "hovertemplate": "Unemployment_rate=0.104945718<br>Major_category=%{x}<br>count=%{y}<extra></extra>",
         "legendgroup": "0.104945718",
         "marker": {
          "color": "#FF97FF",
          "opacity": 0.5,
          "pattern": {
           "shape": ""
          }
         },
         "name": "0.104945718",
         "nbinsx": 9,
         "orientation": "v",
         "showlegend": true,
         "type": "histogram",
         "x": [
          "Education"
         ],
         "xaxis": "x",
         "yaxis": "y"
        }
       ],
       "layout": {
        "barmode": "relative",
        "legend": {
         "title": {
          "text": "Unemployment_rate"
         },
         "tracegroupgap": 0
        },
        "margin": {
         "t": 60
        },
        "template": {
         "data": {
          "bar": [
           {
            "error_x": {
             "color": "#2a3f5f"
            },
            "error_y": {
             "color": "#2a3f5f"
            },
            "marker": {
             "line": {
              "color": "#E5ECF6",
              "width": 0.5
             },
             "pattern": {
              "fillmode": "overlay",
              "size": 10,
              "solidity": 0.2
             }
            },
            "type": "bar"
           }
          ],
          "barpolar": [
           {
            "marker": {
             "line": {
              "color": "#E5ECF6",
              "width": 0.5
             },
             "pattern": {
              "fillmode": "overlay",
              "size": 10,
              "solidity": 0.2
             }
            },
            "type": "barpolar"
           }
          ],
          "carpet": [
           {
            "aaxis": {
             "endlinecolor": "#2a3f5f",
             "gridcolor": "white",
             "linecolor": "white",
             "minorgridcolor": "white",
             "startlinecolor": "#2a3f5f"
            },
            "baxis": {
             "endlinecolor": "#2a3f5f",
             "gridcolor": "white",
             "linecolor": "white",
             "minorgridcolor": "white",
             "startlinecolor": "#2a3f5f"
            },
            "type": "carpet"
           }
          ],
          "choropleth": [
           {
            "colorbar": {
             "outlinewidth": 0,
             "ticks": ""
            },
            "type": "choropleth"
           }
          ],
          "contour": [
           {
            "colorbar": {
             "outlinewidth": 0,
             "ticks": ""
            },
            "colorscale": [
             [
              0,
              "#0d0887"
             ],
             [
              0.1111111111111111,
              "#46039f"
             ],
             [
              0.2222222222222222,
              "#7201a8"
             ],
             [
              0.3333333333333333,
              "#9c179e"
             ],
             [
              0.4444444444444444,
              "#bd3786"
             ],
             [
              0.5555555555555556,
              "#d8576b"
             ],
             [
              0.6666666666666666,
              "#ed7953"
             ],
             [
              0.7777777777777778,
              "#fb9f3a"
             ],
             [
              0.8888888888888888,
              "#fdca26"
             ],
             [
              1,
              "#f0f921"
             ]
            ],
            "type": "contour"
           }
          ],
          "contourcarpet": [
           {
            "colorbar": {
             "outlinewidth": 0,
             "ticks": ""
            },
            "type": "contourcarpet"
           }
          ],
          "heatmap": [
           {
            "colorbar": {
             "outlinewidth": 0,
             "ticks": ""
            },
            "colorscale": [
             [
              0,
              "#0d0887"
             ],
             [
              0.1111111111111111,
              "#46039f"
             ],
             [
              0.2222222222222222,
              "#7201a8"
             ],
             [
              0.3333333333333333,
              "#9c179e"
             ],
             [
              0.4444444444444444,
              "#bd3786"
             ],
             [
              0.5555555555555556,
              "#d8576b"
             ],
             [
              0.6666666666666666,
              "#ed7953"
             ],
             [
              0.7777777777777778,
              "#fb9f3a"
             ],
             [
              0.8888888888888888,
              "#fdca26"
             ],
             [
              1,
              "#f0f921"
             ]
            ],
            "type": "heatmap"
           }
          ],
          "histogram": [
           {
            "marker": {
             "pattern": {
              "fillmode": "overlay",
              "size": 10,
              "solidity": 0.2
             }
            },
            "type": "histogram"
           }
          ],
          "histogram2d": [
           {
            "colorbar": {
             "outlinewidth": 0,
             "ticks": ""
            },
            "colorscale": [
             [
              0,
              "#0d0887"
             ],
             [
              0.1111111111111111,
              "#46039f"
             ],
             [
              0.2222222222222222,
              "#7201a8"
             ],
             [
              0.3333333333333333,
              "#9c179e"
             ],
             [
              0.4444444444444444,
              "#bd3786"
             ],
             [
              0.5555555555555556,
              "#d8576b"
             ],
             [
              0.6666666666666666,
              "#ed7953"
             ],
             [
              0.7777777777777778,
              "#fb9f3a"
             ],
             [
              0.8888888888888888,
              "#fdca26"
             ],
             [
              1,
              "#f0f921"
             ]
            ],
            "type": "histogram2d"
           }
          ],
          "histogram2dcontour": [
           {
            "colorbar": {
             "outlinewidth": 0,
             "ticks": ""
            },
            "colorscale": [
             [
              0,
              "#0d0887"
             ],
             [
              0.1111111111111111,
              "#46039f"
             ],
             [
              0.2222222222222222,
              "#7201a8"
             ],
             [
              0.3333333333333333,
              "#9c179e"
             ],
             [
              0.4444444444444444,
              "#bd3786"
             ],
             [
              0.5555555555555556,
              "#d8576b"
             ],
             [
              0.6666666666666666,
              "#ed7953"
             ],
             [
              0.7777777777777778,
              "#fb9f3a"
             ],
             [
              0.8888888888888888,
              "#fdca26"
             ],
             [
              1,
              "#f0f921"
             ]
            ],
            "type": "histogram2dcontour"
           }
          ],
          "mesh3d": [
           {
            "colorbar": {
             "outlinewidth": 0,
             "ticks": ""
            },
            "type": "mesh3d"
           }
          ],
          "parcoords": [
           {
            "line": {
             "colorbar": {
              "outlinewidth": 0,
              "ticks": ""
             }
            },
            "type": "parcoords"
           }
          ],
          "pie": [
           {
            "automargin": true,
            "type": "pie"
           }
          ],
          "scatter": [
           {
            "fillpattern": {
             "fillmode": "overlay",
             "size": 10,
             "solidity": 0.2
            },
            "type": "scatter"
           }
          ],
          "scatter3d": [
           {
            "line": {
             "colorbar": {
              "outlinewidth": 0,
              "ticks": ""
             }
            },
            "marker": {
             "colorbar": {
              "outlinewidth": 0,
              "ticks": ""
             }
            },
            "type": "scatter3d"
           }
          ],
          "scattercarpet": [
           {
            "marker": {
             "colorbar": {
              "outlinewidth": 0,
              "ticks": ""
             }
            },
            "type": "scattercarpet"
           }
          ],
          "scattergeo": [
           {
            "marker": {
             "colorbar": {
              "outlinewidth": 0,
              "ticks": ""
             }
            },
            "type": "scattergeo"
           }
          ],
          "scattergl": [
           {
            "marker": {
             "colorbar": {
              "outlinewidth": 0,
              "ticks": ""
             }
            },
            "type": "scattergl"
           }
          ],
          "scattermap": [
           {
            "marker": {
             "colorbar": {
              "outlinewidth": 0,
              "ticks": ""
             }
            },
            "type": "scattermap"
           }
          ],
          "scattermapbox": [
           {
            "marker": {
             "colorbar": {
              "outlinewidth": 0,
              "ticks": ""
             }
            },
            "type": "scattermapbox"
           }
          ],
          "scatterpolar": [
           {
            "marker": {
             "colorbar": {
              "outlinewidth": 0,
              "ticks": ""
             }
            },
            "type": "scatterpolar"
           }
          ],
          "scatterpolargl": [
           {
            "marker": {
             "colorbar": {
              "outlinewidth": 0,
              "ticks": ""
             }
            },
            "type": "scatterpolargl"
           }
          ],
          "scatterternary": [
           {
            "marker": {
             "colorbar": {
              "outlinewidth": 0,
              "ticks": ""
             }
            },
            "type": "scatterternary"
           }
          ],
          "surface": [
           {
            "colorbar": {
             "outlinewidth": 0,
             "ticks": ""
            },
            "colorscale": [
             [
              0,
              "#0d0887"
             ],
             [
              0.1111111111111111,
              "#46039f"
             ],
             [
              0.2222222222222222,
              "#7201a8"
             ],
             [
              0.3333333333333333,
              "#9c179e"
             ],
             [
              0.4444444444444444,
              "#bd3786"
             ],
             [
              0.5555555555555556,
              "#d8576b"
             ],
             [
              0.6666666666666666,
              "#ed7953"
             ],
             [
              0.7777777777777778,
              "#fb9f3a"
             ],
             [
              0.8888888888888888,
              "#fdca26"
             ],
             [
              1,
              "#f0f921"
             ]
            ],
            "type": "surface"
           }
          ],
          "table": [
           {
            "cells": {
             "fill": {
              "color": "#EBF0F8"
             },
             "line": {
              "color": "white"
             }
            },
            "header": {
             "fill": {
              "color": "#C8D4E3"
             },
             "line": {
              "color": "white"
             }
            },
            "type": "table"
           }
          ]
         },
         "layout": {
          "annotationdefaults": {
           "arrowcolor": "#2a3f5f",
           "arrowhead": 0,
           "arrowwidth": 1
          },
          "autotypenumbers": "strict",
          "coloraxis": {
           "colorbar": {
            "outlinewidth": 0,
            "ticks": ""
           }
          },
          "colorscale": {
           "diverging": [
            [
             0,
             "#8e0152"
            ],
            [
             0.1,
             "#c51b7d"
            ],
            [
             0.2,
             "#de77ae"
            ],
            [
             0.3,
             "#f1b6da"
            ],
            [
             0.4,
             "#fde0ef"
            ],
            [
             0.5,
             "#f7f7f7"
            ],
            [
             0.6,
             "#e6f5d0"
            ],
            [
             0.7,
             "#b8e186"
            ],
            [
             0.8,
             "#7fbc41"
            ],
            [
             0.9,
             "#4d9221"
            ],
            [
             1,
             "#276419"
            ]
           ],
           "sequential": [
            [
             0,
             "#0d0887"
            ],
            [
             0.1111111111111111,
             "#46039f"
            ],
            [
             0.2222222222222222,
             "#7201a8"
            ],
            [
             0.3333333333333333,
             "#9c179e"
            ],
            [
             0.4444444444444444,
             "#bd3786"
            ],
            [
             0.5555555555555556,
             "#d8576b"
            ],
            [
             0.6666666666666666,
             "#ed7953"
            ],
            [
             0.7777777777777778,
             "#fb9f3a"
            ],
            [
             0.8888888888888888,
             "#fdca26"
            ],
            [
             1,
             "#f0f921"
            ]
           ],
           "sequentialminus": [
            [
             0,
             "#0d0887"
            ],
            [
             0.1111111111111111,
             "#46039f"
            ],
            [
             0.2222222222222222,
             "#7201a8"
            ],
            [
             0.3333333333333333,
             "#9c179e"
            ],
            [
             0.4444444444444444,
             "#bd3786"
            ],
            [
             0.5555555555555556,
             "#d8576b"
            ],
            [
             0.6666666666666666,
             "#ed7953"
            ],
            [
             0.7777777777777778,
             "#fb9f3a"
            ],
            [
             0.8888888888888888,
             "#fdca26"
            ],
            [
             1,
             "#f0f921"
            ]
           ]
          },
          "colorway": [
           "#636efa",
           "#EF553B",
           "#00cc96",
           "#ab63fa",
           "#FFA15A",
           "#19d3f3",
           "#FF6692",
           "#B6E880",
           "#FF97FF",
           "#FECB52"
          ],
          "font": {
           "color": "#2a3f5f"
          },
          "geo": {
           "bgcolor": "white",
           "lakecolor": "white",
           "landcolor": "#E5ECF6",
           "showlakes": true,
           "showland": true,
           "subunitcolor": "white"
          },
          "hoverlabel": {
           "align": "left"
          },
          "hovermode": "closest",
          "mapbox": {
           "style": "light"
          },
          "paper_bgcolor": "white",
          "plot_bgcolor": "#E5ECF6",
          "polar": {
           "angularaxis": {
            "gridcolor": "white",
            "linecolor": "white",
            "ticks": ""
           },
           "bgcolor": "#E5ECF6",
           "radialaxis": {
            "gridcolor": "white",
            "linecolor": "white",
            "ticks": ""
           }
          },
          "scene": {
           "xaxis": {
            "backgroundcolor": "#E5ECF6",
            "gridcolor": "white",
            "gridwidth": 2,
            "linecolor": "white",
            "showbackground": true,
            "ticks": "",
            "zerolinecolor": "white"
           },
           "yaxis": {
            "backgroundcolor": "#E5ECF6",
            "gridcolor": "white",
            "gridwidth": 2,
            "linecolor": "white",
            "showbackground": true,
            "ticks": "",
            "zerolinecolor": "white"
           },
           "zaxis": {
            "backgroundcolor": "#E5ECF6",
            "gridcolor": "white",
            "gridwidth": 2,
            "linecolor": "white",
            "showbackground": true,
            "ticks": "",
            "zerolinecolor": "white"
           }
          },
          "shapedefaults": {
           "line": {
            "color": "#2a3f5f"
           }
          },
          "ternary": {
           "aaxis": {
            "gridcolor": "white",
            "linecolor": "white",
            "ticks": ""
           },
           "baxis": {
            "gridcolor": "white",
            "linecolor": "white",
            "ticks": ""
           },
           "bgcolor": "#E5ECF6",
           "caxis": {
            "gridcolor": "white",
            "linecolor": "white",
            "ticks": ""
           }
          },
          "title": {
           "x": 0.05
          },
          "xaxis": {
           "automargin": true,
           "gridcolor": "white",
           "linecolor": "white",
           "ticks": "",
           "title": {
            "standoff": 15
           },
           "zerolinecolor": "white",
           "zerolinewidth": 2
          },
          "yaxis": {
           "automargin": true,
           "gridcolor": "white",
           "linecolor": "white",
           "ticks": "",
           "title": {
            "standoff": 15
           },
           "zerolinecolor": "white",
           "zerolinewidth": 2
          }
         }
        },
        "xaxis": {
         "anchor": "y",
         "domain": [
          0,
          1
         ],
         "title": {
          "text": "Major_category"
         }
        },
        "yaxis": {
         "anchor": "x",
         "domain": [
          0,
          1
         ],
         "title": {
          "text": "count"
         }
        }
       }
      },
      "image/png": "[encoded data removed]"
     },
     "metadata": {},
     "output_type": "display_data"
    }
   ],
   "source": [
    "#Make a histogram that explores median income for each of the major categories (facet_col). How did you choose your number of bins?\n",
    "fig = px.histogram(DF_raw,\n",
    "                   nbins=9,\n",
    "                   x='Major_category',\n",
    "                   color='Unemployment_rate',\n",
    "                   opacity=0.5,\n",
    "                  )\n",
    "\n",
    "\n",
    "fig.show()\n",
    "#Why do we often choose the median, rather than the mean, to describe the typical income of a group of people? Look this up online if you don't know the answer!\n",
    "#Answer the question: Which major category has the highest typical (you'll need to decide what this means) median income?"
   ]
  },
  {
   "cell_type": "markdown",
   "id": "44a04452-a94c-4e80-82a3-5d572c91c0a3",
   "metadata": {},
   "source": [
    "**(Click Here to Explain your Results)**"
   ]
  },
  {
   "cell_type": "markdown",
   "id": "578ed061-38d7-4372-9e51-5165bb35650f",
   "metadata": {},
   "source": [
    "### 3. More complicated questions\n",
    "\n",
    "* Are all STEM fields the same in terms job opportunities?\n",
    "    * Assume the following are STEM major categories\n",
    "    \n",
    "  ``` [\"Biology & Life Science\", \"Computers & Mathematics\", \"Engineering\",\"Physical Sciences\"]```\n",
    "  \n",
    "    * Create a DataFrame (using a mask) so you only look at STEM majors.\n",
    "    * Which STEM majors have median salaries equal to or less than the median for all majors' median earnings?\n",
    "* What types of majors do women tend to major in?\n",
    "    * Create a scatterplot of median income vs. proportion of women in that major, coloured by whether the major is in a STEM field or not."
   ]
  },
  {
   "cell_type": "code",
   "execution_count": 20,
   "id": "7316846f-30a4-468f-8112-4378d21555b7",
   "metadata": {
    "scrolled": true
   },
   "outputs": [
    {
     "data": {
      "text/html": [
       "<div>\n",
       "<style scoped>\n",
       "    .dataframe tbody tr th:only-of-type {\n",
       "        vertical-align: middle;\n",
       "    }\n",
       "\n",
       "    .dataframe tbody tr th {\n",
       "        vertical-align: top;\n",
       "    }\n",
       "\n",
       "    .dataframe thead th {\n",
       "        text-align: right;\n",
       "    }\n",
       "</style>\n",
       "<table border=\"1\" class=\"dataframe\">\n",
       "  <thead>\n",
       "    <tr style=\"text-align: right;\">\n",
       "      <th></th>\n",
       "      <th>Rank</th>\n",
       "      <th>Major_code</th>\n",
       "      <th>Major</th>\n",
       "      <th>Total</th>\n",
       "      <th>Men</th>\n",
       "      <th>Women</th>\n",
       "      <th>Major_category</th>\n",
       "      <th>ShareWomen</th>\n",
       "      <th>Sample_size</th>\n",
       "      <th>Employed</th>\n",
       "      <th>...</th>\n",
       "      <th>Part_time</th>\n",
       "      <th>Full_time_year_round</th>\n",
       "      <th>Unemployed</th>\n",
       "      <th>Unemployment_rate</th>\n",
       "      <th>Median</th>\n",
       "      <th>P25th</th>\n",
       "      <th>P75th</th>\n",
       "      <th>College_jobs</th>\n",
       "      <th>Non_college_jobs</th>\n",
       "      <th>Low_wage_jobs</th>\n",
       "    </tr>\n",
       "  </thead>\n",
       "  <tbody>\n",
       "    <tr>\n",
       "      <th>0</th>\n",
       "      <td>1</td>\n",
       "      <td>2419</td>\n",
       "      <td>PETROLEUM ENGINEERING</td>\n",
       "      <td>2339.0</td>\n",
       "      <td>2057.0</td>\n",
       "      <td>282.0</td>\n",
       "      <td>Engineering</td>\n",
       "      <td>0.120564</td>\n",
       "      <td>36</td>\n",
       "      <td>1976</td>\n",
       "      <td>...</td>\n",
       "      <td>270</td>\n",
       "      <td>1207</td>\n",
       "      <td>37</td>\n",
       "      <td>0.018381</td>\n",
       "      <td>110000</td>\n",
       "      <td>95000</td>\n",
       "      <td>125000</td>\n",
       "      <td>1534</td>\n",
       "      <td>364</td>\n",
       "      <td>193</td>\n",
       "    </tr>\n",
       "    <tr>\n",
       "      <th>1</th>\n",
       "      <td>2</td>\n",
       "      <td>2416</td>\n",
       "      <td>MINING AND MINERAL ENGINEERING</td>\n",
       "      <td>756.0</td>\n",
       "      <td>679.0</td>\n",
       "      <td>77.0</td>\n",
       "      <td>Engineering</td>\n",
       "      <td>0.101852</td>\n",
       "      <td>7</td>\n",
       "      <td>640</td>\n",
       "      <td>...</td>\n",
       "      <td>170</td>\n",
       "      <td>388</td>\n",
       "      <td>85</td>\n",
       "      <td>0.117241</td>\n",
       "      <td>75000</td>\n",
       "      <td>55000</td>\n",
       "      <td>90000</td>\n",
       "      <td>350</td>\n",
       "      <td>257</td>\n",
       "      <td>50</td>\n",
       "    </tr>\n",
       "    <tr>\n",
       "      <th>2</th>\n",
       "      <td>3</td>\n",
       "      <td>2415</td>\n",
       "      <td>METALLURGICAL ENGINEERING</td>\n",
       "      <td>856.0</td>\n",
       "      <td>725.0</td>\n",
       "      <td>131.0</td>\n",
       "      <td>Engineering</td>\n",
       "      <td>0.153037</td>\n",
       "      <td>3</td>\n",
       "      <td>648</td>\n",
       "      <td>...</td>\n",
       "      <td>133</td>\n",
       "      <td>340</td>\n",
       "      <td>16</td>\n",
       "      <td>0.024096</td>\n",
       "      <td>73000</td>\n",
       "      <td>50000</td>\n",
       "      <td>105000</td>\n",
       "      <td>456</td>\n",
       "      <td>176</td>\n",
       "      <td>0</td>\n",
       "    </tr>\n",
       "    <tr>\n",
       "      <th>3</th>\n",
       "      <td>4</td>\n",
       "      <td>2417</td>\n",
       "      <td>NAVAL ARCHITECTURE AND MARINE ENGINEERING</td>\n",
       "      <td>1258.0</td>\n",
       "      <td>1123.0</td>\n",
       "      <td>135.0</td>\n",
       "      <td>Engineering</td>\n",
       "      <td>0.107313</td>\n",
       "      <td>16</td>\n",
       "      <td>758</td>\n",
       "      <td>...</td>\n",
       "      <td>150</td>\n",
       "      <td>692</td>\n",
       "      <td>40</td>\n",
       "      <td>0.050125</td>\n",
       "      <td>70000</td>\n",
       "      <td>43000</td>\n",
       "      <td>80000</td>\n",
       "      <td>529</td>\n",
       "      <td>102</td>\n",
       "      <td>0</td>\n",
       "    </tr>\n",
       "    <tr>\n",
       "      <th>4</th>\n",
       "      <td>5</td>\n",
       "      <td>2405</td>\n",
       "      <td>CHEMICAL ENGINEERING</td>\n",
       "      <td>32260.0</td>\n",
       "      <td>21239.0</td>\n",
       "      <td>11021.0</td>\n",
       "      <td>Engineering</td>\n",
       "      <td>0.341631</td>\n",
       "      <td>289</td>\n",
       "      <td>25694</td>\n",
       "      <td>...</td>\n",
       "      <td>5180</td>\n",
       "      <td>16697</td>\n",
       "      <td>1672</td>\n",
       "      <td>0.061098</td>\n",
       "      <td>65000</td>\n",
       "      <td>50000</td>\n",
       "      <td>75000</td>\n",
       "      <td>18314</td>\n",
       "      <td>4440</td>\n",
       "      <td>972</td>\n",
       "    </tr>\n",
       "    <tr>\n",
       "      <th>...</th>\n",
       "      <td>...</td>\n",
       "      <td>...</td>\n",
       "      <td>...</td>\n",
       "      <td>...</td>\n",
       "      <td>...</td>\n",
       "      <td>...</td>\n",
       "      <td>...</td>\n",
       "      <td>...</td>\n",
       "      <td>...</td>\n",
       "      <td>...</td>\n",
       "      <td>...</td>\n",
       "      <td>...</td>\n",
       "      <td>...</td>\n",
       "      <td>...</td>\n",
       "      <td>...</td>\n",
       "      <td>...</td>\n",
       "      <td>...</td>\n",
       "      <td>...</td>\n",
       "      <td>...</td>\n",
       "      <td>...</td>\n",
       "      <td>...</td>\n",
       "    </tr>\n",
       "    <tr>\n",
       "      <th>110</th>\n",
       "      <td>111</td>\n",
       "      <td>5002</td>\n",
       "      <td>ATMOSPHERIC SCIENCES AND METEOROLOGY</td>\n",
       "      <td>4043.0</td>\n",
       "      <td>2744.0</td>\n",
       "      <td>1299.0</td>\n",
       "      <td>Physical Sciences</td>\n",
       "      <td>0.321296</td>\n",
       "      <td>32</td>\n",
       "      <td>3431</td>\n",
       "      <td>...</td>\n",
       "      <td>1309</td>\n",
       "      <td>2161</td>\n",
       "      <td>78</td>\n",
       "      <td>0.022229</td>\n",
       "      <td>35000</td>\n",
       "      <td>28000</td>\n",
       "      <td>50000</td>\n",
       "      <td>1808</td>\n",
       "      <td>1317</td>\n",
       "      <td>237</td>\n",
       "    </tr>\n",
       "    <tr>\n",
       "      <th>122</th>\n",
       "      <td>123</td>\n",
       "      <td>3699</td>\n",
       "      <td>MISCELLANEOUS BIOLOGY</td>\n",
       "      <td>10706.0</td>\n",
       "      <td>4747.0</td>\n",
       "      <td>5959.0</td>\n",
       "      <td>Biology &amp; Life Science</td>\n",
       "      <td>0.556604</td>\n",
       "      <td>63</td>\n",
       "      <td>7767</td>\n",
       "      <td>...</td>\n",
       "      <td>2568</td>\n",
       "      <td>4542</td>\n",
       "      <td>483</td>\n",
       "      <td>0.058545</td>\n",
       "      <td>33500</td>\n",
       "      <td>23000</td>\n",
       "      <td>48000</td>\n",
       "      <td>4253</td>\n",
       "      <td>2722</td>\n",
       "      <td>459</td>\n",
       "    </tr>\n",
       "    <tr>\n",
       "      <th>123</th>\n",
       "      <td>124</td>\n",
       "      <td>3600</td>\n",
       "      <td>BIOLOGY</td>\n",
       "      <td>280709.0</td>\n",
       "      <td>111762.0</td>\n",
       "      <td>168947.0</td>\n",
       "      <td>Biology &amp; Life Science</td>\n",
       "      <td>0.601858</td>\n",
       "      <td>1370</td>\n",
       "      <td>182295</td>\n",
       "      <td>...</td>\n",
       "      <td>72371</td>\n",
       "      <td>100336</td>\n",
       "      <td>13874</td>\n",
       "      <td>0.070725</td>\n",
       "      <td>33400</td>\n",
       "      <td>24000</td>\n",
       "      <td>45000</td>\n",
       "      <td>88232</td>\n",
       "      <td>81109</td>\n",
       "      <td>28339</td>\n",
       "    </tr>\n",
       "    <tr>\n",
       "      <th>132</th>\n",
       "      <td>133</td>\n",
       "      <td>3604</td>\n",
       "      <td>ECOLOGY</td>\n",
       "      <td>9154.0</td>\n",
       "      <td>3878.0</td>\n",
       "      <td>5276.0</td>\n",
       "      <td>Biology &amp; Life Science</td>\n",
       "      <td>0.576360</td>\n",
       "      <td>86</td>\n",
       "      <td>7585</td>\n",
       "      <td>...</td>\n",
       "      <td>2741</td>\n",
       "      <td>3912</td>\n",
       "      <td>437</td>\n",
       "      <td>0.054475</td>\n",
       "      <td>33000</td>\n",
       "      <td>23000</td>\n",
       "      <td>42000</td>\n",
       "      <td>2856</td>\n",
       "      <td>4159</td>\n",
       "      <td>976</td>\n",
       "    </tr>\n",
       "    <tr>\n",
       "      <th>168</th>\n",
       "      <td>169</td>\n",
       "      <td>3609</td>\n",
       "      <td>ZOOLOGY</td>\n",
       "      <td>8409.0</td>\n",
       "      <td>3050.0</td>\n",
       "      <td>5359.0</td>\n",
       "      <td>Biology &amp; Life Science</td>\n",
       "      <td>0.637293</td>\n",
       "      <td>47</td>\n",
       "      <td>6259</td>\n",
       "      <td>...</td>\n",
       "      <td>2190</td>\n",
       "      <td>3602</td>\n",
       "      <td>304</td>\n",
       "      <td>0.046320</td>\n",
       "      <td>26000</td>\n",
       "      <td>20000</td>\n",
       "      <td>39000</td>\n",
       "      <td>2771</td>\n",
       "      <td>2947</td>\n",
       "      <td>743</td>\n",
       "    </tr>\n",
       "  </tbody>\n",
       "</table>\n",
       "<p>64 rows × 21 columns</p>\n",
       "</div>"
      ],
      "text/plain": [
       "     Rank  Major_code                                      Major     Total  \\\n",
       "0       1        2419                      PETROLEUM ENGINEERING    2339.0   \n",
       "1       2        2416             MINING AND MINERAL ENGINEERING     756.0   \n",
       "2       3        2415                  METALLURGICAL ENGINEERING     856.0   \n",
       "3       4        2417  NAVAL ARCHITECTURE AND MARINE ENGINEERING    1258.0   \n",
       "4       5        2405                       CHEMICAL ENGINEERING   32260.0   \n",
       "..    ...         ...                                        ...       ...   \n",
       "110   111        5002       ATMOSPHERIC SCIENCES AND METEOROLOGY    4043.0   \n",
       "122   123        3699                      MISCELLANEOUS BIOLOGY   10706.0   \n",
       "123   124        3600                                    BIOLOGY  280709.0   \n",
       "132   133        3604                                    ECOLOGY    9154.0   \n",
       "168   169        3609                                    ZOOLOGY    8409.0   \n",
       "\n",
       "          Men     Women          Major_category  ShareWomen  Sample_size  \\\n",
       "0      2057.0     282.0             Engineering    0.120564           36   \n",
       "1       679.0      77.0             Engineering    0.101852            7   \n",
       "2       725.0     131.0             Engineering    0.153037            3   \n",
       "3      1123.0     135.0             Engineering    0.107313           16   \n",
       "4     21239.0   11021.0             Engineering    0.341631          289   \n",
       "..        ...       ...                     ...         ...          ...   \n",
       "110    2744.0    1299.0       Physical Sciences    0.321296           32   \n",
       "122    4747.0    5959.0  Biology & Life Science    0.556604           63   \n",
       "123  111762.0  168947.0  Biology & Life Science    0.601858         1370   \n",
       "132    3878.0    5276.0  Biology & Life Science    0.576360           86   \n",
       "168    3050.0    5359.0  Biology & Life Science    0.637293           47   \n",
       "\n",
       "     Employed  ...  Part_time  Full_time_year_round  Unemployed  \\\n",
       "0        1976  ...        270                  1207          37   \n",
       "1         640  ...        170                   388          85   \n",
       "2         648  ...        133                   340          16   \n",
       "3         758  ...        150                   692          40   \n",
       "4       25694  ...       5180                 16697        1672   \n",
       "..        ...  ...        ...                   ...         ...   \n",
       "110      3431  ...       1309                  2161          78   \n",
       "122      7767  ...       2568                  4542         483   \n",
       "123    182295  ...      72371                100336       13874   \n",
       "132      7585  ...       2741                  3912         437   \n",
       "168      6259  ...       2190                  3602         304   \n",
       "\n",
       "     Unemployment_rate  Median  P25th   P75th  College_jobs  Non_college_jobs  \\\n",
       "0             0.018381  110000  95000  125000          1534               364   \n",
       "1             0.117241   75000  55000   90000           350               257   \n",
       "2             0.024096   73000  50000  105000           456               176   \n",
       "3             0.050125   70000  43000   80000           529               102   \n",
       "4             0.061098   65000  50000   75000         18314              4440   \n",
       "..                 ...     ...    ...     ...           ...               ...   \n",
       "110           0.022229   35000  28000   50000          1808              1317   \n",
       "122           0.058545   33500  23000   48000          4253              2722   \n",
       "123           0.070725   33400  24000   45000         88232             81109   \n",
       "132           0.054475   33000  23000   42000          2856              4159   \n",
       "168           0.046320   26000  20000   39000          2771              2947   \n",
       "\n",
       "     Low_wage_jobs  \n",
       "0              193  \n",
       "1               50  \n",
       "2                0  \n",
       "3                0  \n",
       "4              972  \n",
       "..             ...  \n",
       "110            237  \n",
       "122            459  \n",
       "123          28339  \n",
       "132            976  \n",
       "168            743  \n",
       "\n",
       "[64 rows x 21 columns]"
      ]
     },
     "execution_count": 20,
     "metadata": {},
     "output_type": "execute_result"
    }
   ],
   "source": [
    "#mask needs to include the 4 majors\n",
    "\n",
    "mask = (DF_raw['Major_category']=='Biology & Life Science') | (DF_raw['Major_category']=='Computers & Mathematics') | (DF_raw['Major_category']=='Engineering') | (DF_raw['Major_category']=='Physical Sciences')\n",
    "DF_stem = DF_raw[mask]\n",
    "DF_stem"
   ]
  },
  {
   "cell_type": "code",
   "execution_count": 21,
   "id": "af7b42dc-a467-453c-8e0d-f83b6f731858",
   "metadata": {},
   "outputs": [
    {
     "name": "stdout",
     "output_type": "stream",
     "text": [
      "36000.0\n",
      "45000.0\n"
     ]
    }
   ],
   "source": [
    "#median for total, stem, individual stem\n",
    "mall = DF_raw['Median'].median()\n",
    "print(mall)\n",
    "mstem = DF_stem['Median'].median()\n",
    "print(mstem)"
   ]
  },
  {
   "cell_type": "code",
   "execution_count": 22,
   "id": "7df73092-42d7-4d20-8c20-ddad50899cb5",
   "metadata": {},
   "outputs": [
    {
     "name": "stdout",
     "output_type": "stream",
     "text": [
      "45000.0\n",
      "36300.0\n"
     ]
    }
   ],
   "source": [
    "#[\"Biology & Life Science\", \"Computers & Mathematics\", \"Engineering\",\"Physical Sciences\"]\n",
    "mstem = DF_stem['Median'].median()\n",
    "print(mstem)\n",
    "\n",
    "major_cat = 'Biology & Life Science'\n",
    "mask = DF_stem['Major_category'] == major_cat\n",
    "cat_median = DF_stem[mask]['Median'].median()\n",
    "print(cat_median)"
   ]
  },
  {
   "cell_type": "code",
   "execution_count": 23,
   "id": "0e77cc2f-655b-4fe5-9e5d-63f153b49fdf",
   "metadata": {},
   "outputs": [
    {
     "data": {
      "text/plain": [
       "Index(['Rank', 'Major_code', 'Major', 'Total', 'Men', 'Women',\n",
       "       'Major_category', 'ShareWomen', 'Sample_size', 'Employed', 'Full_time',\n",
       "       'Part_time', 'Full_time_year_round', 'Unemployed', 'Unemployment_rate',\n",
       "       'Median', 'P25th', 'P75th', 'College_jobs', 'Non_college_jobs',\n",
       "       'Low_wage_jobs'],\n",
       "      dtype='object')"
      ]
     },
     "execution_count": 23,
     "metadata": {},
     "output_type": "execute_result"
    }
   ],
   "source": [
    "DF_raw.keys()"
   ]
  },
  {
   "cell_type": "code",
   "execution_count": 24,
   "id": "0b71214d-d407-4a51-a03a-a0de46e110eb",
   "metadata": {},
   "outputs": [],
   "source": [
    "mcol = ['Major', 'Major_category', 'ShareWomen']\n",
    "\n",
    "DF_raw[mcol].sort_values(by = 'ShareWomen', ascending = False).head(25)\n",
    "\n",
    "fig = px.scatter(DF_raw, x='Median', y='ShareWomen')\n"
   ]
  },
  {
   "cell_type": "markdown",
   "id": "8ba0beea-76f3-465c-b76a-876f1ecdb512",
   "metadata": {},
   "source": [
    "**(Click Here to Explain your Results)**\n",
    "\n",
    "***The median is overall higher but not all stem is created equal. bio + stem is 36300.0, which is slightly higher than the median for all which is 36000.0.***"
   ]
  },
  {
   "cell_type": "markdown",
   "id": "206276d9-3380-4937-96e0-0e420a5781e4",
   "metadata": {},
   "source": [
    "### 4. Ask a question of interest to you."
   ]
  },
  {
   "cell_type": "code",
   "execution_count": 25,
   "id": "153afe3f-7087-46c0-848b-a5c5bc1e15d0",
   "metadata": {},
   "outputs": [],
   "source": [
    "#"
   ]
  },
  {
   "cell_type": "markdown",
   "id": "ed1b5e13-c89e-49ec-89a4-a779bbe2f2c1",
   "metadata": {},
   "source": [
    "**(Click Here to Explain your Results)**"
   ]
  },
  {
   "cell_type": "markdown",
   "id": "de91ea98-3baf-4694-962b-6ca7a2ee0c11",
   "metadata": {},
   "source": []
  },
  {
   "cell_type": "code",
   "execution_count": null,
   "id": "7574df13-ae0f-4e26-8f60-1404fa5fd666",
   "metadata": {},
   "outputs": [],
   "source": []
  },
  {
   "cell_type": "code",
   "execution_count": null,
   "id": "071cf740-7d40-46f0-8736-c8338fbdc8b9",
   "metadata": {},
   "outputs": [],
   "source": []
  },
  {
   "cell_type": "code",
   "execution_count": null,
   "id": "1604facc-0ff2-4ebe-a1c7-86217d951752",
   "metadata": {},
   "outputs": [],
   "source": []
  },
  {
   "cell_type": "code",
   "execution_count": null,
   "id": "b466716e-d31c-441a-a0e8-97ba83f63385",
   "metadata": {},
   "outputs": [],
   "source": []
  },
  {
   "cell_type": "code",
   "execution_count": null,
   "id": "5d94ccc2-3f42-44dd-8040-ea5f88e7cf13",
   "metadata": {},
   "outputs": [],
   "source": []
  },
  {
   "cell_type": "code",
   "execution_count": null,
   "id": "b0b0aaa1-e75b-4b2a-991d-e2fe515fe61c",
   "metadata": {},
   "outputs": [],
   "source": []
  },
  {
   "cell_type": "code",
   "execution_count": null,
   "id": "43b2e68a-0327-4951-80f8-482c5629efc4",
   "metadata": {},
   "outputs": [],
   "source": []
  }
 ],
 "metadata": {
  "kernelspec": {
   "display_name": "Python 3 (ipykernel)",
   "language": "python",
   "name": "python3"
  },
  "language_info": {
   "codemirror_mode": {
    "name": "ipython",
    "version": 3
   },
   "file_extension": ".py",
   "mimetype": "text/x-python",
   "name": "python",
   "nbconvert_exporter": "python",
   "pygments_lexer": "ipython3",
   "version": "3.12.11"
  }
 },
 "nbformat": 4,
 "nbformat_minor": 5
}
